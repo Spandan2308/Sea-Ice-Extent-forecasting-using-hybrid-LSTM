{
 "cells": [
  {
   "cell_type": "code",
   "execution_count": 1,
   "id": "55e11503",
   "metadata": {},
   "outputs": [],
   "source": [
    "import numpy as np\n",
    "import pandas as pd\n",
    "import matplotlib.pyplot as plt\n",
    "\n",
    "from sklearn.preprocessing import MinMaxScaler\n",
    "from sklearn.metrics import mean_squared_error, mean_absolute_error\n",
    "\n",
    "from keras.models import Sequential\n",
    "from keras.layers import InputLayer, LSTM, Dense, Dropout, Conv1D, MaxPooling1D, BatchNormalization\n",
    "from keras.optimizers import Adam\n",
    "from keras.losses import MeanSquaredError\n",
    "from keras.metrics import RootMeanSquaredError\n",
    "from keras.constraints import MaxNorm\n",
    "from keras.callbacks import ModelCheckpoint\n",
    "\n",
    "import time"
   ]
  },
  {
   "cell_type": "code",
   "execution_count": 2,
   "id": "6f19dbee",
   "metadata": {},
   "outputs": [],
   "source": [
    "filepath = 'C:/Users/ss230/Documents/Study/NSIDC/Edited Data/S_Sea_Ice_Index_Regional_Monthly_Data_G02135_v3.0.xlsx'\n",
    "Bell_Amundsen_Extent = pd.read_excel(filepath, sheet_name='Bell-Amundsen-Extent-km^2')"
   ]
  },
  {
   "cell_type": "code",
   "execution_count": 3,
   "id": "84eee651",
   "metadata": {},
   "outputs": [],
   "source": [
    "import sys\n",
    "sys.path.append('C:/Users/ss230/Documents/Study/NSIDC/SH/Bi_LSTM_Extent/')\n",
    "import Function as fp"
   ]
  },
  {
   "cell_type": "code",
   "execution_count": 4,
   "id": "4f4e57bd",
   "metadata": {},
   "outputs": [
    {
     "data": {
      "text/html": [
       "<div>\n",
       "<style scoped>\n",
       "    .dataframe tbody tr th:only-of-type {\n",
       "        vertical-align: middle;\n",
       "    }\n",
       "\n",
       "    .dataframe tbody tr th {\n",
       "        vertical-align: top;\n",
       "    }\n",
       "\n",
       "    .dataframe thead th {\n",
       "        text-align: right;\n",
       "    }\n",
       "</style>\n",
       "<table border=\"1\" class=\"dataframe\">\n",
       "  <thead>\n",
       "    <tr style=\"text-align: right;\">\n",
       "      <th></th>\n",
       "      <th>Extent</th>\n",
       "      <th>Date</th>\n",
       "    </tr>\n",
       "  </thead>\n",
       "  <tbody>\n",
       "    <tr>\n",
       "      <th>0</th>\n",
       "      <td>1179855.894</td>\n",
       "      <td>1979-01-01</td>\n",
       "    </tr>\n",
       "    <tr>\n",
       "      <th>1</th>\n",
       "      <td>879585.254</td>\n",
       "      <td>1979-02-01</td>\n",
       "    </tr>\n",
       "    <tr>\n",
       "      <th>2</th>\n",
       "      <td>791619.096</td>\n",
       "      <td>1979-03-01</td>\n",
       "    </tr>\n",
       "    <tr>\n",
       "      <th>3</th>\n",
       "      <td>1254912.071</td>\n",
       "      <td>1979-04-01</td>\n",
       "    </tr>\n",
       "    <tr>\n",
       "      <th>4</th>\n",
       "      <td>1620142.247</td>\n",
       "      <td>1979-05-01</td>\n",
       "    </tr>\n",
       "    <tr>\n",
       "      <th>...</th>\n",
       "      <td>...</td>\n",
       "      <td>...</td>\n",
       "    </tr>\n",
       "    <tr>\n",
       "      <th>533</th>\n",
       "      <td>1556568.455</td>\n",
       "      <td>2023-06-01</td>\n",
       "    </tr>\n",
       "    <tr>\n",
       "      <th>534</th>\n",
       "      <td>1917507.979</td>\n",
       "      <td>2023-07-01</td>\n",
       "    </tr>\n",
       "    <tr>\n",
       "      <th>535</th>\n",
       "      <td>2601630.327</td>\n",
       "      <td>2023-08-01</td>\n",
       "    </tr>\n",
       "    <tr>\n",
       "      <th>536</th>\n",
       "      <td>2534223.780</td>\n",
       "      <td>2023-09-01</td>\n",
       "    </tr>\n",
       "    <tr>\n",
       "      <th>537</th>\n",
       "      <td>2373004.525</td>\n",
       "      <td>2023-10-01</td>\n",
       "    </tr>\n",
       "  </tbody>\n",
       "</table>\n",
       "<p>538 rows × 2 columns</p>\n",
       "</div>"
      ],
      "text/plain": [
       "          Extent       Date\n",
       "0    1179855.894 1979-01-01\n",
       "1     879585.254 1979-02-01\n",
       "2     791619.096 1979-03-01\n",
       "3    1254912.071 1979-04-01\n",
       "4    1620142.247 1979-05-01\n",
       "..           ...        ...\n",
       "533  1556568.455 2023-06-01\n",
       "534  1917507.979 2023-07-01\n",
       "535  2601630.327 2023-08-01\n",
       "536  2534223.780 2023-09-01\n",
       "537  2373004.525 2023-10-01\n",
       "\n",
       "[538 rows x 2 columns]"
      ]
     },
     "execution_count": 4,
     "metadata": {},
     "output_type": "execute_result"
    }
   ],
   "source": [
    "fp.month_mapping(Bell_Amundsen_Extent)\n",
    "fp.date_time(Bell_Amundsen_Extent)"
   ]
  },
  {
   "cell_type": "code",
   "execution_count": 5,
   "id": "b7f0fbff",
   "metadata": {},
   "outputs": [],
   "source": [
    "scaler = MinMaxScaler()\n",
    "Bell_Amundsen_Extent['Extent'] = scaler.fit_transform(Bell_Amundsen_Extent['Extent'].values.reshape(-1, 1))"
   ]
  },
  {
   "cell_type": "code",
   "execution_count": 6,
   "id": "08ea4c41",
   "metadata": {},
   "outputs": [],
   "source": [
    "def df_to_X_y(df, window_size):\n",
    "    df_as_np = df.to_numpy()\n",
    "    X = []\n",
    "    y = []\n",
    "    lead_time = 6\n",
    "    for i in range(len(df_as_np) - window_size - lead_time + 1):\n",
    "        window_data = df_as_np[i:i+window_size]\n",
    "        row = [[a] for a in window_data]\n",
    "        X.append(row)\n",
    "        label = df_as_np[i+window_size+lead_time-1]\n",
    "        y.append(label)\n",
    "    return np.array(X), np.array(y)"
   ]
  },
  {
   "cell_type": "code",
   "execution_count": 7,
   "id": "4667c1c0",
   "metadata": {},
   "outputs": [
    {
     "data": {
      "text/plain": [
       "((521, 12, 1), (521,))"
      ]
     },
     "execution_count": 7,
     "metadata": {},
     "output_type": "execute_result"
    }
   ],
   "source": [
    "extent = Bell_Amundsen_Extent['Extent']\n",
    "W_S=12\n",
    "X,y = df_to_X_y(extent, W_S)\n",
    "X.shape, y.shape"
   ]
  },
  {
   "cell_type": "code",
   "execution_count": 8,
   "id": "8547d50f",
   "metadata": {},
   "outputs": [],
   "source": [
    "X_train, y_train = X[:420], y[:420]\n",
    "X_val, y_val = X[420:472], y[420:472]\n",
    "X_test, y_test = X[472:], y[472:]"
   ]
  },
  {
   "cell_type": "code",
   "execution_count": 9,
   "id": "6f56041b",
   "metadata": {},
   "outputs": [],
   "source": [
    "model = Sequential()\n",
    "model.add(Conv1D(filters=64, kernel_size=3, activation='relu', input_shape=(W_S, 1)))\n",
    "model.add(MaxPooling1D(pool_size=2))\n",
    "model.add(LSTM(32, kernel_constraint=MaxNorm(1.0), activation='relu'))\n",
    "model.add(BatchNormalization())\n",
    "model.add(Dense(1, activation='linear'))"
   ]
  },
  {
   "cell_type": "code",
   "execution_count": 10,
   "id": "9b6320c7",
   "metadata": {},
   "outputs": [],
   "source": [
    "cp = ModelCheckpoint('Bell_Amund_model_LT6/', save_best_only=True)\n",
    "model.compile(loss=MeanSquaredError(), optimizer=Adam(0.0001), metrics=[RootMeanSquaredError()])"
   ]
  },
  {
   "cell_type": "code",
   "execution_count": 11,
   "id": "672f1873",
   "metadata": {
    "scrolled": true
   },
   "outputs": [
    {
     "name": "stdout",
     "output_type": "stream",
     "text": [
      "Epoch 1/50\n",
      "43/53 [=======================>......] - ETA: 0s - loss: 0.2292 - root_mean_squared_error: 0.4788"
     ]
    },
    {
     "name": "stderr",
     "output_type": "stream",
     "text": [
      "WARNING:absl:Found untraced functions such as _jit_compiled_convolution_op while saving (showing 1 of 1). These functions will not be directly callable after loading.\n"
     ]
    },
    {
     "name": "stdout",
     "output_type": "stream",
     "text": [
      "INFO:tensorflow:Assets written to: Bell_Amund_model_LT6\\assets\n"
     ]
    },
    {
     "name": "stderr",
     "output_type": "stream",
     "text": [
      "INFO:tensorflow:Assets written to: Bell_Amund_model_LT6\\assets\n"
     ]
    },
    {
     "name": "stdout",
     "output_type": "stream",
     "text": [
      "53/53 [==============================] - 8s 102ms/step - loss: 0.2259 - root_mean_squared_error: 0.4752 - val_loss: 0.2493 - val_root_mean_squared_error: 0.4993\n",
      "Epoch 2/50\n",
      "49/53 [==========================>...] - ETA: 0s - loss: 0.1860 - root_mean_squared_error: 0.4313"
     ]
    },
    {
     "name": "stderr",
     "output_type": "stream",
     "text": [
      "WARNING:absl:Found untraced functions such as _jit_compiled_convolution_op while saving (showing 1 of 1). These functions will not be directly callable after loading.\n"
     ]
    },
    {
     "name": "stdout",
     "output_type": "stream",
     "text": [
      "INFO:tensorflow:Assets written to: Bell_Amund_model_LT6\\assets\n"
     ]
    },
    {
     "name": "stderr",
     "output_type": "stream",
     "text": [
      "INFO:tensorflow:Assets written to: Bell_Amund_model_LT6\\assets\n"
     ]
    },
    {
     "name": "stdout",
     "output_type": "stream",
     "text": [
      "53/53 [==============================] - 4s 76ms/step - loss: 0.1805 - root_mean_squared_error: 0.4248 - val_loss: 0.2159 - val_root_mean_squared_error: 0.4647\n",
      "Epoch 3/50\n",
      "53/53 [==============================] - ETA: 0s - loss: 0.1458 - root_mean_squared_error: 0.3819"
     ]
    },
    {
     "name": "stderr",
     "output_type": "stream",
     "text": [
      "WARNING:absl:Found untraced functions such as _jit_compiled_convolution_op while saving (showing 1 of 1). These functions will not be directly callable after loading.\n"
     ]
    },
    {
     "name": "stdout",
     "output_type": "stream",
     "text": [
      "INFO:tensorflow:Assets written to: Bell_Amund_model_LT6\\assets\n"
     ]
    },
    {
     "name": "stderr",
     "output_type": "stream",
     "text": [
      "INFO:tensorflow:Assets written to: Bell_Amund_model_LT6\\assets\n"
     ]
    },
    {
     "name": "stdout",
     "output_type": "stream",
     "text": [
      "53/53 [==============================] - 4s 85ms/step - loss: 0.1458 - root_mean_squared_error: 0.3819 - val_loss: 0.1866 - val_root_mean_squared_error: 0.4319\n",
      "Epoch 4/50\n",
      "53/53 [==============================] - ETA: 0s - loss: 0.1149 - root_mean_squared_error: 0.3389"
     ]
    },
    {
     "name": "stderr",
     "output_type": "stream",
     "text": [
      "WARNING:absl:Found untraced functions such as _jit_compiled_convolution_op while saving (showing 1 of 1). These functions will not be directly callable after loading.\n"
     ]
    },
    {
     "name": "stdout",
     "output_type": "stream",
     "text": [
      "INFO:tensorflow:Assets written to: Bell_Amund_model_LT6\\assets\n"
     ]
    },
    {
     "name": "stderr",
     "output_type": "stream",
     "text": [
      "INFO:tensorflow:Assets written to: Bell_Amund_model_LT6\\assets\n"
     ]
    },
    {
     "name": "stdout",
     "output_type": "stream",
     "text": [
      "53/53 [==============================] - 5s 87ms/step - loss: 0.1149 - root_mean_squared_error: 0.3389 - val_loss: 0.1577 - val_root_mean_squared_error: 0.3971\n",
      "Epoch 5/50\n",
      "45/53 [========================>.....] - ETA: 0s - loss: 0.0919 - root_mean_squared_error: 0.3032"
     ]
    },
    {
     "name": "stderr",
     "output_type": "stream",
     "text": [
      "WARNING:absl:Found untraced functions such as _jit_compiled_convolution_op while saving (showing 1 of 1). These functions will not be directly callable after loading.\n"
     ]
    },
    {
     "name": "stdout",
     "output_type": "stream",
     "text": [
      "INFO:tensorflow:Assets written to: Bell_Amund_model_LT6\\assets\n"
     ]
    },
    {
     "name": "stderr",
     "output_type": "stream",
     "text": [
      "INFO:tensorflow:Assets written to: Bell_Amund_model_LT6\\assets\n"
     ]
    },
    {
     "name": "stdout",
     "output_type": "stream",
     "text": [
      "53/53 [==============================] - 4s 83ms/step - loss: 0.0916 - root_mean_squared_error: 0.3026 - val_loss: 0.1347 - val_root_mean_squared_error: 0.3670\n",
      "Epoch 6/50\n",
      "50/53 [===========================>..] - ETA: 0s - loss: 0.0729 - root_mean_squared_error: 0.2700"
     ]
    },
    {
     "name": "stderr",
     "output_type": "stream",
     "text": [
      "WARNING:absl:Found untraced functions such as _jit_compiled_convolution_op while saving (showing 1 of 1). These functions will not be directly callable after loading.\n"
     ]
    },
    {
     "name": "stdout",
     "output_type": "stream",
     "text": [
      "INFO:tensorflow:Assets written to: Bell_Amund_model_LT6\\assets\n"
     ]
    },
    {
     "name": "stderr",
     "output_type": "stream",
     "text": [
      "INFO:tensorflow:Assets written to: Bell_Amund_model_LT6\\assets\n"
     ]
    },
    {
     "name": "stdout",
     "output_type": "stream",
     "text": [
      "53/53 [==============================] - 4s 85ms/step - loss: 0.0711 - root_mean_squared_error: 0.2667 - val_loss: 0.1078 - val_root_mean_squared_error: 0.3283\n",
      "Epoch 7/50\n",
      "49/53 [==========================>...] - ETA: 0s - loss: 0.0573 - root_mean_squared_error: 0.2394"
     ]
    },
    {
     "name": "stderr",
     "output_type": "stream",
     "text": [
      "WARNING:absl:Found untraced functions such as _jit_compiled_convolution_op while saving (showing 1 of 1). These functions will not be directly callable after loading.\n"
     ]
    },
    {
     "name": "stdout",
     "output_type": "stream",
     "text": [
      "INFO:tensorflow:Assets written to: Bell_Amund_model_LT6\\assets\n"
     ]
    },
    {
     "name": "stderr",
     "output_type": "stream",
     "text": [
      "INFO:tensorflow:Assets written to: Bell_Amund_model_LT6\\assets\n"
     ]
    },
    {
     "name": "stdout",
     "output_type": "stream",
     "text": [
      "53/53 [==============================] - 5s 90ms/step - loss: 0.0546 - root_mean_squared_error: 0.2337 - val_loss: 0.0916 - val_root_mean_squared_error: 0.3027\n",
      "Epoch 8/50\n",
      "43/53 [=======================>......] - ETA: 0s - loss: 0.0429 - root_mean_squared_error: 0.2070"
     ]
    },
    {
     "name": "stderr",
     "output_type": "stream",
     "text": [
      "WARNING:absl:Found untraced functions such as _jit_compiled_convolution_op while saving (showing 1 of 1). These functions will not be directly callable after loading.\n"
     ]
    },
    {
     "name": "stdout",
     "output_type": "stream",
     "text": [
      "INFO:tensorflow:Assets written to: Bell_Amund_model_LT6\\assets\n"
     ]
    },
    {
     "name": "stderr",
     "output_type": "stream",
     "text": [
      "INFO:tensorflow:Assets written to: Bell_Amund_model_LT6\\assets\n"
     ]
    },
    {
     "name": "stdout",
     "output_type": "stream",
     "text": [
      "53/53 [==============================] - 4s 83ms/step - loss: 0.0412 - root_mean_squared_error: 0.2030 - val_loss: 0.0700 - val_root_mean_squared_error: 0.2645\n",
      "Epoch 9/50\n",
      "52/53 [============================>.] - ETA: 0s - loss: 0.0307 - root_mean_squared_error: 0.1752"
     ]
    },
    {
     "name": "stderr",
     "output_type": "stream",
     "text": [
      "WARNING:absl:Found untraced functions such as _jit_compiled_convolution_op while saving (showing 1 of 1). These functions will not be directly callable after loading.\n"
     ]
    },
    {
     "name": "stdout",
     "output_type": "stream",
     "text": [
      "INFO:tensorflow:Assets written to: Bell_Amund_model_LT6\\assets\n"
     ]
    },
    {
     "name": "stderr",
     "output_type": "stream",
     "text": [
      "INFO:tensorflow:Assets written to: Bell_Amund_model_LT6\\assets\n"
     ]
    },
    {
     "name": "stdout",
     "output_type": "stream",
     "text": [
      "53/53 [==============================] - 4s 82ms/step - loss: 0.0305 - root_mean_squared_error: 0.1746 - val_loss: 0.0534 - val_root_mean_squared_error: 0.2311\n",
      "Epoch 10/50\n",
      "49/53 [==========================>...] - ETA: 0s - loss: 0.0245 - root_mean_squared_error: 0.1565"
     ]
    },
    {
     "name": "stderr",
     "output_type": "stream",
     "text": [
      "WARNING:absl:Found untraced functions such as _jit_compiled_convolution_op while saving (showing 1 of 1). These functions will not be directly callable after loading.\n"
     ]
    },
    {
     "name": "stdout",
     "output_type": "stream",
     "text": [
      "INFO:tensorflow:Assets written to: Bell_Amund_model_LT6\\assets\n"
     ]
    },
    {
     "name": "stderr",
     "output_type": "stream",
     "text": [
      "INFO:tensorflow:Assets written to: Bell_Amund_model_LT6\\assets\n"
     ]
    },
    {
     "name": "stdout",
     "output_type": "stream",
     "text": [
      "53/53 [==============================] - 5s 88ms/step - loss: 0.0234 - root_mean_squared_error: 0.1531 - val_loss: 0.0456 - val_root_mean_squared_error: 0.2135\n",
      "Epoch 11/50\n",
      "53/53 [==============================] - ETA: 0s - loss: 0.0183 - root_mean_squared_error: 0.1352"
     ]
    },
    {
     "name": "stderr",
     "output_type": "stream",
     "text": [
      "WARNING:absl:Found untraced functions such as _jit_compiled_convolution_op while saving (showing 1 of 1). These functions will not be directly callable after loading.\n"
     ]
    },
    {
     "name": "stdout",
     "output_type": "stream",
     "text": [
      "INFO:tensorflow:Assets written to: Bell_Amund_model_LT6\\assets\n"
     ]
    },
    {
     "name": "stderr",
     "output_type": "stream",
     "text": [
      "INFO:tensorflow:Assets written to: Bell_Amund_model_LT6\\assets\n"
     ]
    },
    {
     "name": "stdout",
     "output_type": "stream",
     "text": [
      "53/53 [==============================] - 4s 84ms/step - loss: 0.0183 - root_mean_squared_error: 0.1352 - val_loss: 0.0275 - val_root_mean_squared_error: 0.1659\n",
      "Epoch 12/50\n",
      "53/53 [==============================] - 0s 7ms/step - loss: 0.0167 - root_mean_squared_error: 0.1292 - val_loss: 0.0321 - val_root_mean_squared_error: 0.1791\n",
      "Epoch 13/50\n",
      "53/53 [==============================] - ETA: 0s - loss: 0.0174 - root_mean_squared_error: 0.1320"
     ]
    },
    {
     "name": "stderr",
     "output_type": "stream",
     "text": [
      "WARNING:absl:Found untraced functions such as _jit_compiled_convolution_op while saving (showing 1 of 1). These functions will not be directly callable after loading.\n"
     ]
    },
    {
     "name": "stdout",
     "output_type": "stream",
     "text": [
      "INFO:tensorflow:Assets written to: Bell_Amund_model_LT6\\assets\n"
     ]
    },
    {
     "name": "stderr",
     "output_type": "stream",
     "text": [
      "INFO:tensorflow:Assets written to: Bell_Amund_model_LT6\\assets\n"
     ]
    },
    {
     "name": "stdout",
     "output_type": "stream",
     "text": [
      "53/53 [==============================] - 4s 83ms/step - loss: 0.0174 - root_mean_squared_error: 0.1320 - val_loss: 0.0245 - val_root_mean_squared_error: 0.1566\n",
      "Epoch 14/50\n",
      "53/53 [==============================] - ETA: 0s - loss: 0.0135 - root_mean_squared_error: 0.1163"
     ]
    },
    {
     "name": "stderr",
     "output_type": "stream",
     "text": [
      "WARNING:absl:Found untraced functions such as _jit_compiled_convolution_op while saving (showing 1 of 1). These functions will not be directly callable after loading.\n"
     ]
    },
    {
     "name": "stdout",
     "output_type": "stream",
     "text": [
      "INFO:tensorflow:Assets written to: Bell_Amund_model_LT6\\assets\n"
     ]
    },
    {
     "name": "stderr",
     "output_type": "stream",
     "text": [
      "INFO:tensorflow:Assets written to: Bell_Amund_model_LT6\\assets\n"
     ]
    },
    {
     "name": "stdout",
     "output_type": "stream",
     "text": [
      "53/53 [==============================] - 5s 88ms/step - loss: 0.0135 - root_mean_squared_error: 0.1163 - val_loss: 0.0159 - val_root_mean_squared_error: 0.1259\n",
      "Epoch 15/50\n",
      "50/53 [===========================>..] - ETA: 0s - loss: 0.0129 - root_mean_squared_error: 0.1137"
     ]
    },
    {
     "name": "stderr",
     "output_type": "stream",
     "text": [
      "WARNING:absl:Found untraced functions such as _jit_compiled_convolution_op while saving (showing 1 of 1). These functions will not be directly callable after loading.\n"
     ]
    },
    {
     "name": "stdout",
     "output_type": "stream",
     "text": [
      "INFO:tensorflow:Assets written to: Bell_Amund_model_LT6\\assets\n"
     ]
    },
    {
     "name": "stderr",
     "output_type": "stream",
     "text": [
      "INFO:tensorflow:Assets written to: Bell_Amund_model_LT6\\assets\n"
     ]
    },
    {
     "name": "stdout",
     "output_type": "stream",
     "text": [
      "53/53 [==============================] - 4s 78ms/step - loss: 0.0130 - root_mean_squared_error: 0.1138 - val_loss: 0.0127 - val_root_mean_squared_error: 0.1129\n",
      "Epoch 16/50\n",
      "46/53 [=========================>....] - ETA: 0s - loss: 0.0131 - root_mean_squared_error: 0.1144"
     ]
    },
    {
     "name": "stderr",
     "output_type": "stream",
     "text": [
      "WARNING:absl:Found untraced functions such as _jit_compiled_convolution_op while saving (showing 1 of 1). These functions will not be directly callable after loading.\n"
     ]
    },
    {
     "name": "stdout",
     "output_type": "stream",
     "text": [
      "INFO:tensorflow:Assets written to: Bell_Amund_model_LT6\\assets\n"
     ]
    },
    {
     "name": "stderr",
     "output_type": "stream",
     "text": [
      "INFO:tensorflow:Assets written to: Bell_Amund_model_LT6\\assets\n"
     ]
    },
    {
     "name": "stdout",
     "output_type": "stream",
     "text": [
      "53/53 [==============================] - 4s 86ms/step - loss: 0.0129 - root_mean_squared_error: 0.1137 - val_loss: 0.0121 - val_root_mean_squared_error: 0.1102\n",
      "Epoch 17/50\n",
      "49/53 [==========================>...] - ETA: 0s - loss: 0.0103 - root_mean_squared_error: 0.1017"
     ]
    },
    {
     "name": "stderr",
     "output_type": "stream",
     "text": [
      "WARNING:absl:Found untraced functions such as _jit_compiled_convolution_op while saving (showing 1 of 1). These functions will not be directly callable after loading.\n"
     ]
    },
    {
     "name": "stdout",
     "output_type": "stream",
     "text": [
      "INFO:tensorflow:Assets written to: Bell_Amund_model_LT6\\assets\n"
     ]
    },
    {
     "name": "stderr",
     "output_type": "stream",
     "text": [
      "INFO:tensorflow:Assets written to: Bell_Amund_model_LT6\\assets\n"
     ]
    },
    {
     "name": "stdout",
     "output_type": "stream",
     "text": [
      "53/53 [==============================] - 4s 84ms/step - loss: 0.0110 - root_mean_squared_error: 0.1048 - val_loss: 0.0114 - val_root_mean_squared_error: 0.1067\n",
      "Epoch 18/50\n",
      "53/53 [==============================] - 0s 7ms/step - loss: 0.0124 - root_mean_squared_error: 0.1115 - val_loss: 0.0126 - val_root_mean_squared_error: 0.1123\n",
      "Epoch 19/50\n",
      "53/53 [==============================] - 0s 8ms/step - loss: 0.0136 - root_mean_squared_error: 0.1167 - val_loss: 0.0114 - val_root_mean_squared_error: 0.1068\n",
      "Epoch 20/50\n",
      "53/53 [==============================] - 0s 7ms/step - loss: 0.0121 - root_mean_squared_error: 0.1099 - val_loss: 0.0204 - val_root_mean_squared_error: 0.1427\n",
      "Epoch 21/50\n",
      "53/53 [==============================] - 0s 7ms/step - loss: 0.0133 - root_mean_squared_error: 0.1153 - val_loss: 0.0121 - val_root_mean_squared_error: 0.1102\n",
      "Epoch 22/50\n",
      "53/53 [==============================] - 0s 7ms/step - loss: 0.0126 - root_mean_squared_error: 0.1122 - val_loss: 0.0143 - val_root_mean_squared_error: 0.1195\n",
      "Epoch 23/50\n",
      "53/53 [==============================] - 0s 7ms/step - loss: 0.0129 - root_mean_squared_error: 0.1137 - val_loss: 0.0122 - val_root_mean_squared_error: 0.1105\n",
      "Epoch 24/50\n",
      "47/53 [=========================>....] - ETA: 0s - loss: 0.0114 - root_mean_squared_error: 0.1067"
     ]
    },
    {
     "name": "stderr",
     "output_type": "stream",
     "text": [
      "WARNING:absl:Found untraced functions such as _jit_compiled_convolution_op while saving (showing 1 of 1). These functions will not be directly callable after loading.\n"
     ]
    },
    {
     "name": "stdout",
     "output_type": "stream",
     "text": [
      "INFO:tensorflow:Assets written to: Bell_Amund_model_LT6\\assets\n"
     ]
    },
    {
     "name": "stderr",
     "output_type": "stream",
     "text": [
      "INFO:tensorflow:Assets written to: Bell_Amund_model_LT6\\assets\n"
     ]
    },
    {
     "name": "stdout",
     "output_type": "stream",
     "text": [
      "53/53 [==============================] - 4s 82ms/step - loss: 0.0115 - root_mean_squared_error: 0.1071 - val_loss: 0.0105 - val_root_mean_squared_error: 0.1023\n",
      "Epoch 25/50\n",
      "53/53 [==============================] - 0s 7ms/step - loss: 0.0117 - root_mean_squared_error: 0.1081 - val_loss: 0.0125 - val_root_mean_squared_error: 0.1119\n",
      "Epoch 26/50\n",
      "53/53 [==============================] - 0s 7ms/step - loss: 0.0127 - root_mean_squared_error: 0.1129 - val_loss: 0.0131 - val_root_mean_squared_error: 0.1145\n",
      "Epoch 27/50\n",
      "53/53 [==============================] - 0s 7ms/step - loss: 0.0125 - root_mean_squared_error: 0.1118 - val_loss: 0.0127 - val_root_mean_squared_error: 0.1127\n",
      "Epoch 28/50\n",
      "48/53 [==========================>...] - ETA: 0s - loss: 0.0130 - root_mean_squared_error: 0.1139"
     ]
    },
    {
     "name": "stderr",
     "output_type": "stream",
     "text": [
      "WARNING:absl:Found untraced functions such as _jit_compiled_convolution_op while saving (showing 1 of 1). These functions will not be directly callable after loading.\n"
     ]
    },
    {
     "name": "stdout",
     "output_type": "stream",
     "text": [
      "INFO:tensorflow:Assets written to: Bell_Amund_model_LT6\\assets\n"
     ]
    },
    {
     "name": "stderr",
     "output_type": "stream",
     "text": [
      "INFO:tensorflow:Assets written to: Bell_Amund_model_LT6\\assets\n"
     ]
    },
    {
     "name": "stdout",
     "output_type": "stream",
     "text": [
      "53/53 [==============================] - 5s 88ms/step - loss: 0.0126 - root_mean_squared_error: 0.1123 - val_loss: 0.0103 - val_root_mean_squared_error: 0.1013\n",
      "Epoch 29/50\n",
      "53/53 [==============================] - 0s 8ms/step - loss: 0.0115 - root_mean_squared_error: 0.1074 - val_loss: 0.0108 - val_root_mean_squared_error: 0.1039\n",
      "Epoch 30/50\n",
      "53/53 [==============================] - 0s 8ms/step - loss: 0.0096 - root_mean_squared_error: 0.0980 - val_loss: 0.0174 - val_root_mean_squared_error: 0.1320\n",
      "Epoch 31/50\n",
      "47/53 [=========================>....] - ETA: 0s - loss: 0.0136 - root_mean_squared_error: 0.1168"
     ]
    },
    {
     "name": "stderr",
     "output_type": "stream",
     "text": [
      "WARNING:absl:Found untraced functions such as _jit_compiled_convolution_op while saving (showing 1 of 1). These functions will not be directly callable after loading.\n"
     ]
    },
    {
     "name": "stdout",
     "output_type": "stream",
     "text": [
      "INFO:tensorflow:Assets written to: Bell_Amund_model_LT6\\assets\n"
     ]
    },
    {
     "name": "stderr",
     "output_type": "stream",
     "text": [
      "INFO:tensorflow:Assets written to: Bell_Amund_model_LT6\\assets\n"
     ]
    },
    {
     "name": "stdout",
     "output_type": "stream",
     "text": [
      "53/53 [==============================] - 4s 85ms/step - loss: 0.0146 - root_mean_squared_error: 0.1210 - val_loss: 0.0102 - val_root_mean_squared_error: 0.1008\n",
      "Epoch 32/50\n",
      "53/53 [==============================] - 0s 8ms/step - loss: 0.0127 - root_mean_squared_error: 0.1128 - val_loss: 0.0108 - val_root_mean_squared_error: 0.1039\n",
      "Epoch 33/50\n",
      "53/53 [==============================] - 0s 8ms/step - loss: 0.0101 - root_mean_squared_error: 0.1003 - val_loss: 0.0155 - val_root_mean_squared_error: 0.1246\n",
      "Epoch 34/50\n",
      "53/53 [==============================] - 0s 8ms/step - loss: 0.0126 - root_mean_squared_error: 0.1122 - val_loss: 0.0115 - val_root_mean_squared_error: 0.1075\n",
      "Epoch 35/50\n",
      "53/53 [==============================] - 0s 8ms/step - loss: 0.0130 - root_mean_squared_error: 0.1142 - val_loss: 0.0118 - val_root_mean_squared_error: 0.1084\n",
      "Epoch 36/50\n",
      "45/53 [========================>.....] - ETA: 0s - loss: 0.0144 - root_mean_squared_error: 0.1199"
     ]
    },
    {
     "name": "stderr",
     "output_type": "stream",
     "text": [
      "WARNING:absl:Found untraced functions such as _jit_compiled_convolution_op while saving (showing 1 of 1). These functions will not be directly callable after loading.\n"
     ]
    },
    {
     "name": "stdout",
     "output_type": "stream",
     "text": [
      "INFO:tensorflow:Assets written to: Bell_Amund_model_LT6\\assets\n"
     ]
    },
    {
     "name": "stderr",
     "output_type": "stream",
     "text": [
      "INFO:tensorflow:Assets written to: Bell_Amund_model_LT6\\assets\n"
     ]
    },
    {
     "name": "stdout",
     "output_type": "stream",
     "text": [
      "53/53 [==============================] - 4s 84ms/step - loss: 0.0140 - root_mean_squared_error: 0.1181 - val_loss: 0.0100 - val_root_mean_squared_error: 0.0999\n",
      "Epoch 37/50\n",
      "49/53 [==========================>...] - ETA: 0s - loss: 0.0125 - root_mean_squared_error: 0.1118"
     ]
    },
    {
     "name": "stderr",
     "output_type": "stream",
     "text": [
      "WARNING:absl:Found untraced functions such as _jit_compiled_convolution_op while saving (showing 1 of 1). These functions will not be directly callable after loading.\n"
     ]
    },
    {
     "name": "stdout",
     "output_type": "stream",
     "text": [
      "INFO:tensorflow:Assets written to: Bell_Amund_model_LT6\\assets\n"
     ]
    },
    {
     "name": "stderr",
     "output_type": "stream",
     "text": [
      "INFO:tensorflow:Assets written to: Bell_Amund_model_LT6\\assets\n"
     ]
    },
    {
     "name": "stdout",
     "output_type": "stream",
     "text": [
      "53/53 [==============================] - 5s 89ms/step - loss: 0.0123 - root_mean_squared_error: 0.1108 - val_loss: 0.0099 - val_root_mean_squared_error: 0.0996\n",
      "Epoch 38/50\n",
      "53/53 [==============================] - ETA: 0s - loss: 0.0114 - root_mean_squared_error: 0.1069"
     ]
    },
    {
     "name": "stderr",
     "output_type": "stream",
     "text": [
      "WARNING:absl:Found untraced functions such as _jit_compiled_convolution_op while saving (showing 1 of 1). These functions will not be directly callable after loading.\n"
     ]
    },
    {
     "name": "stdout",
     "output_type": "stream",
     "text": [
      "INFO:tensorflow:Assets written to: Bell_Amund_model_LT6\\assets\n"
     ]
    },
    {
     "name": "stderr",
     "output_type": "stream",
     "text": [
      "INFO:tensorflow:Assets written to: Bell_Amund_model_LT6\\assets\n"
     ]
    },
    {
     "name": "stdout",
     "output_type": "stream",
     "text": [
      "53/53 [==============================] - 4s 82ms/step - loss: 0.0114 - root_mean_squared_error: 0.1069 - val_loss: 0.0098 - val_root_mean_squared_error: 0.0990\n",
      "Epoch 39/50\n",
      "53/53 [==============================] - 0s 7ms/step - loss: 0.0119 - root_mean_squared_error: 0.1091 - val_loss: 0.0104 - val_root_mean_squared_error: 0.1020\n",
      "Epoch 40/50\n",
      "53/53 [==============================] - 0s 7ms/step - loss: 0.0107 - root_mean_squared_error: 0.1037 - val_loss: 0.0132 - val_root_mean_squared_error: 0.1147\n",
      "Epoch 41/50\n",
      "46/53 [=========================>....] - ETA: 0s - loss: 0.0107 - root_mean_squared_error: 0.1035"
     ]
    },
    {
     "name": "stderr",
     "output_type": "stream",
     "text": [
      "WARNING:absl:Found untraced functions such as _jit_compiled_convolution_op while saving (showing 1 of 1). These functions will not be directly callable after loading.\n"
     ]
    },
    {
     "name": "stdout",
     "output_type": "stream",
     "text": [
      "INFO:tensorflow:Assets written to: Bell_Amund_model_LT6\\assets\n"
     ]
    },
    {
     "name": "stderr",
     "output_type": "stream",
     "text": [
      "INFO:tensorflow:Assets written to: Bell_Amund_model_LT6\\assets\n"
     ]
    },
    {
     "name": "stdout",
     "output_type": "stream",
     "text": [
      "53/53 [==============================] - 4s 83ms/step - loss: 0.0113 - root_mean_squared_error: 0.1064 - val_loss: 0.0097 - val_root_mean_squared_error: 0.0987\n",
      "Epoch 42/50\n",
      "53/53 [==============================] - 0s 7ms/step - loss: 0.0129 - root_mean_squared_error: 0.1134 - val_loss: 0.0102 - val_root_mean_squared_error: 0.1010\n",
      "Epoch 43/50\n",
      "53/53 [==============================] - 0s 8ms/step - loss: 0.0123 - root_mean_squared_error: 0.1110 - val_loss: 0.0119 - val_root_mean_squared_error: 0.1092\n",
      "Epoch 44/50\n",
      "53/53 [==============================] - 0s 7ms/step - loss: 0.0133 - root_mean_squared_error: 0.1151 - val_loss: 0.0098 - val_root_mean_squared_error: 0.0992\n",
      "Epoch 45/50\n",
      "53/53 [==============================] - 0s 7ms/step - loss: 0.0155 - root_mean_squared_error: 0.1245 - val_loss: 0.0112 - val_root_mean_squared_error: 0.1060\n",
      "Epoch 46/50\n",
      "52/53 [============================>.] - ETA: 0s - loss: 0.0116 - root_mean_squared_error: 0.1076"
     ]
    },
    {
     "name": "stderr",
     "output_type": "stream",
     "text": [
      "WARNING:absl:Found untraced functions such as _jit_compiled_convolution_op while saving (showing 1 of 1). These functions will not be directly callable after loading.\n"
     ]
    },
    {
     "name": "stdout",
     "output_type": "stream",
     "text": [
      "INFO:tensorflow:Assets written to: Bell_Amund_model_LT6\\assets\n"
     ]
    },
    {
     "name": "stderr",
     "output_type": "stream",
     "text": [
      "INFO:tensorflow:Assets written to: Bell_Amund_model_LT6\\assets\n"
     ]
    },
    {
     "name": "stdout",
     "output_type": "stream",
     "text": [
      "53/53 [==============================] - 5s 90ms/step - loss: 0.0117 - root_mean_squared_error: 0.1080 - val_loss: 0.0094 - val_root_mean_squared_error: 0.0971\n",
      "Epoch 47/50\n",
      "53/53 [==============================] - 0s 7ms/step - loss: 0.0114 - root_mean_squared_error: 0.1066 - val_loss: 0.0128 - val_root_mean_squared_error: 0.1131\n",
      "Epoch 48/50\n",
      "53/53 [==============================] - 0s 7ms/step - loss: 0.0107 - root_mean_squared_error: 0.1034 - val_loss: 0.0112 - val_root_mean_squared_error: 0.1060\n",
      "Epoch 49/50\n",
      "49/53 [==========================>...] - ETA: 0s - loss: 0.0118 - root_mean_squared_error: 0.1085"
     ]
    },
    {
     "name": "stderr",
     "output_type": "stream",
     "text": [
      "WARNING:absl:Found untraced functions such as _jit_compiled_convolution_op while saving (showing 1 of 1). These functions will not be directly callable after loading.\n"
     ]
    },
    {
     "name": "stdout",
     "output_type": "stream",
     "text": [
      "INFO:tensorflow:Assets written to: Bell_Amund_model_LT6\\assets\n"
     ]
    },
    {
     "name": "stderr",
     "output_type": "stream",
     "text": [
      "INFO:tensorflow:Assets written to: Bell_Amund_model_LT6\\assets\n"
     ]
    },
    {
     "name": "stdout",
     "output_type": "stream",
     "text": [
      "53/53 [==============================] - 4s 82ms/step - loss: 0.0118 - root_mean_squared_error: 0.1085 - val_loss: 0.0091 - val_root_mean_squared_error: 0.0955\n",
      "Epoch 50/50\n",
      "53/53 [==============================] - 0s 7ms/step - loss: 0.0122 - root_mean_squared_error: 0.1104 - val_loss: 0.0102 - val_root_mean_squared_error: 0.1011\n"
     ]
    }
   ],
   "source": [
    "stime = time.time()\n",
    "history = model.fit(X_train, y_train, validation_data=(X_val, y_val), epochs=50, batch_size=8, callbacks=[cp])\n",
    "etime = time.time()"
   ]
  },
  {
   "cell_type": "code",
   "execution_count": 12,
   "id": "24be0d1e",
   "metadata": {},
   "outputs": [
    {
     "name": "stdout",
     "output_type": "stream",
     "text": [
      "2.069344397385915 minutes\n"
     ]
    }
   ],
   "source": [
    "time = (etime - stime)/60\n",
    "print(f'{time} minutes')"
   ]
  },
  {
   "cell_type": "code",
   "execution_count": 13,
   "id": "aa1add1a",
   "metadata": {},
   "outputs": [],
   "source": [
    "loss = history.history['loss']\n",
    "epochs = list(range(1, len(loss) + 1))"
   ]
  },
  {
   "cell_type": "code",
   "execution_count": 14,
   "id": "42b576b7",
   "metadata": {},
   "outputs": [
    {
     "data": {
      "image/png": "[encoded data removed]",
      "text/plain": [
       "<Figure size 720x432 with 1 Axes>"
      ]
     },
     "metadata": {
      "needs_background": "light"
     },
     "output_type": "display_data"
    }
   ],
   "source": [
    "plt.figure(figsize=(10, 6))\n",
    "plt.plot(epochs, loss, label='Training Loss', marker='o', linestyle='-')\n",
    "\n",
    "plt.xlabel('Epochs')\n",
    "plt.ylabel('Loss')\n",
    "plt.title('Training Loss over Epochs')\n",
    "plt.legend()\n",
    "plt.show()"
   ]
  },
  {
   "cell_type": "code",
   "execution_count": 15,
   "id": "8127fed9",
   "metadata": {},
   "outputs": [
    {
     "data": {
      "image/png": "[encoded data removed]",
      "text/plain": [
       "<Figure size 1080x432 with 1 Axes>"
      ]
     },
     "metadata": {
      "needs_background": "light"
     },
     "output_type": "display_data"
    }
   ],
   "source": [
    "training_loss = history.history['loss']\n",
    "validation_loss = history.history['val_loss']\n",
    "epochs = range(1, len(training_loss) + 1)\n",
    "\n",
    "plt.figure(figsize=(15,6))\n",
    "plt.plot(epochs, training_loss, label='Training Loss', marker='o', linestyle='-')\n",
    "plt.plot(epochs, validation_loss, label='Validation Loss', marker='s', linestyle='--')\n",
    "\n",
    "plt.xlabel('Epochs')\n",
    "plt.ylabel('Loss')\n",
    "plt.title('Training and Validation Loss over Epochs')\n",
    "plt.legend()\n",
    "plt.show()"
   ]
  },
  {
   "cell_type": "code",
   "execution_count": 16,
   "id": "5cfcd088",
   "metadata": {},
   "outputs": [],
   "source": [
    "from tensorflow.keras.models import load_model\n",
    "model1 = load_model('Bell_Amund_model_LT6/')"
   ]
  },
  {
   "cell_type": "code",
   "execution_count": 17,
   "id": "7ba04d76",
   "metadata": {},
   "outputs": [
    {
     "name": "stdout",
     "output_type": "stream",
     "text": [
      "2/2 [==============================] - 0s 8ms/step\n"
     ]
    }
   ],
   "source": [
    "test_predictions = model1.predict(X_test)"
   ]
  },
  {
   "cell_type": "code",
   "execution_count": 18,
   "id": "50f74fa3",
   "metadata": {},
   "outputs": [
    {
     "name": "stdout",
     "output_type": "stream",
     "text": [
      "RMSE : 0.09008404109911218\n",
      "MAE : 0.07152288664571166\n"
     ]
    }
   ],
   "source": [
    "mse = mean_squared_error(y_test, test_predictions)\n",
    "print('RMSE :', np.sqrt(mse))\n",
    "\n",
    "mae = mean_absolute_error(y_test, test_predictions)\n",
    "print('MAE :', mae)"
   ]
  },
  {
   "cell_type": "code",
   "execution_count": 19,
   "id": "7f14e1dd",
   "metadata": {},
   "outputs": [],
   "source": [
    "test_predictions = scaler.inverse_transform(test_predictions)\n",
    "test_original = scaler.inverse_transform(y_test.reshape(-1,1))"
   ]
  },
  {
   "cell_type": "code",
   "execution_count": 20,
   "id": "71ef7a26",
   "metadata": {
    "scrolled": true
   },
   "outputs": [
    {
     "data": {
      "text/html": [
       "<div>\n",
       "<style scoped>\n",
       "    .dataframe tbody tr th:only-of-type {\n",
       "        vertical-align: middle;\n",
       "    }\n",
       "\n",
       "    .dataframe tbody tr th {\n",
       "        vertical-align: top;\n",
       "    }\n",
       "\n",
       "    .dataframe thead th {\n",
       "        text-align: right;\n",
       "    }\n",
       "</style>\n",
       "<table border=\"1\" class=\"dataframe\">\n",
       "  <thead>\n",
       "    <tr style=\"text-align: right;\">\n",
       "      <th></th>\n",
       "      <th>Train Predictions</th>\n",
       "      <th>Actual Extent</th>\n",
       "    </tr>\n",
       "  </thead>\n",
       "  <tbody>\n",
       "    <tr>\n",
       "      <th>0</th>\n",
       "      <td>2.222382e+06</td>\n",
       "      <td>1914289.680</td>\n",
       "    </tr>\n",
       "    <tr>\n",
       "      <th>1</th>\n",
       "      <td>1.799709e+06</td>\n",
       "      <td>1802244.842</td>\n",
       "    </tr>\n",
       "    <tr>\n",
       "      <th>2</th>\n",
       "      <td>1.303915e+06</td>\n",
       "      <td>1202791.069</td>\n",
       "    </tr>\n",
       "    <tr>\n",
       "      <th>3</th>\n",
       "      <td>7.700397e+05</td>\n",
       "      <td>752834.272</td>\n",
       "    </tr>\n",
       "    <tr>\n",
       "      <th>4</th>\n",
       "      <td>5.038455e+05</td>\n",
       "      <td>451914.219</td>\n",
       "    </tr>\n",
       "    <tr>\n",
       "      <th>5</th>\n",
       "      <td>4.544534e+05</td>\n",
       "      <td>439855.813</td>\n",
       "    </tr>\n",
       "    <tr>\n",
       "      <th>6</th>\n",
       "      <td>6.789128e+05</td>\n",
       "      <td>807857.307</td>\n",
       "    </tr>\n",
       "    <tr>\n",
       "      <th>7</th>\n",
       "      <td>1.066505e+06</td>\n",
       "      <td>1184280.145</td>\n",
       "    </tr>\n",
       "    <tr>\n",
       "      <th>8</th>\n",
       "      <td>1.480035e+06</td>\n",
       "      <td>1468308.405</td>\n",
       "    </tr>\n",
       "    <tr>\n",
       "      <th>9</th>\n",
       "      <td>1.905488e+06</td>\n",
       "      <td>1540851.607</td>\n",
       "    </tr>\n",
       "    <tr>\n",
       "      <th>10</th>\n",
       "      <td>2.034374e+06</td>\n",
       "      <td>1989099.836</td>\n",
       "    </tr>\n",
       "    <tr>\n",
       "      <th>11</th>\n",
       "      <td>2.144560e+06</td>\n",
       "      <td>2096990.761</td>\n",
       "    </tr>\n",
       "    <tr>\n",
       "      <th>12</th>\n",
       "      <td>1.978977e+06</td>\n",
       "      <td>2080961.032</td>\n",
       "    </tr>\n",
       "    <tr>\n",
       "      <th>13</th>\n",
       "      <td>1.677802e+06</td>\n",
       "      <td>1695704.661</td>\n",
       "    </tr>\n",
       "    <tr>\n",
       "      <th>14</th>\n",
       "      <td>1.169259e+06</td>\n",
       "      <td>1533888.370</td>\n",
       "    </tr>\n",
       "    <tr>\n",
       "      <th>15</th>\n",
       "      <td>9.043412e+05</td>\n",
       "      <td>1038332.675</td>\n",
       "    </tr>\n",
       "    <tr>\n",
       "      <th>16</th>\n",
       "      <td>5.540084e+05</td>\n",
       "      <td>602954.621</td>\n",
       "    </tr>\n",
       "    <tr>\n",
       "      <th>17</th>\n",
       "      <td>4.413386e+05</td>\n",
       "      <td>895484.288</td>\n",
       "    </tr>\n",
       "    <tr>\n",
       "      <th>18</th>\n",
       "      <td>6.239199e+05</td>\n",
       "      <td>1070622.700</td>\n",
       "    </tr>\n",
       "    <tr>\n",
       "      <th>19</th>\n",
       "      <td>1.189313e+06</td>\n",
       "      <td>1532457.922</td>\n",
       "    </tr>\n",
       "    <tr>\n",
       "      <th>20</th>\n",
       "      <td>1.340064e+06</td>\n",
       "      <td>1703762.123</td>\n",
       "    </tr>\n",
       "    <tr>\n",
       "      <th>21</th>\n",
       "      <td>1.847677e+06</td>\n",
       "      <td>1855079.122</td>\n",
       "    </tr>\n",
       "    <tr>\n",
       "      <th>22</th>\n",
       "      <td>1.944049e+06</td>\n",
       "      <td>2291960.639</td>\n",
       "    </tr>\n",
       "    <tr>\n",
       "      <th>23</th>\n",
       "      <td>2.040179e+06</td>\n",
       "      <td>2114120.417</td>\n",
       "    </tr>\n",
       "    <tr>\n",
       "      <th>24</th>\n",
       "      <td>1.706932e+06</td>\n",
       "      <td>1995818.759</td>\n",
       "    </tr>\n",
       "    <tr>\n",
       "      <th>25</th>\n",
       "      <td>1.542915e+06</td>\n",
       "      <td>1653379.997</td>\n",
       "    </tr>\n",
       "    <tr>\n",
       "      <th>26</th>\n",
       "      <td>1.112982e+06</td>\n",
       "      <td>1070814.995</td>\n",
       "    </tr>\n",
       "    <tr>\n",
       "      <th>27</th>\n",
       "      <td>8.517462e+05</td>\n",
       "      <td>689443.815</td>\n",
       "    </tr>\n",
       "    <tr>\n",
       "      <th>28</th>\n",
       "      <td>6.291686e+05</td>\n",
       "      <td>401148.663</td>\n",
       "    </tr>\n",
       "    <tr>\n",
       "      <th>29</th>\n",
       "      <td>5.270491e+05</td>\n",
       "      <td>346558.057</td>\n",
       "    </tr>\n",
       "    <tr>\n",
       "      <th>30</th>\n",
       "      <td>9.032412e+05</td>\n",
       "      <td>599477.678</td>\n",
       "    </tr>\n",
       "    <tr>\n",
       "      <th>31</th>\n",
       "      <td>1.053837e+06</td>\n",
       "      <td>765764.905</td>\n",
       "    </tr>\n",
       "    <tr>\n",
       "      <th>32</th>\n",
       "      <td>1.775271e+06</td>\n",
       "      <td>1304133.179</td>\n",
       "    </tr>\n",
       "    <tr>\n",
       "      <th>33</th>\n",
       "      <td>1.986385e+06</td>\n",
       "      <td>1598436.099</td>\n",
       "    </tr>\n",
       "    <tr>\n",
       "      <th>34</th>\n",
       "      <td>2.219588e+06</td>\n",
       "      <td>1763844.414</td>\n",
       "    </tr>\n",
       "    <tr>\n",
       "      <th>35</th>\n",
       "      <td>2.231107e+06</td>\n",
       "      <td>1979139.524</td>\n",
       "    </tr>\n",
       "    <tr>\n",
       "      <th>36</th>\n",
       "      <td>2.165867e+06</td>\n",
       "      <td>1937348.663</td>\n",
       "    </tr>\n",
       "    <tr>\n",
       "      <th>37</th>\n",
       "      <td>1.947917e+06</td>\n",
       "      <td>1833093.342</td>\n",
       "    </tr>\n",
       "    <tr>\n",
       "      <th>38</th>\n",
       "      <td>1.370455e+06</td>\n",
       "      <td>1089676.114</td>\n",
       "    </tr>\n",
       "    <tr>\n",
       "      <th>39</th>\n",
       "      <td>8.063932e+05</td>\n",
       "      <td>453484.731</td>\n",
       "    </tr>\n",
       "    <tr>\n",
       "      <th>40</th>\n",
       "      <td>4.233827e+05</td>\n",
       "      <td>251559.554</td>\n",
       "    </tr>\n",
       "    <tr>\n",
       "      <th>41</th>\n",
       "      <td>4.230065e+05</td>\n",
       "      <td>351294.657</td>\n",
       "    </tr>\n",
       "    <tr>\n",
       "      <th>42</th>\n",
       "      <td>6.043200e+05</td>\n",
       "      <td>702389.714</td>\n",
       "    </tr>\n",
       "    <tr>\n",
       "      <th>43</th>\n",
       "      <td>1.143325e+06</td>\n",
       "      <td>1185169.054</td>\n",
       "    </tr>\n",
       "    <tr>\n",
       "      <th>44</th>\n",
       "      <td>1.449845e+06</td>\n",
       "      <td>1556568.455</td>\n",
       "    </tr>\n",
       "    <tr>\n",
       "      <th>45</th>\n",
       "      <td>1.918288e+06</td>\n",
       "      <td>1917507.979</td>\n",
       "    </tr>\n",
       "    <tr>\n",
       "      <th>46</th>\n",
       "      <td>2.136396e+06</td>\n",
       "      <td>2601630.327</td>\n",
       "    </tr>\n",
       "    <tr>\n",
       "      <th>47</th>\n",
       "      <td>2.065737e+06</td>\n",
       "      <td>2534223.780</td>\n",
       "    </tr>\n",
       "    <tr>\n",
       "      <th>48</th>\n",
       "      <td>2.070138e+06</td>\n",
       "      <td>2373004.525</td>\n",
       "    </tr>\n",
       "  </tbody>\n",
       "</table>\n",
       "</div>"
      ],
      "text/plain": [
       "    Train Predictions  Actual Extent\n",
       "0        2.222382e+06    1914289.680\n",
       "1        1.799709e+06    1802244.842\n",
       "2        1.303915e+06    1202791.069\n",
       "3        7.700397e+05     752834.272\n",
       "4        5.038455e+05     451914.219\n",
       "5        4.544534e+05     439855.813\n",
       "6        6.789128e+05     807857.307\n",
       "7        1.066505e+06    1184280.145\n",
       "8        1.480035e+06    1468308.405\n",
       "9        1.905488e+06    1540851.607\n",
       "10       2.034374e+06    1989099.836\n",
       "11       2.144560e+06    2096990.761\n",
       "12       1.978977e+06    2080961.032\n",
       "13       1.677802e+06    1695704.661\n",
       "14       1.169259e+06    1533888.370\n",
       "15       9.043412e+05    1038332.675\n",
       "16       5.540084e+05     602954.621\n",
       "17       4.413386e+05     895484.288\n",
       "18       6.239199e+05    1070622.700\n",
       "19       1.189313e+06    1532457.922\n",
       "20       1.340064e+06    1703762.123\n",
       "21       1.847677e+06    1855079.122\n",
       "22       1.944049e+06    2291960.639\n",
       "23       2.040179e+06    2114120.417\n",
       "24       1.706932e+06    1995818.759\n",
       "25       1.542915e+06    1653379.997\n",
       "26       1.112982e+06    1070814.995\n",
       "27       8.517462e+05     689443.815\n",
       "28       6.291686e+05     401148.663\n",
       "29       5.270491e+05     346558.057\n",
       "30       9.032412e+05     599477.678\n",
       "31       1.053837e+06     765764.905\n",
       "32       1.775271e+06    1304133.179\n",
       "33       1.986385e+06    1598436.099\n",
       "34       2.219588e+06    1763844.414\n",
       "35       2.231107e+06    1979139.524\n",
       "36       2.165867e+06    1937348.663\n",
       "37       1.947917e+06    1833093.342\n",
       "38       1.370455e+06    1089676.114\n",
       "39       8.063932e+05     453484.731\n",
       "40       4.233827e+05     251559.554\n",
       "41       4.230065e+05     351294.657\n",
       "42       6.043200e+05     702389.714\n",
       "43       1.143325e+06    1185169.054\n",
       "44       1.449845e+06    1556568.455\n",
       "45       1.918288e+06    1917507.979\n",
       "46       2.136396e+06    2601630.327\n",
       "47       2.065737e+06    2534223.780\n",
       "48       2.070138e+06    2373004.525"
      ]
     },
     "execution_count": 20,
     "metadata": {},
     "output_type": "execute_result"
    }
   ],
   "source": [
    "train_results = pd.DataFrame(data={'Train Predictions': test_predictions.flatten(), 'Actual Extent': test_original.flatten()})\n",
    "train_results"
   ]
  },
  {
   "cell_type": "code",
   "execution_count": 21,
   "id": "cee9fe68",
   "metadata": {},
   "outputs": [
    {
     "data": {
      "image/png": "[encoded data removed]",
      "text/plain": [
       "<Figure size 1080x432 with 1 Axes>"
      ]
     },
     "metadata": {
      "needs_background": "light"
     },
     "output_type": "display_data"
    }
   ],
   "source": [
    "plt.figure(figsize=(15,6))\n",
    "plt.plot(test_original, label='True Values')\n",
    "plt.plot(test_predictions, label='Predicted Values')\n",
    "plt.title('Test Predictions vs Original Test Data')\n",
    "plt.legend()\n",
    "plt.show()"
   ]
  },
  {
   "cell_type": "code",
   "execution_count": 22,
   "id": "7df96b1f",
   "metadata": {},
   "outputs": [
    {
     "name": "stdout",
     "output_type": "stream",
     "text": [
      "17/17 [==============================] - 0s 5ms/step\n"
     ]
    }
   ],
   "source": [
    "predictions = model1.predict(X)"
   ]
  },
  {
   "cell_type": "code",
   "execution_count": 23,
   "id": "6e155c07",
   "metadata": {},
   "outputs": [],
   "source": [
    "predictions = scaler.inverse_transform(predictions)\n",
    "Original = scaler.inverse_transform(y.reshape(-1,1))"
   ]
  },
  {
   "cell_type": "code",
   "execution_count": 24,
   "id": "eb328bbc",
   "metadata": {},
   "outputs": [
    {
     "data": {
      "image/png": "[encoded data removed]",
      "text/plain": [
       "<Figure size 1080x432 with 1 Axes>"
      ]
     },
     "metadata": {
      "needs_background": "light"
     },
     "output_type": "display_data"
    }
   ],
   "source": [
    "plt.figure(figsize=(15,6))\n",
    "plt.plot(Original, label='True Values')\n",
    "plt.plot(predictions, label='Predicted Values')\n",
    "plt.title('Test Predictions vs Original Test Data')\n",
    "plt.legend()\n",
    "plt.show()"
   ]
  },
  {
   "cell_type": "code",
   "execution_count": null,
   "id": "7b431bd4",
   "metadata": {},
   "outputs": [],
   "source": []
  }
 ],
 "metadata": {
  "kernelspec": {
   "display_name": "Python 3 (ipykernel)",
   "language": "python",
   "name": "python3"
  },
  "language_info": {
   "codemirror_mode": {
    "name": "ipython",
    "version": 3
   },
   "file_extension": ".py",
   "mimetype": "text/x-python",
   "name": "python",
   "nbconvert_exporter": "python",
   "pygments_lexer": "ipython3",
   "version": "3.10.5"
  }
 },
 "nbformat": 4,
 "nbformat_minor": 5
}
