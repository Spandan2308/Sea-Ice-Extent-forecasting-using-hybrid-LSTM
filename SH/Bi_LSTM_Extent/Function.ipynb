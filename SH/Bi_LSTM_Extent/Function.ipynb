{
 "cells": [
  {
   "cell_type": "code",
   "execution_count": 9,
   "id": "5d6c6770",
   "metadata": {},
   "outputs": [],
   "source": [
    "def month_mapping(df):\n",
    "    month_mapping = {\n",
    "    'Jan': 1, 'Feb': 2, 'March': 3, 'April': 4,\n",
    "    'May': 5, 'June': 6, 'July': 7, 'August': 8,\n",
    "    'September': 9, 'October': 10, 'November': 11, 'December': 12}\n",
    "\n",
    "    df['Month'] = df['Month'].map(month_mapping)\n",
    "    return(df)"
   ]
  },
  {
   "cell_type": "code",
   "execution_count": 10,
   "id": "f8dfc941",
   "metadata": {},
   "outputs": [],
   "source": [
    "def date_time(df):\n",
    "    import pandas as pd\n",
    "    df['Date'] = pd.to_datetime(df[['Year', 'Month']].assign(DAY=1))\n",
    "    \n",
    "    df.drop(['Year','Month'], axis=1, inplace=True)\n",
    "    \n",
    "    return(df)"
   ]
  },
  {
   "cell_type": "code",
   "execution_count": 11,
   "id": "21795f3e",
   "metadata": {},
   "outputs": [],
   "source": [
    "def plot_df(df):\n",
    "    import plotly.graph_objects as go\n",
    "    \n",
    "    fig = go.Figure(data=go.Scatter(\n",
    "        x=df['Date'],\n",
    "        y=df['ma'],\n",
    "        mode='lines',\n",
    "        name='Extent'))\n",
    "\n",
    "    fig.update_traces(hovertemplate='Date: %{x}<br>Extent: %{y}')\n",
    "\n",
    "    fig.update_layout(\n",
    "        title='Actual Data',\n",
    "        xaxis_title='Date',\n",
    "        yaxis_title='Extent')\n",
    "\n",
    "    fig.show()"
   ]
  },
  {
   "cell_type": "code",
   "execution_count": 12,
   "id": "0d526482",
   "metadata": {},
   "outputs": [],
   "source": [
    "def df_to_X_y(df, window_size):\n",
    "    import numpy as np\n",
    "    \n",
    "    df_as_np = df.to_numpy()\n",
    "    X = []\n",
    "    y = []\n",
    "    for i in range(len(df_as_np) - window_size):\n",
    "        row = [[a] for a in df_as_np[i:i+window_size]]\n",
    "        X.append(row)\n",
    "        label = df_as_np[i+window_size]\n",
    "        y.append(label)\n",
    "    return np.array(X), np.array(y)"
   ]
  },
  {
   "cell_type": "code",
   "execution_count": 13,
   "id": "39f4cdbd",
   "metadata": {},
   "outputs": [],
   "source": [
    "def training_loss_plot(epochs, loss):\n",
    "    import matplotlib.pyplot as plt\n",
    "    \n",
    "    plt.figure(figsize=(10, 6))\n",
    "    plt.plot(epochs, loss, label='Training Loss', marker='o', linestyle='-')\n",
    "\n",
    "    plt.xlabel('Epochs')\n",
    "    plt.ylabel('Loss')\n",
    "    plt.title('Training Loss over Epochs')\n",
    "    plt.legend()\n",
    "    plt.show()"
   ]
  },
  {
   "cell_type": "code",
   "execution_count": 14,
   "id": "aa73f9d1",
   "metadata": {},
   "outputs": [],
   "source": [
    "def train_val_loss_plot(epochs, training_loss, validation_loss):\n",
    "    import matplotlib.pyplot as plt\n",
    "    \n",
    "    plt.figure(figsize=(15,6))\n",
    "    plt.plot(epochs, training_loss, label='Training Loss', marker='o', linestyle='-')\n",
    "    plt.plot(epochs, validation_loss, label='Validation Loss', marker='s', linestyle='--')\n",
    "\n",
    "    plt.xlabel('Epochs')\n",
    "    plt.ylabel('Loss')\n",
    "    plt.title('Training and Validation Loss over Epochs')\n",
    "    plt.legend()\n",
    "    plt.show()"
   ]
  },
  {
   "cell_type": "code",
   "execution_count": 15,
   "id": "7b3d7aef",
   "metadata": {},
   "outputs": [],
   "source": [
    "def train_vs_actual_plot(train_results):\n",
    "    import plotly.graph_objects as go\n",
    "    \n",
    "    fig = go.Figure()\n",
    "    fig.add_trace(go.Scatter(\n",
    "        x=train_results.index,\n",
    "        y=train_results['Train Predictions'],\n",
    "        mode='lines',\n",
    "        name='Train Predictions',\n",
    "        line=dict(color='blue')\n",
    "        ))\n",
    "    fig.add_trace(go.Scatter(\n",
    "        x=train_results.index,\n",
    "        y=train_results['Actual Extent'],\n",
    "        mode='lines',\n",
    "        name='Actual Extent',\n",
    "        line=dict(color='green')\n",
    "        ))\n",
    "    fig.update_layout(\n",
    "        title='Train Predictions vs Actual Extent',\n",
    "        xaxis_title='Index',\n",
    "        yaxis_title='Value'\n",
    "        )\n",
    "    fig.show()"
   ]
  },
  {
   "cell_type": "code",
   "execution_count": null,
   "id": "a54143e6",
   "metadata": {},
   "outputs": [],
   "source": []
  }
 ],
 "metadata": {
  "kernelspec": {
   "display_name": "Python 3 (ipykernel)",
   "language": "python",
   "name": "python3"
  },
  "language_info": {
   "codemirror_mode": {
    "name": "ipython",
    "version": 3
   },
   "file_extension": ".py",
   "mimetype": "text/x-python",
   "name": "python",
   "nbconvert_exporter": "python",
   "pygments_lexer": "ipython3",
   "version": "3.10.5"
  }
 },
 "nbformat": 4,
 "nbformat_minor": 5
}
