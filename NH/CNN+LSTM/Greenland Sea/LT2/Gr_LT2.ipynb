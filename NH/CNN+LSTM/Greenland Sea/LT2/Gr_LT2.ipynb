{
 "cells": [
  {
   "cell_type": "code",
   "execution_count": 1,
   "id": "0ebbc428",
   "metadata": {},
   "outputs": [],
   "source": [
    "import numpy as np\n",
    "import pandas as pd\n",
    "import matplotlib.pyplot as plt\n",
    "\n",
    "from sklearn.preprocessing import MinMaxScaler\n",
    "from sklearn.metrics import mean_squared_error, mean_absolute_error\n",
    "\n",
    "from keras.models import Sequential\n",
    "from keras.layers import InputLayer, LSTM, Dense, Dropout, Conv1D, MaxPooling1D, BatchNormalization\n",
    "from keras.optimizers import Adam\n",
    "from keras.losses import MeanSquaredError\n",
    "from keras.metrics import RootMeanSquaredError\n",
    "from keras.constraints import MaxNorm\n",
    "from keras.callbacks import ModelCheckpoint\n",
    "\n",
    "import time"
   ]
  },
  {
   "cell_type": "code",
   "execution_count": 2,
   "id": "a8a52a5a",
   "metadata": {},
   "outputs": [],
   "source": [
    "filepath = 'C:/Users/ss230/Documents/Study/NSIDC/Edited Data/N_Sea_Ice_Index_Regional_Monthly_Data_G02135_v3.0.xlsx'\n",
    "Greenland = pd.read_excel(filepath, sheet_name='Greenland-Extent-km^2')"
   ]
  },
  {
   "cell_type": "code",
   "execution_count": 3,
   "id": "fd8cd9b6",
   "metadata": {},
   "outputs": [],
   "source": [
    "import sys\n",
    "sys.path.append('C:/Users/ss230/Documents/Study/NSIDC/NH/')\n",
    "import Function as fp"
   ]
  },
  {
   "cell_type": "code",
   "execution_count": 4,
   "id": "b0e56c1a",
   "metadata": {},
   "outputs": [
    {
     "data": {
      "text/html": [
       "<div>\n",
       "<style scoped>\n",
       "    .dataframe tbody tr th:only-of-type {\n",
       "        vertical-align: middle;\n",
       "    }\n",
       "\n",
       "    .dataframe tbody tr th {\n",
       "        vertical-align: top;\n",
       "    }\n",
       "\n",
       "    .dataframe thead th {\n",
       "        text-align: right;\n",
       "    }\n",
       "</style>\n",
       "<table border=\"1\" class=\"dataframe\">\n",
       "  <thead>\n",
       "    <tr style=\"text-align: right;\">\n",
       "      <th></th>\n",
       "      <th>Extent</th>\n",
       "      <th>Date</th>\n",
       "    </tr>\n",
       "  </thead>\n",
       "  <tbody>\n",
       "    <tr>\n",
       "      <th>0</th>\n",
       "      <td>1076123.146</td>\n",
       "      <td>1979-01-01</td>\n",
       "    </tr>\n",
       "    <tr>\n",
       "      <th>1</th>\n",
       "      <td>1099248.063</td>\n",
       "      <td>1979-02-01</td>\n",
       "    </tr>\n",
       "    <tr>\n",
       "      <th>2</th>\n",
       "      <td>1036964.901</td>\n",
       "      <td>1979-03-01</td>\n",
       "    </tr>\n",
       "    <tr>\n",
       "      <th>3</th>\n",
       "      <td>958927.937</td>\n",
       "      <td>1979-04-01</td>\n",
       "    </tr>\n",
       "    <tr>\n",
       "      <th>4</th>\n",
       "      <td>823812.694</td>\n",
       "      <td>1979-05-01</td>\n",
       "    </tr>\n",
       "    <tr>\n",
       "      <th>...</th>\n",
       "      <td>...</td>\n",
       "      <td>...</td>\n",
       "    </tr>\n",
       "    <tr>\n",
       "      <th>533</th>\n",
       "      <td>721350.515</td>\n",
       "      <td>2023-06-01</td>\n",
       "    </tr>\n",
       "    <tr>\n",
       "      <th>534</th>\n",
       "      <td>459033.164</td>\n",
       "      <td>2023-07-01</td>\n",
       "    </tr>\n",
       "    <tr>\n",
       "      <th>535</th>\n",
       "      <td>282045.909</td>\n",
       "      <td>2023-08-01</td>\n",
       "    </tr>\n",
       "    <tr>\n",
       "      <th>536</th>\n",
       "      <td>270397.608</td>\n",
       "      <td>2023-09-01</td>\n",
       "    </tr>\n",
       "    <tr>\n",
       "      <th>537</th>\n",
       "      <td>449910.973</td>\n",
       "      <td>2023-10-01</td>\n",
       "    </tr>\n",
       "  </tbody>\n",
       "</table>\n",
       "<p>538 rows × 2 columns</p>\n",
       "</div>"
      ],
      "text/plain": [
       "          Extent       Date\n",
       "0    1076123.146 1979-01-01\n",
       "1    1099248.063 1979-02-01\n",
       "2    1036964.901 1979-03-01\n",
       "3     958927.937 1979-04-01\n",
       "4     823812.694 1979-05-01\n",
       "..           ...        ...\n",
       "533   721350.515 2023-06-01\n",
       "534   459033.164 2023-07-01\n",
       "535   282045.909 2023-08-01\n",
       "536   270397.608 2023-09-01\n",
       "537   449910.973 2023-10-01\n",
       "\n",
       "[538 rows x 2 columns]"
      ]
     },
     "execution_count": 4,
     "metadata": {},
     "output_type": "execute_result"
    }
   ],
   "source": [
    "fp.month_mapping(Greenland)\n",
    "fp.date_time(Greenland)"
   ]
  },
  {
   "cell_type": "code",
   "execution_count": 5,
   "id": "3012f7db",
   "metadata": {},
   "outputs": [],
   "source": [
    "scaler = MinMaxScaler()\n",
    "Greenland['Extent'] = scaler.fit_transform(Greenland['Extent'].values.reshape(-1, 1))"
   ]
  },
  {
   "cell_type": "code",
   "execution_count": 6,
   "id": "b7982c86",
   "metadata": {},
   "outputs": [],
   "source": [
    "def df_to_X_y(df, window_size):\n",
    "    df_as_np = df.to_numpy()\n",
    "    X = []\n",
    "    y = []\n",
    "    lead_time = 2\n",
    "    for i in range(len(df_as_np) - window_size - lead_time + 1):\n",
    "        window_data = df_as_np[i:i+window_size]\n",
    "        row = [[a] for a in window_data]\n",
    "        X.append(row)\n",
    "        label = df_as_np[i+window_size+lead_time-1]  # Adjusted for lead time\n",
    "        y.append(label)\n",
    "    return np.array(X), np.array(y)"
   ]
  },
  {
   "cell_type": "code",
   "execution_count": 7,
   "id": "afa9bd12",
   "metadata": {},
   "outputs": [
    {
     "data": {
      "text/plain": [
       "((525, 12, 1), (525,))"
      ]
     },
     "execution_count": 7,
     "metadata": {},
     "output_type": "execute_result"
    }
   ],
   "source": [
    "extent = Greenland['Extent']\n",
    "W_S=12\n",
    "X,y = df_to_X_y(extent, W_S)\n",
    "X.shape, y.shape"
   ]
  },
  {
   "cell_type": "code",
   "execution_count": 8,
   "id": "91b9387c",
   "metadata": {},
   "outputs": [],
   "source": [
    "X_train, y_train = X[:420], y[:420]\n",
    "X_val, y_val = X[420:472], y[420:472]\n",
    "X_test, y_test = X[472:], y[472:]"
   ]
  },
  {
   "cell_type": "code",
   "execution_count": 9,
   "id": "524ea225",
   "metadata": {},
   "outputs": [],
   "source": [
    "model = Sequential()\n",
    "model.add(Conv1D(filters=64, kernel_size=3, activation='relu', input_shape=(W_S, 1)))\n",
    "model.add(MaxPooling1D(pool_size=2))\n",
    "model.add(LSTM(32, kernel_constraint=MaxNorm(1.0), activation='relu'))\n",
    "model.add(BatchNormalization())\n",
    "model.add(Dense(1, activation='linear'))"
   ]
  },
  {
   "cell_type": "code",
   "execution_count": 10,
   "id": "815ac13d",
   "metadata": {},
   "outputs": [],
   "source": [
    "cp = ModelCheckpoint('Greenland_model_LT2/', save_best_only=True)\n",
    "model.compile(loss=MeanSquaredError(), optimizer=Adam(0.0001), metrics=[RootMeanSquaredError()])"
   ]
  },
  {
   "cell_type": "code",
   "execution_count": 11,
   "id": "1af2a146",
   "metadata": {
    "scrolled": true
   },
   "outputs": [
    {
     "name": "stdout",
     "output_type": "stream",
     "text": [
      "Epoch 1/50\n",
      "51/53 [===========================>..] - ETA: 0s - loss: 0.3025 - root_mean_squared_error: 0.5500"
     ]
    },
    {
     "name": "stderr",
     "output_type": "stream",
     "text": [
      "WARNING:absl:Found untraced functions such as _jit_compiled_convolution_op while saving (showing 1 of 1). These functions will not be directly callable after loading.\n"
     ]
    },
    {
     "name": "stdout",
     "output_type": "stream",
     "text": [
      "INFO:tensorflow:Assets written to: Greenland_model_LT2\\assets\n"
     ]
    },
    {
     "name": "stderr",
     "output_type": "stream",
     "text": [
      "INFO:tensorflow:Assets written to: Greenland_model_LT2\\assets\n"
     ]
    },
    {
     "name": "stdout",
     "output_type": "stream",
     "text": [
      "53/53 [==============================] - 7s 80ms/step - loss: 0.3013 - root_mean_squared_error: 0.5489 - val_loss: 0.1642 - val_root_mean_squared_error: 0.4052\n",
      "Epoch 2/50\n",
      "48/53 [==========================>...] - ETA: 0s - loss: 0.2531 - root_mean_squared_error: 0.5031"
     ]
    },
    {
     "name": "stderr",
     "output_type": "stream",
     "text": [
      "WARNING:absl:Found untraced functions such as _jit_compiled_convolution_op while saving (showing 1 of 1). These functions will not be directly callable after loading.\n"
     ]
    },
    {
     "name": "stdout",
     "output_type": "stream",
     "text": [
      "INFO:tensorflow:Assets written to: Greenland_model_LT2\\assets\n"
     ]
    },
    {
     "name": "stderr",
     "output_type": "stream",
     "text": [
      "INFO:tensorflow:Assets written to: Greenland_model_LT2\\assets\n"
     ]
    },
    {
     "name": "stdout",
     "output_type": "stream",
     "text": [
      "53/53 [==============================] - 3s 63ms/step - loss: 0.2516 - root_mean_squared_error: 0.5016 - val_loss: 0.1332 - val_root_mean_squared_error: 0.3649\n",
      "Epoch 3/50\n",
      "47/53 [=========================>....] - ETA: 0s - loss: 0.2158 - root_mean_squared_error: 0.4645"
     ]
    },
    {
     "name": "stderr",
     "output_type": "stream",
     "text": [
      "WARNING:absl:Found untraced functions such as _jit_compiled_convolution_op while saving (showing 1 of 1). These functions will not be directly callable after loading.\n"
     ]
    },
    {
     "name": "stdout",
     "output_type": "stream",
     "text": [
      "INFO:tensorflow:Assets written to: Greenland_model_LT2\\assets\n"
     ]
    },
    {
     "name": "stderr",
     "output_type": "stream",
     "text": [
      "INFO:tensorflow:Assets written to: Greenland_model_LT2\\assets\n"
     ]
    },
    {
     "name": "stdout",
     "output_type": "stream",
     "text": [
      "53/53 [==============================] - 6s 115ms/step - loss: 0.2137 - root_mean_squared_error: 0.4623 - val_loss: 0.1070 - val_root_mean_squared_error: 0.3271\n",
      "Epoch 4/50\n",
      "51/53 [===========================>..] - ETA: 0s - loss: 0.1753 - root_mean_squared_error: 0.4187"
     ]
    },
    {
     "name": "stderr",
     "output_type": "stream",
     "text": [
      "WARNING:absl:Found untraced functions such as _jit_compiled_convolution_op while saving (showing 1 of 1). These functions will not be directly callable after loading.\n"
     ]
    },
    {
     "name": "stdout",
     "output_type": "stream",
     "text": [
      "INFO:tensorflow:Assets written to: Greenland_model_LT2\\assets\n"
     ]
    },
    {
     "name": "stderr",
     "output_type": "stream",
     "text": [
      "INFO:tensorflow:Assets written to: Greenland_model_LT2\\assets\n"
     ]
    },
    {
     "name": "stdout",
     "output_type": "stream",
     "text": [
      "53/53 [==============================] - 7s 134ms/step - loss: 0.1772 - root_mean_squared_error: 0.4209 - val_loss: 0.0835 - val_root_mean_squared_error: 0.2890\n",
      "Epoch 5/50\n",
      "47/53 [=========================>....] - ETA: 0s - loss: 0.1463 - root_mean_squared_error: 0.3825"
     ]
    },
    {
     "name": "stderr",
     "output_type": "stream",
     "text": [
      "WARNING:absl:Found untraced functions such as _jit_compiled_convolution_op while saving (showing 1 of 1). These functions will not be directly callable after loading.\n"
     ]
    },
    {
     "name": "stdout",
     "output_type": "stream",
     "text": [
      "INFO:tensorflow:Assets written to: Greenland_model_LT2\\assets\n"
     ]
    },
    {
     "name": "stderr",
     "output_type": "stream",
     "text": [
      "INFO:tensorflow:Assets written to: Greenland_model_LT2\\assets\n"
     ]
    },
    {
     "name": "stdout",
     "output_type": "stream",
     "text": [
      "53/53 [==============================] - 3s 57ms/step - loss: 0.1457 - root_mean_squared_error: 0.3817 - val_loss: 0.0624 - val_root_mean_squared_error: 0.2498\n",
      "Epoch 6/50\n",
      "44/53 [=======================>......] - ETA: 0s - loss: 0.1235 - root_mean_squared_error: 0.3514"
     ]
    },
    {
     "name": "stderr",
     "output_type": "stream",
     "text": [
      "WARNING:absl:Found untraced functions such as _jit_compiled_convolution_op while saving (showing 1 of 1). These functions will not be directly callable after loading.\n"
     ]
    },
    {
     "name": "stdout",
     "output_type": "stream",
     "text": [
      "INFO:tensorflow:Assets written to: Greenland_model_LT2\\assets\n"
     ]
    },
    {
     "name": "stderr",
     "output_type": "stream",
     "text": [
      "INFO:tensorflow:Assets written to: Greenland_model_LT2\\assets\n"
     ]
    },
    {
     "name": "stdout",
     "output_type": "stream",
     "text": [
      "53/53 [==============================] - 4s 72ms/step - loss: 0.1176 - root_mean_squared_error: 0.3429 - val_loss: 0.0506 - val_root_mean_squared_error: 0.2248\n",
      "Epoch 7/50\n",
      "53/53 [==============================] - ETA: 0s - loss: 0.0927 - root_mean_squared_error: 0.3044"
     ]
    },
    {
     "name": "stderr",
     "output_type": "stream",
     "text": [
      "WARNING:absl:Found untraced functions such as _jit_compiled_convolution_op while saving (showing 1 of 1). These functions will not be directly callable after loading.\n"
     ]
    },
    {
     "name": "stdout",
     "output_type": "stream",
     "text": [
      "INFO:tensorflow:Assets written to: Greenland_model_LT2\\assets\n"
     ]
    },
    {
     "name": "stderr",
     "output_type": "stream",
     "text": [
      "INFO:tensorflow:Assets written to: Greenland_model_LT2\\assets\n"
     ]
    },
    {
     "name": "stdout",
     "output_type": "stream",
     "text": [
      "53/53 [==============================] - 8s 157ms/step - loss: 0.0927 - root_mean_squared_error: 0.3044 - val_loss: 0.0403 - val_root_mean_squared_error: 0.2007\n",
      "Epoch 8/50\n",
      "43/53 [=======================>......] - ETA: 0s - loss: 0.0740 - root_mean_squared_error: 0.2721"
     ]
    },
    {
     "name": "stderr",
     "output_type": "stream",
     "text": [
      "WARNING:absl:Found untraced functions such as _jit_compiled_convolution_op while saving (showing 1 of 1). These functions will not be directly callable after loading.\n"
     ]
    },
    {
     "name": "stdout",
     "output_type": "stream",
     "text": [
      "INFO:tensorflow:Assets written to: Greenland_model_LT2\\assets\n"
     ]
    },
    {
     "name": "stderr",
     "output_type": "stream",
     "text": [
      "INFO:tensorflow:Assets written to: Greenland_model_LT2\\assets\n"
     ]
    },
    {
     "name": "stdout",
     "output_type": "stream",
     "text": [
      "53/53 [==============================] - 4s 73ms/step - loss: 0.0721 - root_mean_squared_error: 0.2685 - val_loss: 0.0314 - val_root_mean_squared_error: 0.1772\n",
      "Epoch 9/50\n",
      "48/53 [==========================>...] - ETA: 0s - loss: 0.0574 - root_mean_squared_error: 0.2395"
     ]
    },
    {
     "name": "stderr",
     "output_type": "stream",
     "text": [
      "WARNING:absl:Found untraced functions such as _jit_compiled_convolution_op while saving (showing 1 of 1). These functions will not be directly callable after loading.\n"
     ]
    },
    {
     "name": "stdout",
     "output_type": "stream",
     "text": [
      "INFO:tensorflow:Assets written to: Greenland_model_LT2\\assets\n"
     ]
    },
    {
     "name": "stderr",
     "output_type": "stream",
     "text": [
      "INFO:tensorflow:Assets written to: Greenland_model_LT2\\assets\n"
     ]
    },
    {
     "name": "stdout",
     "output_type": "stream",
     "text": [
      "53/53 [==============================] - 3s 67ms/step - loss: 0.0559 - root_mean_squared_error: 0.2364 - val_loss: 0.0256 - val_root_mean_squared_error: 0.1600\n",
      "Epoch 10/50\n",
      "44/53 [=======================>......] - ETA: 0s - loss: 0.0454 - root_mean_squared_error: 0.2132"
     ]
    },
    {
     "name": "stderr",
     "output_type": "stream",
     "text": [
      "WARNING:absl:Found untraced functions such as _jit_compiled_convolution_op while saving (showing 1 of 1). These functions will not be directly callable after loading.\n"
     ]
    },
    {
     "name": "stdout",
     "output_type": "stream",
     "text": [
      "INFO:tensorflow:Assets written to: Greenland_model_LT2\\assets\n"
     ]
    },
    {
     "name": "stderr",
     "output_type": "stream",
     "text": [
      "INFO:tensorflow:Assets written to: Greenland_model_LT2\\assets\n"
     ]
    },
    {
     "name": "stdout",
     "output_type": "stream",
     "text": [
      "53/53 [==============================] - 3s 57ms/step - loss: 0.0419 - root_mean_squared_error: 0.2047 - val_loss: 0.0202 - val_root_mean_squared_error: 0.1420\n",
      "Epoch 11/50\n",
      "51/53 [===========================>..] - ETA: 0s - loss: 0.0340 - root_mean_squared_error: 0.1843"
     ]
    },
    {
     "name": "stderr",
     "output_type": "stream",
     "text": [
      "WARNING:absl:Found untraced functions such as _jit_compiled_convolution_op while saving (showing 1 of 1). These functions will not be directly callable after loading.\n"
     ]
    },
    {
     "name": "stdout",
     "output_type": "stream",
     "text": [
      "INFO:tensorflow:Assets written to: Greenland_model_LT2\\assets\n"
     ]
    },
    {
     "name": "stderr",
     "output_type": "stream",
     "text": [
      "INFO:tensorflow:Assets written to: Greenland_model_LT2\\assets\n"
     ]
    },
    {
     "name": "stdout",
     "output_type": "stream",
     "text": [
      "53/53 [==============================] - 3s 63ms/step - loss: 0.0334 - root_mean_squared_error: 0.1828 - val_loss: 0.0178 - val_root_mean_squared_error: 0.1336\n",
      "Epoch 12/50\n",
      "47/53 [=========================>....] - ETA: 0s - loss: 0.0254 - root_mean_squared_error: 0.1594"
     ]
    },
    {
     "name": "stderr",
     "output_type": "stream",
     "text": [
      "WARNING:absl:Found untraced functions such as _jit_compiled_convolution_op while saving (showing 1 of 1). These functions will not be directly callable after loading.\n"
     ]
    },
    {
     "name": "stdout",
     "output_type": "stream",
     "text": [
      "INFO:tensorflow:Assets written to: Greenland_model_LT2\\assets\n"
     ]
    },
    {
     "name": "stderr",
     "output_type": "stream",
     "text": [
      "INFO:tensorflow:Assets written to: Greenland_model_LT2\\assets\n"
     ]
    },
    {
     "name": "stdout",
     "output_type": "stream",
     "text": [
      "53/53 [==============================] - 3s 66ms/step - loss: 0.0254 - root_mean_squared_error: 0.1595 - val_loss: 0.0126 - val_root_mean_squared_error: 0.1121\n",
      "Epoch 13/50\n",
      "52/53 [============================>.] - ETA: 0s - loss: 0.0212 - root_mean_squared_error: 0.1457"
     ]
    },
    {
     "name": "stderr",
     "output_type": "stream",
     "text": [
      "WARNING:absl:Found untraced functions such as _jit_compiled_convolution_op while saving (showing 1 of 1). These functions will not be directly callable after loading.\n"
     ]
    },
    {
     "name": "stdout",
     "output_type": "stream",
     "text": [
      "INFO:tensorflow:Assets written to: Greenland_model_LT2\\assets\n"
     ]
    },
    {
     "name": "stderr",
     "output_type": "stream",
     "text": [
      "INFO:tensorflow:Assets written to: Greenland_model_LT2\\assets\n"
     ]
    },
    {
     "name": "stdout",
     "output_type": "stream",
     "text": [
      "53/53 [==============================] - 3s 60ms/step - loss: 0.0215 - root_mean_squared_error: 0.1465 - val_loss: 0.0112 - val_root_mean_squared_error: 0.1057\n",
      "Epoch 14/50\n",
      "45/53 [========================>.....] - ETA: 0s - loss: 0.0181 - root_mean_squared_error: 0.1344"
     ]
    },
    {
     "name": "stderr",
     "output_type": "stream",
     "text": [
      "WARNING:absl:Found untraced functions such as _jit_compiled_convolution_op while saving (showing 1 of 1). These functions will not be directly callable after loading.\n"
     ]
    },
    {
     "name": "stdout",
     "output_type": "stream",
     "text": [
      "INFO:tensorflow:Assets written to: Greenland_model_LT2\\assets\n"
     ]
    },
    {
     "name": "stderr",
     "output_type": "stream",
     "text": [
      "INFO:tensorflow:Assets written to: Greenland_model_LT2\\assets\n"
     ]
    },
    {
     "name": "stdout",
     "output_type": "stream",
     "text": [
      "53/53 [==============================] - 3s 57ms/step - loss: 0.0167 - root_mean_squared_error: 0.1291 - val_loss: 0.0110 - val_root_mean_squared_error: 0.1047\n",
      "Epoch 15/50\n",
      "50/53 [===========================>..] - ETA: 0s - loss: 0.0129 - root_mean_squared_error: 0.1137"
     ]
    },
    {
     "name": "stderr",
     "output_type": "stream",
     "text": [
      "WARNING:absl:Found untraced functions such as _jit_compiled_convolution_op while saving (showing 1 of 1). These functions will not be directly callable after loading.\n"
     ]
    },
    {
     "name": "stdout",
     "output_type": "stream",
     "text": [
      "INFO:tensorflow:Assets written to: Greenland_model_LT2\\assets\n"
     ]
    },
    {
     "name": "stderr",
     "output_type": "stream",
     "text": [
      "INFO:tensorflow:Assets written to: Greenland_model_LT2\\assets\n"
     ]
    },
    {
     "name": "stdout",
     "output_type": "stream",
     "text": [
      "53/53 [==============================] - 3s 65ms/step - loss: 0.0133 - root_mean_squared_error: 0.1155 - val_loss: 0.0089 - val_root_mean_squared_error: 0.0942\n",
      "Epoch 16/50\n",
      "39/53 [=====================>........] - ETA: 0s - loss: 0.0143 - root_mean_squared_error: 0.1198"
     ]
    },
    {
     "name": "stderr",
     "output_type": "stream",
     "text": [
      "WARNING:absl:Found untraced functions such as _jit_compiled_convolution_op while saving (showing 1 of 1). These functions will not be directly callable after loading.\n"
     ]
    },
    {
     "name": "stdout",
     "output_type": "stream",
     "text": [
      "INFO:tensorflow:Assets written to: Greenland_model_LT2\\assets\n"
     ]
    },
    {
     "name": "stderr",
     "output_type": "stream",
     "text": [
      "INFO:tensorflow:Assets written to: Greenland_model_LT2\\assets\n"
     ]
    },
    {
     "name": "stdout",
     "output_type": "stream",
     "text": [
      "53/53 [==============================] - 3s 63ms/step - loss: 0.0135 - root_mean_squared_error: 0.1163 - val_loss: 0.0075 - val_root_mean_squared_error: 0.0865\n",
      "Epoch 17/50\n",
      "46/53 [=========================>....] - ETA: 0s - loss: 0.0119 - root_mean_squared_error: 0.1093"
     ]
    },
    {
     "name": "stderr",
     "output_type": "stream",
     "text": [
      "WARNING:absl:Found untraced functions such as _jit_compiled_convolution_op while saving (showing 1 of 1). These functions will not be directly callable after loading.\n"
     ]
    },
    {
     "name": "stdout",
     "output_type": "stream",
     "text": [
      "INFO:tensorflow:Assets written to: Greenland_model_LT2\\assets\n"
     ]
    },
    {
     "name": "stderr",
     "output_type": "stream",
     "text": [
      "INFO:tensorflow:Assets written to: Greenland_model_LT2\\assets\n"
     ]
    },
    {
     "name": "stdout",
     "output_type": "stream",
     "text": [
      "53/53 [==============================] - 3s 53ms/step - loss: 0.0123 - root_mean_squared_error: 0.1110 - val_loss: 0.0073 - val_root_mean_squared_error: 0.0853\n",
      "Epoch 18/50\n",
      "53/53 [==============================] - 0s 6ms/step - loss: 0.0118 - root_mean_squared_error: 0.1086 - val_loss: 0.0103 - val_root_mean_squared_error: 0.1014\n",
      "Epoch 19/50\n",
      "46/53 [=========================>....] - ETA: 0s - loss: 0.0108 - root_mean_squared_error: 0.1040"
     ]
    },
    {
     "name": "stderr",
     "output_type": "stream",
     "text": [
      "WARNING:absl:Found untraced functions such as _jit_compiled_convolution_op while saving (showing 1 of 1). These functions will not be directly callable after loading.\n"
     ]
    },
    {
     "name": "stdout",
     "output_type": "stream",
     "text": [
      "INFO:tensorflow:Assets written to: Greenland_model_LT2\\assets\n"
     ]
    },
    {
     "name": "stderr",
     "output_type": "stream",
     "text": [
      "INFO:tensorflow:Assets written to: Greenland_model_LT2\\assets\n"
     ]
    },
    {
     "name": "stdout",
     "output_type": "stream",
     "text": [
      "53/53 [==============================] - 3s 58ms/step - loss: 0.0108 - root_mean_squared_error: 0.1037 - val_loss: 0.0067 - val_root_mean_squared_error: 0.0817\n",
      "Epoch 20/50\n",
      "53/53 [==============================] - 0s 5ms/step - loss: 0.0106 - root_mean_squared_error: 0.1031 - val_loss: 0.0069 - val_root_mean_squared_error: 0.0829\n",
      "Epoch 21/50\n",
      "53/53 [==============================] - 0s 5ms/step - loss: 0.0117 - root_mean_squared_error: 0.1080 - val_loss: 0.0089 - val_root_mean_squared_error: 0.0942\n",
      "Epoch 22/50\n",
      "53/53 [==============================] - 0s 5ms/step - loss: 0.0113 - root_mean_squared_error: 0.1064 - val_loss: 0.0107 - val_root_mean_squared_error: 0.1034\n",
      "Epoch 23/50\n",
      "53/53 [==============================] - 0s 5ms/step - loss: 0.0122 - root_mean_squared_error: 0.1104 - val_loss: 0.0092 - val_root_mean_squared_error: 0.0958\n",
      "Epoch 24/50\n",
      "53/53 [==============================] - ETA: 0s - loss: 0.0104 - root_mean_squared_error: 0.1020"
     ]
    },
    {
     "name": "stderr",
     "output_type": "stream",
     "text": [
      "WARNING:absl:Found untraced functions such as _jit_compiled_convolution_op while saving (showing 1 of 1). These functions will not be directly callable after loading.\n"
     ]
    },
    {
     "name": "stdout",
     "output_type": "stream",
     "text": [
      "INFO:tensorflow:Assets written to: Greenland_model_LT2\\assets\n"
     ]
    },
    {
     "name": "stderr",
     "output_type": "stream",
     "text": [
      "INFO:tensorflow:Assets written to: Greenland_model_LT2\\assets\n"
     ]
    },
    {
     "name": "stdout",
     "output_type": "stream",
     "text": [
      "53/53 [==============================] - 3s 56ms/step - loss: 0.0104 - root_mean_squared_error: 0.1020 - val_loss: 0.0066 - val_root_mean_squared_error: 0.0809\n",
      "Epoch 25/50\n",
      "53/53 [==============================] - 0s 6ms/step - loss: 0.0105 - root_mean_squared_error: 0.1024 - val_loss: 0.0076 - val_root_mean_squared_error: 0.0873\n",
      "Epoch 26/50\n",
      "53/53 [==============================] - 0s 6ms/step - loss: 0.0107 - root_mean_squared_error: 0.1033 - val_loss: 0.0076 - val_root_mean_squared_error: 0.0872\n",
      "Epoch 27/50\n",
      "46/53 [=========================>....] - ETA: 0s - loss: 0.0115 - root_mean_squared_error: 0.1072"
     ]
    },
    {
     "name": "stderr",
     "output_type": "stream",
     "text": [
      "WARNING:absl:Found untraced functions such as _jit_compiled_convolution_op while saving (showing 1 of 1). These functions will not be directly callable after loading.\n"
     ]
    },
    {
     "name": "stdout",
     "output_type": "stream",
     "text": [
      "INFO:tensorflow:Assets written to: Greenland_model_LT2\\assets\n"
     ]
    },
    {
     "name": "stderr",
     "output_type": "stream",
     "text": [
      "INFO:tensorflow:Assets written to: Greenland_model_LT2\\assets\n"
     ]
    },
    {
     "name": "stdout",
     "output_type": "stream",
     "text": [
      "53/53 [==============================] - 3s 57ms/step - loss: 0.0111 - root_mean_squared_error: 0.1052 - val_loss: 0.0060 - val_root_mean_squared_error: 0.0776\n",
      "Epoch 28/50\n",
      "45/53 [========================>.....] - ETA: 0s - loss: 0.0128 - root_mean_squared_error: 0.1129"
     ]
    },
    {
     "name": "stderr",
     "output_type": "stream",
     "text": [
      "WARNING:absl:Found untraced functions such as _jit_compiled_convolution_op while saving (showing 1 of 1). These functions will not be directly callable after loading.\n"
     ]
    },
    {
     "name": "stdout",
     "output_type": "stream",
     "text": [
      "INFO:tensorflow:Assets written to: Greenland_model_LT2\\assets\n"
     ]
    },
    {
     "name": "stderr",
     "output_type": "stream",
     "text": [
      "INFO:tensorflow:Assets written to: Greenland_model_LT2\\assets\n"
     ]
    },
    {
     "name": "stdout",
     "output_type": "stream",
     "text": [
      "53/53 [==============================] - 3s 59ms/step - loss: 0.0120 - root_mean_squared_error: 0.1095 - val_loss: 0.0060 - val_root_mean_squared_error: 0.0775\n",
      "Epoch 29/50\n",
      "53/53 [==============================] - 0s 6ms/step - loss: 0.0113 - root_mean_squared_error: 0.1064 - val_loss: 0.0098 - val_root_mean_squared_error: 0.0990\n",
      "Epoch 30/50\n",
      "53/53 [==============================] - 0s 5ms/step - loss: 0.0121 - root_mean_squared_error: 0.1100 - val_loss: 0.0071 - val_root_mean_squared_error: 0.0844\n",
      "Epoch 31/50\n",
      "53/53 [==============================] - 0s 5ms/step - loss: 0.0106 - root_mean_squared_error: 0.1028 - val_loss: 0.0101 - val_root_mean_squared_error: 0.1004\n",
      "Epoch 32/50\n",
      "53/53 [==============================] - 0s 5ms/step - loss: 0.0101 - root_mean_squared_error: 0.1005 - val_loss: 0.0068 - val_root_mean_squared_error: 0.0827\n",
      "Epoch 33/50\n",
      "53/53 [==============================] - 0s 5ms/step - loss: 0.0115 - root_mean_squared_error: 0.1074 - val_loss: 0.0069 - val_root_mean_squared_error: 0.0833\n",
      "Epoch 34/50\n",
      "53/53 [==============================] - 0s 5ms/step - loss: 0.0125 - root_mean_squared_error: 0.1116 - val_loss: 0.0078 - val_root_mean_squared_error: 0.0883\n",
      "Epoch 35/50\n",
      "53/53 [==============================] - 0s 5ms/step - loss: 0.0103 - root_mean_squared_error: 0.1016 - val_loss: 0.0070 - val_root_mean_squared_error: 0.0838\n",
      "Epoch 36/50\n",
      "53/53 [==============================] - 0s 6ms/step - loss: 0.0105 - root_mean_squared_error: 0.1023 - val_loss: 0.0066 - val_root_mean_squared_error: 0.0814\n",
      "Epoch 37/50\n",
      "53/53 [==============================] - 0s 6ms/step - loss: 0.0108 - root_mean_squared_error: 0.1038 - val_loss: 0.0077 - val_root_mean_squared_error: 0.0879\n",
      "Epoch 38/50\n",
      "53/53 [==============================] - 0s 8ms/step - loss: 0.0115 - root_mean_squared_error: 0.1071 - val_loss: 0.0073 - val_root_mean_squared_error: 0.0852\n",
      "Epoch 39/50\n",
      "53/53 [==============================] - 0s 6ms/step - loss: 0.0111 - root_mean_squared_error: 0.1056 - val_loss: 0.0067 - val_root_mean_squared_error: 0.0821\n",
      "Epoch 40/50\n",
      "53/53 [==============================] - 0s 6ms/step - loss: 0.0115 - root_mean_squared_error: 0.1071 - val_loss: 0.0104 - val_root_mean_squared_error: 0.1020\n",
      "Epoch 41/50\n",
      "45/53 [========================>.....] - ETA: 0s - loss: 0.0096 - root_mean_squared_error: 0.0980"
     ]
    },
    {
     "name": "stderr",
     "output_type": "stream",
     "text": [
      "WARNING:absl:Found untraced functions such as _jit_compiled_convolution_op while saving (showing 1 of 1). These functions will not be directly callable after loading.\n"
     ]
    },
    {
     "name": "stdout",
     "output_type": "stream",
     "text": [
      "INFO:tensorflow:Assets written to: Greenland_model_LT2\\assets\n"
     ]
    },
    {
     "name": "stderr",
     "output_type": "stream",
     "text": [
      "INFO:tensorflow:Assets written to: Greenland_model_LT2\\assets\n"
     ]
    },
    {
     "name": "stdout",
     "output_type": "stream",
     "text": [
      "53/53 [==============================] - 3s 64ms/step - loss: 0.0096 - root_mean_squared_error: 0.0977 - val_loss: 0.0060 - val_root_mean_squared_error: 0.0775\n",
      "Epoch 42/50\n",
      "53/53 [==============================] - 0s 6ms/step - loss: 0.0113 - root_mean_squared_error: 0.1061 - val_loss: 0.0093 - val_root_mean_squared_error: 0.0965\n",
      "Epoch 43/50\n",
      "53/53 [==============================] - 0s 5ms/step - loss: 0.0108 - root_mean_squared_error: 0.1038 - val_loss: 0.0095 - val_root_mean_squared_error: 0.0975\n",
      "Epoch 44/50\n",
      "53/53 [==============================] - 0s 5ms/step - loss: 0.0112 - root_mean_squared_error: 0.1058 - val_loss: 0.0172 - val_root_mean_squared_error: 0.1311\n",
      "Epoch 45/50\n",
      "53/53 [==============================] - 0s 5ms/step - loss: 0.0108 - root_mean_squared_error: 0.1042 - val_loss: 0.0072 - val_root_mean_squared_error: 0.0850\n",
      "Epoch 46/50\n",
      "53/53 [==============================] - 0s 5ms/step - loss: 0.0111 - root_mean_squared_error: 0.1054 - val_loss: 0.0060 - val_root_mean_squared_error: 0.0777\n",
      "Epoch 47/50\n",
      "53/53 [==============================] - 0s 5ms/step - loss: 0.0104 - root_mean_squared_error: 0.1019 - val_loss: 0.0199 - val_root_mean_squared_error: 0.1410\n",
      "Epoch 48/50\n",
      "53/53 [==============================] - 0s 5ms/step - loss: 0.0102 - root_mean_squared_error: 0.1008 - val_loss: 0.0099 - val_root_mean_squared_error: 0.0995\n",
      "Epoch 49/50\n",
      "53/53 [==============================] - 0s 5ms/step - loss: 0.0114 - root_mean_squared_error: 0.1070 - val_loss: 0.0090 - val_root_mean_squared_error: 0.0949\n",
      "Epoch 50/50\n",
      "39/53 [=====================>........] - ETA: 0s - loss: 0.0119 - root_mean_squared_error: 0.1091"
     ]
    },
    {
     "name": "stderr",
     "output_type": "stream",
     "text": [
      "WARNING:absl:Found untraced functions such as _jit_compiled_convolution_op while saving (showing 1 of 1). These functions will not be directly callable after loading.\n"
     ]
    },
    {
     "name": "stdout",
     "output_type": "stream",
     "text": [
      "INFO:tensorflow:Assets written to: Greenland_model_LT2\\assets\n"
     ]
    },
    {
     "name": "stderr",
     "output_type": "stream",
     "text": [
      "INFO:tensorflow:Assets written to: Greenland_model_LT2\\assets\n"
     ]
    },
    {
     "name": "stdout",
     "output_type": "stream",
     "text": [
      "\b\b\b\b\b\b\b\b\b\b\b\b\b\b\b\b\b\b\b\b\b\b\b\b\b\b\b\b\b\b\b\b\b\b\b\b\b\b\b\b\b\b\b\b\b\b\b\b\b\b\b\b\b\b\b\b\b\b\b\b\b\b\b\b\b\b\b\b\b\b\b\b\b\b\b\b\b\b\b\b\b\b\b\b\b\b\b\b\b\b\b\b\b\b\b\b\b\r",
      "53/53 [==============================] - 4s 68ms/step - loss: 0.0125 - root_mean_squared_error: 0.1116 - val_loss: 0.0060 - val_root_mean_squared_error: 0.0773\n"
     ]
    }
   ],
   "source": [
    "stime = time.time()\n",
    "history = model.fit(X_train, y_train, validation_data=(X_val, y_val), epochs=50, batch_size=8, callbacks=[cp])\n",
    "etime = time.time()"
   ]
  },
  {
   "cell_type": "code",
   "execution_count": 12,
   "id": "1383aef7",
   "metadata": {},
   "outputs": [
    {
     "name": "stdout",
     "output_type": "stream",
     "text": [
      "1.6232917706171672 minutes\n"
     ]
    }
   ],
   "source": [
    "time = (etime - stime)/60\n",
    "print(f'{time} minutes')"
   ]
  },
  {
   "cell_type": "code",
   "execution_count": 13,
   "id": "7da1a871",
   "metadata": {},
   "outputs": [],
   "source": [
    "loss = history.history['loss']\n",
    "epochs = list(range(1, len(loss) + 1))"
   ]
  },
  {
   "cell_type": "code",
   "execution_count": 14,
   "id": "66e69f36",
   "metadata": {},
   "outputs": [
    {
     "data": {
      "image/png": "[encoded data removed]",
      "text/plain": [
       "<Figure size 720x432 with 1 Axes>"
      ]
     },
     "metadata": {
      "needs_background": "light"
     },
     "output_type": "display_data"
    }
   ],
   "source": [
    "plt.figure(figsize=(10, 6))\n",
    "plt.plot(epochs, loss, label='Training Loss', marker='o', linestyle='-')\n",
    "\n",
    "plt.xlabel('Epochs')\n",
    "plt.ylabel('Loss')\n",
    "plt.title('Training Loss over Epochs')\n",
    "plt.legend()\n",
    "plt.show()"
   ]
  },
  {
   "cell_type": "code",
   "execution_count": 15,
   "id": "fcd76eb0",
   "metadata": {},
   "outputs": [
    {
     "data": {
      "image/png": "[encoded data removed]",
      "text/plain": [
       "<Figure size 1080x432 with 1 Axes>"
      ]
     },
     "metadata": {
      "needs_background": "light"
     },
     "output_type": "display_data"
    }
   ],
   "source": [
    "training_loss = history.history['loss']\n",
    "validation_loss = history.history['val_loss']\n",
    "epochs = range(1, len(training_loss) + 1)\n",
    "\n",
    "plt.figure(figsize=(15,6))\n",
    "plt.plot(epochs, training_loss, label='Training Loss', marker='o', linestyle='-')\n",
    "plt.plot(epochs, validation_loss, label='Validation Loss', marker='s', linestyle='--')\n",
    "\n",
    "plt.xlabel('Epochs')\n",
    "plt.ylabel('Loss')\n",
    "plt.title('Training and Validation Loss over Epochs')\n",
    "plt.legend()\n",
    "plt.show()"
   ]
  },
  {
   "cell_type": "code",
   "execution_count": 16,
   "id": "5c1a976a",
   "metadata": {},
   "outputs": [],
   "source": [
    "from tensorflow.keras.models import load_model\n",
    "model1 = load_model('Greenland_model_LT2/')"
   ]
  },
  {
   "cell_type": "code",
   "execution_count": 17,
   "id": "24a4b2a5",
   "metadata": {},
   "outputs": [
    {
     "name": "stdout",
     "output_type": "stream",
     "text": [
      "2/2 [==============================] - 0s 4ms/step\n"
     ]
    }
   ],
   "source": [
    "test_predictions = model1.predict(X_test)"
   ]
  },
  {
   "cell_type": "code",
   "execution_count": 18,
   "id": "f4a67e8c",
   "metadata": {},
   "outputs": [
    {
     "name": "stdout",
     "output_type": "stream",
     "text": [
      "RMSE : 0.09384763067537806\n",
      "MAE : 0.07808535077345435\n"
     ]
    }
   ],
   "source": [
    "mse = mean_squared_error(y_test, test_predictions)\n",
    "print('RMSE :', np.sqrt(mse))\n",
    "\n",
    "mae = mean_absolute_error(y_test, test_predictions)\n",
    "print('MAE :', mae)"
   ]
  },
  {
   "cell_type": "code",
   "execution_count": 19,
   "id": "cff28ea5",
   "metadata": {},
   "outputs": [],
   "source": [
    "test_predictions = scaler.inverse_transform(test_predictions)\n",
    "test_original = scaler.inverse_transform(y_test.reshape(-1,1))"
   ]
  },
  {
   "cell_type": "code",
   "execution_count": 20,
   "id": "e345b352",
   "metadata": {
    "scrolled": true
   },
   "outputs": [
    {
     "data": {
      "text/html": [
       "<div>\n",
       "<style scoped>\n",
       "    .dataframe tbody tr th:only-of-type {\n",
       "        vertical-align: middle;\n",
       "    }\n",
       "\n",
       "    .dataframe tbody tr th {\n",
       "        vertical-align: top;\n",
       "    }\n",
       "\n",
       "    .dataframe thead th {\n",
       "        text-align: right;\n",
       "    }\n",
       "</style>\n",
       "<table border=\"1\" class=\"dataframe\">\n",
       "  <thead>\n",
       "    <tr style=\"text-align: right;\">\n",
       "      <th></th>\n",
       "      <th>Train Predictions</th>\n",
       "      <th>Actual Extent</th>\n",
       "    </tr>\n",
       "  </thead>\n",
       "  <tbody>\n",
       "    <tr>\n",
       "      <th>0</th>\n",
       "      <td>444769.312500</td>\n",
       "      <td>604702.636</td>\n",
       "    </tr>\n",
       "    <tr>\n",
       "      <th>1</th>\n",
       "      <td>312451.906250</td>\n",
       "      <td>436530.907</td>\n",
       "    </tr>\n",
       "    <tr>\n",
       "      <th>2</th>\n",
       "      <td>210690.015625</td>\n",
       "      <td>283162.646</td>\n",
       "    </tr>\n",
       "    <tr>\n",
       "      <th>3</th>\n",
       "      <td>159733.000000</td>\n",
       "      <td>212475.431</td>\n",
       "    </tr>\n",
       "    <tr>\n",
       "      <th>4</th>\n",
       "      <td>305760.312500</td>\n",
       "      <td>386546.857</td>\n",
       "    </tr>\n",
       "    <tr>\n",
       "      <th>5</th>\n",
       "      <td>438249.625000</td>\n",
       "      <td>547183.986</td>\n",
       "    </tr>\n",
       "    <tr>\n",
       "      <th>6</th>\n",
       "      <td>538936.750000</td>\n",
       "      <td>584596.262</td>\n",
       "    </tr>\n",
       "    <tr>\n",
       "      <th>7</th>\n",
       "      <td>635738.375000</td>\n",
       "      <td>584830.109</td>\n",
       "    </tr>\n",
       "    <tr>\n",
       "      <th>8</th>\n",
       "      <td>616468.187500</td>\n",
       "      <td>641562.292</td>\n",
       "    </tr>\n",
       "    <tr>\n",
       "      <th>9</th>\n",
       "      <td>631098.875000</td>\n",
       "      <td>734946.437</td>\n",
       "    </tr>\n",
       "    <tr>\n",
       "      <th>10</th>\n",
       "      <td>610379.000000</td>\n",
       "      <td>777596.225</td>\n",
       "    </tr>\n",
       "    <tr>\n",
       "      <th>11</th>\n",
       "      <td>617657.750000</td>\n",
       "      <td>687087.673</td>\n",
       "    </tr>\n",
       "    <tr>\n",
       "      <th>12</th>\n",
       "      <td>578353.812500</td>\n",
       "      <td>622337.816</td>\n",
       "    </tr>\n",
       "    <tr>\n",
       "      <th>13</th>\n",
       "      <td>404550.437500</td>\n",
       "      <td>467232.074</td>\n",
       "    </tr>\n",
       "    <tr>\n",
       "      <th>14</th>\n",
       "      <td>283100.062500</td>\n",
       "      <td>297495.641</td>\n",
       "    </tr>\n",
       "    <tr>\n",
       "      <th>15</th>\n",
       "      <td>213307.109375</td>\n",
       "      <td>268909.854</td>\n",
       "    </tr>\n",
       "    <tr>\n",
       "      <th>16</th>\n",
       "      <td>329269.187500</td>\n",
       "      <td>408072.791</td>\n",
       "    </tr>\n",
       "    <tr>\n",
       "      <th>17</th>\n",
       "      <td>489046.468750</td>\n",
       "      <td>552314.148</td>\n",
       "    </tr>\n",
       "    <tr>\n",
       "      <th>18</th>\n",
       "      <td>571235.687500</td>\n",
       "      <td>651062.408</td>\n",
       "    </tr>\n",
       "    <tr>\n",
       "      <th>19</th>\n",
       "      <td>645052.312500</td>\n",
       "      <td>695022.674</td>\n",
       "    </tr>\n",
       "    <tr>\n",
       "      <th>20</th>\n",
       "      <td>667024.187500</td>\n",
       "      <td>670974.305</td>\n",
       "    </tr>\n",
       "    <tr>\n",
       "      <th>21</th>\n",
       "      <td>701080.687500</td>\n",
       "      <td>710035.543</td>\n",
       "    </tr>\n",
       "    <tr>\n",
       "      <th>22</th>\n",
       "      <td>656869.437500</td>\n",
       "      <td>699672.538</td>\n",
       "    </tr>\n",
       "    <tr>\n",
       "      <th>23</th>\n",
       "      <td>602613.625000</td>\n",
       "      <td>730897.021</td>\n",
       "    </tr>\n",
       "    <tr>\n",
       "      <th>24</th>\n",
       "      <td>539779.125000</td>\n",
       "      <td>588598.988</td>\n",
       "    </tr>\n",
       "    <tr>\n",
       "      <th>25</th>\n",
       "      <td>458545.968750</td>\n",
       "      <td>281754.041</td>\n",
       "    </tr>\n",
       "    <tr>\n",
       "      <th>26</th>\n",
       "      <td>260425.718750</td>\n",
       "      <td>117830.266</td>\n",
       "    </tr>\n",
       "    <tr>\n",
       "      <th>27</th>\n",
       "      <td>147934.125000</td>\n",
       "      <td>81838.250</td>\n",
       "    </tr>\n",
       "    <tr>\n",
       "      <th>28</th>\n",
       "      <td>276951.718750</td>\n",
       "      <td>291418.462</td>\n",
       "    </tr>\n",
       "    <tr>\n",
       "      <th>29</th>\n",
       "      <td>444682.687500</td>\n",
       "      <td>452417.079</td>\n",
       "    </tr>\n",
       "    <tr>\n",
       "      <th>30</th>\n",
       "      <td>468280.125000</td>\n",
       "      <td>576361.148</td>\n",
       "    </tr>\n",
       "    <tr>\n",
       "      <th>31</th>\n",
       "      <td>584176.562500</td>\n",
       "      <td>676218.054</td>\n",
       "    </tr>\n",
       "    <tr>\n",
       "      <th>32</th>\n",
       "      <td>567489.000000</td>\n",
       "      <td>698410.066</td>\n",
       "    </tr>\n",
       "    <tr>\n",
       "      <th>33</th>\n",
       "      <td>653982.812500</td>\n",
       "      <td>696094.179</td>\n",
       "    </tr>\n",
       "    <tr>\n",
       "      <th>34</th>\n",
       "      <td>603012.687500</td>\n",
       "      <td>751102.742</td>\n",
       "    </tr>\n",
       "    <tr>\n",
       "      <th>35</th>\n",
       "      <td>585201.875000</td>\n",
       "      <td>765802.952</td>\n",
       "    </tr>\n",
       "    <tr>\n",
       "      <th>36</th>\n",
       "      <td>494266.750000</td>\n",
       "      <td>597649.311</td>\n",
       "    </tr>\n",
       "    <tr>\n",
       "      <th>37</th>\n",
       "      <td>387866.375000</td>\n",
       "      <td>376029.266</td>\n",
       "    </tr>\n",
       "    <tr>\n",
       "      <th>38</th>\n",
       "      <td>136585.859375</td>\n",
       "      <td>278536.574</td>\n",
       "    </tr>\n",
       "    <tr>\n",
       "      <th>39</th>\n",
       "      <td>129719.929688</td>\n",
       "      <td>285351.521</td>\n",
       "    </tr>\n",
       "    <tr>\n",
       "      <th>40</th>\n",
       "      <td>307631.062500</td>\n",
       "      <td>365256.138</td>\n",
       "    </tr>\n",
       "    <tr>\n",
       "      <th>41</th>\n",
       "      <td>522822.062500</td>\n",
       "      <td>488293.212</td>\n",
       "    </tr>\n",
       "    <tr>\n",
       "      <th>42</th>\n",
       "      <td>594642.250000</td>\n",
       "      <td>635073.900</td>\n",
       "    </tr>\n",
       "    <tr>\n",
       "      <th>43</th>\n",
       "      <td>686540.250000</td>\n",
       "      <td>684651.888</td>\n",
       "    </tr>\n",
       "    <tr>\n",
       "      <th>44</th>\n",
       "      <td>691799.250000</td>\n",
       "      <td>698053.275</td>\n",
       "    </tr>\n",
       "    <tr>\n",
       "      <th>45</th>\n",
       "      <td>701687.187500</td>\n",
       "      <td>846211.943</td>\n",
       "    </tr>\n",
       "    <tr>\n",
       "      <th>46</th>\n",
       "      <td>686446.312500</td>\n",
       "      <td>831596.370</td>\n",
       "    </tr>\n",
       "    <tr>\n",
       "      <th>47</th>\n",
       "      <td>676717.062500</td>\n",
       "      <td>834849.724</td>\n",
       "    </tr>\n",
       "    <tr>\n",
       "      <th>48</th>\n",
       "      <td>608655.562500</td>\n",
       "      <td>721350.515</td>\n",
       "    </tr>\n",
       "    <tr>\n",
       "      <th>49</th>\n",
       "      <td>452080.000000</td>\n",
       "      <td>459033.164</td>\n",
       "    </tr>\n",
       "    <tr>\n",
       "      <th>50</th>\n",
       "      <td>265627.687500</td>\n",
       "      <td>282045.909</td>\n",
       "    </tr>\n",
       "    <tr>\n",
       "      <th>51</th>\n",
       "      <td>165471.984375</td>\n",
       "      <td>270397.608</td>\n",
       "    </tr>\n",
       "    <tr>\n",
       "      <th>52</th>\n",
       "      <td>288029.718750</td>\n",
       "      <td>449910.973</td>\n",
       "    </tr>\n",
       "  </tbody>\n",
       "</table>\n",
       "</div>"
      ],
      "text/plain": [
       "    Train Predictions  Actual Extent\n",
       "0       444769.312500     604702.636\n",
       "1       312451.906250     436530.907\n",
       "2       210690.015625     283162.646\n",
       "3       159733.000000     212475.431\n",
       "4       305760.312500     386546.857\n",
       "5       438249.625000     547183.986\n",
       "6       538936.750000     584596.262\n",
       "7       635738.375000     584830.109\n",
       "8       616468.187500     641562.292\n",
       "9       631098.875000     734946.437\n",
       "10      610379.000000     777596.225\n",
       "11      617657.750000     687087.673\n",
       "12      578353.812500     622337.816\n",
       "13      404550.437500     467232.074\n",
       "14      283100.062500     297495.641\n",
       "15      213307.109375     268909.854\n",
       "16      329269.187500     408072.791\n",
       "17      489046.468750     552314.148\n",
       "18      571235.687500     651062.408\n",
       "19      645052.312500     695022.674\n",
       "20      667024.187500     670974.305\n",
       "21      701080.687500     710035.543\n",
       "22      656869.437500     699672.538\n",
       "23      602613.625000     730897.021\n",
       "24      539779.125000     588598.988\n",
       "25      458545.968750     281754.041\n",
       "26      260425.718750     117830.266\n",
       "27      147934.125000      81838.250\n",
       "28      276951.718750     291418.462\n",
       "29      444682.687500     452417.079\n",
       "30      468280.125000     576361.148\n",
       "31      584176.562500     676218.054\n",
       "32      567489.000000     698410.066\n",
       "33      653982.812500     696094.179\n",
       "34      603012.687500     751102.742\n",
       "35      585201.875000     765802.952\n",
       "36      494266.750000     597649.311\n",
       "37      387866.375000     376029.266\n",
       "38      136585.859375     278536.574\n",
       "39      129719.929688     285351.521\n",
       "40      307631.062500     365256.138\n",
       "41      522822.062500     488293.212\n",
       "42      594642.250000     635073.900\n",
       "43      686540.250000     684651.888\n",
       "44      691799.250000     698053.275\n",
       "45      701687.187500     846211.943\n",
       "46      686446.312500     831596.370\n",
       "47      676717.062500     834849.724\n",
       "48      608655.562500     721350.515\n",
       "49      452080.000000     459033.164\n",
       "50      265627.687500     282045.909\n",
       "51      165471.984375     270397.608\n",
       "52      288029.718750     449910.973"
      ]
     },
     "execution_count": 20,
     "metadata": {},
     "output_type": "execute_result"
    }
   ],
   "source": [
    "train_results = pd.DataFrame(data={'Train Predictions': test_predictions.flatten(), 'Actual Extent': test_original.flatten()})\n",
    "train_results"
   ]
  },
  {
   "cell_type": "code",
   "execution_count": 21,
   "id": "0f643653",
   "metadata": {},
   "outputs": [
    {
     "data": {
      "image/png": "[encoded data removed]",
      "text/plain": [
       "<Figure size 1080x432 with 1 Axes>"
      ]
     },
     "metadata": {
      "needs_background": "light"
     },
     "output_type": "display_data"
    }
   ],
   "source": [
    "plt.figure(figsize=(15,6))\n",
    "plt.plot(test_original, label='True Values')\n",
    "plt.plot(test_predictions, label='Predicted Values')\n",
    "plt.title('Test Predictions vs Original Test Data')\n",
    "plt.legend()\n",
    "plt.show()"
   ]
  },
  {
   "cell_type": "code",
   "execution_count": 22,
   "id": "c2ea324c",
   "metadata": {},
   "outputs": [
    {
     "name": "stdout",
     "output_type": "stream",
     "text": [
      "17/17 [==============================] - 0s 3ms/step\n"
     ]
    }
   ],
   "source": [
    "predictions = model1.predict(X)"
   ]
  },
  {
   "cell_type": "code",
   "execution_count": 23,
   "id": "6e155c07",
   "metadata": {},
   "outputs": [],
   "source": [
    "predictions = scaler.inverse_transform(predictions)\n",
    "Original = scaler.inverse_transform(y.reshape(-1,1))"
   ]
  },
  {
   "cell_type": "code",
   "execution_count": 24,
   "id": "eb328bbc",
   "metadata": {},
   "outputs": [
    {
     "data": {
      "image/png": "[encoded data removed]",
      "text/plain": [
       "<Figure size 1080x432 with 1 Axes>"
      ]
     },
     "metadata": {
      "needs_background": "light"
     },
     "output_type": "display_data"
    }
   ],
   "source": [
    "plt.figure(figsize=(15,6))\n",
    "plt.plot(Original, label='True Values')\n",
    "plt.plot(predictions, label='Predicted Values')\n",
    "plt.title('Test Predictions vs Original Test Data')\n",
    "plt.legend()\n",
    "plt.show()"
   ]
  },
  {
   "cell_type": "code",
   "execution_count": null,
   "id": "2ee51067",
   "metadata": {},
   "outputs": [],
   "source": []
  }
 ],
 "metadata": {
  "kernelspec": {
   "display_name": "Python 3 (ipykernel)",
   "language": "python",
   "name": "python3"
  },
  "language_info": {
   "codemirror_mode": {
    "name": "ipython",
    "version": 3
   },
   "file_extension": ".py",
   "mimetype": "text/x-python",
   "name": "python",
   "nbconvert_exporter": "python",
   "pygments_lexer": "ipython3",
   "version": "3.10.5"
  }
 },
 "nbformat": 4,
 "nbformat_minor": 5
}
