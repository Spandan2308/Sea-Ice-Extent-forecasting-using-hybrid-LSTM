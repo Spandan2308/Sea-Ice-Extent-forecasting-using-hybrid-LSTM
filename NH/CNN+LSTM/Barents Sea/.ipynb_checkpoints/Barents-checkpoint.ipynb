{
 "cells": [
  {
   "cell_type": "code",
   "execution_count": 1,
   "id": "0ebbc428",
   "metadata": {},
   "outputs": [],
   "source": [
    "import numpy as np\n",
    "import pandas as pd\n",
    "import matplotlib.pyplot as plt\n",
    "\n",
    "from sklearn.preprocessing import MinMaxScaler\n",
    "from sklearn.metrics import mean_squared_error, mean_absolute_error\n",
    "\n",
    "from keras.models import Sequential\n",
    "from keras.layers import InputLayer, LSTM, Dense, Dropout, Conv1D, MaxPooling1D, BatchNormalization\n",
    "from keras.optimizers import Adam\n",
    "from keras.losses import MeanSquaredError\n",
    "from keras.metrics import RootMeanSquaredError\n",
    "from keras.constraints import MaxNorm\n",
    "from keras.callbacks import ModelCheckpoint\n",
    "\n",
    "import time"
   ]
  },
  {
   "cell_type": "code",
   "execution_count": 2,
   "id": "a8a52a5a",
   "metadata": {},
   "outputs": [],
   "source": [
    "filepath = 'C:/Users/ss230/Documents/Study/NSIDC/Edited Data/N_Sea_Ice_Index_Regional_Monthly_Data_G02135_v3.0.xlsx'\n",
    "Barents = pd.read_excel(filepath, sheet_name='Barents-Extent-km^2')"
   ]
  },
  {
   "cell_type": "code",
   "execution_count": 3,
   "id": "fd8cd9b6",
   "metadata": {},
   "outputs": [],
   "source": [
    "import sys\n",
    "sys.path.append('C:/Users/ss230/Documents/Study/NSIDC/NH/')\n",
    "import Function as fp"
   ]
  },
  {
   "cell_type": "code",
   "execution_count": 4,
   "id": "b0e56c1a",
   "metadata": {},
   "outputs": [
    {
     "data": {
      "text/html": [
       "<div>\n",
       "<style scoped>\n",
       "    .dataframe tbody tr th:only-of-type {\n",
       "        vertical-align: middle;\n",
       "    }\n",
       "\n",
       "    .dataframe tbody tr th {\n",
       "        vertical-align: top;\n",
       "    }\n",
       "\n",
       "    .dataframe thead th {\n",
       "        text-align: right;\n",
       "    }\n",
       "</style>\n",
       "<table border=\"1\" class=\"dataframe\">\n",
       "  <thead>\n",
       "    <tr style=\"text-align: right;\">\n",
       "      <th></th>\n",
       "      <th>Extent</th>\n",
       "      <th>Date</th>\n",
       "    </tr>\n",
       "  </thead>\n",
       "  <tbody>\n",
       "    <tr>\n",
       "      <th>0</th>\n",
       "      <td>1107873.946</td>\n",
       "      <td>1979-01-01</td>\n",
       "    </tr>\n",
       "    <tr>\n",
       "      <th>1</th>\n",
       "      <td>1211101.473</td>\n",
       "      <td>1979-02-01</td>\n",
       "    </tr>\n",
       "    <tr>\n",
       "      <th>2</th>\n",
       "      <td>1215128.770</td>\n",
       "      <td>1979-03-01</td>\n",
       "    </tr>\n",
       "    <tr>\n",
       "      <th>3</th>\n",
       "      <td>1233940.811</td>\n",
       "      <td>1979-04-01</td>\n",
       "    </tr>\n",
       "    <tr>\n",
       "      <th>4</th>\n",
       "      <td>1193061.566</td>\n",
       "      <td>1979-05-01</td>\n",
       "    </tr>\n",
       "    <tr>\n",
       "      <th>...</th>\n",
       "      <td>...</td>\n",
       "      <td>...</td>\n",
       "    </tr>\n",
       "    <tr>\n",
       "      <th>533</th>\n",
       "      <td>124025.343</td>\n",
       "      <td>2023-06-01</td>\n",
       "    </tr>\n",
       "    <tr>\n",
       "      <th>534</th>\n",
       "      <td>53107.426</td>\n",
       "      <td>2023-07-01</td>\n",
       "    </tr>\n",
       "    <tr>\n",
       "      <th>535</th>\n",
       "      <td>11242.827</td>\n",
       "      <td>2023-08-01</td>\n",
       "    </tr>\n",
       "    <tr>\n",
       "      <th>536</th>\n",
       "      <td>3272.024</td>\n",
       "      <td>2023-09-01</td>\n",
       "    </tr>\n",
       "    <tr>\n",
       "      <th>537</th>\n",
       "      <td>35079.225</td>\n",
       "      <td>2023-10-01</td>\n",
       "    </tr>\n",
       "  </tbody>\n",
       "</table>\n",
       "<p>538 rows × 2 columns</p>\n",
       "</div>"
      ],
      "text/plain": [
       "          Extent       Date\n",
       "0    1107873.946 1979-01-01\n",
       "1    1211101.473 1979-02-01\n",
       "2    1215128.770 1979-03-01\n",
       "3    1233940.811 1979-04-01\n",
       "4    1193061.566 1979-05-01\n",
       "..           ...        ...\n",
       "533   124025.343 2023-06-01\n",
       "534    53107.426 2023-07-01\n",
       "535    11242.827 2023-08-01\n",
       "536     3272.024 2023-09-01\n",
       "537    35079.225 2023-10-01\n",
       "\n",
       "[538 rows x 2 columns]"
      ]
     },
     "execution_count": 4,
     "metadata": {},
     "output_type": "execute_result"
    }
   ],
   "source": [
    "fp.month_mapping(Barents)\n",
    "fp.date_time(Barents)"
   ]
  },
  {
   "cell_type": "code",
   "execution_count": 5,
   "id": "3012f7db",
   "metadata": {},
   "outputs": [],
   "source": [
    "scaler = MinMaxScaler()\n",
    "Barents['Extent'] = scaler.fit_transform(Barents['Extent'].values.reshape(-1, 1))"
   ]
  },
  {
   "cell_type": "code",
   "execution_count": 6,
   "id": "afa9bd12",
   "metadata": {},
   "outputs": [
    {
     "data": {
      "text/plain": [
       "((526, 12, 1), (526,))"
      ]
     },
     "execution_count": 6,
     "metadata": {},
     "output_type": "execute_result"
    }
   ],
   "source": [
    "extent = Barents['Extent']\n",
    "W_S=12\n",
    "X,y = fp.df_to_X_y(extent, W_S)\n",
    "X.shape, y.shape"
   ]
  },
  {
   "cell_type": "code",
   "execution_count": 7,
   "id": "91b9387c",
   "metadata": {},
   "outputs": [],
   "source": [
    "X_train, y_train = X[:420], y[:420]\n",
    "X_val, y_val = X[420:472], y[420:472]\n",
    "X_test, y_test = X[472:], y[472:]"
   ]
  },
  {
   "cell_type": "code",
   "execution_count": 8,
   "id": "524ea225",
   "metadata": {},
   "outputs": [],
   "source": [
    "model = Sequential()\n",
    "model.add(Conv1D(filters=64, kernel_size=3, activation='relu', input_shape=(W_S, 1)))\n",
    "model.add(MaxPooling1D(pool_size=2))\n",
    "#model.add(LSTM(64, kernel_constraint=MaxNorm(1.0), activation='relu', return_sequences=True))\n",
    "#model.add(Dropout(0.2))\n",
    "model.add(LSTM(32, kernel_constraint=MaxNorm(1.0), activation='relu'))\n",
    "model.add(BatchNormalization())\n",
    "model.add(Dense(1, activation='linear'))"
   ]
  },
  {
   "cell_type": "code",
   "execution_count": 9,
   "id": "815ac13d",
   "metadata": {},
   "outputs": [],
   "source": [
    "cp = ModelCheckpoint('Barents_model/', save_best_only=True)\n",
    "model.compile(loss=MeanSquaredError(), optimizer=Adam(0.0001), metrics=[RootMeanSquaredError()])"
   ]
  },
  {
   "cell_type": "code",
   "execution_count": 10,
   "id": "1af2a146",
   "metadata": {
    "scrolled": true
   },
   "outputs": [
    {
     "name": "stdout",
     "output_type": "stream",
     "text": [
      "Epoch 1/50\n",
      "48/53 [==========================>...] - ETA: 0s - loss: 0.1924 - root_mean_squared_error: 0.4386"
     ]
    },
    {
     "name": "stderr",
     "output_type": "stream",
     "text": [
      "WARNING:absl:Found untraced functions such as _jit_compiled_convolution_op while saving (showing 1 of 1). These functions will not be directly callable after loading.\n"
     ]
    },
    {
     "name": "stdout",
     "output_type": "stream",
     "text": [
      "INFO:tensorflow:Assets written to: Barents_model\\assets\n"
     ]
    },
    {
     "name": "stderr",
     "output_type": "stream",
     "text": [
      "INFO:tensorflow:Assets written to: Barents_model\\assets\n"
     ]
    },
    {
     "name": "stdout",
     "output_type": "stream",
     "text": [
      "53/53 [==============================] - 9s 107ms/step - loss: 0.1916 - root_mean_squared_error: 0.4378 - val_loss: 0.0673 - val_root_mean_squared_error: 0.2594\n",
      "Epoch 2/50\n",
      "48/53 [==========================>...] - ETA: 0s - loss: 0.1589 - root_mean_squared_error: 0.3986"
     ]
    },
    {
     "name": "stderr",
     "output_type": "stream",
     "text": [
      "WARNING:absl:Found untraced functions such as _jit_compiled_convolution_op while saving (showing 1 of 1). These functions will not be directly callable after loading.\n"
     ]
    },
    {
     "name": "stdout",
     "output_type": "stream",
     "text": [
      "INFO:tensorflow:Assets written to: Barents_model\\assets\n"
     ]
    },
    {
     "name": "stderr",
     "output_type": "stream",
     "text": [
      "INFO:tensorflow:Assets written to: Barents_model\\assets\n"
     ]
    },
    {
     "name": "stdout",
     "output_type": "stream",
     "text": [
      "53/53 [==============================] - 5s 96ms/step - loss: 0.1528 - root_mean_squared_error: 0.3908 - val_loss: 0.0559 - val_root_mean_squared_error: 0.2364\n",
      "Epoch 3/50\n",
      "46/53 [=========================>....] - ETA: 0s - loss: 0.1271 - root_mean_squared_error: 0.3565"
     ]
    },
    {
     "name": "stderr",
     "output_type": "stream",
     "text": [
      "WARNING:absl:Found untraced functions such as _jit_compiled_convolution_op while saving (showing 1 of 1). These functions will not be directly callable after loading.\n"
     ]
    },
    {
     "name": "stdout",
     "output_type": "stream",
     "text": [
      "INFO:tensorflow:Assets written to: Barents_model\\assets\n"
     ]
    },
    {
     "name": "stderr",
     "output_type": "stream",
     "text": [
      "INFO:tensorflow:Assets written to: Barents_model\\assets\n"
     ]
    },
    {
     "name": "stdout",
     "output_type": "stream",
     "text": [
      "53/53 [==============================] - 5s 93ms/step - loss: 0.1229 - root_mean_squared_error: 0.3506 - val_loss: 0.0465 - val_root_mean_squared_error: 0.2155\n",
      "Epoch 4/50\n",
      "53/53 [==============================] - ETA: 0s - loss: 0.1009 - root_mean_squared_error: 0.3177"
     ]
    },
    {
     "name": "stderr",
     "output_type": "stream",
     "text": [
      "WARNING:absl:Found untraced functions such as _jit_compiled_convolution_op while saving (showing 1 of 1). These functions will not be directly callable after loading.\n"
     ]
    },
    {
     "name": "stdout",
     "output_type": "stream",
     "text": [
      "INFO:tensorflow:Assets written to: Barents_model\\assets\n"
     ]
    },
    {
     "name": "stderr",
     "output_type": "stream",
     "text": [
      "INFO:tensorflow:Assets written to: Barents_model\\assets\n"
     ]
    },
    {
     "name": "stdout",
     "output_type": "stream",
     "text": [
      "53/53 [==============================] - 5s 88ms/step - loss: 0.1009 - root_mean_squared_error: 0.3177 - val_loss: 0.0391 - val_root_mean_squared_error: 0.1977\n",
      "Epoch 5/50\n",
      "52/53 [============================>.] - ETA: 0s - loss: 0.0799 - root_mean_squared_error: 0.2826"
     ]
    },
    {
     "name": "stderr",
     "output_type": "stream",
     "text": [
      "WARNING:absl:Found untraced functions such as _jit_compiled_convolution_op while saving (showing 1 of 1). These functions will not be directly callable after loading.\n"
     ]
    },
    {
     "name": "stdout",
     "output_type": "stream",
     "text": [
      "INFO:tensorflow:Assets written to: Barents_model\\assets\n"
     ]
    },
    {
     "name": "stderr",
     "output_type": "stream",
     "text": [
      "INFO:tensorflow:Assets written to: Barents_model\\assets\n"
     ]
    },
    {
     "name": "stdout",
     "output_type": "stream",
     "text": [
      "53/53 [==============================] - 5s 96ms/step - loss: 0.0793 - root_mean_squared_error: 0.2815 - val_loss: 0.0329 - val_root_mean_squared_error: 0.1815\n",
      "Epoch 6/50\n",
      "52/53 [============================>.] - ETA: 0s - loss: 0.0607 - root_mean_squared_error: 0.2463"
     ]
    },
    {
     "name": "stderr",
     "output_type": "stream",
     "text": [
      "WARNING:absl:Found untraced functions such as _jit_compiled_convolution_op while saving (showing 1 of 1). These functions will not be directly callable after loading.\n"
     ]
    },
    {
     "name": "stdout",
     "output_type": "stream",
     "text": [
      "INFO:tensorflow:Assets written to: Barents_model\\assets\n"
     ]
    },
    {
     "name": "stderr",
     "output_type": "stream",
     "text": [
      "INFO:tensorflow:Assets written to: Barents_model\\assets\n"
     ]
    },
    {
     "name": "stdout",
     "output_type": "stream",
     "text": [
      "53/53 [==============================] - 5s 101ms/step - loss: 0.0613 - root_mean_squared_error: 0.2475 - val_loss: 0.0289 - val_root_mean_squared_error: 0.1701\n",
      "Epoch 7/50\n",
      "50/53 [===========================>..] - ETA: 0s - loss: 0.0466 - root_mean_squared_error: 0.2159"
     ]
    },
    {
     "name": "stderr",
     "output_type": "stream",
     "text": [
      "WARNING:absl:Found untraced functions such as _jit_compiled_convolution_op while saving (showing 1 of 1). These functions will not be directly callable after loading.\n"
     ]
    },
    {
     "name": "stdout",
     "output_type": "stream",
     "text": [
      "INFO:tensorflow:Assets written to: Barents_model\\assets\n"
     ]
    },
    {
     "name": "stderr",
     "output_type": "stream",
     "text": [
      "INFO:tensorflow:Assets written to: Barents_model\\assets\n"
     ]
    },
    {
     "name": "stdout",
     "output_type": "stream",
     "text": [
      "53/53 [==============================] - 5s 91ms/step - loss: 0.0459 - root_mean_squared_error: 0.2143 - val_loss: 0.0253 - val_root_mean_squared_error: 0.1590\n",
      "Epoch 8/50\n",
      "52/53 [============================>.] - ETA: 0s - loss: 0.0360 - root_mean_squared_error: 0.1897"
     ]
    },
    {
     "name": "stderr",
     "output_type": "stream",
     "text": [
      "WARNING:absl:Found untraced functions such as _jit_compiled_convolution_op while saving (showing 1 of 1). These functions will not be directly callable after loading.\n"
     ]
    },
    {
     "name": "stdout",
     "output_type": "stream",
     "text": [
      "INFO:tensorflow:Assets written to: Barents_model\\assets\n"
     ]
    },
    {
     "name": "stderr",
     "output_type": "stream",
     "text": [
      "INFO:tensorflow:Assets written to: Barents_model\\assets\n"
     ]
    },
    {
     "name": "stdout",
     "output_type": "stream",
     "text": [
      "53/53 [==============================] - 5s 95ms/step - loss: 0.0358 - root_mean_squared_error: 0.1891 - val_loss: 0.0219 - val_root_mean_squared_error: 0.1480\n",
      "Epoch 9/50\n",
      "46/53 [=========================>....] - ETA: 0s - loss: 0.0277 - root_mean_squared_error: 0.1663"
     ]
    },
    {
     "name": "stderr",
     "output_type": "stream",
     "text": [
      "WARNING:absl:Found untraced functions such as _jit_compiled_convolution_op while saving (showing 1 of 1). These functions will not be directly callable after loading.\n"
     ]
    },
    {
     "name": "stdout",
     "output_type": "stream",
     "text": [
      "INFO:tensorflow:Assets written to: Barents_model\\assets\n"
     ]
    },
    {
     "name": "stderr",
     "output_type": "stream",
     "text": [
      "INFO:tensorflow:Assets written to: Barents_model\\assets\n"
     ]
    },
    {
     "name": "stdout",
     "output_type": "stream",
     "text": [
      "53/53 [==============================] - 5s 95ms/step - loss: 0.0273 - root_mean_squared_error: 0.1653 - val_loss: 0.0195 - val_root_mean_squared_error: 0.1397\n",
      "Epoch 10/50\n",
      "48/53 [==========================>...] - ETA: 0s - loss: 0.0265 - root_mean_squared_error: 0.1629"
     ]
    },
    {
     "name": "stderr",
     "output_type": "stream",
     "text": [
      "WARNING:absl:Found untraced functions such as _jit_compiled_convolution_op while saving (showing 1 of 1). These functions will not be directly callable after loading.\n"
     ]
    },
    {
     "name": "stdout",
     "output_type": "stream",
     "text": [
      "INFO:tensorflow:Assets written to: Barents_model\\assets\n"
     ]
    },
    {
     "name": "stderr",
     "output_type": "stream",
     "text": [
      "INFO:tensorflow:Assets written to: Barents_model\\assets\n"
     ]
    },
    {
     "name": "stdout",
     "output_type": "stream",
     "text": [
      "53/53 [==============================] - 5s 92ms/step - loss: 0.0257 - root_mean_squared_error: 0.1603 - val_loss: 0.0156 - val_root_mean_squared_error: 0.1250\n",
      "Epoch 11/50\n",
      "50/53 [===========================>..] - ETA: 0s - loss: 0.0188 - root_mean_squared_error: 0.1371"
     ]
    },
    {
     "name": "stderr",
     "output_type": "stream",
     "text": [
      "WARNING:absl:Found untraced functions such as _jit_compiled_convolution_op while saving (showing 1 of 1). These functions will not be directly callable after loading.\n"
     ]
    },
    {
     "name": "stdout",
     "output_type": "stream",
     "text": [
      "INFO:tensorflow:Assets written to: Barents_model\\assets\n"
     ]
    },
    {
     "name": "stderr",
     "output_type": "stream",
     "text": [
      "INFO:tensorflow:Assets written to: Barents_model\\assets\n"
     ]
    },
    {
     "name": "stdout",
     "output_type": "stream",
     "text": [
      "53/53 [==============================] - 5s 92ms/step - loss: 0.0182 - root_mean_squared_error: 0.1351 - val_loss: 0.0122 - val_root_mean_squared_error: 0.1106\n",
      "Epoch 12/50\n",
      "51/53 [===========================>..] - ETA: 0s - loss: 0.0167 - root_mean_squared_error: 0.1293"
     ]
    },
    {
     "name": "stderr",
     "output_type": "stream",
     "text": [
      "WARNING:absl:Found untraced functions such as _jit_compiled_convolution_op while saving (showing 1 of 1). These functions will not be directly callable after loading.\n"
     ]
    },
    {
     "name": "stdout",
     "output_type": "stream",
     "text": [
      "INFO:tensorflow:Assets written to: Barents_model\\assets\n"
     ]
    },
    {
     "name": "stderr",
     "output_type": "stream",
     "text": [
      "INFO:tensorflow:Assets written to: Barents_model\\assets\n"
     ]
    },
    {
     "name": "stdout",
     "output_type": "stream",
     "text": [
      "53/53 [==============================] - 5s 98ms/step - loss: 0.0165 - root_mean_squared_error: 0.1283 - val_loss: 0.0102 - val_root_mean_squared_error: 0.1009\n",
      "Epoch 13/50\n",
      "46/53 [=========================>....] - ETA: 0s - loss: 0.0149 - root_mean_squared_error: 0.1219"
     ]
    },
    {
     "name": "stderr",
     "output_type": "stream",
     "text": [
      "WARNING:absl:Found untraced functions such as _jit_compiled_convolution_op while saving (showing 1 of 1). These functions will not be directly callable after loading.\n"
     ]
    },
    {
     "name": "stdout",
     "output_type": "stream",
     "text": [
      "INFO:tensorflow:Assets written to: Barents_model\\assets\n"
     ]
    },
    {
     "name": "stderr",
     "output_type": "stream",
     "text": [
      "INFO:tensorflow:Assets written to: Barents_model\\assets\n"
     ]
    },
    {
     "name": "stdout",
     "output_type": "stream",
     "text": [
      "53/53 [==============================] - 5s 96ms/step - loss: 0.0140 - root_mean_squared_error: 0.1185 - val_loss: 0.0076 - val_root_mean_squared_error: 0.0870\n",
      "Epoch 14/50\n",
      "50/53 [===========================>..] - ETA: 0s - loss: 0.0139 - root_mean_squared_error: 0.1181"
     ]
    },
    {
     "name": "stderr",
     "output_type": "stream",
     "text": [
      "WARNING:absl:Found untraced functions such as _jit_compiled_convolution_op while saving (showing 1 of 1). These functions will not be directly callable after loading.\n"
     ]
    },
    {
     "name": "stdout",
     "output_type": "stream",
     "text": [
      "INFO:tensorflow:Assets written to: Barents_model\\assets\n"
     ]
    },
    {
     "name": "stderr",
     "output_type": "stream",
     "text": [
      "INFO:tensorflow:Assets written to: Barents_model\\assets\n"
     ]
    },
    {
     "name": "stdout",
     "output_type": "stream",
     "text": [
      "53/53 [==============================] - 5s 92ms/step - loss: 0.0137 - root_mean_squared_error: 0.1170 - val_loss: 0.0062 - val_root_mean_squared_error: 0.0787\n",
      "Epoch 15/50\n",
      "51/53 [===========================>..] - ETA: 0s - loss: 0.0135 - root_mean_squared_error: 0.1161"
     ]
    },
    {
     "name": "stderr",
     "output_type": "stream",
     "text": [
      "WARNING:absl:Found untraced functions such as _jit_compiled_convolution_op while saving (showing 1 of 1). These functions will not be directly callable after loading.\n"
     ]
    },
    {
     "name": "stdout",
     "output_type": "stream",
     "text": [
      "INFO:tensorflow:Assets written to: Barents_model\\assets\n"
     ]
    },
    {
     "name": "stderr",
     "output_type": "stream",
     "text": [
      "INFO:tensorflow:Assets written to: Barents_model\\assets\n"
     ]
    },
    {
     "name": "stdout",
     "output_type": "stream",
     "text": [
      "53/53 [==============================] - 5s 100ms/step - loss: 0.0135 - root_mean_squared_error: 0.1164 - val_loss: 0.0056 - val_root_mean_squared_error: 0.0751\n",
      "Epoch 16/50\n",
      "48/53 [==========================>...] - ETA: 0s - loss: 0.0144 - root_mean_squared_error: 0.1200"
     ]
    },
    {
     "name": "stderr",
     "output_type": "stream",
     "text": [
      "WARNING:absl:Found untraced functions such as _jit_compiled_convolution_op while saving (showing 1 of 1). These functions will not be directly callable after loading.\n"
     ]
    },
    {
     "name": "stdout",
     "output_type": "stream",
     "text": [
      "INFO:tensorflow:Assets written to: Barents_model\\assets\n"
     ]
    },
    {
     "name": "stderr",
     "output_type": "stream",
     "text": [
      "INFO:tensorflow:Assets written to: Barents_model\\assets\n"
     ]
    },
    {
     "name": "stdout",
     "output_type": "stream",
     "text": [
      "53/53 [==============================] - 5s 92ms/step - loss: 0.0139 - root_mean_squared_error: 0.1180 - val_loss: 0.0047 - val_root_mean_squared_error: 0.0682\n",
      "Epoch 17/50\n",
      "53/53 [==============================] - 0s 7ms/step - loss: 0.0159 - root_mean_squared_error: 0.1260 - val_loss: 0.0054 - val_root_mean_squared_error: 0.0738\n",
      "Epoch 18/50\n",
      "53/53 [==============================] - 0s 8ms/step - loss: 0.0110 - root_mean_squared_error: 0.1049 - val_loss: 0.0047 - val_root_mean_squared_error: 0.0682\n",
      "Epoch 19/50\n",
      "48/53 [==========================>...] - ETA: 0s - loss: 0.0126 - root_mean_squared_error: 0.1125"
     ]
    },
    {
     "name": "stderr",
     "output_type": "stream",
     "text": [
      "WARNING:absl:Found untraced functions such as _jit_compiled_convolution_op while saving (showing 1 of 1). These functions will not be directly callable after loading.\n"
     ]
    },
    {
     "name": "stdout",
     "output_type": "stream",
     "text": [
      "INFO:tensorflow:Assets written to: Barents_model\\assets\n"
     ]
    },
    {
     "name": "stderr",
     "output_type": "stream",
     "text": [
      "INFO:tensorflow:Assets written to: Barents_model\\assets\n"
     ]
    },
    {
     "name": "stdout",
     "output_type": "stream",
     "text": [
      "53/53 [==============================] - 5s 91ms/step - loss: 0.0126 - root_mean_squared_error: 0.1121 - val_loss: 0.0046 - val_root_mean_squared_error: 0.0675\n",
      "Epoch 20/50\n",
      "49/53 [==========================>...] - ETA: 0s - loss: 0.0139 - root_mean_squared_error: 0.1179"
     ]
    },
    {
     "name": "stderr",
     "output_type": "stream",
     "text": [
      "WARNING:absl:Found untraced functions such as _jit_compiled_convolution_op while saving (showing 1 of 1). These functions will not be directly callable after loading.\n"
     ]
    },
    {
     "name": "stdout",
     "output_type": "stream",
     "text": [
      "INFO:tensorflow:Assets written to: Barents_model\\assets\n"
     ]
    },
    {
     "name": "stderr",
     "output_type": "stream",
     "text": [
      "INFO:tensorflow:Assets written to: Barents_model\\assets\n"
     ]
    },
    {
     "name": "stdout",
     "output_type": "stream",
     "text": [
      "53/53 [==============================] - 5s 101ms/step - loss: 0.0147 - root_mean_squared_error: 0.1213 - val_loss: 0.0044 - val_root_mean_squared_error: 0.0667\n",
      "Epoch 21/50\n",
      "53/53 [==============================] - 0s 7ms/step - loss: 0.0109 - root_mean_squared_error: 0.1045 - val_loss: 0.0045 - val_root_mean_squared_error: 0.0672\n",
      "Epoch 22/50\n",
      "52/53 [============================>.] - ETA: 0s - loss: 0.0125 - root_mean_squared_error: 0.1116"
     ]
    },
    {
     "name": "stderr",
     "output_type": "stream",
     "text": [
      "WARNING:absl:Found untraced functions such as _jit_compiled_convolution_op while saving (showing 1 of 1). These functions will not be directly callable after loading.\n"
     ]
    },
    {
     "name": "stdout",
     "output_type": "stream",
     "text": [
      "INFO:tensorflow:Assets written to: Barents_model\\assets\n"
     ]
    },
    {
     "name": "stderr",
     "output_type": "stream",
     "text": [
      "INFO:tensorflow:Assets written to: Barents_model\\assets\n"
     ]
    },
    {
     "name": "stdout",
     "output_type": "stream",
     "text": [
      "53/53 [==============================] - 5s 90ms/step - loss: 0.0126 - root_mean_squared_error: 0.1121 - val_loss: 0.0042 - val_root_mean_squared_error: 0.0650\n",
      "Epoch 23/50\n",
      "50/53 [===========================>..] - ETA: 0s - loss: 0.0119 - root_mean_squared_error: 0.1091"
     ]
    },
    {
     "name": "stderr",
     "output_type": "stream",
     "text": [
      "WARNING:absl:Found untraced functions such as _jit_compiled_convolution_op while saving (showing 1 of 1). These functions will not be directly callable after loading.\n"
     ]
    },
    {
     "name": "stdout",
     "output_type": "stream",
     "text": [
      "INFO:tensorflow:Assets written to: Barents_model\\assets\n"
     ]
    },
    {
     "name": "stderr",
     "output_type": "stream",
     "text": [
      "INFO:tensorflow:Assets written to: Barents_model\\assets\n"
     ]
    },
    {
     "name": "stdout",
     "output_type": "stream",
     "text": [
      "53/53 [==============================] - 5s 95ms/step - loss: 0.0118 - root_mean_squared_error: 0.1087 - val_loss: 0.0042 - val_root_mean_squared_error: 0.0644\n",
      "Epoch 24/50\n",
      "53/53 [==============================] - 0s 8ms/step - loss: 0.0145 - root_mean_squared_error: 0.1205 - val_loss: 0.0047 - val_root_mean_squared_error: 0.0682\n",
      "Epoch 25/50\n",
      "53/53 [==============================] - 0s 8ms/step - loss: 0.0162 - root_mean_squared_error: 0.1274 - val_loss: 0.0044 - val_root_mean_squared_error: 0.0661\n",
      "Epoch 26/50\n",
      "53/53 [==============================] - 0s 8ms/step - loss: 0.0105 - root_mean_squared_error: 0.1023 - val_loss: 0.0042 - val_root_mean_squared_error: 0.0645\n",
      "Epoch 27/50\n",
      "53/53 [==============================] - 0s 9ms/step - loss: 0.0116 - root_mean_squared_error: 0.1077 - val_loss: 0.0042 - val_root_mean_squared_error: 0.0645\n",
      "Epoch 28/50\n",
      "53/53 [==============================] - 0s 9ms/step - loss: 0.0100 - root_mean_squared_error: 0.0999 - val_loss: 0.0043 - val_root_mean_squared_error: 0.0657\n",
      "Epoch 29/50\n",
      "50/53 [===========================>..] - ETA: 0s - loss: 0.0110 - root_mean_squared_error: 0.1047"
     ]
    },
    {
     "name": "stderr",
     "output_type": "stream",
     "text": [
      "WARNING:absl:Found untraced functions such as _jit_compiled_convolution_op while saving (showing 1 of 1). These functions will not be directly callable after loading.\n"
     ]
    },
    {
     "name": "stdout",
     "output_type": "stream",
     "text": [
      "INFO:tensorflow:Assets written to: Barents_model\\assets\n"
     ]
    },
    {
     "name": "stderr",
     "output_type": "stream",
     "text": [
      "INFO:tensorflow:Assets written to: Barents_model\\assets\n"
     ]
    },
    {
     "name": "stdout",
     "output_type": "stream",
     "text": [
      "53/53 [==============================] - 5s 95ms/step - loss: 0.0114 - root_mean_squared_error: 0.1067 - val_loss: 0.0040 - val_root_mean_squared_error: 0.0629\n",
      "Epoch 30/50\n",
      "53/53 [==============================] - 0s 7ms/step - loss: 0.0150 - root_mean_squared_error: 0.1226 - val_loss: 0.0041 - val_root_mean_squared_error: 0.0642\n",
      "Epoch 31/50\n",
      "53/53 [==============================] - 0s 8ms/step - loss: 0.0130 - root_mean_squared_error: 0.1138 - val_loss: 0.0050 - val_root_mean_squared_error: 0.0706\n",
      "Epoch 32/50\n",
      "53/53 [==============================] - 0s 9ms/step - loss: 0.0102 - root_mean_squared_error: 0.1012 - val_loss: 0.0049 - val_root_mean_squared_error: 0.0703\n",
      "Epoch 33/50\n",
      "53/53 [==============================] - 0s 9ms/step - loss: 0.0152 - root_mean_squared_error: 0.1233 - val_loss: 0.0047 - val_root_mean_squared_error: 0.0683\n",
      "Epoch 34/50\n",
      "52/53 [============================>.] - ETA: 0s - loss: 0.0132 - root_mean_squared_error: 0.1150"
     ]
    },
    {
     "name": "stderr",
     "output_type": "stream",
     "text": [
      "WARNING:absl:Found untraced functions such as _jit_compiled_convolution_op while saving (showing 1 of 1). These functions will not be directly callable after loading.\n"
     ]
    },
    {
     "name": "stdout",
     "output_type": "stream",
     "text": [
      "INFO:tensorflow:Assets written to: Barents_model\\assets\n"
     ]
    },
    {
     "name": "stderr",
     "output_type": "stream",
     "text": [
      "INFO:tensorflow:Assets written to: Barents_model\\assets\n"
     ]
    },
    {
     "name": "stdout",
     "output_type": "stream",
     "text": [
      "53/53 [==============================] - 5s 92ms/step - loss: 0.0132 - root_mean_squared_error: 0.1149 - val_loss: 0.0039 - val_root_mean_squared_error: 0.0624\n",
      "Epoch 35/50\n",
      "53/53 [==============================] - 0s 8ms/step - loss: 0.0115 - root_mean_squared_error: 0.1071 - val_loss: 0.0039 - val_root_mean_squared_error: 0.0628\n",
      "Epoch 36/50\n",
      "53/53 [==============================] - 0s 8ms/step - loss: 0.0116 - root_mean_squared_error: 0.1078 - val_loss: 0.0040 - val_root_mean_squared_error: 0.0630\n",
      "Epoch 37/50\n",
      "47/53 [=========================>....] - ETA: 0s - loss: 0.0111 - root_mean_squared_error: 0.1055"
     ]
    },
    {
     "name": "stderr",
     "output_type": "stream",
     "text": [
      "WARNING:absl:Found untraced functions such as _jit_compiled_convolution_op while saving (showing 1 of 1). These functions will not be directly callable after loading.\n"
     ]
    },
    {
     "name": "stdout",
     "output_type": "stream",
     "text": [
      "INFO:tensorflow:Assets written to: Barents_model\\assets\n"
     ]
    },
    {
     "name": "stderr",
     "output_type": "stream",
     "text": [
      "INFO:tensorflow:Assets written to: Barents_model\\assets\n"
     ]
    },
    {
     "name": "stdout",
     "output_type": "stream",
     "text": [
      "53/53 [==============================] - 5s 102ms/step - loss: 0.0111 - root_mean_squared_error: 0.1055 - val_loss: 0.0038 - val_root_mean_squared_error: 0.0618\n",
      "Epoch 38/50\n",
      "53/53 [==============================] - 0s 7ms/step - loss: 0.0114 - root_mean_squared_error: 0.1070 - val_loss: 0.0039 - val_root_mean_squared_error: 0.0625\n",
      "Epoch 39/50\n",
      "53/53 [==============================] - 0s 7ms/step - loss: 0.0117 - root_mean_squared_error: 0.1083 - val_loss: 0.0042 - val_root_mean_squared_error: 0.0648\n",
      "Epoch 40/50\n",
      "53/53 [==============================] - 0s 9ms/step - loss: 0.0120 - root_mean_squared_error: 0.1096 - val_loss: 0.0041 - val_root_mean_squared_error: 0.0636\n",
      "Epoch 41/50\n",
      "53/53 [==============================] - 0s 9ms/step - loss: 0.0117 - root_mean_squared_error: 0.1082 - val_loss: 0.0040 - val_root_mean_squared_error: 0.0629\n",
      "Epoch 42/50\n",
      "53/53 [==============================] - 0s 9ms/step - loss: 0.0141 - root_mean_squared_error: 0.1186 - val_loss: 0.0041 - val_root_mean_squared_error: 0.0637\n",
      "Epoch 43/50\n",
      "53/53 [==============================] - 0s 9ms/step - loss: 0.0111 - root_mean_squared_error: 0.1053 - val_loss: 0.0043 - val_root_mean_squared_error: 0.0658\n",
      "Epoch 44/50\n",
      "53/53 [==============================] - 0s 9ms/step - loss: 0.0125 - root_mean_squared_error: 0.1120 - val_loss: 0.0042 - val_root_mean_squared_error: 0.0646\n",
      "Epoch 45/50\n",
      "53/53 [==============================] - 0s 8ms/step - loss: 0.0141 - root_mean_squared_error: 0.1189 - val_loss: 0.0040 - val_root_mean_squared_error: 0.0636\n",
      "Epoch 46/50\n",
      "53/53 [==============================] - 0s 9ms/step - loss: 0.0131 - root_mean_squared_error: 0.1144 - val_loss: 0.0044 - val_root_mean_squared_error: 0.0662\n",
      "Epoch 47/50\n",
      "53/53 [==============================] - 0s 9ms/step - loss: 0.0133 - root_mean_squared_error: 0.1154 - val_loss: 0.0045 - val_root_mean_squared_error: 0.0674\n",
      "Epoch 48/50\n",
      "53/53 [==============================] - 0s 9ms/step - loss: 0.0132 - root_mean_squared_error: 0.1149 - val_loss: 0.0040 - val_root_mean_squared_error: 0.0632\n",
      "Epoch 49/50\n",
      "53/53 [==============================] - 0s 8ms/step - loss: 0.0126 - root_mean_squared_error: 0.1121 - val_loss: 0.0041 - val_root_mean_squared_error: 0.0640\n",
      "Epoch 50/50\n",
      "53/53 [==============================] - ETA: 0s - loss: 0.0085 - root_mean_squared_error: 0.0924"
     ]
    },
    {
     "name": "stderr",
     "output_type": "stream",
     "text": [
      "WARNING:absl:Found untraced functions such as _jit_compiled_convolution_op while saving (showing 1 of 1). These functions will not be directly callable after loading.\n"
     ]
    },
    {
     "name": "stdout",
     "output_type": "stream",
     "text": [
      "INFO:tensorflow:Assets written to: Barents_model\\assets\n"
     ]
    },
    {
     "name": "stderr",
     "output_type": "stream",
     "text": [
      "INFO:tensorflow:Assets written to: Barents_model\\assets\n"
     ]
    },
    {
     "name": "stdout",
     "output_type": "stream",
     "text": [
      "\b\b\b\b\b\b\b\b\b\b\b\b\b\b\b\b\b\b\b\b\b\b\b\b\b\b\b\b\b\b\b\b\b\b\b\b\b\b\b\b\b\b\b\b\b\b\b\b\b\b\b\b\b\b\b\b\b\b\b\b\b\b\b\b\b\b\b\b\b\b\b\b\b\b\b\b\b\b\b\b\b\b\b\b\b\b\b\b\b\b\b\b\b\b\b\b\b\r",
      "53/53 [==============================] - 4s 75ms/step - loss: 0.0085 - root_mean_squared_error: 0.0924 - val_loss: 0.0038 - val_root_mean_squared_error: 0.0614\n"
     ]
    }
   ],
   "source": [
    "stime = time.time()\n",
    "history = model.fit(X_train, y_train, validation_data=(X_val, y_val), epochs=50, batch_size=8, callbacks=[cp])\n",
    "etime = time.time()"
   ]
  },
  {
   "cell_type": "code",
   "execution_count": 11,
   "id": "1383aef7",
   "metadata": {},
   "outputs": [
    {
     "name": "stdout",
     "output_type": "stream",
     "text": [
      "2.214396051565806 minutes\n"
     ]
    }
   ],
   "source": [
    "time = (etime - stime)/60\n",
    "print(f'{time} minutes')"
   ]
  },
  {
   "cell_type": "code",
   "execution_count": 12,
   "id": "7da1a871",
   "metadata": {},
   "outputs": [],
   "source": [
    "loss = history.history['loss']\n",
    "epochs = list(range(1, len(loss) + 1))"
   ]
  },
  {
   "cell_type": "code",
   "execution_count": 13,
   "id": "66e69f36",
   "metadata": {},
   "outputs": [
    {
     "data": {
      "image/png": "[encoded data removed]",
      "text/plain": [
       "<Figure size 720x432 with 1 Axes>"
      ]
     },
     "metadata": {
      "needs_background": "light"
     },
     "output_type": "display_data"
    }
   ],
   "source": [
    "plt.figure(figsize=(10, 6))\n",
    "plt.plot(epochs, loss, label='Training Loss', marker='o', linestyle='-')\n",
    "\n",
    "plt.xlabel('Epochs')\n",
    "plt.ylabel('Loss')\n",
    "plt.title('Training Loss over Epochs')\n",
    "plt.legend()\n",
    "plt.show()"
   ]
  },
  {
   "cell_type": "code",
   "execution_count": 14,
   "id": "fcd76eb0",
   "metadata": {},
   "outputs": [
    {
     "data": {
      "image/png": "[encoded data removed]",
      "text/plain": [
       "<Figure size 1080x432 with 1 Axes>"
      ]
     },
     "metadata": {
      "needs_background": "light"
     },
     "output_type": "display_data"
    }
   ],
   "source": [
    "training_loss = history.history['loss']\n",
    "validation_loss = history.history['val_loss']\n",
    "epochs = range(1, len(training_loss) + 1)\n",
    "\n",
    "plt.figure(figsize=(15,6))\n",
    "plt.plot(epochs, training_loss, label='Training Loss', marker='o', linestyle='-')\n",
    "plt.plot(epochs, validation_loss, label='Validation Loss', marker='s', linestyle='--')\n",
    "\n",
    "plt.xlabel('Epochs')\n",
    "plt.ylabel('Loss')\n",
    "plt.title('Training and Validation Loss over Epochs')\n",
    "plt.legend()\n",
    "plt.show()"
   ]
  },
  {
   "cell_type": "markdown",
   "id": "3aa973b8",
   "metadata": {},
   "source": [
    "Test Predictions"
   ]
  },
  {
   "cell_type": "code",
   "execution_count": 8,
   "id": "5c1a976a",
   "metadata": {},
   "outputs": [],
   "source": [
    "from tensorflow.keras.models import load_model\n",
    "model1 = load_model('Barents_model/')"
   ]
  },
  {
   "cell_type": "code",
   "execution_count": 9,
   "id": "24a4b2a5",
   "metadata": {},
   "outputs": [
    {
     "name": "stdout",
     "output_type": "stream",
     "text": [
      "2/2 [==============================] - 0s 10ms/step\n"
     ]
    }
   ],
   "source": [
    "test_predictions = model1.predict(X_test)"
   ]
  },
  {
   "cell_type": "code",
   "execution_count": 10,
   "id": "410ac4fc",
   "metadata": {},
   "outputs": [
    {
     "name": "stdout",
     "output_type": "stream",
     "text": [
      "RMSE : 0.061033944172660524\n",
      "MAE : 0.04612726236916771\n"
     ]
    }
   ],
   "source": [
    "mse = mean_squared_error(y_test, test_predictions)\n",
    "print('RMSE :', np.sqrt(mse))\n",
    "\n",
    "mae = mean_absolute_error(y_test, test_predictions)\n",
    "print('MAE :', mae)"
   ]
  },
  {
   "cell_type": "code",
   "execution_count": 17,
   "id": "cff28ea5",
   "metadata": {},
   "outputs": [],
   "source": [
    "test_predictions = scaler.inverse_transform(test_predictions)\n",
    "test_original = scaler.inverse_transform(y_test.reshape(-1,1))"
   ]
  },
  {
   "cell_type": "code",
   "execution_count": 18,
   "id": "e345b352",
   "metadata": {
    "scrolled": true
   },
   "outputs": [
    {
     "data": {
      "text/html": [
       "<div>\n",
       "<style scoped>\n",
       "    .dataframe tbody tr th:only-of-type {\n",
       "        vertical-align: middle;\n",
       "    }\n",
       "\n",
       "    .dataframe tbody tr th {\n",
       "        vertical-align: top;\n",
       "    }\n",
       "\n",
       "    .dataframe thead th {\n",
       "        text-align: right;\n",
       "    }\n",
       "</style>\n",
       "<table border=\"1\" class=\"dataframe\">\n",
       "  <thead>\n",
       "    <tr style=\"text-align: right;\">\n",
       "      <th></th>\n",
       "      <th>Train Predictions</th>\n",
       "      <th>Actual Extent</th>\n",
       "    </tr>\n",
       "  </thead>\n",
       "  <tbody>\n",
       "    <tr>\n",
       "      <th>0</th>\n",
       "      <td>439195.062500</td>\n",
       "      <td>440856.132</td>\n",
       "    </tr>\n",
       "    <tr>\n",
       "      <th>1</th>\n",
       "      <td>236442.781250</td>\n",
       "      <td>265975.112</td>\n",
       "    </tr>\n",
       "    <tr>\n",
       "      <th>2</th>\n",
       "      <td>115469.679688</td>\n",
       "      <td>112300.019</td>\n",
       "    </tr>\n",
       "    <tr>\n",
       "      <th>3</th>\n",
       "      <td>48271.464844</td>\n",
       "      <td>44787.893</td>\n",
       "    </tr>\n",
       "    <tr>\n",
       "      <th>4</th>\n",
       "      <td>28322.839844</td>\n",
       "      <td>14909.156</td>\n",
       "    </tr>\n",
       "    <tr>\n",
       "      <th>5</th>\n",
       "      <td>61028.617188</td>\n",
       "      <td>54595.378</td>\n",
       "    </tr>\n",
       "    <tr>\n",
       "      <th>6</th>\n",
       "      <td>162922.531250</td>\n",
       "      <td>242829.930</td>\n",
       "    </tr>\n",
       "    <tr>\n",
       "      <th>7</th>\n",
       "      <td>367269.250000</td>\n",
       "      <td>406860.687</td>\n",
       "    </tr>\n",
       "    <tr>\n",
       "      <th>8</th>\n",
       "      <td>538731.312500</td>\n",
       "      <td>605897.837</td>\n",
       "    </tr>\n",
       "    <tr>\n",
       "      <th>9</th>\n",
       "      <td>725132.812500</td>\n",
       "      <td>654073.790</td>\n",
       "    </tr>\n",
       "    <tr>\n",
       "      <th>10</th>\n",
       "      <td>695751.500000</td>\n",
       "      <td>701143.910</td>\n",
       "    </tr>\n",
       "    <tr>\n",
       "      <th>11</th>\n",
       "      <td>670117.250000</td>\n",
       "      <td>657891.340</td>\n",
       "    </tr>\n",
       "    <tr>\n",
       "      <th>12</th>\n",
       "      <td>501741.281250</td>\n",
       "      <td>432215.421</td>\n",
       "    </tr>\n",
       "    <tr>\n",
       "      <th>13</th>\n",
       "      <td>230729.359375</td>\n",
       "      <td>201834.787</td>\n",
       "    </tr>\n",
       "    <tr>\n",
       "      <th>14</th>\n",
       "      <td>59099.984375</td>\n",
       "      <td>55041.511</td>\n",
       "    </tr>\n",
       "    <tr>\n",
       "      <th>15</th>\n",
       "      <td>-11063.212891</td>\n",
       "      <td>5387.468</td>\n",
       "    </tr>\n",
       "    <tr>\n",
       "      <th>16</th>\n",
       "      <td>-11049.078125</td>\n",
       "      <td>1576.813</td>\n",
       "    </tr>\n",
       "    <tr>\n",
       "      <th>17</th>\n",
       "      <td>70297.703125</td>\n",
       "      <td>21681.895</td>\n",
       "    </tr>\n",
       "    <tr>\n",
       "      <th>18</th>\n",
       "      <td>171360.750000</td>\n",
       "      <td>37772.681</td>\n",
       "    </tr>\n",
       "    <tr>\n",
       "      <th>19</th>\n",
       "      <td>246360.656250</td>\n",
       "      <td>239568.531</td>\n",
       "    </tr>\n",
       "    <tr>\n",
       "      <th>20</th>\n",
       "      <td>458814.125000</td>\n",
       "      <td>427703.330</td>\n",
       "    </tr>\n",
       "    <tr>\n",
       "      <th>21</th>\n",
       "      <td>542008.875000</td>\n",
       "      <td>753043.012</td>\n",
       "    </tr>\n",
       "    <tr>\n",
       "      <th>22</th>\n",
       "      <td>861341.562500</td>\n",
       "      <td>764554.603</td>\n",
       "    </tr>\n",
       "    <tr>\n",
       "      <th>23</th>\n",
       "      <td>724149.437500</td>\n",
       "      <td>563799.961</td>\n",
       "    </tr>\n",
       "    <tr>\n",
       "      <th>24</th>\n",
       "      <td>434363.906250</td>\n",
       "      <td>444109.886</td>\n",
       "    </tr>\n",
       "    <tr>\n",
       "      <th>25</th>\n",
       "      <td>223391.515625</td>\n",
       "      <td>189669.492</td>\n",
       "    </tr>\n",
       "    <tr>\n",
       "      <th>26</th>\n",
       "      <td>119115.671875</td>\n",
       "      <td>63664.521</td>\n",
       "    </tr>\n",
       "    <tr>\n",
       "      <th>27</th>\n",
       "      <td>-13498.304688</td>\n",
       "      <td>5984.539</td>\n",
       "    </tr>\n",
       "    <tr>\n",
       "      <th>28</th>\n",
       "      <td>19458.921875</td>\n",
       "      <td>1192.062</td>\n",
       "    </tr>\n",
       "    <tr>\n",
       "      <th>29</th>\n",
       "      <td>29072.623047</td>\n",
       "      <td>25987.740</td>\n",
       "    </tr>\n",
       "    <tr>\n",
       "      <th>30</th>\n",
       "      <td>120915.281250</td>\n",
       "      <td>227374.130</td>\n",
       "    </tr>\n",
       "    <tr>\n",
       "      <th>31</th>\n",
       "      <td>360947.125000</td>\n",
       "      <td>498316.637</td>\n",
       "    </tr>\n",
       "    <tr>\n",
       "      <th>32</th>\n",
       "      <td>600049.812500</td>\n",
       "      <td>666292.874</td>\n",
       "    </tr>\n",
       "    <tr>\n",
       "      <th>33</th>\n",
       "      <td>764569.250000</td>\n",
       "      <td>673348.837</td>\n",
       "    </tr>\n",
       "    <tr>\n",
       "      <th>34</th>\n",
       "      <td>693861.250000</td>\n",
       "      <td>635756.948</td>\n",
       "    </tr>\n",
       "    <tr>\n",
       "      <th>35</th>\n",
       "      <td>588068.187500</td>\n",
       "      <td>673503.693</td>\n",
       "    </tr>\n",
       "    <tr>\n",
       "      <th>36</th>\n",
       "      <td>468962.093750</td>\n",
       "      <td>550922.786</td>\n",
       "    </tr>\n",
       "    <tr>\n",
       "      <th>37</th>\n",
       "      <td>317663.562500</td>\n",
       "      <td>116554.569</td>\n",
       "    </tr>\n",
       "    <tr>\n",
       "      <th>38</th>\n",
       "      <td>-51604.992188</td>\n",
       "      <td>12012.356</td>\n",
       "    </tr>\n",
       "    <tr>\n",
       "      <th>39</th>\n",
       "      <td>-6645.871094</td>\n",
       "      <td>5446.433</td>\n",
       "    </tr>\n",
       "    <tr>\n",
       "      <th>40</th>\n",
       "      <td>-76747.906250</td>\n",
       "      <td>2183.701</td>\n",
       "    </tr>\n",
       "    <tr>\n",
       "      <th>41</th>\n",
       "      <td>115836.578125</td>\n",
       "      <td>31883.576</td>\n",
       "    </tr>\n",
       "    <tr>\n",
       "      <th>42</th>\n",
       "      <td>152400.218750</td>\n",
       "      <td>98802.296</td>\n",
       "    </tr>\n",
       "    <tr>\n",
       "      <th>43</th>\n",
       "      <td>340986.125000</td>\n",
       "      <td>224779.107</td>\n",
       "    </tr>\n",
       "    <tr>\n",
       "      <th>44</th>\n",
       "      <td>413700.187500</td>\n",
       "      <td>287476.263</td>\n",
       "    </tr>\n",
       "    <tr>\n",
       "      <th>45</th>\n",
       "      <td>435740.187500</td>\n",
       "      <td>376683.928</td>\n",
       "    </tr>\n",
       "    <tr>\n",
       "      <th>46</th>\n",
       "      <td>483749.687500</td>\n",
       "      <td>571055.966</td>\n",
       "    </tr>\n",
       "    <tr>\n",
       "      <th>47</th>\n",
       "      <td>601287.250000</td>\n",
       "      <td>581039.946</td>\n",
       "    </tr>\n",
       "    <tr>\n",
       "      <th>48</th>\n",
       "      <td>458811.156250</td>\n",
       "      <td>376525.530</td>\n",
       "    </tr>\n",
       "    <tr>\n",
       "      <th>49</th>\n",
       "      <td>155482.156250</td>\n",
       "      <td>124025.343</td>\n",
       "    </tr>\n",
       "    <tr>\n",
       "      <th>50</th>\n",
       "      <td>4014.830566</td>\n",
       "      <td>53107.426</td>\n",
       "    </tr>\n",
       "    <tr>\n",
       "      <th>51</th>\n",
       "      <td>-27162.326172</td>\n",
       "      <td>11242.827</td>\n",
       "    </tr>\n",
       "    <tr>\n",
       "      <th>52</th>\n",
       "      <td>-26375.998047</td>\n",
       "      <td>3272.024</td>\n",
       "    </tr>\n",
       "    <tr>\n",
       "      <th>53</th>\n",
       "      <td>17105.132812</td>\n",
       "      <td>35079.225</td>\n",
       "    </tr>\n",
       "  </tbody>\n",
       "</table>\n",
       "</div>"
      ],
      "text/plain": [
       "    Train Predictions  Actual Extent\n",
       "0       439195.062500     440856.132\n",
       "1       236442.781250     265975.112\n",
       "2       115469.679688     112300.019\n",
       "3        48271.464844      44787.893\n",
       "4        28322.839844      14909.156\n",
       "5        61028.617188      54595.378\n",
       "6       162922.531250     242829.930\n",
       "7       367269.250000     406860.687\n",
       "8       538731.312500     605897.837\n",
       "9       725132.812500     654073.790\n",
       "10      695751.500000     701143.910\n",
       "11      670117.250000     657891.340\n",
       "12      501741.281250     432215.421\n",
       "13      230729.359375     201834.787\n",
       "14       59099.984375      55041.511\n",
       "15      -11063.212891       5387.468\n",
       "16      -11049.078125       1576.813\n",
       "17       70297.703125      21681.895\n",
       "18      171360.750000      37772.681\n",
       "19      246360.656250     239568.531\n",
       "20      458814.125000     427703.330\n",
       "21      542008.875000     753043.012\n",
       "22      861341.562500     764554.603\n",
       "23      724149.437500     563799.961\n",
       "24      434363.906250     444109.886\n",
       "25      223391.515625     189669.492\n",
       "26      119115.671875      63664.521\n",
       "27      -13498.304688       5984.539\n",
       "28       19458.921875       1192.062\n",
       "29       29072.623047      25987.740\n",
       "30      120915.281250     227374.130\n",
       "31      360947.125000     498316.637\n",
       "32      600049.812500     666292.874\n",
       "33      764569.250000     673348.837\n",
       "34      693861.250000     635756.948\n",
       "35      588068.187500     673503.693\n",
       "36      468962.093750     550922.786\n",
       "37      317663.562500     116554.569\n",
       "38      -51604.992188      12012.356\n",
       "39       -6645.871094       5446.433\n",
       "40      -76747.906250       2183.701\n",
       "41      115836.578125      31883.576\n",
       "42      152400.218750      98802.296\n",
       "43      340986.125000     224779.107\n",
       "44      413700.187500     287476.263\n",
       "45      435740.187500     376683.928\n",
       "46      483749.687500     571055.966\n",
       "47      601287.250000     581039.946\n",
       "48      458811.156250     376525.530\n",
       "49      155482.156250     124025.343\n",
       "50        4014.830566      53107.426\n",
       "51      -27162.326172      11242.827\n",
       "52      -26375.998047       3272.024\n",
       "53       17105.132812      35079.225"
      ]
     },
     "execution_count": 18,
     "metadata": {},
     "output_type": "execute_result"
    }
   ],
   "source": [
    "train_results = pd.DataFrame(data={'Train Predictions': test_predictions.flatten(), 'Actual Extent': test_original.flatten()})\n",
    "train_results"
   ]
  },
  {
   "cell_type": "code",
   "execution_count": 19,
   "id": "0f643653",
   "metadata": {},
   "outputs": [
    {
     "data": {
      "image/png": "[encoded data removed]",
      "text/plain": [
       "<Figure size 1080x432 with 1 Axes>"
      ]
     },
     "metadata": {
      "needs_background": "light"
     },
     "output_type": "display_data"
    }
   ],
   "source": [
    "plt.figure(figsize=(15,6))\n",
    "plt.plot(test_original, label='True Values')\n",
    "plt.plot(test_predictions, label='Predicted Values')\n",
    "plt.title('Test Predictions vs Original Test Data')\n",
    "plt.legend()\n",
    "plt.show()"
   ]
  },
  {
   "cell_type": "code",
   "execution_count": 9,
   "id": "c2ea324c",
   "metadata": {},
   "outputs": [
    {
     "name": "stdout",
     "output_type": "stream",
     "text": [
      "17/17 [==============================] - 1s 5ms/step\n"
     ]
    }
   ],
   "source": [
    "predictions = model1.predict(X)"
   ]
  },
  {
   "cell_type": "code",
   "execution_count": 10,
   "id": "c2d33921",
   "metadata": {},
   "outputs": [
    {
     "name": "stdout",
     "output_type": "stream",
     "text": [
      "0.0038016492112446522\n"
     ]
    }
   ],
   "source": [
    "mse = mean_squared_error(y, predictions)\n",
    "print(mse)"
   ]
  },
  {
   "cell_type": "code",
   "execution_count": 11,
   "id": "bfb98ae1",
   "metadata": {},
   "outputs": [
    {
     "name": "stdout",
     "output_type": "stream",
     "text": [
      "0.048295597575249705\n"
     ]
    }
   ],
   "source": [
    "mae = mean_absolute_error(y, predictions)\n",
    "print(mae)"
   ]
  },
  {
   "cell_type": "code",
   "execution_count": 12,
   "id": "6e155c07",
   "metadata": {},
   "outputs": [],
   "source": [
    "predictions = scaler.inverse_transform(predictions)\n",
    "Original = scaler.inverse_transform(y.reshape(-1,1))"
   ]
  },
  {
   "cell_type": "code",
   "execution_count": 13,
   "id": "eb328bbc",
   "metadata": {},
   "outputs": [
    {
     "data": {
      "image/png": "[encoded data removed]",
      "text/plain": [
       "<Figure size 1080x432 with 1 Axes>"
      ]
     },
     "metadata": {
      "needs_background": "light"
     },
     "output_type": "display_data"
    }
   ],
   "source": [
    "plt.figure(figsize=(15,6))\n",
    "plt.plot(Original, label='True Values')\n",
    "plt.plot(predictions, label='Predicted Values')\n",
    "plt.title('Test Predictions vs Original Test Data')\n",
    "plt.legend()\n",
    "plt.show()"
   ]
  },
  {
   "cell_type": "code",
   "execution_count": null,
   "id": "658a85cc",
   "metadata": {},
   "outputs": [],
   "source": []
  }
 ],
 "metadata": {
  "kernelspec": {
   "display_name": "Python 3 (ipykernel)",
   "language": "python",
   "name": "python3"
  },
  "language_info": {
   "codemirror_mode": {
    "name": "ipython",
    "version": 3
   },
   "file_extension": ".py",
   "mimetype": "text/x-python",
   "name": "python",
   "nbconvert_exporter": "python",
   "pygments_lexer": "ipython3",
   "version": "3.10.5"
  }
 },
 "nbformat": 4,
 "nbformat_minor": 5
}
