{
 "cells": [
  {
   "cell_type": "code",
   "execution_count": 1,
   "id": "df96da2e",
   "metadata": {},
   "outputs": [],
   "source": [
    "import numpy as np\n",
    "import pandas as pd\n",
    "import matplotlib.pyplot as plt"
   ]
  },
  {
   "cell_type": "markdown",
   "id": "d7d432a6",
   "metadata": {},
   "source": [
    "RMSE"
   ]
  },
  {
   "cell_type": "code",
   "execution_count": 2,
   "id": "f4f095ea",
   "metadata": {},
   "outputs": [],
   "source": [
    "regions = ['Baffin', 'Barents', 'Bering', 'Greenland', 'Kara']\n",
    "cnn_lstm = [0.0018447478831249864, 0.0038016492112446522, 0.005165124355922127, 0.005153421539269742, 0.007956346032358383]\n",
    "bi_lstm = [0.002819623775059948, 0.007146684572725517, 0.008549249292661739, 0.006603870072441574, 0.011848417260374978]\n",
    "lstm = [0.0049491744755167915, 0.013970339833653691, 0.016357833264662232, 0.012758335963969912, 0.01735039742223574]"
   ]
  },
  {
   "cell_type": "code",
   "execution_count": 3,
   "id": "5c7016ca",
   "metadata": {},
   "outputs": [],
   "source": [
    "df = pd.DataFrame({'Regions':regions, 'MSE_cnn_lstm':cnn_lstm, 'MSE_bi':bi_lstm, 'MSE_lstm':lstm})"
   ]
  },
  {
   "cell_type": "code",
   "execution_count": 4,
   "id": "7e2343e8",
   "metadata": {},
   "outputs": [],
   "source": [
    "df['RMSE_cnn_lstm'] = np.sqrt(df['MSE_cnn_lstm'])\n",
    "df['RMSE_bi'] = np.sqrt(df['MSE_bi'])\n",
    "df['RMSE_lstm'] = np.sqrt(df['MSE_lstm'])"
   ]
  },
  {
   "cell_type": "code",
   "execution_count": 5,
   "id": "6ee082bb",
   "metadata": {
    "scrolled": true
   },
   "outputs": [
    {
     "data": {
      "text/html": [
       "<div>\n",
       "<style scoped>\n",
       "    .dataframe tbody tr th:only-of-type {\n",
       "        vertical-align: middle;\n",
       "    }\n",
       "\n",
       "    .dataframe tbody tr th {\n",
       "        vertical-align: top;\n",
       "    }\n",
       "\n",
       "    .dataframe thead th {\n",
       "        text-align: right;\n",
       "    }\n",
       "</style>\n",
       "<table border=\"1\" class=\"dataframe\">\n",
       "  <thead>\n",
       "    <tr style=\"text-align: right;\">\n",
       "      <th></th>\n",
       "      <th>Regions</th>\n",
       "      <th>MSE_cnn_lstm</th>\n",
       "      <th>MSE_bi</th>\n",
       "      <th>MSE_lstm</th>\n",
       "      <th>RMSE_cnn_lstm</th>\n",
       "      <th>RMSE_bi</th>\n",
       "      <th>RMSE_lstm</th>\n",
       "    </tr>\n",
       "  </thead>\n",
       "  <tbody>\n",
       "    <tr>\n",
       "      <th>0</th>\n",
       "      <td>Baffin</td>\n",
       "      <td>0.001845</td>\n",
       "      <td>0.002820</td>\n",
       "      <td>0.004949</td>\n",
       "      <td>0.042951</td>\n",
       "      <td>0.053100</td>\n",
       "      <td>0.070350</td>\n",
       "    </tr>\n",
       "    <tr>\n",
       "      <th>1</th>\n",
       "      <td>Barents</td>\n",
       "      <td>0.003802</td>\n",
       "      <td>0.007147</td>\n",
       "      <td>0.013970</td>\n",
       "      <td>0.061658</td>\n",
       "      <td>0.084538</td>\n",
       "      <td>0.118196</td>\n",
       "    </tr>\n",
       "    <tr>\n",
       "      <th>2</th>\n",
       "      <td>Bering</td>\n",
       "      <td>0.005165</td>\n",
       "      <td>0.008549</td>\n",
       "      <td>0.016358</td>\n",
       "      <td>0.071869</td>\n",
       "      <td>0.092462</td>\n",
       "      <td>0.127898</td>\n",
       "    </tr>\n",
       "    <tr>\n",
       "      <th>3</th>\n",
       "      <td>Greenland</td>\n",
       "      <td>0.005153</td>\n",
       "      <td>0.006604</td>\n",
       "      <td>0.012758</td>\n",
       "      <td>0.071787</td>\n",
       "      <td>0.081264</td>\n",
       "      <td>0.112953</td>\n",
       "    </tr>\n",
       "    <tr>\n",
       "      <th>4</th>\n",
       "      <td>Kara</td>\n",
       "      <td>0.007956</td>\n",
       "      <td>0.011848</td>\n",
       "      <td>0.017350</td>\n",
       "      <td>0.089198</td>\n",
       "      <td>0.108850</td>\n",
       "      <td>0.131721</td>\n",
       "    </tr>\n",
       "  </tbody>\n",
       "</table>\n",
       "</div>"
      ],
      "text/plain": [
       "     Regions  MSE_cnn_lstm    MSE_bi  MSE_lstm  RMSE_cnn_lstm   RMSE_bi  \\\n",
       "0     Baffin      0.001845  0.002820  0.004949       0.042951  0.053100   \n",
       "1    Barents      0.003802  0.007147  0.013970       0.061658  0.084538   \n",
       "2     Bering      0.005165  0.008549  0.016358       0.071869  0.092462   \n",
       "3  Greenland      0.005153  0.006604  0.012758       0.071787  0.081264   \n",
       "4       Kara      0.007956  0.011848  0.017350       0.089198  0.108850   \n",
       "\n",
       "   RMSE_lstm  \n",
       "0   0.070350  \n",
       "1   0.118196  \n",
       "2   0.127898  \n",
       "3   0.112953  \n",
       "4   0.131721  "
      ]
     },
     "execution_count": 5,
     "metadata": {},
     "output_type": "execute_result"
    }
   ],
   "source": [
    "df"
   ]
  },
  {
   "cell_type": "code",
   "execution_count": 6,
   "id": "7f32c6c5",
   "metadata": {},
   "outputs": [],
   "source": [
    "df_new = df[['Regions', 'RMSE_cnn_lstm', 'RMSE_bi', 'RMSE_lstm']]"
   ]
  },
  {
   "cell_type": "code",
   "execution_count": 7,
   "id": "b53ed1ad",
   "metadata": {},
   "outputs": [
    {
     "data": {
      "image/png": "[encoded data removed]",
      "text/plain": [
       "<Figure size 720x432 with 1 Axes>"
      ]
     },
     "metadata": {
      "needs_background": "light"
     },
     "output_type": "display_data"
    }
   ],
   "source": [
    "df_new.plot(kind='bar', x='Regions', figsize=(10, 6), width=0.8)\n",
    "plt.title('RMSE of Arctic Regions')\n",
    "plt.xlabel('Regions')\n",
    "plt.ylabel('RMSE')\n",
    "plt.xticks(rotation=-45)\n",
    "plt.show()"
   ]
  },
  {
   "cell_type": "markdown",
   "id": "cae68a00",
   "metadata": {},
   "source": [
    "MAE"
   ]
  },
  {
   "cell_type": "code",
   "execution_count": 8,
   "id": "979c580d",
   "metadata": {},
   "outputs": [],
   "source": [
    "bi_mae = [0.040843470145952056, 0.06722263242372013, 0.06759788994623765, 0.06389673271352742, 0.0732173381919645]\n",
    "cnn_mae = [0.03354865883656653, 0.048295597575249705, 0.056790430754090473, 0.057585256094846375, 0.06720889081647315]\n",
    "lstm_mae = [0.05259777058021808, 0.0920698380792859, 0.09348851067413398, 0.08852235618042387, 0.10005978740599628]"
   ]
  },
  {
   "cell_type": "code",
   "execution_count": 11,
   "id": "72c69a30",
   "metadata": {},
   "outputs": [],
   "source": [
    "df_mae = pd.DataFrame({'Regions':regions, 'MAE_cnn_lstm':cnn_mae, 'MAE_bi':bi_mae, 'MAE_lstm':lstm_mae})"
   ]
  },
  {
   "cell_type": "code",
   "execution_count": 12,
   "id": "fb0e2bfe",
   "metadata": {},
   "outputs": [
    {
     "data": {
      "text/html": [
       "<div>\n",
       "<style scoped>\n",
       "    .dataframe tbody tr th:only-of-type {\n",
       "        vertical-align: middle;\n",
       "    }\n",
       "\n",
       "    .dataframe tbody tr th {\n",
       "        vertical-align: top;\n",
       "    }\n",
       "\n",
       "    .dataframe thead th {\n",
       "        text-align: right;\n",
       "    }\n",
       "</style>\n",
       "<table border=\"1\" class=\"dataframe\">\n",
       "  <thead>\n",
       "    <tr style=\"text-align: right;\">\n",
       "      <th></th>\n",
       "      <th>Regions</th>\n",
       "      <th>MAE_cnn_lstm</th>\n",
       "      <th>MAE_bi</th>\n",
       "      <th>MAE_lstm</th>\n",
       "    </tr>\n",
       "  </thead>\n",
       "  <tbody>\n",
       "    <tr>\n",
       "      <th>0</th>\n",
       "      <td>Baffin</td>\n",
       "      <td>0.033549</td>\n",
       "      <td>0.040843</td>\n",
       "      <td>0.052598</td>\n",
       "    </tr>\n",
       "    <tr>\n",
       "      <th>1</th>\n",
       "      <td>Barents</td>\n",
       "      <td>0.048296</td>\n",
       "      <td>0.067223</td>\n",
       "      <td>0.092070</td>\n",
       "    </tr>\n",
       "    <tr>\n",
       "      <th>2</th>\n",
       "      <td>Bering</td>\n",
       "      <td>0.056790</td>\n",
       "      <td>0.067598</td>\n",
       "      <td>0.093489</td>\n",
       "    </tr>\n",
       "    <tr>\n",
       "      <th>3</th>\n",
       "      <td>Greenland</td>\n",
       "      <td>0.057585</td>\n",
       "      <td>0.063897</td>\n",
       "      <td>0.088522</td>\n",
       "    </tr>\n",
       "    <tr>\n",
       "      <th>4</th>\n",
       "      <td>Kara</td>\n",
       "      <td>0.067209</td>\n",
       "      <td>0.073217</td>\n",
       "      <td>0.100060</td>\n",
       "    </tr>\n",
       "  </tbody>\n",
       "</table>\n",
       "</div>"
      ],
      "text/plain": [
       "     Regions  MAE_cnn_lstm    MAE_bi  MAE_lstm\n",
       "0     Baffin      0.033549  0.040843  0.052598\n",
       "1    Barents      0.048296  0.067223  0.092070\n",
       "2     Bering      0.056790  0.067598  0.093489\n",
       "3  Greenland      0.057585  0.063897  0.088522\n",
       "4       Kara      0.067209  0.073217  0.100060"
      ]
     },
     "execution_count": 12,
     "metadata": {},
     "output_type": "execute_result"
    }
   ],
   "source": [
    "df_mae"
   ]
  },
  {
   "cell_type": "code",
   "execution_count": 13,
   "id": "d8eb7b02",
   "metadata": {},
   "outputs": [
    {
     "data": {
      "image/png": "[encoded data removed]",
      "text/plain": [
       "<Figure size 720x432 with 1 Axes>"
      ]
     },
     "metadata": {
      "needs_background": "light"
     },
     "output_type": "display_data"
    }
   ],
   "source": [
    "df_mae.plot(kind='bar', x='Regions', figsize=(10, 6), width=0.8)\n",
    "plt.title('MAE of Arctic Regions')\n",
    "plt.xlabel('Regions')\n",
    "plt.ylabel('MAE')\n",
    "plt.xticks(rotation=-45)\n",
    "plt.show()"
   ]
  },
  {
   "cell_type": "code",
   "execution_count": null,
   "id": "a83e2e86",
   "metadata": {},
   "outputs": [],
   "source": []
  }
 ],
 "metadata": {
  "kernelspec": {
   "display_name": "Python 3 (ipykernel)",
   "language": "python",
   "name": "python3"
  },
  "language_info": {
   "codemirror_mode": {
    "name": "ipython",
    "version": 3
   },
   "file_extension": ".py",
   "mimetype": "text/x-python",
   "name": "python",
   "nbconvert_exporter": "python",
   "pygments_lexer": "ipython3",
   "version": "3.10.5"
  }
 },
 "nbformat": 4,
 "nbformat_minor": 5
}
