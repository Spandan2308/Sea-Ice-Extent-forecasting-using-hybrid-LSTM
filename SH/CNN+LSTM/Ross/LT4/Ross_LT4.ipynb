{
 "cells": [
  {
   "cell_type": "code",
   "execution_count": 1,
   "id": "60948ffb",
   "metadata": {},
   "outputs": [],
   "source": [
    "import numpy as np\n",
    "import pandas as pd\n",
    "import matplotlib.pyplot as plt\n",
    "\n",
    "from sklearn.preprocessing import MinMaxScaler\n",
    "from sklearn.metrics import mean_squared_error, mean_absolute_error\n",
    "\n",
    "from keras.models import Sequential\n",
    "from keras.layers import InputLayer, LSTM, Dense, Dropout, Conv1D, MaxPooling1D, BatchNormalization\n",
    "from keras.optimizers import Adam\n",
    "from keras.losses import MeanSquaredError\n",
    "from keras.metrics import RootMeanSquaredError\n",
    "from keras.constraints import MaxNorm\n",
    "from keras.callbacks import ModelCheckpoint\n",
    "\n",
    "import time"
   ]
  },
  {
   "cell_type": "code",
   "execution_count": 2,
   "id": "52ea51d2",
   "metadata": {},
   "outputs": [],
   "source": [
    "filepath = 'C:/Users/ss230/Documents/Study/NSIDC/Edited Data/S_Sea_Ice_Index_Regional_Monthly_Data_G02135_v3.0.xlsx'\n",
    "Ross_Extent = pd.read_excel(filepath, sheet_name='Ross-Extent-km^2')"
   ]
  },
  {
   "cell_type": "code",
   "execution_count": 3,
   "id": "4a6625f2",
   "metadata": {},
   "outputs": [],
   "source": [
    "import sys\n",
    "sys.path.append('C:/Users/ss230/Documents/Study/NSIDC/SH/Bi_LSTM_Extent/')\n",
    "import Function as fp"
   ]
  },
  {
   "cell_type": "code",
   "execution_count": 4,
   "id": "07da8fde",
   "metadata": {},
   "outputs": [
    {
     "data": {
      "text/html": [
       "<div>\n",
       "<style scoped>\n",
       "    .dataframe tbody tr th:only-of-type {\n",
       "        vertical-align: middle;\n",
       "    }\n",
       "\n",
       "    .dataframe tbody tr th {\n",
       "        vertical-align: top;\n",
       "    }\n",
       "\n",
       "    .dataframe thead th {\n",
       "        text-align: right;\n",
       "    }\n",
       "</style>\n",
       "<table border=\"1\" class=\"dataframe\">\n",
       "  <thead>\n",
       "    <tr style=\"text-align: right;\">\n",
       "      <th></th>\n",
       "      <th>Extent</th>\n",
       "      <th>Date</th>\n",
       "    </tr>\n",
       "  </thead>\n",
       "  <tbody>\n",
       "    <tr>\n",
       "      <th>0</th>\n",
       "      <td>1040455.516</td>\n",
       "      <td>1979-01-01</td>\n",
       "    </tr>\n",
       "    <tr>\n",
       "      <th>1</th>\n",
       "      <td>239334.118</td>\n",
       "      <td>1979-02-01</td>\n",
       "    </tr>\n",
       "    <tr>\n",
       "      <th>2</th>\n",
       "      <td>557365.154</td>\n",
       "      <td>1979-03-01</td>\n",
       "    </tr>\n",
       "    <tr>\n",
       "      <th>3</th>\n",
       "      <td>2054855.924</td>\n",
       "      <td>1979-04-01</td>\n",
       "    </tr>\n",
       "    <tr>\n",
       "      <th>4</th>\n",
       "      <td>2973925.625</td>\n",
       "      <td>1979-05-01</td>\n",
       "    </tr>\n",
       "    <tr>\n",
       "      <th>...</th>\n",
       "      <td>...</td>\n",
       "      <td>...</td>\n",
       "    </tr>\n",
       "    <tr>\n",
       "      <th>533</th>\n",
       "      <td>3137598.938</td>\n",
       "      <td>2023-06-01</td>\n",
       "    </tr>\n",
       "    <tr>\n",
       "      <th>534</th>\n",
       "      <td>3201783.453</td>\n",
       "      <td>2023-07-01</td>\n",
       "    </tr>\n",
       "    <tr>\n",
       "      <th>535</th>\n",
       "      <td>2973294.266</td>\n",
       "      <td>2023-08-01</td>\n",
       "    </tr>\n",
       "    <tr>\n",
       "      <th>536</th>\n",
       "      <td>3354839.711</td>\n",
       "      <td>2023-09-01</td>\n",
       "    </tr>\n",
       "    <tr>\n",
       "      <th>537</th>\n",
       "      <td>3325613.245</td>\n",
       "      <td>2023-10-01</td>\n",
       "    </tr>\n",
       "  </tbody>\n",
       "</table>\n",
       "<p>538 rows × 2 columns</p>\n",
       "</div>"
      ],
      "text/plain": [
       "          Extent       Date\n",
       "0    1040455.516 1979-01-01\n",
       "1     239334.118 1979-02-01\n",
       "2     557365.154 1979-03-01\n",
       "3    2054855.924 1979-04-01\n",
       "4    2973925.625 1979-05-01\n",
       "..           ...        ...\n",
       "533  3137598.938 2023-06-01\n",
       "534  3201783.453 2023-07-01\n",
       "535  2973294.266 2023-08-01\n",
       "536  3354839.711 2023-09-01\n",
       "537  3325613.245 2023-10-01\n",
       "\n",
       "[538 rows x 2 columns]"
      ]
     },
     "execution_count": 4,
     "metadata": {},
     "output_type": "execute_result"
    }
   ],
   "source": [
    "fp.month_mapping(Ross_Extent)\n",
    "fp.date_time(Ross_Extent)"
   ]
  },
  {
   "cell_type": "code",
   "execution_count": 5,
   "id": "7a170903",
   "metadata": {},
   "outputs": [],
   "source": [
    "scaler = MinMaxScaler()\n",
    "Ross_Extent['Extent'] = scaler.fit_transform(Ross_Extent['Extent'].values.reshape(-1, 1))"
   ]
  },
  {
   "cell_type": "code",
   "execution_count": 6,
   "id": "db804a9a",
   "metadata": {},
   "outputs": [],
   "source": [
    "def df_to_X_y(df, window_size):\n",
    "    df_as_np = df.to_numpy()\n",
    "    X = []\n",
    "    y = []\n",
    "    lead_time = 4\n",
    "    for i in range(len(df_as_np) - window_size - lead_time + 1):\n",
    "        window_data = df_as_np[i:i+window_size]\n",
    "        row = [[a] for a in window_data]\n",
    "        X.append(row)\n",
    "        label = df_as_np[i+window_size+lead_time-1]\n",
    "        y.append(label)\n",
    "    return np.array(X), np.array(y)"
   ]
  },
  {
   "cell_type": "code",
   "execution_count": 7,
   "id": "c2773efc",
   "metadata": {},
   "outputs": [
    {
     "data": {
      "text/plain": [
       "((523, 12, 1), (523,))"
      ]
     },
     "execution_count": 7,
     "metadata": {},
     "output_type": "execute_result"
    }
   ],
   "source": [
    "extent = Ross_Extent['Extent']\n",
    "W_S=12\n",
    "X,y = df_to_X_y(extent, W_S)\n",
    "X.shape, y.shape"
   ]
  },
  {
   "cell_type": "code",
   "execution_count": 8,
   "id": "6e24ab51",
   "metadata": {},
   "outputs": [],
   "source": [
    "X_train, y_train = X[:420], y[:420]\n",
    "X_val, y_val = X[420:472], y[420:472]\n",
    "X_test, y_test = X[472:], y[472:]"
   ]
  },
  {
   "cell_type": "code",
   "execution_count": 9,
   "id": "46a01d0f",
   "metadata": {},
   "outputs": [],
   "source": [
    "model = Sequential()\n",
    "model.add(Conv1D(filters=64, kernel_size=3, activation='relu', input_shape=(W_S, 1)))\n",
    "model.add(MaxPooling1D(pool_size=2))\n",
    "model.add(LSTM(32, kernel_constraint=MaxNorm(1.0), activation='relu'))\n",
    "model.add(BatchNormalization())\n",
    "model.add(Dense(1, activation='linear'))"
   ]
  },
  {
   "cell_type": "code",
   "execution_count": 10,
   "id": "84c30b3c",
   "metadata": {},
   "outputs": [],
   "source": [
    "cp = ModelCheckpoint('Ross_model_LT4/', save_best_only=True)\n",
    "model.compile(loss=MeanSquaredError(), optimizer=Adam(0.0001), metrics=[RootMeanSquaredError()])"
   ]
  },
  {
   "cell_type": "code",
   "execution_count": 11,
   "id": "74c7518a",
   "metadata": {
    "scrolled": true
   },
   "outputs": [
    {
     "name": "stdout",
     "output_type": "stream",
     "text": [
      "Epoch 1/50\n",
      "46/53 [=========================>....] - ETA: 0s - loss: 0.4086 - root_mean_squared_error: 0.6393"
     ]
    },
    {
     "name": "stderr",
     "output_type": "stream",
     "text": [
      "WARNING:absl:Found untraced functions such as _jit_compiled_convolution_op while saving (showing 1 of 1). These functions will not be directly callable after loading.\n"
     ]
    },
    {
     "name": "stdout",
     "output_type": "stream",
     "text": [
      "INFO:tensorflow:Assets written to: Ross_model_LT4\\assets\n"
     ]
    },
    {
     "name": "stderr",
     "output_type": "stream",
     "text": [
      "INFO:tensorflow:Assets written to: Ross_model_LT4\\assets\n"
     ]
    },
    {
     "name": "stdout",
     "output_type": "stream",
     "text": [
      "53/53 [==============================] - 7s 81ms/step - loss: 0.4096 - root_mean_squared_error: 0.6400 - val_loss: 0.3338 - val_root_mean_squared_error: 0.5777\n",
      "Epoch 2/50\n",
      "47/53 [=========================>....] - ETA: 0s - loss: 0.3311 - root_mean_squared_error: 0.5754"
     ]
    },
    {
     "name": "stderr",
     "output_type": "stream",
     "text": [
      "WARNING:absl:Found untraced functions such as _jit_compiled_convolution_op while saving (showing 1 of 1). These functions will not be directly callable after loading.\n"
     ]
    },
    {
     "name": "stdout",
     "output_type": "stream",
     "text": [
      "INFO:tensorflow:Assets written to: Ross_model_LT4\\assets\n"
     ]
    },
    {
     "name": "stderr",
     "output_type": "stream",
     "text": [
      "INFO:tensorflow:Assets written to: Ross_model_LT4\\assets\n"
     ]
    },
    {
     "name": "stdout",
     "output_type": "stream",
     "text": [
      "53/53 [==============================] - 4s 70ms/step - loss: 0.3242 - root_mean_squared_error: 0.5694 - val_loss: 0.3028 - val_root_mean_squared_error: 0.5502\n",
      "Epoch 3/50\n",
      "52/53 [============================>.] - ETA: 0s - loss: 0.2795 - root_mean_squared_error: 0.5287"
     ]
    },
    {
     "name": "stderr",
     "output_type": "stream",
     "text": [
      "WARNING:absl:Found untraced functions such as _jit_compiled_convolution_op while saving (showing 1 of 1). These functions will not be directly callable after loading.\n"
     ]
    },
    {
     "name": "stdout",
     "output_type": "stream",
     "text": [
      "INFO:tensorflow:Assets written to: Ross_model_LT4\\assets\n"
     ]
    },
    {
     "name": "stderr",
     "output_type": "stream",
     "text": [
      "INFO:tensorflow:Assets written to: Ross_model_LT4\\assets\n"
     ]
    },
    {
     "name": "stdout",
     "output_type": "stream",
     "text": [
      "53/53 [==============================] - 4s 72ms/step - loss: 0.2781 - root_mean_squared_error: 0.5274 - val_loss: 0.2634 - val_root_mean_squared_error: 0.5132\n",
      "Epoch 4/50\n",
      "51/53 [===========================>..] - ETA: 0s - loss: 0.2373 - root_mean_squared_error: 0.4872"
     ]
    },
    {
     "name": "stderr",
     "output_type": "stream",
     "text": [
      "WARNING:absl:Found untraced functions such as _jit_compiled_convolution_op while saving (showing 1 of 1). These functions will not be directly callable after loading.\n"
     ]
    },
    {
     "name": "stdout",
     "output_type": "stream",
     "text": [
      "INFO:tensorflow:Assets written to: Ross_model_LT4\\assets\n"
     ]
    },
    {
     "name": "stderr",
     "output_type": "stream",
     "text": [
      "INFO:tensorflow:Assets written to: Ross_model_LT4\\assets\n"
     ]
    },
    {
     "name": "stdout",
     "output_type": "stream",
     "text": [
      "53/53 [==============================] - 4s 72ms/step - loss: 0.2358 - root_mean_squared_error: 0.4856 - val_loss: 0.2221 - val_root_mean_squared_error: 0.4713\n",
      "Epoch 5/50\n",
      "47/53 [=========================>....] - ETA: 0s - loss: 0.2072 - root_mean_squared_error: 0.4552"
     ]
    },
    {
     "name": "stderr",
     "output_type": "stream",
     "text": [
      "WARNING:absl:Found untraced functions such as _jit_compiled_convolution_op while saving (showing 1 of 1). These functions will not be directly callable after loading.\n"
     ]
    },
    {
     "name": "stdout",
     "output_type": "stream",
     "text": [
      "INFO:tensorflow:Assets written to: Ross_model_LT4\\assets\n"
     ]
    },
    {
     "name": "stderr",
     "output_type": "stream",
     "text": [
      "INFO:tensorflow:Assets written to: Ross_model_LT4\\assets\n"
     ]
    },
    {
     "name": "stdout",
     "output_type": "stream",
     "text": [
      "53/53 [==============================] - 4s 71ms/step - loss: 0.2028 - root_mean_squared_error: 0.4503 - val_loss: 0.1820 - val_root_mean_squared_error: 0.4266\n",
      "Epoch 6/50\n",
      "53/53 [==============================] - ETA: 0s - loss: 0.1669 - root_mean_squared_error: 0.4085"
     ]
    },
    {
     "name": "stderr",
     "output_type": "stream",
     "text": [
      "WARNING:absl:Found untraced functions such as _jit_compiled_convolution_op while saving (showing 1 of 1). These functions will not be directly callable after loading.\n"
     ]
    },
    {
     "name": "stdout",
     "output_type": "stream",
     "text": [
      "INFO:tensorflow:Assets written to: Ross_model_LT4\\assets\n"
     ]
    },
    {
     "name": "stderr",
     "output_type": "stream",
     "text": [
      "INFO:tensorflow:Assets written to: Ross_model_LT4\\assets\n"
     ]
    },
    {
     "name": "stdout",
     "output_type": "stream",
     "text": [
      "53/53 [==============================] - 4s 68ms/step - loss: 0.1669 - root_mean_squared_error: 0.4085 - val_loss: 0.1462 - val_root_mean_squared_error: 0.3823\n",
      "Epoch 7/50\n",
      "48/53 [==========================>...] - ETA: 0s - loss: 0.1353 - root_mean_squared_error: 0.3678"
     ]
    },
    {
     "name": "stderr",
     "output_type": "stream",
     "text": [
      "WARNING:absl:Found untraced functions such as _jit_compiled_convolution_op while saving (showing 1 of 1). These functions will not be directly callable after loading.\n"
     ]
    },
    {
     "name": "stdout",
     "output_type": "stream",
     "text": [
      "INFO:tensorflow:Assets written to: Ross_model_LT4\\assets\n"
     ]
    },
    {
     "name": "stderr",
     "output_type": "stream",
     "text": [
      "INFO:tensorflow:Assets written to: Ross_model_LT4\\assets\n"
     ]
    },
    {
     "name": "stdout",
     "output_type": "stream",
     "text": [
      "53/53 [==============================] - 4s 77ms/step - loss: 0.1358 - root_mean_squared_error: 0.3685 - val_loss: 0.1177 - val_root_mean_squared_error: 0.3430\n",
      "Epoch 8/50\n",
      "53/53 [==============================] - ETA: 0s - loss: 0.1109 - root_mean_squared_error: 0.3330"
     ]
    },
    {
     "name": "stderr",
     "output_type": "stream",
     "text": [
      "WARNING:absl:Found untraced functions such as _jit_compiled_convolution_op while saving (showing 1 of 1). These functions will not be directly callable after loading.\n"
     ]
    },
    {
     "name": "stdout",
     "output_type": "stream",
     "text": [
      "INFO:tensorflow:Assets written to: Ross_model_LT4\\assets\n"
     ]
    },
    {
     "name": "stderr",
     "output_type": "stream",
     "text": [
      "INFO:tensorflow:Assets written to: Ross_model_LT4\\assets\n"
     ]
    },
    {
     "name": "stdout",
     "output_type": "stream",
     "text": [
      "53/53 [==============================] - 4s 76ms/step - loss: 0.1109 - root_mean_squared_error: 0.3330 - val_loss: 0.0929 - val_root_mean_squared_error: 0.3047\n",
      "Epoch 9/50\n",
      "53/53 [==============================] - ETA: 0s - loss: 0.0879 - root_mean_squared_error: 0.2965"
     ]
    },
    {
     "name": "stderr",
     "output_type": "stream",
     "text": [
      "WARNING:absl:Found untraced functions such as _jit_compiled_convolution_op while saving (showing 1 of 1). These functions will not be directly callable after loading.\n"
     ]
    },
    {
     "name": "stdout",
     "output_type": "stream",
     "text": [
      "INFO:tensorflow:Assets written to: Ross_model_LT4\\assets\n"
     ]
    },
    {
     "name": "stderr",
     "output_type": "stream",
     "text": [
      "INFO:tensorflow:Assets written to: Ross_model_LT4\\assets\n"
     ]
    },
    {
     "name": "stdout",
     "output_type": "stream",
     "text": [
      "53/53 [==============================] - 4s 76ms/step - loss: 0.0879 - root_mean_squared_error: 0.2965 - val_loss: 0.0715 - val_root_mean_squared_error: 0.2674\n",
      "Epoch 10/50\n",
      "53/53 [==============================] - ETA: 0s - loss: 0.0674 - root_mean_squared_error: 0.2595"
     ]
    },
    {
     "name": "stderr",
     "output_type": "stream",
     "text": [
      "WARNING:absl:Found untraced functions such as _jit_compiled_convolution_op while saving (showing 1 of 1). These functions will not be directly callable after loading.\n"
     ]
    },
    {
     "name": "stdout",
     "output_type": "stream",
     "text": [
      "INFO:tensorflow:Assets written to: Ross_model_LT4\\assets\n"
     ]
    },
    {
     "name": "stderr",
     "output_type": "stream",
     "text": [
      "INFO:tensorflow:Assets written to: Ross_model_LT4\\assets\n"
     ]
    },
    {
     "name": "stdout",
     "output_type": "stream",
     "text": [
      "53/53 [==============================] - 4s 82ms/step - loss: 0.0674 - root_mean_squared_error: 0.2595 - val_loss: 0.0578 - val_root_mean_squared_error: 0.2405\n",
      "Epoch 11/50\n",
      "44/53 [=======================>......] - ETA: 0s - loss: 0.0508 - root_mean_squared_error: 0.2254"
     ]
    },
    {
     "name": "stderr",
     "output_type": "stream",
     "text": [
      "WARNING:absl:Found untraced functions such as _jit_compiled_convolution_op while saving (showing 1 of 1). These functions will not be directly callable after loading.\n"
     ]
    },
    {
     "name": "stdout",
     "output_type": "stream",
     "text": [
      "INFO:tensorflow:Assets written to: Ross_model_LT4\\assets\n"
     ]
    },
    {
     "name": "stderr",
     "output_type": "stream",
     "text": [
      "INFO:tensorflow:Assets written to: Ross_model_LT4\\assets\n"
     ]
    },
    {
     "name": "stdout",
     "output_type": "stream",
     "text": [
      "53/53 [==============================] - 4s 73ms/step - loss: 0.0506 - root_mean_squared_error: 0.2249 - val_loss: 0.0426 - val_root_mean_squared_error: 0.2063\n",
      "Epoch 12/50\n",
      "47/53 [=========================>....] - ETA: 0s - loss: 0.0439 - root_mean_squared_error: 0.2096"
     ]
    },
    {
     "name": "stderr",
     "output_type": "stream",
     "text": [
      "WARNING:absl:Found untraced functions such as _jit_compiled_convolution_op while saving (showing 1 of 1). These functions will not be directly callable after loading.\n"
     ]
    },
    {
     "name": "stdout",
     "output_type": "stream",
     "text": [
      "INFO:tensorflow:Assets written to: Ross_model_LT4\\assets\n"
     ]
    },
    {
     "name": "stderr",
     "output_type": "stream",
     "text": [
      "INFO:tensorflow:Assets written to: Ross_model_LT4\\assets\n"
     ]
    },
    {
     "name": "stdout",
     "output_type": "stream",
     "text": [
      "53/53 [==============================] - 4s 80ms/step - loss: 0.0422 - root_mean_squared_error: 0.2054 - val_loss: 0.0324 - val_root_mean_squared_error: 0.1801\n",
      "Epoch 13/50\n",
      "46/53 [=========================>....] - ETA: 0s - loss: 0.0344 - root_mean_squared_error: 0.1855"
     ]
    },
    {
     "name": "stderr",
     "output_type": "stream",
     "text": [
      "WARNING:absl:Found untraced functions such as _jit_compiled_convolution_op while saving (showing 1 of 1). These functions will not be directly callable after loading.\n"
     ]
    },
    {
     "name": "stdout",
     "output_type": "stream",
     "text": [
      "INFO:tensorflow:Assets written to: Ross_model_LT4\\assets\n"
     ]
    },
    {
     "name": "stderr",
     "output_type": "stream",
     "text": [
      "INFO:tensorflow:Assets written to: Ross_model_LT4\\assets\n"
     ]
    },
    {
     "name": "stdout",
     "output_type": "stream",
     "text": [
      "53/53 [==============================] - 3s 62ms/step - loss: 0.0335 - root_mean_squared_error: 0.1829 - val_loss: 0.0255 - val_root_mean_squared_error: 0.1596\n",
      "Epoch 14/50\n",
      "52/53 [============================>.] - ETA: 0s - loss: 0.0270 - root_mean_squared_error: 0.1642"
     ]
    },
    {
     "name": "stderr",
     "output_type": "stream",
     "text": [
      "WARNING:absl:Found untraced functions such as _jit_compiled_convolution_op while saving (showing 1 of 1). These functions will not be directly callable after loading.\n"
     ]
    },
    {
     "name": "stdout",
     "output_type": "stream",
     "text": [
      "INFO:tensorflow:Assets written to: Ross_model_LT4\\assets\n"
     ]
    },
    {
     "name": "stderr",
     "output_type": "stream",
     "text": [
      "INFO:tensorflow:Assets written to: Ross_model_LT4\\assets\n"
     ]
    },
    {
     "name": "stdout",
     "output_type": "stream",
     "text": [
      "53/53 [==============================] - 4s 73ms/step - loss: 0.0269 - root_mean_squared_error: 0.1640 - val_loss: 0.0182 - val_root_mean_squared_error: 0.1350\n",
      "Epoch 15/50\n",
      "52/53 [============================>.] - ETA: 0s - loss: 0.0199 - root_mean_squared_error: 0.1411"
     ]
    },
    {
     "name": "stderr",
     "output_type": "stream",
     "text": [
      "WARNING:absl:Found untraced functions such as _jit_compiled_convolution_op while saving (showing 1 of 1). These functions will not be directly callable after loading.\n"
     ]
    },
    {
     "name": "stdout",
     "output_type": "stream",
     "text": [
      "INFO:tensorflow:Assets written to: Ross_model_LT4\\assets\n"
     ]
    },
    {
     "name": "stderr",
     "output_type": "stream",
     "text": [
      "INFO:tensorflow:Assets written to: Ross_model_LT4\\assets\n"
     ]
    },
    {
     "name": "stdout",
     "output_type": "stream",
     "text": [
      "53/53 [==============================] - 4s 79ms/step - loss: 0.0198 - root_mean_squared_error: 0.1406 - val_loss: 0.0140 - val_root_mean_squared_error: 0.1183\n",
      "Epoch 16/50\n",
      "53/53 [==============================] - ETA: 0s - loss: 0.0170 - root_mean_squared_error: 0.1304"
     ]
    },
    {
     "name": "stderr",
     "output_type": "stream",
     "text": [
      "WARNING:absl:Found untraced functions such as _jit_compiled_convolution_op while saving (showing 1 of 1). These functions will not be directly callable after loading.\n"
     ]
    },
    {
     "name": "stdout",
     "output_type": "stream",
     "text": [
      "INFO:tensorflow:Assets written to: Ross_model_LT4\\assets\n"
     ]
    },
    {
     "name": "stderr",
     "output_type": "stream",
     "text": [
      "INFO:tensorflow:Assets written to: Ross_model_LT4\\assets\n"
     ]
    },
    {
     "name": "stdout",
     "output_type": "stream",
     "text": [
      "53/53 [==============================] - 4s 71ms/step - loss: 0.0170 - root_mean_squared_error: 0.1304 - val_loss: 0.0130 - val_root_mean_squared_error: 0.1139\n",
      "Epoch 17/50\n",
      "45/53 [========================>.....] - ETA: 0s - loss: 0.0150 - root_mean_squared_error: 0.1225"
     ]
    },
    {
     "name": "stderr",
     "output_type": "stream",
     "text": [
      "WARNING:absl:Found untraced functions such as _jit_compiled_convolution_op while saving (showing 1 of 1). These functions will not be directly callable after loading.\n"
     ]
    },
    {
     "name": "stdout",
     "output_type": "stream",
     "text": [
      "INFO:tensorflow:Assets written to: Ross_model_LT4\\assets\n"
     ]
    },
    {
     "name": "stderr",
     "output_type": "stream",
     "text": [
      "INFO:tensorflow:Assets written to: Ross_model_LT4\\assets\n"
     ]
    },
    {
     "name": "stdout",
     "output_type": "stream",
     "text": [
      "53/53 [==============================] - 4s 73ms/step - loss: 0.0157 - root_mean_squared_error: 0.1254 - val_loss: 0.0120 - val_root_mean_squared_error: 0.1093\n",
      "Epoch 18/50\n",
      "47/53 [=========================>....] - ETA: 0s - loss: 0.0179 - root_mean_squared_error: 0.1339"
     ]
    },
    {
     "name": "stderr",
     "output_type": "stream",
     "text": [
      "WARNING:absl:Found untraced functions such as _jit_compiled_convolution_op while saving (showing 1 of 1). These functions will not be directly callable after loading.\n"
     ]
    },
    {
     "name": "stdout",
     "output_type": "stream",
     "text": [
      "INFO:tensorflow:Assets written to: Ross_model_LT4\\assets\n"
     ]
    },
    {
     "name": "stderr",
     "output_type": "stream",
     "text": [
      "INFO:tensorflow:Assets written to: Ross_model_LT4\\assets\n"
     ]
    },
    {
     "name": "stdout",
     "output_type": "stream",
     "text": [
      "53/53 [==============================] - 4s 78ms/step - loss: 0.0171 - root_mean_squared_error: 0.1306 - val_loss: 0.0113 - val_root_mean_squared_error: 0.1064\n",
      "Epoch 19/50\n",
      "47/53 [=========================>....] - ETA: 0s - loss: 0.0159 - root_mean_squared_error: 0.1263"
     ]
    },
    {
     "name": "stderr",
     "output_type": "stream",
     "text": [
      "WARNING:absl:Found untraced functions such as _jit_compiled_convolution_op while saving (showing 1 of 1). These functions will not be directly callable after loading.\n"
     ]
    },
    {
     "name": "stdout",
     "output_type": "stream",
     "text": [
      "INFO:tensorflow:Assets written to: Ross_model_LT4\\assets\n"
     ]
    },
    {
     "name": "stderr",
     "output_type": "stream",
     "text": [
      "INFO:tensorflow:Assets written to: Ross_model_LT4\\assets\n"
     ]
    },
    {
     "name": "stdout",
     "output_type": "stream",
     "text": [
      "53/53 [==============================] - 3s 63ms/step - loss: 0.0158 - root_mean_squared_error: 0.1257 - val_loss: 0.0107 - val_root_mean_squared_error: 0.1034\n",
      "Epoch 20/50\n",
      "52/53 [============================>.] - ETA: 0s - loss: 0.0132 - root_mean_squared_error: 0.1150"
     ]
    },
    {
     "name": "stderr",
     "output_type": "stream",
     "text": [
      "WARNING:absl:Found untraced functions such as _jit_compiled_convolution_op while saving (showing 1 of 1). These functions will not be directly callable after loading.\n"
     ]
    },
    {
     "name": "stdout",
     "output_type": "stream",
     "text": [
      "INFO:tensorflow:Assets written to: Ross_model_LT4\\assets\n"
     ]
    },
    {
     "name": "stderr",
     "output_type": "stream",
     "text": [
      "INFO:tensorflow:Assets written to: Ross_model_LT4\\assets\n"
     ]
    },
    {
     "name": "stdout",
     "output_type": "stream",
     "text": [
      "53/53 [==============================] - 3s 64ms/step - loss: 0.0133 - root_mean_squared_error: 0.1155 - val_loss: 0.0104 - val_root_mean_squared_error: 0.1018\n",
      "Epoch 21/50\n",
      "46/53 [=========================>....] - ETA: 0s - loss: 0.0146 - root_mean_squared_error: 0.1207"
     ]
    },
    {
     "name": "stderr",
     "output_type": "stream",
     "text": [
      "WARNING:absl:Found untraced functions such as _jit_compiled_convolution_op while saving (showing 1 of 1). These functions will not be directly callable after loading.\n"
     ]
    },
    {
     "name": "stdout",
     "output_type": "stream",
     "text": [
      "INFO:tensorflow:Assets written to: Ross_model_LT4\\assets\n"
     ]
    },
    {
     "name": "stderr",
     "output_type": "stream",
     "text": [
      "INFO:tensorflow:Assets written to: Ross_model_LT4\\assets\n"
     ]
    },
    {
     "name": "stdout",
     "output_type": "stream",
     "text": [
      "53/53 [==============================] - 4s 75ms/step - loss: 0.0140 - root_mean_squared_error: 0.1185 - val_loss: 0.0094 - val_root_mean_squared_error: 0.0967\n",
      "Epoch 22/50\n",
      "45/53 [========================>.....] - ETA: 0s - loss: 0.0130 - root_mean_squared_error: 0.1140"
     ]
    },
    {
     "name": "stderr",
     "output_type": "stream",
     "text": [
      "WARNING:absl:Found untraced functions such as _jit_compiled_convolution_op while saving (showing 1 of 1). These functions will not be directly callable after loading.\n"
     ]
    },
    {
     "name": "stdout",
     "output_type": "stream",
     "text": [
      "INFO:tensorflow:Assets written to: Ross_model_LT4\\assets\n"
     ]
    },
    {
     "name": "stderr",
     "output_type": "stream",
     "text": [
      "INFO:tensorflow:Assets written to: Ross_model_LT4\\assets\n"
     ]
    },
    {
     "name": "stdout",
     "output_type": "stream",
     "text": [
      "53/53 [==============================] - 4s 69ms/step - loss: 0.0119 - root_mean_squared_error: 0.1092 - val_loss: 0.0088 - val_root_mean_squared_error: 0.0937\n",
      "Epoch 23/50\n",
      "53/53 [==============================] - 0s 6ms/step - loss: 0.0134 - root_mean_squared_error: 0.1158 - val_loss: 0.0146 - val_root_mean_squared_error: 0.1210\n",
      "Epoch 24/50\n",
      "53/53 [==============================] - 0s 6ms/step - loss: 0.0091 - root_mean_squared_error: 0.0953 - val_loss: 0.0102 - val_root_mean_squared_error: 0.1009\n",
      "Epoch 25/50\n",
      "50/53 [===========================>..] - ETA: 0s - loss: 0.0122 - root_mean_squared_error: 0.1105"
     ]
    },
    {
     "name": "stderr",
     "output_type": "stream",
     "text": [
      "WARNING:absl:Found untraced functions such as _jit_compiled_convolution_op while saving (showing 1 of 1). These functions will not be directly callable after loading.\n"
     ]
    },
    {
     "name": "stdout",
     "output_type": "stream",
     "text": [
      "INFO:tensorflow:Assets written to: Ross_model_LT4\\assets\n"
     ]
    },
    {
     "name": "stderr",
     "output_type": "stream",
     "text": [
      "INFO:tensorflow:Assets written to: Ross_model_LT4\\assets\n"
     ]
    },
    {
     "name": "stdout",
     "output_type": "stream",
     "text": [
      "53/53 [==============================] - 3s 67ms/step - loss: 0.0119 - root_mean_squared_error: 0.1092 - val_loss: 0.0086 - val_root_mean_squared_error: 0.0929\n",
      "Epoch 26/50\n",
      "53/53 [==============================] - 0s 5ms/step - loss: 0.0144 - root_mean_squared_error: 0.1199 - val_loss: 0.0098 - val_root_mean_squared_error: 0.0988\n",
      "Epoch 27/50\n",
      "48/53 [==========================>...] - ETA: 0s - loss: 0.0114 - root_mean_squared_error: 0.1069"
     ]
    },
    {
     "name": "stderr",
     "output_type": "stream",
     "text": [
      "WARNING:absl:Found untraced functions such as _jit_compiled_convolution_op while saving (showing 1 of 1). These functions will not be directly callable after loading.\n"
     ]
    },
    {
     "name": "stdout",
     "output_type": "stream",
     "text": [
      "INFO:tensorflow:Assets written to: Ross_model_LT4\\assets\n"
     ]
    },
    {
     "name": "stderr",
     "output_type": "stream",
     "text": [
      "INFO:tensorflow:Assets written to: Ross_model_LT4\\assets\n"
     ]
    },
    {
     "name": "stdout",
     "output_type": "stream",
     "text": [
      "53/53 [==============================] - 4s 72ms/step - loss: 0.0111 - root_mean_squared_error: 0.1055 - val_loss: 0.0083 - val_root_mean_squared_error: 0.0913\n",
      "Epoch 28/50\n",
      "53/53 [==============================] - 0s 6ms/step - loss: 0.0127 - root_mean_squared_error: 0.1126 - val_loss: 0.0094 - val_root_mean_squared_error: 0.0971\n",
      "Epoch 29/50\n",
      "53/53 [==============================] - 0s 6ms/step - loss: 0.0134 - root_mean_squared_error: 0.1156 - val_loss: 0.0090 - val_root_mean_squared_error: 0.0946\n",
      "Epoch 30/50\n",
      "53/53 [==============================] - 0s 6ms/step - loss: 0.0131 - root_mean_squared_error: 0.1143 - val_loss: 0.0130 - val_root_mean_squared_error: 0.1142\n",
      "Epoch 31/50\n",
      "53/53 [==============================] - 0s 6ms/step - loss: 0.0114 - root_mean_squared_error: 0.1067 - val_loss: 0.0137 - val_root_mean_squared_error: 0.1171\n",
      "Epoch 32/50\n",
      "46/53 [=========================>....] - ETA: 0s - loss: 0.0136 - root_mean_squared_error: 0.1165"
     ]
    },
    {
     "name": "stderr",
     "output_type": "stream",
     "text": [
      "WARNING:absl:Found untraced functions such as _jit_compiled_convolution_op while saving (showing 1 of 1). These functions will not be directly callable after loading.\n"
     ]
    },
    {
     "name": "stdout",
     "output_type": "stream",
     "text": [
      "INFO:tensorflow:Assets written to: Ross_model_LT4\\assets\n"
     ]
    },
    {
     "name": "stderr",
     "output_type": "stream",
     "text": [
      "INFO:tensorflow:Assets written to: Ross_model_LT4\\assets\n"
     ]
    },
    {
     "name": "stdout",
     "output_type": "stream",
     "text": [
      "53/53 [==============================] - 3s 64ms/step - loss: 0.0136 - root_mean_squared_error: 0.1168 - val_loss: 0.0078 - val_root_mean_squared_error: 0.0884\n",
      "Epoch 33/50\n",
      "53/53 [==============================] - 0s 5ms/step - loss: 0.0153 - root_mean_squared_error: 0.1236 - val_loss: 0.0082 - val_root_mean_squared_error: 0.0905\n",
      "Epoch 34/50\n",
      "53/53 [==============================] - 0s 8ms/step - loss: 0.0111 - root_mean_squared_error: 0.1053 - val_loss: 0.0112 - val_root_mean_squared_error: 0.1060\n",
      "Epoch 35/50\n",
      "53/53 [==============================] - 0s 6ms/step - loss: 0.0130 - root_mean_squared_error: 0.1141 - val_loss: 0.0082 - val_root_mean_squared_error: 0.0908\n",
      "Epoch 36/50\n",
      "40/53 [=====================>........] - ETA: 0s - loss: 0.0127 - root_mean_squared_error: 0.1127"
     ]
    },
    {
     "name": "stderr",
     "output_type": "stream",
     "text": [
      "WARNING:absl:Found untraced functions such as _jit_compiled_convolution_op while saving (showing 1 of 1). These functions will not be directly callable after loading.\n"
     ]
    },
    {
     "name": "stdout",
     "output_type": "stream",
     "text": [
      "INFO:tensorflow:Assets written to: Ross_model_LT4\\assets\n"
     ]
    },
    {
     "name": "stderr",
     "output_type": "stream",
     "text": [
      "INFO:tensorflow:Assets written to: Ross_model_LT4\\assets\n"
     ]
    },
    {
     "name": "stdout",
     "output_type": "stream",
     "text": [
      "53/53 [==============================] - 4s 69ms/step - loss: 0.0129 - root_mean_squared_error: 0.1136 - val_loss: 0.0078 - val_root_mean_squared_error: 0.0881\n",
      "Epoch 37/50\n",
      "53/53 [==============================] - 0s 6ms/step - loss: 0.0101 - root_mean_squared_error: 0.1006 - val_loss: 0.0109 - val_root_mean_squared_error: 0.1042\n",
      "Epoch 38/50\n",
      "53/53 [==============================] - 0s 6ms/step - loss: 0.0148 - root_mean_squared_error: 0.1215 - val_loss: 0.0102 - val_root_mean_squared_error: 0.1011\n",
      "Epoch 39/50\n",
      "53/53 [==============================] - 0s 6ms/step - loss: 0.0115 - root_mean_squared_error: 0.1074 - val_loss: 0.0082 - val_root_mean_squared_error: 0.0905\n",
      "Epoch 40/50\n",
      "53/53 [==============================] - 0s 6ms/step - loss: 0.0122 - root_mean_squared_error: 0.1105 - val_loss: 0.0106 - val_root_mean_squared_error: 0.1027\n",
      "Epoch 41/50\n",
      "44/53 [=======================>......] - ETA: 0s - loss: 0.0107 - root_mean_squared_error: 0.1036"
     ]
    },
    {
     "name": "stderr",
     "output_type": "stream",
     "text": [
      "WARNING:absl:Found untraced functions such as _jit_compiled_convolution_op while saving (showing 1 of 1). These functions will not be directly callable after loading.\n"
     ]
    },
    {
     "name": "stdout",
     "output_type": "stream",
     "text": [
      "INFO:tensorflow:Assets written to: Ross_model_LT4\\assets\n"
     ]
    },
    {
     "name": "stderr",
     "output_type": "stream",
     "text": [
      "INFO:tensorflow:Assets written to: Ross_model_LT4\\assets\n"
     ]
    },
    {
     "name": "stdout",
     "output_type": "stream",
     "text": [
      "53/53 [==============================] - 3s 64ms/step - loss: 0.0100 - root_mean_squared_error: 0.0998 - val_loss: 0.0076 - val_root_mean_squared_error: 0.0870\n",
      "Epoch 42/50\n",
      "53/53 [==============================] - 0s 6ms/step - loss: 0.0121 - root_mean_squared_error: 0.1101 - val_loss: 0.0085 - val_root_mean_squared_error: 0.0923\n",
      "Epoch 43/50\n",
      "53/53 [==============================] - 0s 6ms/step - loss: 0.0105 - root_mean_squared_error: 0.1023 - val_loss: 0.0113 - val_root_mean_squared_error: 0.1062\n",
      "Epoch 44/50\n",
      "48/53 [==========================>...] - ETA: 0s - loss: 0.0118 - root_mean_squared_error: 0.1087"
     ]
    },
    {
     "name": "stderr",
     "output_type": "stream",
     "text": [
      "WARNING:absl:Found untraced functions such as _jit_compiled_convolution_op while saving (showing 1 of 1). These functions will not be directly callable after loading.\n"
     ]
    },
    {
     "name": "stdout",
     "output_type": "stream",
     "text": [
      "INFO:tensorflow:Assets written to: Ross_model_LT4\\assets\n"
     ]
    },
    {
     "name": "stderr",
     "output_type": "stream",
     "text": [
      "INFO:tensorflow:Assets written to: Ross_model_LT4\\assets\n"
     ]
    },
    {
     "name": "stdout",
     "output_type": "stream",
     "text": [
      "53/53 [==============================] - 3s 67ms/step - loss: 0.0134 - root_mean_squared_error: 0.1158 - val_loss: 0.0075 - val_root_mean_squared_error: 0.0866\n",
      "Epoch 45/50\n",
      "53/53 [==============================] - 0s 5ms/step - loss: 0.0097 - root_mean_squared_error: 0.0985 - val_loss: 0.0076 - val_root_mean_squared_error: 0.0870\n",
      "Epoch 46/50\n",
      "48/53 [==========================>...] - ETA: 0s - loss: 0.0099 - root_mean_squared_error: 0.0997"
     ]
    },
    {
     "name": "stderr",
     "output_type": "stream",
     "text": [
      "WARNING:absl:Found untraced functions such as _jit_compiled_convolution_op while saving (showing 1 of 1). These functions will not be directly callable after loading.\n"
     ]
    },
    {
     "name": "stdout",
     "output_type": "stream",
     "text": [
      "INFO:tensorflow:Assets written to: Ross_model_LT4\\assets\n"
     ]
    },
    {
     "name": "stderr",
     "output_type": "stream",
     "text": [
      "INFO:tensorflow:Assets written to: Ross_model_LT4\\assets\n"
     ]
    },
    {
     "name": "stdout",
     "output_type": "stream",
     "text": [
      "53/53 [==============================] - 4s 75ms/step - loss: 0.0104 - root_mean_squared_error: 0.1022 - val_loss: 0.0072 - val_root_mean_squared_error: 0.0851\n",
      "Epoch 47/50\n",
      "53/53 [==============================] - 0s 5ms/step - loss: 0.0117 - root_mean_squared_error: 0.1081 - val_loss: 0.0100 - val_root_mean_squared_error: 0.1000\n",
      "Epoch 48/50\n",
      "53/53 [==============================] - 0s 5ms/step - loss: 0.0126 - root_mean_squared_error: 0.1121 - val_loss: 0.0084 - val_root_mean_squared_error: 0.0916\n",
      "Epoch 49/50\n",
      "53/53 [==============================] - 0s 6ms/step - loss: 0.0148 - root_mean_squared_error: 0.1217 - val_loss: 0.0094 - val_root_mean_squared_error: 0.0970\n",
      "Epoch 50/50\n",
      "53/53 [==============================] - 0s 7ms/step - loss: 0.0118 - root_mean_squared_error: 0.1088 - val_loss: 0.0094 - val_root_mean_squared_error: 0.0972\n"
     ]
    }
   ],
   "source": [
    "stime = time.time()\n",
    "history = model.fit(X_train, y_train, validation_data=(X_val, y_val), epochs=50, batch_size=8, callbacks=[cp])\n",
    "etime = time.time()"
   ]
  },
  {
   "cell_type": "code",
   "execution_count": 12,
   "id": "298b9846",
   "metadata": {},
   "outputs": [
    {
     "name": "stdout",
     "output_type": "stream",
     "text": [
      "1.96442658106486 minutes\n"
     ]
    }
   ],
   "source": [
    "time = (etime - stime)/60\n",
    "print(f'{time} minutes')"
   ]
  },
  {
   "cell_type": "code",
   "execution_count": 13,
   "id": "06f42b20",
   "metadata": {},
   "outputs": [],
   "source": [
    "loss = history.history['loss']\n",
    "epochs = list(range(1, len(loss) + 1))"
   ]
  },
  {
   "cell_type": "code",
   "execution_count": 14,
   "id": "c2a73c99",
   "metadata": {},
   "outputs": [
    {
     "data": {
      "image/png": "[encoded data removed]",
      "text/plain": [
       "<Figure size 720x432 with 1 Axes>"
      ]
     },
     "metadata": {
      "needs_background": "light"
     },
     "output_type": "display_data"
    }
   ],
   "source": [
    "plt.figure(figsize=(10, 6))\n",
    "plt.plot(epochs, loss, label='Training Loss', marker='o', linestyle='-')\n",
    "\n",
    "plt.xlabel('Epochs')\n",
    "plt.ylabel('Loss')\n",
    "plt.title('Training Loss over Epochs')\n",
    "plt.legend()\n",
    "plt.show()"
   ]
  },
  {
   "cell_type": "code",
   "execution_count": 15,
   "id": "a534d053",
   "metadata": {},
   "outputs": [
    {
     "data": {
      "image/png": "[encoded data removed]",
      "text/plain": [
       "<Figure size 1080x432 with 1 Axes>"
      ]
     },
     "metadata": {
      "needs_background": "light"
     },
     "output_type": "display_data"
    }
   ],
   "source": [
    "training_loss = history.history['loss']\n",
    "validation_loss = history.history['val_loss']\n",
    "epochs = range(1, len(training_loss) + 1)\n",
    "\n",
    "plt.figure(figsize=(15,6))\n",
    "plt.plot(epochs, training_loss, label='Training Loss', marker='o', linestyle='-')\n",
    "plt.plot(epochs, validation_loss, label='Validation Loss', marker='s', linestyle='--')\n",
    "\n",
    "plt.xlabel('Epochs')\n",
    "plt.ylabel('Loss')\n",
    "plt.title('Training and Validation Loss over Epochs')\n",
    "plt.legend()\n",
    "plt.show()"
   ]
  },
  {
   "cell_type": "code",
   "execution_count": 16,
   "id": "15bb9a03",
   "metadata": {},
   "outputs": [],
   "source": [
    "from tensorflow.keras.models import load_model\n",
    "model1 = load_model('Ross_model_LT4/')"
   ]
  },
  {
   "cell_type": "code",
   "execution_count": 17,
   "id": "5e9b065e",
   "metadata": {},
   "outputs": [
    {
     "name": "stdout",
     "output_type": "stream",
     "text": [
      "2/2 [==============================] - 0s 6ms/step\n"
     ]
    }
   ],
   "source": [
    "test_predictions = model1.predict(X_test)"
   ]
  },
  {
   "cell_type": "code",
   "execution_count": 18,
   "id": "84e59f85",
   "metadata": {},
   "outputs": [
    {
     "name": "stdout",
     "output_type": "stream",
     "text": [
      "RMSE : 0.08526982524983973\n",
      "MAE : 0.061498989848905485\n"
     ]
    }
   ],
   "source": [
    "mse = mean_squared_error(y_test, test_predictions)\n",
    "print('RMSE :', np.sqrt(mse))\n",
    "\n",
    "mae = mean_absolute_error(y_test, test_predictions)\n",
    "print('MAE :', mae)"
   ]
  },
  {
   "cell_type": "code",
   "execution_count": 19,
   "id": "1d5dc7a7",
   "metadata": {},
   "outputs": [],
   "source": [
    "test_predictions = scaler.inverse_transform(test_predictions)\n",
    "test_original = scaler.inverse_transform(y_test.reshape(-1,1))"
   ]
  },
  {
   "cell_type": "code",
   "execution_count": 20,
   "id": "5dff061e",
   "metadata": {
    "scrolled": true
   },
   "outputs": [
    {
     "data": {
      "text/html": [
       "<div>\n",
       "<style scoped>\n",
       "    .dataframe tbody tr th:only-of-type {\n",
       "        vertical-align: middle;\n",
       "    }\n",
       "\n",
       "    .dataframe tbody tr th {\n",
       "        vertical-align: top;\n",
       "    }\n",
       "\n",
       "    .dataframe thead th {\n",
       "        text-align: right;\n",
       "    }\n",
       "</style>\n",
       "<table border=\"1\" class=\"dataframe\">\n",
       "  <thead>\n",
       "    <tr style=\"text-align: right;\">\n",
       "      <th></th>\n",
       "      <th>Train Predictions</th>\n",
       "      <th>Actual Extent</th>\n",
       "    </tr>\n",
       "  </thead>\n",
       "  <tbody>\n",
       "    <tr>\n",
       "      <th>0</th>\n",
       "      <td>3.821257e+06</td>\n",
       "      <td>3794128.369</td>\n",
       "    </tr>\n",
       "    <tr>\n",
       "      <th>1</th>\n",
       "      <td>3.957293e+06</td>\n",
       "      <td>3885746.442</td>\n",
       "    </tr>\n",
       "    <tr>\n",
       "      <th>2</th>\n",
       "      <td>3.869588e+06</td>\n",
       "      <td>3909211.179</td>\n",
       "    </tr>\n",
       "    <tr>\n",
       "      <th>3</th>\n",
       "      <td>3.425547e+06</td>\n",
       "      <td>3499167.351</td>\n",
       "    </tr>\n",
       "    <tr>\n",
       "      <th>4</th>\n",
       "      <td>2.219018e+06</td>\n",
       "      <td>2715890.297</td>\n",
       "    </tr>\n",
       "    <tr>\n",
       "      <th>5</th>\n",
       "      <td>1.126178e+06</td>\n",
       "      <td>1053272.694</td>\n",
       "    </tr>\n",
       "    <tr>\n",
       "      <th>6</th>\n",
       "      <td>2.921486e+05</td>\n",
       "      <td>368862.123</td>\n",
       "    </tr>\n",
       "    <tr>\n",
       "      <th>7</th>\n",
       "      <td>1.000361e+06</td>\n",
       "      <td>979418.298</td>\n",
       "    </tr>\n",
       "    <tr>\n",
       "      <th>8</th>\n",
       "      <td>1.567612e+06</td>\n",
       "      <td>2086269.569</td>\n",
       "    </tr>\n",
       "    <tr>\n",
       "      <th>9</th>\n",
       "      <td>2.527777e+06</td>\n",
       "      <td>2852731.016</td>\n",
       "    </tr>\n",
       "    <tr>\n",
       "      <th>10</th>\n",
       "      <td>3.039372e+06</td>\n",
       "      <td>3452823.613</td>\n",
       "    </tr>\n",
       "    <tr>\n",
       "      <th>11</th>\n",
       "      <td>3.659742e+06</td>\n",
       "      <td>3846843.974</td>\n",
       "    </tr>\n",
       "    <tr>\n",
       "      <th>12</th>\n",
       "      <td>3.874961e+06</td>\n",
       "      <td>4005222.451</td>\n",
       "    </tr>\n",
       "    <tr>\n",
       "      <th>13</th>\n",
       "      <td>4.102065e+06</td>\n",
       "      <td>4129684.505</td>\n",
       "    </tr>\n",
       "    <tr>\n",
       "      <th>14</th>\n",
       "      <td>3.874238e+06</td>\n",
       "      <td>4130311.577</td>\n",
       "    </tr>\n",
       "    <tr>\n",
       "      <th>15</th>\n",
       "      <td>3.682556e+06</td>\n",
       "      <td>3987590.376</td>\n",
       "    </tr>\n",
       "    <tr>\n",
       "      <th>16</th>\n",
       "      <td>2.384238e+06</td>\n",
       "      <td>2531664.630</td>\n",
       "    </tr>\n",
       "    <tr>\n",
       "      <th>17</th>\n",
       "      <td>1.231531e+06</td>\n",
       "      <td>864796.598</td>\n",
       "    </tr>\n",
       "    <tr>\n",
       "      <th>18</th>\n",
       "      <td>3.846536e+05</td>\n",
       "      <td>366098.623</td>\n",
       "    </tr>\n",
       "    <tr>\n",
       "      <th>19</th>\n",
       "      <td>8.886079e+05</td>\n",
       "      <td>1324063.884</td>\n",
       "    </tr>\n",
       "    <tr>\n",
       "      <th>20</th>\n",
       "      <td>1.882864e+06</td>\n",
       "      <td>2094086.684</td>\n",
       "    </tr>\n",
       "    <tr>\n",
       "      <th>21</th>\n",
       "      <td>2.769104e+06</td>\n",
       "      <td>2706708.526</td>\n",
       "    </tr>\n",
       "    <tr>\n",
       "      <th>22</th>\n",
       "      <td>3.382147e+06</td>\n",
       "      <td>3380172.167</td>\n",
       "    </tr>\n",
       "    <tr>\n",
       "      <th>23</th>\n",
       "      <td>3.869874e+06</td>\n",
       "      <td>3975727.475</td>\n",
       "    </tr>\n",
       "    <tr>\n",
       "      <th>24</th>\n",
       "      <td>4.067970e+06</td>\n",
       "      <td>4016497.161</td>\n",
       "    </tr>\n",
       "    <tr>\n",
       "      <th>25</th>\n",
       "      <td>4.051970e+06</td>\n",
       "      <td>4134594.766</td>\n",
       "    </tr>\n",
       "    <tr>\n",
       "      <th>26</th>\n",
       "      <td>4.017226e+06</td>\n",
       "      <td>4278165.933</td>\n",
       "    </tr>\n",
       "    <tr>\n",
       "      <th>27</th>\n",
       "      <td>3.576884e+06</td>\n",
       "      <td>3893945.909</td>\n",
       "    </tr>\n",
       "    <tr>\n",
       "      <th>28</th>\n",
       "      <td>2.633930e+06</td>\n",
       "      <td>2389171.083</td>\n",
       "    </tr>\n",
       "    <tr>\n",
       "      <th>29</th>\n",
       "      <td>1.048446e+06</td>\n",
       "      <td>896425.932</td>\n",
       "    </tr>\n",
       "    <tr>\n",
       "      <th>30</th>\n",
       "      <td>5.793421e+05</td>\n",
       "      <td>251374.224</td>\n",
       "    </tr>\n",
       "    <tr>\n",
       "      <th>31</th>\n",
       "      <td>9.735334e+05</td>\n",
       "      <td>455056.048</td>\n",
       "    </tr>\n",
       "    <tr>\n",
       "      <th>32</th>\n",
       "      <td>2.406428e+06</td>\n",
       "      <td>1780625.872</td>\n",
       "    </tr>\n",
       "    <tr>\n",
       "      <th>33</th>\n",
       "      <td>2.890950e+06</td>\n",
       "      <td>2914989.101</td>\n",
       "    </tr>\n",
       "    <tr>\n",
       "      <th>34</th>\n",
       "      <td>3.610817e+06</td>\n",
       "      <td>3561620.245</td>\n",
       "    </tr>\n",
       "    <tr>\n",
       "      <th>35</th>\n",
       "      <td>3.696858e+06</td>\n",
       "      <td>3991717.506</td>\n",
       "    </tr>\n",
       "    <tr>\n",
       "      <th>36</th>\n",
       "      <td>4.057875e+06</td>\n",
       "      <td>4559070.778</td>\n",
       "    </tr>\n",
       "    <tr>\n",
       "      <th>37</th>\n",
       "      <td>4.112352e+06</td>\n",
       "      <td>4596327.081</td>\n",
       "    </tr>\n",
       "    <tr>\n",
       "      <th>38</th>\n",
       "      <td>4.132314e+06</td>\n",
       "      <td>4565650.139</td>\n",
       "    </tr>\n",
       "    <tr>\n",
       "      <th>39</th>\n",
       "      <td>3.616036e+06</td>\n",
       "      <td>4061902.846</td>\n",
       "    </tr>\n",
       "    <tr>\n",
       "      <th>40</th>\n",
       "      <td>2.270984e+06</td>\n",
       "      <td>2336900.967</td>\n",
       "    </tr>\n",
       "    <tr>\n",
       "      <th>41</th>\n",
       "      <td>1.169346e+06</td>\n",
       "      <td>696917.659</td>\n",
       "    </tr>\n",
       "    <tr>\n",
       "      <th>42</th>\n",
       "      <td>2.647735e+05</td>\n",
       "      <td>213657.789</td>\n",
       "    </tr>\n",
       "    <tr>\n",
       "      <th>43</th>\n",
       "      <td>9.467003e+05</td>\n",
       "      <td>765773.883</td>\n",
       "    </tr>\n",
       "    <tr>\n",
       "      <th>44</th>\n",
       "      <td>1.746012e+06</td>\n",
       "      <td>1951730.202</td>\n",
       "    </tr>\n",
       "    <tr>\n",
       "      <th>45</th>\n",
       "      <td>2.805499e+06</td>\n",
       "      <td>2610971.814</td>\n",
       "    </tr>\n",
       "    <tr>\n",
       "      <th>46</th>\n",
       "      <td>3.462366e+06</td>\n",
       "      <td>3137598.938</td>\n",
       "    </tr>\n",
       "    <tr>\n",
       "      <th>47</th>\n",
       "      <td>3.892782e+06</td>\n",
       "      <td>3201783.453</td>\n",
       "    </tr>\n",
       "    <tr>\n",
       "      <th>48</th>\n",
       "      <td>4.375310e+06</td>\n",
       "      <td>2973294.266</td>\n",
       "    </tr>\n",
       "    <tr>\n",
       "      <th>49</th>\n",
       "      <td>4.364678e+06</td>\n",
       "      <td>3354839.711</td>\n",
       "    </tr>\n",
       "    <tr>\n",
       "      <th>50</th>\n",
       "      <td>4.230310e+06</td>\n",
       "      <td>3325613.245</td>\n",
       "    </tr>\n",
       "  </tbody>\n",
       "</table>\n",
       "</div>"
      ],
      "text/plain": [
       "    Train Predictions  Actual Extent\n",
       "0        3.821257e+06    3794128.369\n",
       "1        3.957293e+06    3885746.442\n",
       "2        3.869588e+06    3909211.179\n",
       "3        3.425547e+06    3499167.351\n",
       "4        2.219018e+06    2715890.297\n",
       "5        1.126178e+06    1053272.694\n",
       "6        2.921486e+05     368862.123\n",
       "7        1.000361e+06     979418.298\n",
       "8        1.567612e+06    2086269.569\n",
       "9        2.527777e+06    2852731.016\n",
       "10       3.039372e+06    3452823.613\n",
       "11       3.659742e+06    3846843.974\n",
       "12       3.874961e+06    4005222.451\n",
       "13       4.102065e+06    4129684.505\n",
       "14       3.874238e+06    4130311.577\n",
       "15       3.682556e+06    3987590.376\n",
       "16       2.384238e+06    2531664.630\n",
       "17       1.231531e+06     864796.598\n",
       "18       3.846536e+05     366098.623\n",
       "19       8.886079e+05    1324063.884\n",
       "20       1.882864e+06    2094086.684\n",
       "21       2.769104e+06    2706708.526\n",
       "22       3.382147e+06    3380172.167\n",
       "23       3.869874e+06    3975727.475\n",
       "24       4.067970e+06    4016497.161\n",
       "25       4.051970e+06    4134594.766\n",
       "26       4.017226e+06    4278165.933\n",
       "27       3.576884e+06    3893945.909\n",
       "28       2.633930e+06    2389171.083\n",
       "29       1.048446e+06     896425.932\n",
       "30       5.793421e+05     251374.224\n",
       "31       9.735334e+05     455056.048\n",
       "32       2.406428e+06    1780625.872\n",
       "33       2.890950e+06    2914989.101\n",
       "34       3.610817e+06    3561620.245\n",
       "35       3.696858e+06    3991717.506\n",
       "36       4.057875e+06    4559070.778\n",
       "37       4.112352e+06    4596327.081\n",
       "38       4.132314e+06    4565650.139\n",
       "39       3.616036e+06    4061902.846\n",
       "40       2.270984e+06    2336900.967\n",
       "41       1.169346e+06     696917.659\n",
       "42       2.647735e+05     213657.789\n",
       "43       9.467003e+05     765773.883\n",
       "44       1.746012e+06    1951730.202\n",
       "45       2.805499e+06    2610971.814\n",
       "46       3.462366e+06    3137598.938\n",
       "47       3.892782e+06    3201783.453\n",
       "48       4.375310e+06    2973294.266\n",
       "49       4.364678e+06    3354839.711\n",
       "50       4.230310e+06    3325613.245"
      ]
     },
     "execution_count": 20,
     "metadata": {},
     "output_type": "execute_result"
    }
   ],
   "source": [
    "train_results = pd.DataFrame(data={'Train Predictions': test_predictions.flatten(), 'Actual Extent': test_original.flatten()})\n",
    "train_results"
   ]
  },
  {
   "cell_type": "code",
   "execution_count": 21,
   "id": "70717abf",
   "metadata": {},
   "outputs": [
    {
     "data": {
      "image/png": "[encoded data removed]",
      "text/plain": [
       "<Figure size 1080x432 with 1 Axes>"
      ]
     },
     "metadata": {
      "needs_background": "light"
     },
     "output_type": "display_data"
    }
   ],
   "source": [
    "plt.figure(figsize=(15,6))\n",
    "plt.plot(test_original, label='True Values')\n",
    "plt.plot(test_predictions, label='Predicted Values')\n",
    "plt.title('Test Predictions vs Original Test Data')\n",
    "plt.legend()\n",
    "plt.show()"
   ]
  },
  {
   "cell_type": "code",
   "execution_count": 22,
   "id": "29acbc4d",
   "metadata": {},
   "outputs": [
    {
     "name": "stdout",
     "output_type": "stream",
     "text": [
      "17/17 [==============================] - 0s 3ms/step\n"
     ]
    }
   ],
   "source": [
    "predictions = model1.predict(X)"
   ]
  },
  {
   "cell_type": "code",
   "execution_count": 23,
   "id": "6e155c07",
   "metadata": {},
   "outputs": [],
   "source": [
    "predictions = scaler.inverse_transform(predictions)\n",
    "Original = scaler.inverse_transform(y.reshape(-1,1))"
   ]
  },
  {
   "cell_type": "code",
   "execution_count": 24,
   "id": "eb328bbc",
   "metadata": {},
   "outputs": [
    {
     "data": {
      "image/png": "[encoded data removed]",
      "text/plain": [
       "<Figure size 1080x432 with 1 Axes>"
      ]
     },
     "metadata": {
      "needs_background": "light"
     },
     "output_type": "display_data"
    }
   ],
   "source": [
    "plt.figure(figsize=(15,6))\n",
    "plt.plot(Original, label='True Values')\n",
    "plt.plot(predictions, label='Predicted Values')\n",
    "plt.title('Test Predictions vs Original Test Data')\n",
    "plt.legend()\n",
    "plt.show()"
   ]
  },
  {
   "cell_type": "code",
   "execution_count": null,
   "id": "f2758f6e",
   "metadata": {},
   "outputs": [],
   "source": []
  }
 ],
 "metadata": {
  "kernelspec": {
   "display_name": "Python 3 (ipykernel)",
   "language": "python",
   "name": "python3"
  },
  "language_info": {
   "codemirror_mode": {
    "name": "ipython",
    "version": 3
   },
   "file_extension": ".py",
   "mimetype": "text/x-python",
   "name": "python",
   "nbconvert_exporter": "python",
   "pygments_lexer": "ipython3",
   "version": "3.10.5"
  }
 },
 "nbformat": 4,
 "nbformat_minor": 5
}
