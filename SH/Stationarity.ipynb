{
 "cells": [
  {
   "cell_type": "code",
   "execution_count": 1,
   "id": "9052a09c",
   "metadata": {},
   "outputs": [],
   "source": [
    "import numpy as np\n",
    "import pandas as pd\n",
    "from statsmodels.tsa.stattools import adfuller"
   ]
  },
  {
   "cell_type": "code",
   "execution_count": 2,
   "id": "97b4f45d",
   "metadata": {},
   "outputs": [],
   "source": [
    "filepath = 'C:/Users/ss230/Documents/Study/NSIDC/Edited Data/S_Sea_Ice_Index_Regional_Monthly_Data_G02135_v3.0.xlsx'\n",
    "Bell_Amundsen = pd.read_excel(filepath, sheet_name='Bell-Amundsen-Extent-km^2')\n",
    "Indian = pd.read_excel(filepath, sheet_name='Indian-Extent-km^2')\n",
    "Pacific = pd.read_excel(filepath, sheet_name='Pacific-Extent-km^2')\n",
    "Ross = pd.read_excel(filepath, sheet_name='Ross-Extent-km^2')\n",
    "Weddell = pd.read_excel(filepath, sheet_name='Weddell-Extent-km^2')"
   ]
  },
  {
   "cell_type": "code",
   "execution_count": 3,
   "id": "10825791",
   "metadata": {},
   "outputs": [],
   "source": [
    "import sys\n",
    "sys.path.append('C:/Users/ss230/Documents/Study/NSIDC/SH/Bi_LSTM_Extent/')\n",
    "import Function as fp"
   ]
  },
  {
   "cell_type": "code",
   "execution_count": 4,
   "id": "a41a680b",
   "metadata": {},
   "outputs": [
    {
     "data": {
      "text/html": [
       "<div>\n",
       "<style scoped>\n",
       "    .dataframe tbody tr th:only-of-type {\n",
       "        vertical-align: middle;\n",
       "    }\n",
       "\n",
       "    .dataframe tbody tr th {\n",
       "        vertical-align: top;\n",
       "    }\n",
       "\n",
       "    .dataframe thead th {\n",
       "        text-align: right;\n",
       "    }\n",
       "</style>\n",
       "<table border=\"1\" class=\"dataframe\">\n",
       "  <thead>\n",
       "    <tr style=\"text-align: right;\">\n",
       "      <th></th>\n",
       "      <th>Extent</th>\n",
       "      <th>Date</th>\n",
       "    </tr>\n",
       "  </thead>\n",
       "  <tbody>\n",
       "    <tr>\n",
       "      <th>0</th>\n",
       "      <td>2136510.859</td>\n",
       "      <td>1979-01-01</td>\n",
       "    </tr>\n",
       "    <tr>\n",
       "      <th>1</th>\n",
       "      <td>1243495.891</td>\n",
       "      <td>1979-02-01</td>\n",
       "    </tr>\n",
       "    <tr>\n",
       "      <th>2</th>\n",
       "      <td>1699053.449</td>\n",
       "      <td>1979-03-01</td>\n",
       "    </tr>\n",
       "    <tr>\n",
       "      <th>3</th>\n",
       "      <td>2617442.085</td>\n",
       "      <td>1979-04-01</td>\n",
       "    </tr>\n",
       "    <tr>\n",
       "      <th>4</th>\n",
       "      <td>3852934.206</td>\n",
       "      <td>1979-05-01</td>\n",
       "    </tr>\n",
       "    <tr>\n",
       "      <th>...</th>\n",
       "      <td>...</td>\n",
       "      <td>...</td>\n",
       "    </tr>\n",
       "    <tr>\n",
       "      <th>533</th>\n",
       "      <td>3668127.143</td>\n",
       "      <td>2023-06-01</td>\n",
       "    </tr>\n",
       "    <tr>\n",
       "      <th>534</th>\n",
       "      <td>4805519.784</td>\n",
       "      <td>2023-07-01</td>\n",
       "    </tr>\n",
       "    <tr>\n",
       "      <th>535</th>\n",
       "      <td>5524445.234</td>\n",
       "      <td>2023-08-01</td>\n",
       "    </tr>\n",
       "    <tr>\n",
       "      <th>536</th>\n",
       "      <td>6006669.861</td>\n",
       "      <td>2023-09-01</td>\n",
       "    </tr>\n",
       "    <tr>\n",
       "      <th>537</th>\n",
       "      <td>5507961.583</td>\n",
       "      <td>2023-10-01</td>\n",
       "    </tr>\n",
       "  </tbody>\n",
       "</table>\n",
       "<p>538 rows × 2 columns</p>\n",
       "</div>"
      ],
      "text/plain": [
       "          Extent       Date\n",
       "0    2136510.859 1979-01-01\n",
       "1    1243495.891 1979-02-01\n",
       "2    1699053.449 1979-03-01\n",
       "3    2617442.085 1979-04-01\n",
       "4    3852934.206 1979-05-01\n",
       "..           ...        ...\n",
       "533  3668127.143 2023-06-01\n",
       "534  4805519.784 2023-07-01\n",
       "535  5524445.234 2023-08-01\n",
       "536  6006669.861 2023-09-01\n",
       "537  5507961.583 2023-10-01\n",
       "\n",
       "[538 rows x 2 columns]"
      ]
     },
     "execution_count": 4,
     "metadata": {},
     "output_type": "execute_result"
    }
   ],
   "source": [
    "fp.month_mapping(Bell_Amundsen)\n",
    "fp.date_time(Bell_Amundsen)\n",
    "\n",
    "fp.month_mapping(Indian)\n",
    "fp.date_time(Indian)\n",
    "\n",
    "fp.month_mapping(Pacific)\n",
    "fp.date_time(Pacific)\n",
    "\n",
    "fp.month_mapping(Ross)\n",
    "fp.date_time(Ross)\n",
    "\n",
    "fp.month_mapping(Weddell)\n",
    "fp.date_time(Weddell)"
   ]
  },
  {
   "cell_type": "code",
   "execution_count": 5,
   "id": "b8ad3f6d",
   "metadata": {},
   "outputs": [],
   "source": [
    "def check_stationarity(df):\n",
    "    # Perform the ADF test\n",
    "    result = adfuller(df)\n",
    "    \n",
    "    # Extract and print out the results\n",
    "    print('ADF Statistic:', result[0])\n",
    "    print('p-value:', result[1])\n",
    "    print('Critical Values:')\n",
    "    for key, value in result[4].items():\n",
    "        print('\\t%s: %.3f' % (key, value))\n",
    "    \n",
    "    # Interpret the results\n",
    "    if result[1] <= 0.05:\n",
    "        print(\"Reject the null hypothesis (H0), the data is stationary.\")\n",
    "    else:\n",
    "        print(\"Fail to reject the null hypothesis (H0), the data is non-stationary.\")"
   ]
  },
  {
   "cell_type": "code",
   "execution_count": 6,
   "id": "60304d8e",
   "metadata": {},
   "outputs": [
    {
     "name": "stdout",
     "output_type": "stream",
     "text": [
      "ADF Statistic: -6.836158838617277\n",
      "p-value: 1.8402902600469946e-09\n",
      "Critical Values:\n",
      "\t1%: -3.443\n",
      "\t5%: -2.867\n",
      "\t10%: -2.570\n",
      "Reject the null hypothesis (H0), the data is stationary.\n"
     ]
    }
   ],
   "source": [
    "check_stationarity(Bell_Amundsen['Extent'])"
   ]
  },
  {
   "cell_type": "code",
   "execution_count": 7,
   "id": "27993a33",
   "metadata": {},
   "outputs": [
    {
     "name": "stdout",
     "output_type": "stream",
     "text": [
      "ADF Statistic: -4.9126636516653575\n",
      "p-value: 3.294807746188335e-05\n",
      "Critical Values:\n",
      "\t1%: -3.443\n",
      "\t5%: -2.867\n",
      "\t10%: -2.570\n",
      "Reject the null hypothesis (H0), the data is stationary.\n"
     ]
    }
   ],
   "source": [
    "check_stationarity(Indian['Extent'])"
   ]
  },
  {
   "cell_type": "code",
   "execution_count": 8,
   "id": "34266797",
   "metadata": {},
   "outputs": [
    {
     "name": "stdout",
     "output_type": "stream",
     "text": [
      "ADF Statistic: -4.02850427774765\n",
      "p-value: 0.0012683932763132746\n",
      "Critical Values:\n",
      "\t1%: -3.443\n",
      "\t5%: -2.867\n",
      "\t10%: -2.570\n",
      "Reject the null hypothesis (H0), the data is stationary.\n"
     ]
    }
   ],
   "source": [
    "check_stationarity(Pacific['Extent'])"
   ]
  },
  {
   "cell_type": "code",
   "execution_count": 9,
   "id": "1f79b889",
   "metadata": {},
   "outputs": [
    {
     "name": "stdout",
     "output_type": "stream",
     "text": [
      "ADF Statistic: -3.849017673295437\n",
      "p-value: 0.0024437880969944647\n",
      "Critical Values:\n",
      "\t1%: -3.443\n",
      "\t5%: -2.867\n",
      "\t10%: -2.570\n",
      "Reject the null hypothesis (H0), the data is stationary.\n"
     ]
    }
   ],
   "source": [
    "check_stationarity(Ross['Extent'])"
   ]
  },
  {
   "cell_type": "code",
   "execution_count": 10,
   "id": "58620bcd",
   "metadata": {},
   "outputs": [
    {
     "name": "stdout",
     "output_type": "stream",
     "text": [
      "ADF Statistic: -4.299217244468604\n",
      "p-value: 0.00044560083583755655\n",
      "Critical Values:\n",
      "\t1%: -3.443\n",
      "\t5%: -2.867\n",
      "\t10%: -2.570\n",
      "Reject the null hypothesis (H0), the data is stationary.\n"
     ]
    }
   ],
   "source": [
    "check_stationarity(Weddell['Extent'])"
   ]
  },
  {
   "cell_type": "code",
   "execution_count": null,
   "id": "b4954620",
   "metadata": {},
   "outputs": [],
   "source": []
  }
 ],
 "metadata": {
  "kernelspec": {
   "display_name": "Python 3 (ipykernel)",
   "language": "python",
   "name": "python3"
  },
  "language_info": {
   "codemirror_mode": {
    "name": "ipython",
    "version": 3
   },
   "file_extension": ".py",
   "mimetype": "text/x-python",
   "name": "python",
   "nbconvert_exporter": "python",
   "pygments_lexer": "ipython3",
   "version": "3.10.5"
  }
 },
 "nbformat": 4,
 "nbformat_minor": 5
}
