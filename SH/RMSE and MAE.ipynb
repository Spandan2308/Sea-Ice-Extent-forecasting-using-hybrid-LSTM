{
 "cells": [
  {
   "cell_type": "code",
   "execution_count": 1,
   "id": "faf24754",
   "metadata": {},
   "outputs": [],
   "source": [
    "import numpy as np\n",
    "import pandas as pd\n",
    "import matplotlib.pyplot as plt"
   ]
  },
  {
   "attachments": {},
   "cell_type": "markdown",
   "id": "30ac7dce",
   "metadata": {},
   "source": [
    "RMSE"
   ]
  },
  {
   "cell_type": "code",
   "execution_count": 2,
   "id": "594b7794",
   "metadata": {},
   "outputs": [],
   "source": [
    "regions = ['Bell-Amundsen', 'Indian', 'Pacific', 'Ross', 'Weddell']\n",
    "cnn_mse = [0.004073519765569098, 0.0012903532980625095, 0.002466906760694564, 0.0022608805298533086, 0.0015298907686407037]\n",
    "bi_mse = [0.005350832543026584, 0.0024157942402528347, 0.00320328070901743, 0.0043163388069300665, 0.0026133151308175818]\n",
    "lstm_mse = [0.009676204834443775, 0.0037504545426981792, 0.005534077061922381, 0.007096833741050371, 0.0042870557792752005]"
   ]
  },
  {
   "cell_type": "code",
   "execution_count": 3,
   "id": "fd622897",
   "metadata": {},
   "outputs": [],
   "source": [
    "df = pd.DataFrame({'Regions':regions, 'MSE_cnn_lstm':cnn_mse, 'MSE_bi':bi_mse, 'MSE_lstm':lstm_mse})"
   ]
  },
  {
   "cell_type": "code",
   "execution_count": 4,
   "id": "b0093625",
   "metadata": {},
   "outputs": [],
   "source": [
    "df['RMSE_cnn_lstm'] = np.sqrt(df['MSE_cnn_lstm'])\n",
    "df['RMSE_bi'] = np.sqrt(df['MSE_bi'])\n",
    "df['RMSE_lstm'] = np.sqrt(df['MSE_lstm'])"
   ]
  },
  {
   "cell_type": "code",
   "execution_count": 5,
   "id": "e1ae7498",
   "metadata": {},
   "outputs": [
    {
     "data": {
      "text/html": [
       "<div>\n",
       "<style scoped>\n",
       "    .dataframe tbody tr th:only-of-type {\n",
       "        vertical-align: middle;\n",
       "    }\n",
       "\n",
       "    .dataframe tbody tr th {\n",
       "        vertical-align: top;\n",
       "    }\n",
       "\n",
       "    .dataframe thead th {\n",
       "        text-align: right;\n",
       "    }\n",
       "</style>\n",
       "<table border=\"1\" class=\"dataframe\">\n",
       "  <thead>\n",
       "    <tr style=\"text-align: right;\">\n",
       "      <th></th>\n",
       "      <th>Regions</th>\n",
       "      <th>MSE_cnn_lstm</th>\n",
       "      <th>MSE_bi</th>\n",
       "      <th>MSE_lstm</th>\n",
       "      <th>RMSE_cnn_lstm</th>\n",
       "      <th>RMSE_bi</th>\n",
       "      <th>RMSE_lstm</th>\n",
       "    </tr>\n",
       "  </thead>\n",
       "  <tbody>\n",
       "    <tr>\n",
       "      <th>0</th>\n",
       "      <td>Bell-Amundsen</td>\n",
       "      <td>0.004074</td>\n",
       "      <td>0.005351</td>\n",
       "      <td>0.009676</td>\n",
       "      <td>0.063824</td>\n",
       "      <td>0.073149</td>\n",
       "      <td>0.098368</td>\n",
       "    </tr>\n",
       "    <tr>\n",
       "      <th>1</th>\n",
       "      <td>Indian</td>\n",
       "      <td>0.001290</td>\n",
       "      <td>0.002416</td>\n",
       "      <td>0.003750</td>\n",
       "      <td>0.035921</td>\n",
       "      <td>0.049151</td>\n",
       "      <td>0.061241</td>\n",
       "    </tr>\n",
       "    <tr>\n",
       "      <th>2</th>\n",
       "      <td>Pacific</td>\n",
       "      <td>0.002467</td>\n",
       "      <td>0.003203</td>\n",
       "      <td>0.005534</td>\n",
       "      <td>0.049668</td>\n",
       "      <td>0.056598</td>\n",
       "      <td>0.074391</td>\n",
       "    </tr>\n",
       "    <tr>\n",
       "      <th>3</th>\n",
       "      <td>Ross</td>\n",
       "      <td>0.002261</td>\n",
       "      <td>0.004316</td>\n",
       "      <td>0.007097</td>\n",
       "      <td>0.047549</td>\n",
       "      <td>0.065699</td>\n",
       "      <td>0.084243</td>\n",
       "    </tr>\n",
       "    <tr>\n",
       "      <th>4</th>\n",
       "      <td>Weddell</td>\n",
       "      <td>0.001530</td>\n",
       "      <td>0.002613</td>\n",
       "      <td>0.004287</td>\n",
       "      <td>0.039114</td>\n",
       "      <td>0.051121</td>\n",
       "      <td>0.065476</td>\n",
       "    </tr>\n",
       "  </tbody>\n",
       "</table>\n",
       "</div>"
      ],
      "text/plain": [
       "         Regions  MSE_cnn_lstm    MSE_bi  MSE_lstm  RMSE_cnn_lstm   RMSE_bi  \\\n",
       "0  Bell-Amundsen      0.004074  0.005351  0.009676       0.063824  0.073149   \n",
       "1         Indian      0.001290  0.002416  0.003750       0.035921  0.049151   \n",
       "2        Pacific      0.002467  0.003203  0.005534       0.049668  0.056598   \n",
       "3           Ross      0.002261  0.004316  0.007097       0.047549  0.065699   \n",
       "4        Weddell      0.001530  0.002613  0.004287       0.039114  0.051121   \n",
       "\n",
       "   RMSE_lstm  \n",
       "0   0.098368  \n",
       "1   0.061241  \n",
       "2   0.074391  \n",
       "3   0.084243  \n",
       "4   0.065476  "
      ]
     },
     "execution_count": 5,
     "metadata": {},
     "output_type": "execute_result"
    }
   ],
   "source": [
    "df"
   ]
  },
  {
   "cell_type": "code",
   "execution_count": 6,
   "id": "2b582713",
   "metadata": {},
   "outputs": [],
   "source": [
    "df_new = df[['Regions', 'RMSE_cnn_lstm', 'RMSE_bi', 'RMSE_lstm']]"
   ]
  },
  {
   "cell_type": "code",
   "execution_count": 7,
   "id": "8c05716f",
   "metadata": {},
   "outputs": [
    {
     "data": {
      "image/png": "[encoded data removed]",
      "text/plain": [
       "<Figure size 720x432 with 1 Axes>"
      ]
     },
     "metadata": {
      "needs_background": "light"
     },
     "output_type": "display_data"
    }
   ],
   "source": [
    "df_new.plot(kind='bar', x='Regions', figsize=(10, 6), width=0.8)\n",
    "plt.title('RMSE of Antarctic Regions')\n",
    "plt.xlabel('Regions')\n",
    "plt.ylabel('RMSE')\n",
    "plt.xticks(rotation=-45)\n",
    "plt.show()"
   ]
  },
  {
   "attachments": {},
   "cell_type": "markdown",
   "id": "518c6892",
   "metadata": {},
   "source": [
    "MAE"
   ]
  },
  {
   "cell_type": "code",
   "execution_count": 8,
   "id": "d09d8208",
   "metadata": {},
   "outputs": [],
   "source": [
    "cnn_mae = [0.05081253821630602, 0.026791813779574878, 0.03911183491835227, 0.037324576367930004, 0.030428033879858787] \n",
    "bi_mae = [0.058835425803117916, 0.03679073061533264, 0.043881598869179604, 0.05220509426715011, 0.03865374749357355]\n",
    "lstm_mae = [0.08061112001461337, 0.046305701470411915, 0.0575235937694308, 0.06763626204214188, 0.050418225003773756]"
   ]
  },
  {
   "cell_type": "code",
   "execution_count": 9,
   "id": "f0d52435",
   "metadata": {},
   "outputs": [],
   "source": [
    "df_mae = pd.DataFrame({'Regions':regions, 'MAE_cnn_lstm':cnn_mae, 'MAE_bi':bi_mae, 'MAE_lstm':lstm_mae})"
   ]
  },
  {
   "cell_type": "code",
   "execution_count": 10,
   "id": "cacabc81",
   "metadata": {},
   "outputs": [
    {
     "data": {
      "text/html": [
       "<div>\n",
       "<style scoped>\n",
       "    .dataframe tbody tr th:only-of-type {\n",
       "        vertical-align: middle;\n",
       "    }\n",
       "\n",
       "    .dataframe tbody tr th {\n",
       "        vertical-align: top;\n",
       "    }\n",
       "\n",
       "    .dataframe thead th {\n",
       "        text-align: right;\n",
       "    }\n",
       "</style>\n",
       "<table border=\"1\" class=\"dataframe\">\n",
       "  <thead>\n",
       "    <tr style=\"text-align: right;\">\n",
       "      <th></th>\n",
       "      <th>Regions</th>\n",
       "      <th>MAE_cnn_lstm</th>\n",
       "      <th>MAE_bi</th>\n",
       "      <th>MAE_lstm</th>\n",
       "    </tr>\n",
       "  </thead>\n",
       "  <tbody>\n",
       "    <tr>\n",
       "      <th>0</th>\n",
       "      <td>Bell-Amundsen</td>\n",
       "      <td>0.050813</td>\n",
       "      <td>0.058835</td>\n",
       "      <td>0.080611</td>\n",
       "    </tr>\n",
       "    <tr>\n",
       "      <th>1</th>\n",
       "      <td>Indian</td>\n",
       "      <td>0.026792</td>\n",
       "      <td>0.036791</td>\n",
       "      <td>0.046306</td>\n",
       "    </tr>\n",
       "    <tr>\n",
       "      <th>2</th>\n",
       "      <td>Pacific</td>\n",
       "      <td>0.039112</td>\n",
       "      <td>0.043882</td>\n",
       "      <td>0.057524</td>\n",
       "    </tr>\n",
       "    <tr>\n",
       "      <th>3</th>\n",
       "      <td>Ross</td>\n",
       "      <td>0.037325</td>\n",
       "      <td>0.052205</td>\n",
       "      <td>0.067636</td>\n",
       "    </tr>\n",
       "    <tr>\n",
       "      <th>4</th>\n",
       "      <td>Weddell</td>\n",
       "      <td>0.030428</td>\n",
       "      <td>0.038654</td>\n",
       "      <td>0.050418</td>\n",
       "    </tr>\n",
       "  </tbody>\n",
       "</table>\n",
       "</div>"
      ],
      "text/plain": [
       "         Regions  MAE_cnn_lstm    MAE_bi  MAE_lstm\n",
       "0  Bell-Amundsen      0.050813  0.058835  0.080611\n",
       "1         Indian      0.026792  0.036791  0.046306\n",
       "2        Pacific      0.039112  0.043882  0.057524\n",
       "3           Ross      0.037325  0.052205  0.067636\n",
       "4        Weddell      0.030428  0.038654  0.050418"
      ]
     },
     "execution_count": 10,
     "metadata": {},
     "output_type": "execute_result"
    }
   ],
   "source": [
    "df_mae"
   ]
  },
  {
   "cell_type": "code",
   "execution_count": 11,
   "id": "f5a6d564",
   "metadata": {},
   "outputs": [
    {
     "data": {
      "image/png": "[encoded data removed]",
      "text/plain": [
       "<Figure size 720x432 with 1 Axes>"
      ]
     },
     "metadata": {
      "needs_background": "light"
     },
     "output_type": "display_data"
    }
   ],
   "source": [
    "df_mae.plot(kind='bar', x='Regions', figsize=(10, 6), width=0.8)\n",
    "plt.title('MAE of Antartic Regions')\n",
    "plt.xlabel('Regions')\n",
    "plt.ylabel('MAE')\n",
    "plt.xticks(rotation=-45)\n",
    "plt.show()"
   ]
  },
  {
   "cell_type": "code",
   "execution_count": null,
   "id": "7f5a33d2",
   "metadata": {},
   "outputs": [],
   "source": []
  }
 ],
 "metadata": {
  "kernelspec": {
   "display_name": "Python 3 (ipykernel)",
   "language": "python",
   "name": "python3"
  },
  "language_info": {
   "codemirror_mode": {
    "name": "ipython",
    "version": 3
   },
   "file_extension": ".py",
   "mimetype": "text/x-python",
   "name": "python",
   "nbconvert_exporter": "python",
   "pygments_lexer": "ipython3",
   "version": "3.10.5"
  }
 },
 "nbformat": 4,
 "nbformat_minor": 5
}
