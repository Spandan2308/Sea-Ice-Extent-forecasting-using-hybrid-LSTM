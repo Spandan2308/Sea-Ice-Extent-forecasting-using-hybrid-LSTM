{
 "cells": [
  {
   "cell_type": "code",
   "execution_count": 1,
   "id": "a1f24b66",
   "metadata": {},
   "outputs": [],
   "source": [
    "import numpy as np\n",
    "import pandas as pd\n",
    "import matplotlib.pyplot as plt\n",
    "\n",
    "from sklearn.preprocessing import MinMaxScaler\n",
    "from sklearn.metrics import mean_squared_error, mean_absolute_error\n",
    "\n",
    "from keras.models import Sequential\n",
    "from keras.layers import InputLayer, LSTM, Dense, Dropout, Conv1D, MaxPooling1D, BatchNormalization\n",
    "from keras.optimizers import Adam\n",
    "from keras.losses import MeanSquaredError\n",
    "from keras.metrics import RootMeanSquaredError\n",
    "from keras.constraints import MaxNorm\n",
    "from keras.callbacks import ModelCheckpoint\n",
    "\n",
    "import time"
   ]
  },
  {
   "cell_type": "code",
   "execution_count": 2,
   "id": "93f9a22a",
   "metadata": {},
   "outputs": [],
   "source": [
    "filepath = 'C:/Users/ss230/Documents/Study/NSIDC/Edited Data/S_Sea_Ice_Index_Regional_Monthly_Data_G02135_v3.0.xlsx'\n",
    "Pacific_Extent = pd.read_excel(filepath, sheet_name='Pacific-Extent-km^2')"
   ]
  },
  {
   "cell_type": "code",
   "execution_count": 3,
   "id": "14953659",
   "metadata": {},
   "outputs": [],
   "source": [
    "import sys\n",
    "sys.path.append('C:/Users/ss230/Documents/Study/NSIDC/SH/Bi_LSTM_Extent/')\n",
    "import Function as fp"
   ]
  },
  {
   "cell_type": "code",
   "execution_count": 4,
   "id": "f67587d3",
   "metadata": {},
   "outputs": [
    {
     "data": {
      "text/html": [
       "<div>\n",
       "<style scoped>\n",
       "    .dataframe tbody tr th:only-of-type {\n",
       "        vertical-align: middle;\n",
       "    }\n",
       "\n",
       "    .dataframe tbody tr th {\n",
       "        vertical-align: top;\n",
       "    }\n",
       "\n",
       "    .dataframe thead th {\n",
       "        text-align: right;\n",
       "    }\n",
       "</style>\n",
       "<table border=\"1\" class=\"dataframe\">\n",
       "  <thead>\n",
       "    <tr style=\"text-align: right;\">\n",
       "      <th></th>\n",
       "      <th>Extent</th>\n",
       "      <th>Date</th>\n",
       "    </tr>\n",
       "  </thead>\n",
       "  <tbody>\n",
       "    <tr>\n",
       "      <th>0</th>\n",
       "      <td>668714.275</td>\n",
       "      <td>1979-01-01</td>\n",
       "    </tr>\n",
       "    <tr>\n",
       "      <th>1</th>\n",
       "      <td>566930.458</td>\n",
       "      <td>1979-02-01</td>\n",
       "    </tr>\n",
       "    <tr>\n",
       "      <th>2</th>\n",
       "      <td>688420.115</td>\n",
       "      <td>1979-03-01</td>\n",
       "    </tr>\n",
       "    <tr>\n",
       "      <th>3</th>\n",
       "      <td>859963.043</td>\n",
       "      <td>1979-04-01</td>\n",
       "    </tr>\n",
       "    <tr>\n",
       "      <th>4</th>\n",
       "      <td>1127120.160</td>\n",
       "      <td>1979-05-01</td>\n",
       "    </tr>\n",
       "    <tr>\n",
       "      <th>...</th>\n",
       "      <td>...</td>\n",
       "      <td>...</td>\n",
       "    </tr>\n",
       "    <tr>\n",
       "      <th>533</th>\n",
       "      <td>1134056.102</td>\n",
       "      <td>2023-06-01</td>\n",
       "    </tr>\n",
       "    <tr>\n",
       "      <th>534</th>\n",
       "      <td>1484824.377</td>\n",
       "      <td>2023-07-01</td>\n",
       "    </tr>\n",
       "    <tr>\n",
       "      <th>535</th>\n",
       "      <td>1671324.717</td>\n",
       "      <td>2023-08-01</td>\n",
       "    </tr>\n",
       "    <tr>\n",
       "      <th>536</th>\n",
       "      <td>1726376.097</td>\n",
       "      <td>2023-09-01</td>\n",
       "    </tr>\n",
       "    <tr>\n",
       "      <th>537</th>\n",
       "      <td>1690631.996</td>\n",
       "      <td>2023-10-01</td>\n",
       "    </tr>\n",
       "  </tbody>\n",
       "</table>\n",
       "<p>538 rows × 2 columns</p>\n",
       "</div>"
      ],
      "text/plain": [
       "          Extent       Date\n",
       "0     668714.275 1979-01-01\n",
       "1     566930.458 1979-02-01\n",
       "2     688420.115 1979-03-01\n",
       "3     859963.043 1979-04-01\n",
       "4    1127120.160 1979-05-01\n",
       "..           ...        ...\n",
       "533  1134056.102 2023-06-01\n",
       "534  1484824.377 2023-07-01\n",
       "535  1671324.717 2023-08-01\n",
       "536  1726376.097 2023-09-01\n",
       "537  1690631.996 2023-10-01\n",
       "\n",
       "[538 rows x 2 columns]"
      ]
     },
     "execution_count": 4,
     "metadata": {},
     "output_type": "execute_result"
    }
   ],
   "source": [
    "fp.month_mapping(Pacific_Extent)\n",
    "fp.date_time(Pacific_Extent)"
   ]
  },
  {
   "cell_type": "code",
   "execution_count": 5,
   "id": "3ac97fad",
   "metadata": {},
   "outputs": [],
   "source": [
    "scaler = MinMaxScaler()\n",
    "Pacific_Extent['Extent'] = scaler.fit_transform(Pacific_Extent['Extent'].values.reshape(-1, 1))"
   ]
  },
  {
   "cell_type": "code",
   "execution_count": 6,
   "id": "19812c93",
   "metadata": {},
   "outputs": [],
   "source": [
    "def df_to_X_y(df, window_size):\n",
    "    df_as_np = df.to_numpy()\n",
    "    X = []\n",
    "    y = []\n",
    "    lead_time = 3\n",
    "    for i in range(len(df_as_np) - window_size - lead_time + 1):\n",
    "        window_data = df_as_np[i:i+window_size]\n",
    "        row = [[a] for a in window_data]\n",
    "        X.append(row)\n",
    "        label = df_as_np[i+window_size+lead_time-1]\n",
    "        y.append(label)\n",
    "    return np.array(X), np.array(y)"
   ]
  },
  {
   "cell_type": "code",
   "execution_count": 7,
   "id": "ec62dbff",
   "metadata": {},
   "outputs": [
    {
     "data": {
      "text/plain": [
       "((524, 12, 1), (524,))"
      ]
     },
     "execution_count": 7,
     "metadata": {},
     "output_type": "execute_result"
    }
   ],
   "source": [
    "extent = Pacific_Extent['Extent']\n",
    "W_S=12\n",
    "X,y = df_to_X_y(extent, W_S)\n",
    "X.shape, y.shape"
   ]
  },
  {
   "cell_type": "code",
   "execution_count": 8,
   "id": "d0bcc7c7",
   "metadata": {},
   "outputs": [],
   "source": [
    "X_train, y_train = X[:420], y[:420]\n",
    "X_val, y_val = X[420:472], y[420:472]\n",
    "X_test, y_test = X[472:], y[472:]"
   ]
  },
  {
   "cell_type": "code",
   "execution_count": 9,
   "id": "b6caaa74",
   "metadata": {},
   "outputs": [],
   "source": [
    "model = Sequential()\n",
    "model.add(Conv1D(filters=64, kernel_size=3, activation='relu', input_shape=(W_S, 1)))\n",
    "model.add(MaxPooling1D(pool_size=2))\n",
    "model.add(LSTM(32, kernel_constraint=MaxNorm(1.0), activation='relu'))\n",
    "model.add(BatchNormalization())\n",
    "model.add(Dense(1, activation='linear'))"
   ]
  },
  {
   "cell_type": "code",
   "execution_count": 10,
   "id": "cc83978d",
   "metadata": {},
   "outputs": [],
   "source": [
    "cp = ModelCheckpoint('Pacific_model_LT3/', save_best_only=True)\n",
    "model.compile(loss=MeanSquaredError(), optimizer=Adam(0.0001), metrics=[RootMeanSquaredError()])"
   ]
  },
  {
   "cell_type": "code",
   "execution_count": 11,
   "id": "c66c1fe7",
   "metadata": {
    "scrolled": true
   },
   "outputs": [
    {
     "name": "stdout",
     "output_type": "stream",
     "text": [
      "Epoch 1/50\n",
      "43/53 [=======================>......] - ETA: 0s - loss: 0.2951 - root_mean_squared_error: 0.5433"
     ]
    },
    {
     "name": "stderr",
     "output_type": "stream",
     "text": [
      "WARNING:absl:Found untraced functions such as _jit_compiled_convolution_op while saving (showing 1 of 1). These functions will not be directly callable after loading.\n"
     ]
    },
    {
     "name": "stdout",
     "output_type": "stream",
     "text": [
      "INFO:tensorflow:Assets written to: Pacific_model_LT3\\assets\n"
     ]
    },
    {
     "name": "stderr",
     "output_type": "stream",
     "text": [
      "INFO:tensorflow:Assets written to: Pacific_model_LT3\\assets\n"
     ]
    },
    {
     "name": "stdout",
     "output_type": "stream",
     "text": [
      "53/53 [==============================] - 7s 83ms/step - loss: 0.2831 - root_mean_squared_error: 0.5321 - val_loss: 0.2217 - val_root_mean_squared_error: 0.4708\n",
      "Epoch 2/50\n",
      "51/53 [===========================>..] - ETA: 0s - loss: 0.1883 - root_mean_squared_error: 0.4340"
     ]
    },
    {
     "name": "stderr",
     "output_type": "stream",
     "text": [
      "WARNING:absl:Found untraced functions such as _jit_compiled_convolution_op while saving (showing 1 of 1). These functions will not be directly callable after loading.\n"
     ]
    },
    {
     "name": "stdout",
     "output_type": "stream",
     "text": [
      "INFO:tensorflow:Assets written to: Pacific_model_LT3\\assets\n"
     ]
    },
    {
     "name": "stderr",
     "output_type": "stream",
     "text": [
      "INFO:tensorflow:Assets written to: Pacific_model_LT3\\assets\n"
     ]
    },
    {
     "name": "stdout",
     "output_type": "stream",
     "text": [
      "53/53 [==============================] - 4s 77ms/step - loss: 0.1867 - root_mean_squared_error: 0.4320 - val_loss: 0.1961 - val_root_mean_squared_error: 0.4429\n",
      "Epoch 3/50\n",
      "50/53 [===========================>..] - ETA: 0s - loss: 0.1470 - root_mean_squared_error: 0.3834"
     ]
    },
    {
     "name": "stderr",
     "output_type": "stream",
     "text": [
      "WARNING:absl:Found untraced functions such as _jit_compiled_convolution_op while saving (showing 1 of 1). These functions will not be directly callable after loading.\n"
     ]
    },
    {
     "name": "stdout",
     "output_type": "stream",
     "text": [
      "INFO:tensorflow:Assets written to: Pacific_model_LT3\\assets\n"
     ]
    },
    {
     "name": "stderr",
     "output_type": "stream",
     "text": [
      "INFO:tensorflow:Assets written to: Pacific_model_LT3\\assets\n"
     ]
    },
    {
     "name": "stdout",
     "output_type": "stream",
     "text": [
      "53/53 [==============================] - 4s 71ms/step - loss: 0.1456 - root_mean_squared_error: 0.3815 - val_loss: 0.1643 - val_root_mean_squared_error: 0.4054\n",
      "Epoch 4/50\n",
      "50/53 [===========================>..] - ETA: 0s - loss: 0.1196 - root_mean_squared_error: 0.3459"
     ]
    },
    {
     "name": "stderr",
     "output_type": "stream",
     "text": [
      "WARNING:absl:Found untraced functions such as _jit_compiled_convolution_op while saving (showing 1 of 1). These functions will not be directly callable after loading.\n"
     ]
    },
    {
     "name": "stdout",
     "output_type": "stream",
     "text": [
      "INFO:tensorflow:Assets written to: Pacific_model_LT3\\assets\n"
     ]
    },
    {
     "name": "stderr",
     "output_type": "stream",
     "text": [
      "INFO:tensorflow:Assets written to: Pacific_model_LT3\\assets\n"
     ]
    },
    {
     "name": "stdout",
     "output_type": "stream",
     "text": [
      "53/53 [==============================] - 4s 76ms/step - loss: 0.1170 - root_mean_squared_error: 0.3421 - val_loss: 0.1316 - val_root_mean_squared_error: 0.3627\n",
      "Epoch 5/50\n",
      "50/53 [===========================>..] - ETA: 0s - loss: 0.0923 - root_mean_squared_error: 0.3039"
     ]
    },
    {
     "name": "stderr",
     "output_type": "stream",
     "text": [
      "WARNING:absl:Found untraced functions such as _jit_compiled_convolution_op while saving (showing 1 of 1). These functions will not be directly callable after loading.\n"
     ]
    },
    {
     "name": "stdout",
     "output_type": "stream",
     "text": [
      "INFO:tensorflow:Assets written to: Pacific_model_LT3\\assets\n"
     ]
    },
    {
     "name": "stderr",
     "output_type": "stream",
     "text": [
      "INFO:tensorflow:Assets written to: Pacific_model_LT3\\assets\n"
     ]
    },
    {
     "name": "stdout",
     "output_type": "stream",
     "text": [
      "53/53 [==============================] - 4s 72ms/step - loss: 0.0936 - root_mean_squared_error: 0.3059 - val_loss: 0.1047 - val_root_mean_squared_error: 0.3236\n",
      "Epoch 6/50\n",
      "47/53 [=========================>....] - ETA: 0s - loss: 0.0762 - root_mean_squared_error: 0.2760"
     ]
    },
    {
     "name": "stderr",
     "output_type": "stream",
     "text": [
      "WARNING:absl:Found untraced functions such as _jit_compiled_convolution_op while saving (showing 1 of 1). These functions will not be directly callable after loading.\n"
     ]
    },
    {
     "name": "stdout",
     "output_type": "stream",
     "text": [
      "INFO:tensorflow:Assets written to: Pacific_model_LT3\\assets\n"
     ]
    },
    {
     "name": "stderr",
     "output_type": "stream",
     "text": [
      "INFO:tensorflow:Assets written to: Pacific_model_LT3\\assets\n"
     ]
    },
    {
     "name": "stdout",
     "output_type": "stream",
     "text": [
      "53/53 [==============================] - 4s 72ms/step - loss: 0.0752 - root_mean_squared_error: 0.2742 - val_loss: 0.0828 - val_root_mean_squared_error: 0.2877\n",
      "Epoch 7/50\n",
      "51/53 [===========================>..] - ETA: 0s - loss: 0.0576 - root_mean_squared_error: 0.2400"
     ]
    },
    {
     "name": "stderr",
     "output_type": "stream",
     "text": [
      "WARNING:absl:Found untraced functions such as _jit_compiled_convolution_op while saving (showing 1 of 1). These functions will not be directly callable after loading.\n"
     ]
    },
    {
     "name": "stdout",
     "output_type": "stream",
     "text": [
      "INFO:tensorflow:Assets written to: Pacific_model_LT3\\assets\n"
     ]
    },
    {
     "name": "stderr",
     "output_type": "stream",
     "text": [
      "INFO:tensorflow:Assets written to: Pacific_model_LT3\\assets\n"
     ]
    },
    {
     "name": "stdout",
     "output_type": "stream",
     "text": [
      "53/53 [==============================] - 4s 79ms/step - loss: 0.0577 - root_mean_squared_error: 0.2403 - val_loss: 0.0660 - val_root_mean_squared_error: 0.2570\n",
      "Epoch 8/50\n",
      "49/53 [==========================>...] - ETA: 0s - loss: 0.0466 - root_mean_squared_error: 0.2160"
     ]
    },
    {
     "name": "stderr",
     "output_type": "stream",
     "text": [
      "WARNING:absl:Found untraced functions such as _jit_compiled_convolution_op while saving (showing 1 of 1). These functions will not be directly callable after loading.\n"
     ]
    },
    {
     "name": "stdout",
     "output_type": "stream",
     "text": [
      "INFO:tensorflow:Assets written to: Pacific_model_LT3\\assets\n"
     ]
    },
    {
     "name": "stderr",
     "output_type": "stream",
     "text": [
      "INFO:tensorflow:Assets written to: Pacific_model_LT3\\assets\n"
     ]
    },
    {
     "name": "stdout",
     "output_type": "stream",
     "text": [
      "53/53 [==============================] - 4s 73ms/step - loss: 0.0468 - root_mean_squared_error: 0.2164 - val_loss: 0.0498 - val_root_mean_squared_error: 0.2231\n",
      "Epoch 9/50\n",
      "50/53 [===========================>..] - ETA: 0s - loss: 0.0364 - root_mean_squared_error: 0.1908"
     ]
    },
    {
     "name": "stderr",
     "output_type": "stream",
     "text": [
      "WARNING:absl:Found untraced functions such as _jit_compiled_convolution_op while saving (showing 1 of 1). These functions will not be directly callable after loading.\n"
     ]
    },
    {
     "name": "stdout",
     "output_type": "stream",
     "text": [
      "INFO:tensorflow:Assets written to: Pacific_model_LT3\\assets\n"
     ]
    },
    {
     "name": "stderr",
     "output_type": "stream",
     "text": [
      "INFO:tensorflow:Assets written to: Pacific_model_LT3\\assets\n"
     ]
    },
    {
     "name": "stdout",
     "output_type": "stream",
     "text": [
      "53/53 [==============================] - 4s 72ms/step - loss: 0.0359 - root_mean_squared_error: 0.1895 - val_loss: 0.0400 - val_root_mean_squared_error: 0.2000\n",
      "Epoch 10/50\n",
      "52/53 [============================>.] - ETA: 0s - loss: 0.0261 - root_mean_squared_error: 0.1617"
     ]
    },
    {
     "name": "stderr",
     "output_type": "stream",
     "text": [
      "WARNING:absl:Found untraced functions such as _jit_compiled_convolution_op while saving (showing 1 of 1). These functions will not be directly callable after loading.\n"
     ]
    },
    {
     "name": "stdout",
     "output_type": "stream",
     "text": [
      "INFO:tensorflow:Assets written to: Pacific_model_LT3\\assets\n"
     ]
    },
    {
     "name": "stderr",
     "output_type": "stream",
     "text": [
      "INFO:tensorflow:Assets written to: Pacific_model_LT3\\assets\n"
     ]
    },
    {
     "name": "stdout",
     "output_type": "stream",
     "text": [
      "53/53 [==============================] - 4s 81ms/step - loss: 0.0267 - root_mean_squared_error: 0.1633 - val_loss: 0.0299 - val_root_mean_squared_error: 0.1729\n",
      "Epoch 11/50\n",
      "50/53 [===========================>..] - ETA: 0s - loss: 0.0232 - root_mean_squared_error: 0.1524"
     ]
    },
    {
     "name": "stderr",
     "output_type": "stream",
     "text": [
      "WARNING:absl:Found untraced functions such as _jit_compiled_convolution_op while saving (showing 1 of 1). These functions will not be directly callable after loading.\n"
     ]
    },
    {
     "name": "stdout",
     "output_type": "stream",
     "text": [
      "INFO:tensorflow:Assets written to: Pacific_model_LT3\\assets\n"
     ]
    },
    {
     "name": "stderr",
     "output_type": "stream",
     "text": [
      "INFO:tensorflow:Assets written to: Pacific_model_LT3\\assets\n"
     ]
    },
    {
     "name": "stdout",
     "output_type": "stream",
     "text": [
      "53/53 [==============================] - 4s 75ms/step - loss: 0.0227 - root_mean_squared_error: 0.1506 - val_loss: 0.0188 - val_root_mean_squared_error: 0.1370\n",
      "Epoch 12/50\n",
      "50/53 [===========================>..] - ETA: 0s - loss: 0.0199 - root_mean_squared_error: 0.1412"
     ]
    },
    {
     "name": "stderr",
     "output_type": "stream",
     "text": [
      "WARNING:absl:Found untraced functions such as _jit_compiled_convolution_op while saving (showing 1 of 1). These functions will not be directly callable after loading.\n"
     ]
    },
    {
     "name": "stdout",
     "output_type": "stream",
     "text": [
      "INFO:tensorflow:Assets written to: Pacific_model_LT3\\assets\n"
     ]
    },
    {
     "name": "stderr",
     "output_type": "stream",
     "text": [
      "INFO:tensorflow:Assets written to: Pacific_model_LT3\\assets\n"
     ]
    },
    {
     "name": "stdout",
     "output_type": "stream",
     "text": [
      "53/53 [==============================] - 4s 76ms/step - loss: 0.0193 - root_mean_squared_error: 0.1390 - val_loss: 0.0126 - val_root_mean_squared_error: 0.1122\n",
      "Epoch 13/50\n",
      "50/53 [===========================>..] - ETA: 0s - loss: 0.0135 - root_mean_squared_error: 0.1160"
     ]
    },
    {
     "name": "stderr",
     "output_type": "stream",
     "text": [
      "WARNING:absl:Found untraced functions such as _jit_compiled_convolution_op while saving (showing 1 of 1). These functions will not be directly callable after loading.\n"
     ]
    },
    {
     "name": "stdout",
     "output_type": "stream",
     "text": [
      "INFO:tensorflow:Assets written to: Pacific_model_LT3\\assets\n"
     ]
    },
    {
     "name": "stderr",
     "output_type": "stream",
     "text": [
      "INFO:tensorflow:Assets written to: Pacific_model_LT3\\assets\n"
     ]
    },
    {
     "name": "stdout",
     "output_type": "stream",
     "text": [
      "53/53 [==============================] - 4s 72ms/step - loss: 0.0133 - root_mean_squared_error: 0.1151 - val_loss: 0.0094 - val_root_mean_squared_error: 0.0972\n",
      "Epoch 14/50\n",
      "50/53 [===========================>..] - ETA: 0s - loss: 0.0157 - root_mean_squared_error: 0.1253"
     ]
    },
    {
     "name": "stderr",
     "output_type": "stream",
     "text": [
      "WARNING:absl:Found untraced functions such as _jit_compiled_convolution_op while saving (showing 1 of 1). These functions will not be directly callable after loading.\n"
     ]
    },
    {
     "name": "stdout",
     "output_type": "stream",
     "text": [
      "INFO:tensorflow:Assets written to: Pacific_model_LT3\\assets\n"
     ]
    },
    {
     "name": "stderr",
     "output_type": "stream",
     "text": [
      "INFO:tensorflow:Assets written to: Pacific_model_LT3\\assets\n"
     ]
    },
    {
     "name": "stdout",
     "output_type": "stream",
     "text": [
      "53/53 [==============================] - 4s 73ms/step - loss: 0.0156 - root_mean_squared_error: 0.1248 - val_loss: 0.0071 - val_root_mean_squared_error: 0.0841\n",
      "Epoch 15/50\n",
      "53/53 [==============================] - 0s 6ms/step - loss: 0.0124 - root_mean_squared_error: 0.1115 - val_loss: 0.0073 - val_root_mean_squared_error: 0.0853\n",
      "Epoch 16/50\n",
      "52/53 [============================>.] - ETA: 0s - loss: 0.0123 - root_mean_squared_error: 0.1107"
     ]
    },
    {
     "name": "stderr",
     "output_type": "stream",
     "text": [
      "WARNING:absl:Found untraced functions such as _jit_compiled_convolution_op while saving (showing 1 of 1). These functions will not be directly callable after loading.\n"
     ]
    },
    {
     "name": "stdout",
     "output_type": "stream",
     "text": [
      "INFO:tensorflow:Assets written to: Pacific_model_LT3\\assets\n"
     ]
    },
    {
     "name": "stderr",
     "output_type": "stream",
     "text": [
      "INFO:tensorflow:Assets written to: Pacific_model_LT3\\assets\n"
     ]
    },
    {
     "name": "stdout",
     "output_type": "stream",
     "text": [
      "53/53 [==============================] - 4s 79ms/step - loss: 0.0123 - root_mean_squared_error: 0.1108 - val_loss: 0.0045 - val_root_mean_squared_error: 0.0673\n",
      "Epoch 17/50\n",
      "53/53 [==============================] - 0s 6ms/step - loss: 0.0153 - root_mean_squared_error: 0.1239 - val_loss: 0.0067 - val_root_mean_squared_error: 0.0817\n",
      "Epoch 18/50\n",
      "50/53 [===========================>..] - ETA: 0s - loss: 0.0139 - root_mean_squared_error: 0.1180"
     ]
    },
    {
     "name": "stderr",
     "output_type": "stream",
     "text": [
      "WARNING:absl:Found untraced functions such as _jit_compiled_convolution_op while saving (showing 1 of 1). These functions will not be directly callable after loading.\n"
     ]
    },
    {
     "name": "stdout",
     "output_type": "stream",
     "text": [
      "INFO:tensorflow:Assets written to: Pacific_model_LT3\\assets\n"
     ]
    },
    {
     "name": "stderr",
     "output_type": "stream",
     "text": [
      "INFO:tensorflow:Assets written to: Pacific_model_LT3\\assets\n"
     ]
    },
    {
     "name": "stdout",
     "output_type": "stream",
     "text": [
      "53/53 [==============================] - 4s 75ms/step - loss: 0.0141 - root_mean_squared_error: 0.1187 - val_loss: 0.0043 - val_root_mean_squared_error: 0.0653\n",
      "Epoch 19/50\n",
      "47/53 [=========================>....] - ETA: 0s - loss: 0.0120 - root_mean_squared_error: 0.1095"
     ]
    },
    {
     "name": "stderr",
     "output_type": "stream",
     "text": [
      "WARNING:absl:Found untraced functions such as _jit_compiled_convolution_op while saving (showing 1 of 1). These functions will not be directly callable after loading.\n"
     ]
    },
    {
     "name": "stdout",
     "output_type": "stream",
     "text": [
      "INFO:tensorflow:Assets written to: Pacific_model_LT3\\assets\n"
     ]
    },
    {
     "name": "stderr",
     "output_type": "stream",
     "text": [
      "INFO:tensorflow:Assets written to: Pacific_model_LT3\\assets\n"
     ]
    },
    {
     "name": "stdout",
     "output_type": "stream",
     "text": [
      "53/53 [==============================] - 4s 72ms/step - loss: 0.0128 - root_mean_squared_error: 0.1132 - val_loss: 0.0040 - val_root_mean_squared_error: 0.0633\n",
      "Epoch 20/50\n",
      "53/53 [==============================] - 0s 6ms/step - loss: 0.0116 - root_mean_squared_error: 0.1078 - val_loss: 0.0048 - val_root_mean_squared_error: 0.0690\n",
      "Epoch 21/50\n",
      "53/53 [==============================] - 0s 6ms/step - loss: 0.0120 - root_mean_squared_error: 0.1094 - val_loss: 0.0042 - val_root_mean_squared_error: 0.0646\n",
      "Epoch 22/50\n",
      "48/53 [==========================>...] - ETA: 0s - loss: 0.0094 - root_mean_squared_error: 0.0971"
     ]
    },
    {
     "name": "stderr",
     "output_type": "stream",
     "text": [
      "WARNING:absl:Found untraced functions such as _jit_compiled_convolution_op while saving (showing 1 of 1). These functions will not be directly callable after loading.\n"
     ]
    },
    {
     "name": "stdout",
     "output_type": "stream",
     "text": [
      "INFO:tensorflow:Assets written to: Pacific_model_LT3\\assets\n"
     ]
    },
    {
     "name": "stderr",
     "output_type": "stream",
     "text": [
      "INFO:tensorflow:Assets written to: Pacific_model_LT3\\assets\n"
     ]
    },
    {
     "name": "stdout",
     "output_type": "stream",
     "text": [
      "53/53 [==============================] - 4s 78ms/step - loss: 0.0092 - root_mean_squared_error: 0.0957 - val_loss: 0.0039 - val_root_mean_squared_error: 0.0626\n",
      "Epoch 23/50\n",
      "44/53 [=======================>......] - ETA: 0s - loss: 0.0117 - root_mean_squared_error: 0.1081"
     ]
    },
    {
     "name": "stderr",
     "output_type": "stream",
     "text": [
      "WARNING:absl:Found untraced functions such as _jit_compiled_convolution_op while saving (showing 1 of 1). These functions will not be directly callable after loading.\n"
     ]
    },
    {
     "name": "stdout",
     "output_type": "stream",
     "text": [
      "INFO:tensorflow:Assets written to: Pacific_model_LT3\\assets\n"
     ]
    },
    {
     "name": "stderr",
     "output_type": "stream",
     "text": [
      "INFO:tensorflow:Assets written to: Pacific_model_LT3\\assets\n"
     ]
    },
    {
     "name": "stdout",
     "output_type": "stream",
     "text": [
      "53/53 [==============================] - 4s 72ms/step - loss: 0.0132 - root_mean_squared_error: 0.1150 - val_loss: 0.0038 - val_root_mean_squared_error: 0.0614\n",
      "Epoch 24/50\n",
      "51/53 [===========================>..] - ETA: 0s - loss: 0.0130 - root_mean_squared_error: 0.1138"
     ]
    },
    {
     "name": "stderr",
     "output_type": "stream",
     "text": [
      "WARNING:absl:Found untraced functions such as _jit_compiled_convolution_op while saving (showing 1 of 1). These functions will not be directly callable after loading.\n"
     ]
    },
    {
     "name": "stdout",
     "output_type": "stream",
     "text": [
      "INFO:tensorflow:Assets written to: Pacific_model_LT3\\assets\n"
     ]
    },
    {
     "name": "stderr",
     "output_type": "stream",
     "text": [
      "INFO:tensorflow:Assets written to: Pacific_model_LT3\\assets\n"
     ]
    },
    {
     "name": "stdout",
     "output_type": "stream",
     "text": [
      "53/53 [==============================] - 4s 74ms/step - loss: 0.0128 - root_mean_squared_error: 0.1131 - val_loss: 0.0037 - val_root_mean_squared_error: 0.0612\n",
      "Epoch 25/50\n",
      "53/53 [==============================] - 0s 6ms/step - loss: 0.0121 - root_mean_squared_error: 0.1099 - val_loss: 0.0040 - val_root_mean_squared_error: 0.0635\n",
      "Epoch 26/50\n",
      "53/53 [==============================] - 0s 6ms/step - loss: 0.0115 - root_mean_squared_error: 0.1074 - val_loss: 0.0048 - val_root_mean_squared_error: 0.0692\n",
      "Epoch 27/50\n",
      "53/53 [==============================] - 0s 7ms/step - loss: 0.0128 - root_mean_squared_error: 0.1129 - val_loss: 0.0043 - val_root_mean_squared_error: 0.0659\n",
      "Epoch 28/50\n",
      "43/53 [=======================>......] - ETA: 0s - loss: 0.0106 - root_mean_squared_error: 0.1029"
     ]
    },
    {
     "name": "stderr",
     "output_type": "stream",
     "text": [
      "WARNING:absl:Found untraced functions such as _jit_compiled_convolution_op while saving (showing 1 of 1). These functions will not be directly callable after loading.\n"
     ]
    },
    {
     "name": "stdout",
     "output_type": "stream",
     "text": [
      "INFO:tensorflow:Assets written to: Pacific_model_LT3\\assets\n"
     ]
    },
    {
     "name": "stderr",
     "output_type": "stream",
     "text": [
      "INFO:tensorflow:Assets written to: Pacific_model_LT3\\assets\n"
     ]
    },
    {
     "name": "stdout",
     "output_type": "stream",
     "text": [
      "53/53 [==============================] - 4s 79ms/step - loss: 0.0106 - root_mean_squared_error: 0.1030 - val_loss: 0.0036 - val_root_mean_squared_error: 0.0603\n",
      "Epoch 29/50\n",
      "53/53 [==============================] - 0s 7ms/step - loss: 0.0104 - root_mean_squared_error: 0.1020 - val_loss: 0.0063 - val_root_mean_squared_error: 0.0791\n",
      "Epoch 30/50\n",
      "53/53 [==============================] - 0s 7ms/step - loss: 0.0115 - root_mean_squared_error: 0.1071 - val_loss: 0.0048 - val_root_mean_squared_error: 0.0689\n",
      "Epoch 31/50\n",
      "53/53 [==============================] - 0s 7ms/step - loss: 0.0111 - root_mean_squared_error: 0.1052 - val_loss: 0.0040 - val_root_mean_squared_error: 0.0632\n",
      "Epoch 32/50\n",
      "53/53 [==============================] - 0s 7ms/step - loss: 0.0124 - root_mean_squared_error: 0.1115 - val_loss: 0.0040 - val_root_mean_squared_error: 0.0632\n",
      "Epoch 33/50\n",
      "53/53 [==============================] - 0s 7ms/step - loss: 0.0117 - root_mean_squared_error: 0.1082 - val_loss: 0.0046 - val_root_mean_squared_error: 0.0679\n",
      "Epoch 34/50\n",
      "53/53 [==============================] - 0s 6ms/step - loss: 0.0107 - root_mean_squared_error: 0.1036 - val_loss: 0.0040 - val_root_mean_squared_error: 0.0636\n",
      "Epoch 35/50\n",
      "51/53 [===========================>..] - ETA: 0s - loss: 0.0129 - root_mean_squared_error: 0.1135"
     ]
    },
    {
     "name": "stderr",
     "output_type": "stream",
     "text": [
      "WARNING:absl:Found untraced functions such as _jit_compiled_convolution_op while saving (showing 1 of 1). These functions will not be directly callable after loading.\n"
     ]
    },
    {
     "name": "stdout",
     "output_type": "stream",
     "text": [
      "INFO:tensorflow:Assets written to: Pacific_model_LT3\\assets\n"
     ]
    },
    {
     "name": "stderr",
     "output_type": "stream",
     "text": [
      "INFO:tensorflow:Assets written to: Pacific_model_LT3\\assets\n"
     ]
    },
    {
     "name": "stdout",
     "output_type": "stream",
     "text": [
      "53/53 [==============================] - 4s 71ms/step - loss: 0.0133 - root_mean_squared_error: 0.1152 - val_loss: 0.0036 - val_root_mean_squared_error: 0.0600\n",
      "Epoch 36/50\n",
      "53/53 [==============================] - 0s 6ms/step - loss: 0.0088 - root_mean_squared_error: 0.0935 - val_loss: 0.0036 - val_root_mean_squared_error: 0.0602\n",
      "Epoch 37/50\n",
      "53/53 [==============================] - 0s 6ms/step - loss: 0.0109 - root_mean_squared_error: 0.1045 - val_loss: 0.0038 - val_root_mean_squared_error: 0.0619\n",
      "Epoch 38/50\n",
      "50/53 [===========================>..] - ETA: 0s - loss: 0.0115 - root_mean_squared_error: 0.1074"
     ]
    },
    {
     "name": "stderr",
     "output_type": "stream",
     "text": [
      "WARNING:absl:Found untraced functions such as _jit_compiled_convolution_op while saving (showing 1 of 1). These functions will not be directly callable after loading.\n"
     ]
    },
    {
     "name": "stdout",
     "output_type": "stream",
     "text": [
      "INFO:tensorflow:Assets written to: Pacific_model_LT3\\assets\n"
     ]
    },
    {
     "name": "stderr",
     "output_type": "stream",
     "text": [
      "INFO:tensorflow:Assets written to: Pacific_model_LT3\\assets\n"
     ]
    },
    {
     "name": "stdout",
     "output_type": "stream",
     "text": [
      "53/53 [==============================] - 4s 79ms/step - loss: 0.0117 - root_mean_squared_error: 0.1081 - val_loss: 0.0035 - val_root_mean_squared_error: 0.0592\n",
      "Epoch 39/50\n",
      "53/53 [==============================] - 0s 7ms/step - loss: 0.0111 - root_mean_squared_error: 0.1052 - val_loss: 0.0045 - val_root_mean_squared_error: 0.0671\n",
      "Epoch 40/50\n",
      "53/53 [==============================] - 0s 6ms/step - loss: 0.0119 - root_mean_squared_error: 0.1092 - val_loss: 0.0056 - val_root_mean_squared_error: 0.0751\n",
      "Epoch 41/50\n",
      "53/53 [==============================] - 0s 7ms/step - loss: 0.0121 - root_mean_squared_error: 0.1099 - val_loss: 0.0036 - val_root_mean_squared_error: 0.0604\n",
      "Epoch 42/50\n",
      "43/53 [=======================>......] - ETA: 0s - loss: 0.0119 - root_mean_squared_error: 0.1091"
     ]
    },
    {
     "name": "stderr",
     "output_type": "stream",
     "text": [
      "WARNING:absl:Found untraced functions such as _jit_compiled_convolution_op while saving (showing 1 of 1). These functions will not be directly callable after loading.\n"
     ]
    },
    {
     "name": "stdout",
     "output_type": "stream",
     "text": [
      "INFO:tensorflow:Assets written to: Pacific_model_LT3\\assets\n"
     ]
    },
    {
     "name": "stderr",
     "output_type": "stream",
     "text": [
      "INFO:tensorflow:Assets written to: Pacific_model_LT3\\assets\n"
     ]
    },
    {
     "name": "stdout",
     "output_type": "stream",
     "text": [
      "53/53 [==============================] - 4s 70ms/step - loss: 0.0131 - root_mean_squared_error: 0.1145 - val_loss: 0.0035 - val_root_mean_squared_error: 0.0591\n",
      "Epoch 43/50\n",
      "53/53 [==============================] - 0s 7ms/step - loss: 0.0115 - root_mean_squared_error: 0.1071 - val_loss: 0.0045 - val_root_mean_squared_error: 0.0674\n",
      "Epoch 44/50\n",
      "46/53 [=========================>....] - ETA: 0s - loss: 0.0101 - root_mean_squared_error: 0.1005"
     ]
    },
    {
     "name": "stderr",
     "output_type": "stream",
     "text": [
      "WARNING:absl:Found untraced functions such as _jit_compiled_convolution_op while saving (showing 1 of 1). These functions will not be directly callable after loading.\n"
     ]
    },
    {
     "name": "stdout",
     "output_type": "stream",
     "text": [
      "INFO:tensorflow:Assets written to: Pacific_model_LT3\\assets\n"
     ]
    },
    {
     "name": "stderr",
     "output_type": "stream",
     "text": [
      "INFO:tensorflow:Assets written to: Pacific_model_LT3\\assets\n"
     ]
    },
    {
     "name": "stdout",
     "output_type": "stream",
     "text": [
      "53/53 [==============================] - 4s 72ms/step - loss: 0.0107 - root_mean_squared_error: 0.1035 - val_loss: 0.0033 - val_root_mean_squared_error: 0.0573\n",
      "Epoch 45/50\n",
      "53/53 [==============================] - 0s 6ms/step - loss: 0.0100 - root_mean_squared_error: 0.0999 - val_loss: 0.0051 - val_root_mean_squared_error: 0.0715\n",
      "Epoch 46/50\n",
      "53/53 [==============================] - 0s 6ms/step - loss: 0.0105 - root_mean_squared_error: 0.1027 - val_loss: 0.0039 - val_root_mean_squared_error: 0.0625\n",
      "Epoch 47/50\n",
      "53/53 [==============================] - 0s 6ms/step - loss: 0.0138 - root_mean_squared_error: 0.1176 - val_loss: 0.0036 - val_root_mean_squared_error: 0.0604\n",
      "Epoch 48/50\n",
      "53/53 [==============================] - 0s 7ms/step - loss: 0.0106 - root_mean_squared_error: 0.1032 - val_loss: 0.0044 - val_root_mean_squared_error: 0.0662\n",
      "Epoch 49/50\n",
      "53/53 [==============================] - 0s 7ms/step - loss: 0.0100 - root_mean_squared_error: 0.0998 - val_loss: 0.0048 - val_root_mean_squared_error: 0.0694\n",
      "Epoch 50/50\n",
      "53/53 [==============================] - 0s 6ms/step - loss: 0.0105 - root_mean_squared_error: 0.1027 - val_loss: 0.0039 - val_root_mean_squared_error: 0.0627\n"
     ]
    }
   ],
   "source": [
    "stime = time.time()\n",
    "history = model.fit(X_train, y_train, validation_data=(X_val, y_val), epochs=50, batch_size=8, callbacks=[cp])\n",
    "etime = time.time()"
   ]
  },
  {
   "cell_type": "code",
   "execution_count": 12,
   "id": "04090966",
   "metadata": {},
   "outputs": [
    {
     "name": "stdout",
     "output_type": "stream",
     "text": [
      "1.8281999985376993 minutes\n"
     ]
    }
   ],
   "source": [
    "time = (etime - stime)/60\n",
    "print(f'{time} minutes')"
   ]
  },
  {
   "cell_type": "code",
   "execution_count": 13,
   "id": "e7c95bbf",
   "metadata": {},
   "outputs": [],
   "source": [
    "loss = history.history['loss']\n",
    "epochs = list(range(1, len(loss) + 1))"
   ]
  },
  {
   "cell_type": "code",
   "execution_count": 14,
   "id": "fcdbaa07",
   "metadata": {},
   "outputs": [
    {
     "data": {
      "image/png": "[encoded data removed]",
      "text/plain": [
       "<Figure size 720x432 with 1 Axes>"
      ]
     },
     "metadata": {
      "needs_background": "light"
     },
     "output_type": "display_data"
    }
   ],
   "source": [
    "plt.figure(figsize=(10, 6))\n",
    "plt.plot(epochs, loss, label='Training Loss', marker='o', linestyle='-')\n",
    "\n",
    "plt.xlabel('Epochs')\n",
    "plt.ylabel('Loss')\n",
    "plt.title('Training Loss over Epochs')\n",
    "plt.legend()\n",
    "plt.show()"
   ]
  },
  {
   "cell_type": "code",
   "execution_count": 15,
   "id": "56f331e8",
   "metadata": {},
   "outputs": [
    {
     "data": {
      "image/png": "[encoded data removed]",
      "text/plain": [
       "<Figure size 1080x432 with 1 Axes>"
      ]
     },
     "metadata": {
      "needs_background": "light"
     },
     "output_type": "display_data"
    }
   ],
   "source": [
    "training_loss = history.history['loss']\n",
    "validation_loss = history.history['val_loss']\n",
    "epochs = range(1, len(training_loss) + 1)\n",
    "\n",
    "plt.figure(figsize=(15,6))\n",
    "plt.plot(epochs, training_loss, label='Training Loss', marker='o', linestyle='-')\n",
    "plt.plot(epochs, validation_loss, label='Validation Loss', marker='s', linestyle='--')\n",
    "\n",
    "plt.xlabel('Epochs')\n",
    "plt.ylabel('Loss')\n",
    "plt.title('Training and Validation Loss over Epochs')\n",
    "plt.legend()\n",
    "plt.show()"
   ]
  },
  {
   "cell_type": "code",
   "execution_count": 16,
   "id": "b8320cb4",
   "metadata": {},
   "outputs": [],
   "source": [
    "from tensorflow.keras.models import load_model\n",
    "model1 = load_model('Pacific_model_LT3/')"
   ]
  },
  {
   "cell_type": "code",
   "execution_count": 17,
   "id": "eea27574",
   "metadata": {},
   "outputs": [
    {
     "name": "stdout",
     "output_type": "stream",
     "text": [
      "2/2 [==============================] - 0s 5ms/step\n"
     ]
    }
   ],
   "source": [
    "test_predictions = model1.predict(X_test)"
   ]
  },
  {
   "cell_type": "code",
   "execution_count": 18,
   "id": "954356f0",
   "metadata": {},
   "outputs": [
    {
     "name": "stdout",
     "output_type": "stream",
     "text": [
      "RMSE : 0.07189477438993026\n",
      "MAE : 0.05564294727120132\n"
     ]
    }
   ],
   "source": [
    "mse = mean_squared_error(y_test, test_predictions)\n",
    "print('RMSE :', np.sqrt(mse))\n",
    "\n",
    "mae = mean_absolute_error(y_test, test_predictions)\n",
    "print('MAE :', mae)"
   ]
  },
  {
   "cell_type": "code",
   "execution_count": 19,
   "id": "0a9bb96f",
   "metadata": {},
   "outputs": [],
   "source": [
    "test_predictions = scaler.inverse_transform(test_predictions)\n",
    "test_original = scaler.inverse_transform(y_test.reshape(-1,1))"
   ]
  },
  {
   "cell_type": "code",
   "execution_count": 20,
   "id": "9255fcb0",
   "metadata": {
    "scrolled": true
   },
   "outputs": [
    {
     "data": {
      "text/html": [
       "<div>\n",
       "<style scoped>\n",
       "    .dataframe tbody tr th:only-of-type {\n",
       "        vertical-align: middle;\n",
       "    }\n",
       "\n",
       "    .dataframe tbody tr th {\n",
       "        vertical-align: top;\n",
       "    }\n",
       "\n",
       "    .dataframe thead th {\n",
       "        text-align: right;\n",
       "    }\n",
       "</style>\n",
       "<table border=\"1\" class=\"dataframe\">\n",
       "  <thead>\n",
       "    <tr style=\"text-align: right;\">\n",
       "      <th></th>\n",
       "      <th>Train Predictions</th>\n",
       "      <th>Actual Extent</th>\n",
       "    </tr>\n",
       "  </thead>\n",
       "  <tbody>\n",
       "    <tr>\n",
       "      <th>0</th>\n",
       "      <td>1.582719e+06</td>\n",
       "      <td>1701391.499</td>\n",
       "    </tr>\n",
       "    <tr>\n",
       "      <th>1</th>\n",
       "      <td>1.806643e+06</td>\n",
       "      <td>1890231.668</td>\n",
       "    </tr>\n",
       "    <tr>\n",
       "      <th>2</th>\n",
       "      <td>1.854267e+06</td>\n",
       "      <td>2203401.829</td>\n",
       "    </tr>\n",
       "    <tr>\n",
       "      <th>3</th>\n",
       "      <td>1.816250e+06</td>\n",
       "      <td>1960480.542</td>\n",
       "    </tr>\n",
       "    <tr>\n",
       "      <th>4</th>\n",
       "      <td>1.340441e+06</td>\n",
       "      <td>1264318.504</td>\n",
       "    </tr>\n",
       "    <tr>\n",
       "      <th>5</th>\n",
       "      <td>8.966070e+05</td>\n",
       "      <td>863206.294</td>\n",
       "    </tr>\n",
       "    <tr>\n",
       "      <th>6</th>\n",
       "      <td>3.962111e+05</td>\n",
       "      <td>635624.004</td>\n",
       "    </tr>\n",
       "    <tr>\n",
       "      <th>7</th>\n",
       "      <td>3.806038e+05</td>\n",
       "      <td>460009.672</td>\n",
       "    </tr>\n",
       "    <tr>\n",
       "      <th>8</th>\n",
       "      <td>4.310310e+05</td>\n",
       "      <td>610848.036</td>\n",
       "    </tr>\n",
       "    <tr>\n",
       "      <th>9</th>\n",
       "      <td>8.969363e+05</td>\n",
       "      <td>819257.445</td>\n",
       "    </tr>\n",
       "    <tr>\n",
       "      <th>10</th>\n",
       "      <td>1.171390e+06</td>\n",
       "      <td>1129627.707</td>\n",
       "    </tr>\n",
       "    <tr>\n",
       "      <th>11</th>\n",
       "      <td>1.473636e+06</td>\n",
       "      <td>1463383.236</td>\n",
       "    </tr>\n",
       "    <tr>\n",
       "      <th>12</th>\n",
       "      <td>1.694158e+06</td>\n",
       "      <td>1614536.727</td>\n",
       "    </tr>\n",
       "    <tr>\n",
       "      <th>13</th>\n",
       "      <td>1.880830e+06</td>\n",
       "      <td>1862498.612</td>\n",
       "    </tr>\n",
       "    <tr>\n",
       "      <th>14</th>\n",
       "      <td>1.979914e+06</td>\n",
       "      <td>2099349.296</td>\n",
       "    </tr>\n",
       "    <tr>\n",
       "      <th>15</th>\n",
       "      <td>1.843566e+06</td>\n",
       "      <td>1981614.046</td>\n",
       "    </tr>\n",
       "    <tr>\n",
       "      <th>16</th>\n",
       "      <td>1.404266e+06</td>\n",
       "      <td>1433022.369</td>\n",
       "    </tr>\n",
       "    <tr>\n",
       "      <th>17</th>\n",
       "      <td>9.019945e+05</td>\n",
       "      <td>826739.716</td>\n",
       "    </tr>\n",
       "    <tr>\n",
       "      <th>18</th>\n",
       "      <td>4.820854e+05</td>\n",
       "      <td>477145.887</td>\n",
       "    </tr>\n",
       "    <tr>\n",
       "      <th>19</th>\n",
       "      <td>4.027474e+05</td>\n",
       "      <td>314469.289</td>\n",
       "    </tr>\n",
       "    <tr>\n",
       "      <th>20</th>\n",
       "      <td>4.504165e+05</td>\n",
       "      <td>463134.749</td>\n",
       "    </tr>\n",
       "    <tr>\n",
       "      <th>21</th>\n",
       "      <td>8.126952e+05</td>\n",
       "      <td>946522.292</td>\n",
       "    </tr>\n",
       "    <tr>\n",
       "      <th>22</th>\n",
       "      <td>1.135878e+06</td>\n",
       "      <td>1309266.570</td>\n",
       "    </tr>\n",
       "    <tr>\n",
       "      <th>23</th>\n",
       "      <td>1.463125e+06</td>\n",
       "      <td>1507947.309</td>\n",
       "    </tr>\n",
       "    <tr>\n",
       "      <th>24</th>\n",
       "      <td>1.791724e+06</td>\n",
       "      <td>1804167.937</td>\n",
       "    </tr>\n",
       "    <tr>\n",
       "      <th>25</th>\n",
       "      <td>2.071122e+06</td>\n",
       "      <td>1908002.139</td>\n",
       "    </tr>\n",
       "    <tr>\n",
       "      <th>26</th>\n",
       "      <td>2.020732e+06</td>\n",
       "      <td>1892748.521</td>\n",
       "    </tr>\n",
       "    <tr>\n",
       "      <th>27</th>\n",
       "      <td>1.907207e+06</td>\n",
       "      <td>1601079.640</td>\n",
       "    </tr>\n",
       "    <tr>\n",
       "      <th>28</th>\n",
       "      <td>1.407648e+06</td>\n",
       "      <td>1327804.521</td>\n",
       "    </tr>\n",
       "    <tr>\n",
       "      <th>29</th>\n",
       "      <td>7.611466e+05</td>\n",
       "      <td>812074.231</td>\n",
       "    </tr>\n",
       "    <tr>\n",
       "      <th>30</th>\n",
       "      <td>4.764103e+05</td>\n",
       "      <td>493355.897</td>\n",
       "    </tr>\n",
       "    <tr>\n",
       "      <th>31</th>\n",
       "      <td>3.711835e+05</td>\n",
       "      <td>317229.330</td>\n",
       "    </tr>\n",
       "    <tr>\n",
       "      <th>32</th>\n",
       "      <td>6.019500e+05</td>\n",
       "      <td>425777.624</td>\n",
       "    </tr>\n",
       "    <tr>\n",
       "      <th>33</th>\n",
       "      <td>8.810005e+05</td>\n",
       "      <td>827172.620</td>\n",
       "    </tr>\n",
       "    <tr>\n",
       "      <th>34</th>\n",
       "      <td>1.246918e+06</td>\n",
       "      <td>1162367.223</td>\n",
       "    </tr>\n",
       "    <tr>\n",
       "      <th>35</th>\n",
       "      <td>1.440108e+06</td>\n",
       "      <td>1413734.261</td>\n",
       "    </tr>\n",
       "    <tr>\n",
       "      <th>36</th>\n",
       "      <td>1.752098e+06</td>\n",
       "      <td>1574257.849</td>\n",
       "    </tr>\n",
       "    <tr>\n",
       "      <th>37</th>\n",
       "      <td>1.935144e+06</td>\n",
       "      <td>1786961.251</td>\n",
       "    </tr>\n",
       "    <tr>\n",
       "      <th>38</th>\n",
       "      <td>1.952462e+06</td>\n",
       "      <td>1857942.866</td>\n",
       "    </tr>\n",
       "    <tr>\n",
       "      <th>39</th>\n",
       "      <td>1.747677e+06</td>\n",
       "      <td>1406291.588</td>\n",
       "    </tr>\n",
       "    <tr>\n",
       "      <th>40</th>\n",
       "      <td>1.322870e+06</td>\n",
       "      <td>1025555.371</td>\n",
       "    </tr>\n",
       "    <tr>\n",
       "      <th>41</th>\n",
       "      <td>7.934627e+05</td>\n",
       "      <td>632862.782</td>\n",
       "    </tr>\n",
       "    <tr>\n",
       "      <th>42</th>\n",
       "      <td>5.091535e+05</td>\n",
       "      <td>308194.756</td>\n",
       "    </tr>\n",
       "    <tr>\n",
       "      <th>43</th>\n",
       "      <td>4.621895e+05</td>\n",
       "      <td>194921.078</td>\n",
       "    </tr>\n",
       "    <tr>\n",
       "      <th>44</th>\n",
       "      <td>6.213728e+05</td>\n",
       "      <td>245569.900</td>\n",
       "    </tr>\n",
       "    <tr>\n",
       "      <th>45</th>\n",
       "      <td>9.259904e+05</td>\n",
       "      <td>533532.424</td>\n",
       "    </tr>\n",
       "    <tr>\n",
       "      <th>46</th>\n",
       "      <td>1.259356e+06</td>\n",
       "      <td>943124.529</td>\n",
       "    </tr>\n",
       "    <tr>\n",
       "      <th>47</th>\n",
       "      <td>1.431339e+06</td>\n",
       "      <td>1134056.102</td>\n",
       "    </tr>\n",
       "    <tr>\n",
       "      <th>48</th>\n",
       "      <td>1.514133e+06</td>\n",
       "      <td>1484824.377</td>\n",
       "    </tr>\n",
       "    <tr>\n",
       "      <th>49</th>\n",
       "      <td>1.709822e+06</td>\n",
       "      <td>1671324.717</td>\n",
       "    </tr>\n",
       "    <tr>\n",
       "      <th>50</th>\n",
       "      <td>1.752295e+06</td>\n",
       "      <td>1726376.097</td>\n",
       "    </tr>\n",
       "    <tr>\n",
       "      <th>51</th>\n",
       "      <td>1.584328e+06</td>\n",
       "      <td>1690631.996</td>\n",
       "    </tr>\n",
       "  </tbody>\n",
       "</table>\n",
       "</div>"
      ],
      "text/plain": [
       "    Train Predictions  Actual Extent\n",
       "0        1.582719e+06    1701391.499\n",
       "1        1.806643e+06    1890231.668\n",
       "2        1.854267e+06    2203401.829\n",
       "3        1.816250e+06    1960480.542\n",
       "4        1.340441e+06    1264318.504\n",
       "5        8.966070e+05     863206.294\n",
       "6        3.962111e+05     635624.004\n",
       "7        3.806038e+05     460009.672\n",
       "8        4.310310e+05     610848.036\n",
       "9        8.969363e+05     819257.445\n",
       "10       1.171390e+06    1129627.707\n",
       "11       1.473636e+06    1463383.236\n",
       "12       1.694158e+06    1614536.727\n",
       "13       1.880830e+06    1862498.612\n",
       "14       1.979914e+06    2099349.296\n",
       "15       1.843566e+06    1981614.046\n",
       "16       1.404266e+06    1433022.369\n",
       "17       9.019945e+05     826739.716\n",
       "18       4.820854e+05     477145.887\n",
       "19       4.027474e+05     314469.289\n",
       "20       4.504165e+05     463134.749\n",
       "21       8.126952e+05     946522.292\n",
       "22       1.135878e+06    1309266.570\n",
       "23       1.463125e+06    1507947.309\n",
       "24       1.791724e+06    1804167.937\n",
       "25       2.071122e+06    1908002.139\n",
       "26       2.020732e+06    1892748.521\n",
       "27       1.907207e+06    1601079.640\n",
       "28       1.407648e+06    1327804.521\n",
       "29       7.611466e+05     812074.231\n",
       "30       4.764103e+05     493355.897\n",
       "31       3.711835e+05     317229.330\n",
       "32       6.019500e+05     425777.624\n",
       "33       8.810005e+05     827172.620\n",
       "34       1.246918e+06    1162367.223\n",
       "35       1.440108e+06    1413734.261\n",
       "36       1.752098e+06    1574257.849\n",
       "37       1.935144e+06    1786961.251\n",
       "38       1.952462e+06    1857942.866\n",
       "39       1.747677e+06    1406291.588\n",
       "40       1.322870e+06    1025555.371\n",
       "41       7.934627e+05     632862.782\n",
       "42       5.091535e+05     308194.756\n",
       "43       4.621895e+05     194921.078\n",
       "44       6.213728e+05     245569.900\n",
       "45       9.259904e+05     533532.424\n",
       "46       1.259356e+06     943124.529\n",
       "47       1.431339e+06    1134056.102\n",
       "48       1.514133e+06    1484824.377\n",
       "49       1.709822e+06    1671324.717\n",
       "50       1.752295e+06    1726376.097\n",
       "51       1.584328e+06    1690631.996"
      ]
     },
     "execution_count": 20,
     "metadata": {},
     "output_type": "execute_result"
    }
   ],
   "source": [
    "train_results = pd.DataFrame(data={'Train Predictions': test_predictions.flatten(), 'Actual Extent': test_original.flatten()})\n",
    "train_results"
   ]
  },
  {
   "cell_type": "code",
   "execution_count": 21,
   "id": "5f6e8425",
   "metadata": {},
   "outputs": [
    {
     "data": {
      "image/png": "[encoded data removed]",
      "text/plain": [
       "<Figure size 1080x432 with 1 Axes>"
      ]
     },
     "metadata": {
      "needs_background": "light"
     },
     "output_type": "display_data"
    }
   ],
   "source": [
    "plt.figure(figsize=(15,6))\n",
    "plt.plot(test_original, label='True Values')\n",
    "plt.plot(test_predictions, label='Predicted Values')\n",
    "plt.title('Test Predictions vs Original Test Data')\n",
    "plt.legend()\n",
    "plt.show()"
   ]
  },
  {
   "cell_type": "code",
   "execution_count": 22,
   "id": "c9a83e42",
   "metadata": {},
   "outputs": [
    {
     "name": "stdout",
     "output_type": "stream",
     "text": [
      "17/17 [==============================] - 0s 4ms/step\n"
     ]
    }
   ],
   "source": [
    "predictions = model1.predict(X)"
   ]
  },
  {
   "cell_type": "code",
   "execution_count": 23,
   "id": "6e155c07",
   "metadata": {},
   "outputs": [],
   "source": [
    "predictions = scaler.inverse_transform(predictions)\n",
    "Original = scaler.inverse_transform(y.reshape(-1,1))"
   ]
  },
  {
   "cell_type": "code",
   "execution_count": 24,
   "id": "eb328bbc",
   "metadata": {},
   "outputs": [
    {
     "data": {
      "image/png": "[encoded data removed]",
      "text/plain": [
       "<Figure size 1080x432 with 1 Axes>"
      ]
     },
     "metadata": {
      "needs_background": "light"
     },
     "output_type": "display_data"
    }
   ],
   "source": [
    "plt.figure(figsize=(15,6))\n",
    "plt.plot(Original, label='True Values')\n",
    "plt.plot(predictions, label='Predicted Values')\n",
    "plt.title('Test Predictions vs Original Test Data')\n",
    "plt.legend()\n",
    "plt.show()"
   ]
  },
  {
   "cell_type": "code",
   "execution_count": null,
   "id": "d44ff97a",
   "metadata": {},
   "outputs": [],
   "source": []
  }
 ],
 "metadata": {
  "kernelspec": {
   "display_name": "Python 3 (ipykernel)",
   "language": "python",
   "name": "python3"
  },
  "language_info": {
   "codemirror_mode": {
    "name": "ipython",
    "version": 3
   },
   "file_extension": ".py",
   "mimetype": "text/x-python",
   "name": "python",
   "nbconvert_exporter": "python",
   "pygments_lexer": "ipython3",
   "version": "3.10.5"
  }
 },
 "nbformat": 4,
 "nbformat_minor": 5
}
