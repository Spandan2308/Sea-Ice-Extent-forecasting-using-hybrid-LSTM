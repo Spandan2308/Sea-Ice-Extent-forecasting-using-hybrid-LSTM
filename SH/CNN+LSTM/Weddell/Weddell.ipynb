{
 "cells": [
  {
   "cell_type": "code",
   "execution_count": 1,
   "id": "3ca0f908",
   "metadata": {},
   "outputs": [],
   "source": [
    "import numpy as np\n",
    "import pandas as pd\n",
    "import matplotlib.pyplot as plt\n",
    "\n",
    "from sklearn.preprocessing import MinMaxScaler\n",
    "from sklearn.metrics import mean_squared_error, mean_absolute_error\n",
    "\n",
    "from keras.models import Sequential\n",
    "from keras.layers import InputLayer, LSTM, Dense, Dropout, Conv1D, MaxPooling1D, BatchNormalization\n",
    "from keras.optimizers import Adam\n",
    "from keras.losses import MeanSquaredError\n",
    "from keras.metrics import RootMeanSquaredError\n",
    "from keras.constraints import MaxNorm\n",
    "from keras.callbacks import ModelCheckpoint\n",
    "\n",
    "import time"
   ]
  },
  {
   "cell_type": "code",
   "execution_count": 2,
   "id": "735f52e4",
   "metadata": {},
   "outputs": [],
   "source": [
    "filepath = 'C:/Users/ss230/Documents/Study/NSIDC/Edited Data/S_Sea_Ice_Index_Regional_Monthly_Data_G02135_v3.0.xlsx'\n",
    "Weddell_Extent = pd.read_excel(filepath, sheet_name='Weddell-Extent-km^2')"
   ]
  },
  {
   "cell_type": "code",
   "execution_count": 3,
   "id": "64b0dbd1",
   "metadata": {},
   "outputs": [],
   "source": [
    "import sys\n",
    "sys.path.append('C:/Users/ss230/Documents/Study/NSIDC/SH/Bi_LSTM_Extent/')\n",
    "import Function as fp"
   ]
  },
  {
   "cell_type": "code",
   "execution_count": 4,
   "id": "e8231582",
   "metadata": {},
   "outputs": [
    {
     "data": {
      "text/html": [
       "<div>\n",
       "<style scoped>\n",
       "    .dataframe tbody tr th:only-of-type {\n",
       "        vertical-align: middle;\n",
       "    }\n",
       "\n",
       "    .dataframe tbody tr th {\n",
       "        vertical-align: top;\n",
       "    }\n",
       "\n",
       "    .dataframe thead th {\n",
       "        text-align: right;\n",
       "    }\n",
       "</style>\n",
       "<table border=\"1\" class=\"dataframe\">\n",
       "  <thead>\n",
       "    <tr style=\"text-align: right;\">\n",
       "      <th></th>\n",
       "      <th>Extent</th>\n",
       "      <th>Date</th>\n",
       "    </tr>\n",
       "  </thead>\n",
       "  <tbody>\n",
       "    <tr>\n",
       "      <th>0</th>\n",
       "      <td>2136510.859</td>\n",
       "      <td>1979-01-01</td>\n",
       "    </tr>\n",
       "    <tr>\n",
       "      <th>1</th>\n",
       "      <td>1243495.891</td>\n",
       "      <td>1979-02-01</td>\n",
       "    </tr>\n",
       "    <tr>\n",
       "      <th>2</th>\n",
       "      <td>1699053.449</td>\n",
       "      <td>1979-03-01</td>\n",
       "    </tr>\n",
       "    <tr>\n",
       "      <th>3</th>\n",
       "      <td>2617442.085</td>\n",
       "      <td>1979-04-01</td>\n",
       "    </tr>\n",
       "    <tr>\n",
       "      <th>4</th>\n",
       "      <td>3852934.206</td>\n",
       "      <td>1979-05-01</td>\n",
       "    </tr>\n",
       "    <tr>\n",
       "      <th>...</th>\n",
       "      <td>...</td>\n",
       "      <td>...</td>\n",
       "    </tr>\n",
       "    <tr>\n",
       "      <th>533</th>\n",
       "      <td>3668127.143</td>\n",
       "      <td>2023-06-01</td>\n",
       "    </tr>\n",
       "    <tr>\n",
       "      <th>534</th>\n",
       "      <td>4805519.784</td>\n",
       "      <td>2023-07-01</td>\n",
       "    </tr>\n",
       "    <tr>\n",
       "      <th>535</th>\n",
       "      <td>5524445.234</td>\n",
       "      <td>2023-08-01</td>\n",
       "    </tr>\n",
       "    <tr>\n",
       "      <th>536</th>\n",
       "      <td>6006669.861</td>\n",
       "      <td>2023-09-01</td>\n",
       "    </tr>\n",
       "    <tr>\n",
       "      <th>537</th>\n",
       "      <td>5507961.583</td>\n",
       "      <td>2023-10-01</td>\n",
       "    </tr>\n",
       "  </tbody>\n",
       "</table>\n",
       "<p>538 rows × 2 columns</p>\n",
       "</div>"
      ],
      "text/plain": [
       "          Extent       Date\n",
       "0    2136510.859 1979-01-01\n",
       "1    1243495.891 1979-02-01\n",
       "2    1699053.449 1979-03-01\n",
       "3    2617442.085 1979-04-01\n",
       "4    3852934.206 1979-05-01\n",
       "..           ...        ...\n",
       "533  3668127.143 2023-06-01\n",
       "534  4805519.784 2023-07-01\n",
       "535  5524445.234 2023-08-01\n",
       "536  6006669.861 2023-09-01\n",
       "537  5507961.583 2023-10-01\n",
       "\n",
       "[538 rows x 2 columns]"
      ]
     },
     "execution_count": 4,
     "metadata": {},
     "output_type": "execute_result"
    }
   ],
   "source": [
    "fp.month_mapping(Weddell_Extent)\n",
    "fp.date_time(Weddell_Extent)"
   ]
  },
  {
   "cell_type": "code",
   "execution_count": 5,
   "id": "706b9018",
   "metadata": {},
   "outputs": [],
   "source": [
    "scaler = MinMaxScaler()\n",
    "Weddell_Extent['Extent'] = scaler.fit_transform(Weddell_Extent['Extent'].values.reshape(-1, 1))"
   ]
  },
  {
   "cell_type": "code",
   "execution_count": 6,
   "id": "02089c22",
   "metadata": {},
   "outputs": [
    {
     "data": {
      "text/plain": [
       "((526, 12, 1), (526,))"
      ]
     },
     "execution_count": 6,
     "metadata": {},
     "output_type": "execute_result"
    }
   ],
   "source": [
    "extent = Weddell_Extent['Extent']\n",
    "W_S=12\n",
    "X,y = fp.df_to_X_y(extent, W_S)\n",
    "X.shape, y.shape"
   ]
  },
  {
   "cell_type": "code",
   "execution_count": 7,
   "id": "fe9c7f50",
   "metadata": {},
   "outputs": [],
   "source": [
    "X_train, y_train = X[:420], y[:420]\n",
    "X_val, y_val = X[420:472], y[420:472]\n",
    "X_test, y_test = X[472:], y[472:]"
   ]
  },
  {
   "cell_type": "code",
   "execution_count": 8,
   "id": "a26831be",
   "metadata": {},
   "outputs": [],
   "source": [
    "model = Sequential()\n",
    "model.add(Conv1D(filters=64, kernel_size=3, activation='relu', input_shape=(W_S, 1)))\n",
    "model.add(MaxPooling1D(pool_size=2))\n",
    "model.add(LSTM(32, kernel_constraint=MaxNorm(1.0), activation='relu'))\n",
    "model.add(BatchNormalization())\n",
    "model.add(Dense(1, activation='linear'))"
   ]
  },
  {
   "cell_type": "code",
   "execution_count": 9,
   "id": "0d5255df",
   "metadata": {},
   "outputs": [],
   "source": [
    "cp = ModelCheckpoint('Weddell_model/', save_best_only=True)\n",
    "model.compile(loss=MeanSquaredError(), optimizer=Adam(0.0001), metrics=[RootMeanSquaredError()])"
   ]
  },
  {
   "cell_type": "code",
   "execution_count": 10,
   "id": "0a7e34ee",
   "metadata": {
    "scrolled": true
   },
   "outputs": [
    {
     "name": "stdout",
     "output_type": "stream",
     "text": [
      "Epoch 1/50\n",
      "48/53 [==========================>...] - ETA: 0s - loss: 0.2957 - root_mean_squared_error: 0.5438"
     ]
    },
    {
     "name": "stderr",
     "output_type": "stream",
     "text": [
      "WARNING:absl:Found untraced functions such as _jit_compiled_convolution_op while saving (showing 1 of 1). These functions will not be directly callable after loading.\n"
     ]
    },
    {
     "name": "stdout",
     "output_type": "stream",
     "text": [
      "INFO:tensorflow:Assets written to: Weddell_model\\assets\n"
     ]
    },
    {
     "name": "stderr",
     "output_type": "stream",
     "text": [
      "INFO:tensorflow:Assets written to: Weddell_model\\assets\n"
     ]
    },
    {
     "name": "stdout",
     "output_type": "stream",
     "text": [
      "53/53 [==============================] - 9s 106ms/step - loss: 0.2883 - root_mean_squared_error: 0.5369 - val_loss: 0.2738 - val_root_mean_squared_error: 0.5232\n",
      "Epoch 2/50\n",
      "48/53 [==========================>...] - ETA: 0s - loss: 0.2268 - root_mean_squared_error: 0.4763"
     ]
    },
    {
     "name": "stderr",
     "output_type": "stream",
     "text": [
      "WARNING:absl:Found untraced functions such as _jit_compiled_convolution_op while saving (showing 1 of 1). These functions will not be directly callable after loading.\n"
     ]
    },
    {
     "name": "stdout",
     "output_type": "stream",
     "text": [
      "INFO:tensorflow:Assets written to: Weddell_model\\assets\n"
     ]
    },
    {
     "name": "stderr",
     "output_type": "stream",
     "text": [
      "INFO:tensorflow:Assets written to: Weddell_model\\assets\n"
     ]
    },
    {
     "name": "stdout",
     "output_type": "stream",
     "text": [
      "53/53 [==============================] - 5s 88ms/step - loss: 0.2197 - root_mean_squared_error: 0.4687 - val_loss: 0.2310 - val_root_mean_squared_error: 0.4807\n",
      "Epoch 3/50\n",
      "48/53 [==========================>...] - ETA: 0s - loss: 0.1800 - root_mean_squared_error: 0.4242"
     ]
    },
    {
     "name": "stderr",
     "output_type": "stream",
     "text": [
      "WARNING:absl:Found untraced functions such as _jit_compiled_convolution_op while saving (showing 1 of 1). These functions will not be directly callable after loading.\n"
     ]
    },
    {
     "name": "stdout",
     "output_type": "stream",
     "text": [
      "INFO:tensorflow:Assets written to: Weddell_model\\assets\n"
     ]
    },
    {
     "name": "stderr",
     "output_type": "stream",
     "text": [
      "INFO:tensorflow:Assets written to: Weddell_model\\assets\n"
     ]
    },
    {
     "name": "stdout",
     "output_type": "stream",
     "text": [
      "53/53 [==============================] - 4s 84ms/step - loss: 0.1799 - root_mean_squared_error: 0.4242 - val_loss: 0.1899 - val_root_mean_squared_error: 0.4357\n",
      "Epoch 4/50\n",
      "47/53 [=========================>....] - ETA: 0s - loss: 0.1490 - root_mean_squared_error: 0.3860"
     ]
    },
    {
     "name": "stderr",
     "output_type": "stream",
     "text": [
      "WARNING:absl:Found untraced functions such as _jit_compiled_convolution_op while saving (showing 1 of 1). These functions will not be directly callable after loading.\n"
     ]
    },
    {
     "name": "stdout",
     "output_type": "stream",
     "text": [
      "INFO:tensorflow:Assets written to: Weddell_model\\assets\n"
     ]
    },
    {
     "name": "stderr",
     "output_type": "stream",
     "text": [
      "INFO:tensorflow:Assets written to: Weddell_model\\assets\n"
     ]
    },
    {
     "name": "stdout",
     "output_type": "stream",
     "text": [
      "53/53 [==============================] - 5s 89ms/step - loss: 0.1461 - root_mean_squared_error: 0.3822 - val_loss: 0.1548 - val_root_mean_squared_error: 0.3935\n",
      "Epoch 5/50\n",
      "50/53 [===========================>..] - ETA: 0s - loss: 0.1213 - root_mean_squared_error: 0.3484"
     ]
    },
    {
     "name": "stderr",
     "output_type": "stream",
     "text": [
      "WARNING:absl:Found untraced functions such as _jit_compiled_convolution_op while saving (showing 1 of 1). These functions will not be directly callable after loading.\n"
     ]
    },
    {
     "name": "stdout",
     "output_type": "stream",
     "text": [
      "INFO:tensorflow:Assets written to: Weddell_model\\assets\n"
     ]
    },
    {
     "name": "stderr",
     "output_type": "stream",
     "text": [
      "INFO:tensorflow:Assets written to: Weddell_model\\assets\n"
     ]
    },
    {
     "name": "stdout",
     "output_type": "stream",
     "text": [
      "53/53 [==============================] - 4s 83ms/step - loss: 0.1194 - root_mean_squared_error: 0.3455 - val_loss: 0.1225 - val_root_mean_squared_error: 0.3500\n",
      "Epoch 6/50\n",
      "46/53 [=========================>....] - ETA: 0s - loss: 0.0934 - root_mean_squared_error: 0.3055"
     ]
    },
    {
     "name": "stderr",
     "output_type": "stream",
     "text": [
      "WARNING:absl:Found untraced functions such as _jit_compiled_convolution_op while saving (showing 1 of 1). These functions will not be directly callable after loading.\n"
     ]
    },
    {
     "name": "stdout",
     "output_type": "stream",
     "text": [
      "INFO:tensorflow:Assets written to: Weddell_model\\assets\n"
     ]
    },
    {
     "name": "stderr",
     "output_type": "stream",
     "text": [
      "INFO:tensorflow:Assets written to: Weddell_model\\assets\n"
     ]
    },
    {
     "name": "stdout",
     "output_type": "stream",
     "text": [
      "53/53 [==============================] - 4s 85ms/step - loss: 0.0923 - root_mean_squared_error: 0.3038 - val_loss: 0.1029 - val_root_mean_squared_error: 0.3207\n",
      "Epoch 7/50\n",
      "49/53 [==========================>...] - ETA: 0s - loss: 0.0708 - root_mean_squared_error: 0.2660"
     ]
    },
    {
     "name": "stderr",
     "output_type": "stream",
     "text": [
      "WARNING:absl:Found untraced functions such as _jit_compiled_convolution_op while saving (showing 1 of 1). These functions will not be directly callable after loading.\n"
     ]
    },
    {
     "name": "stdout",
     "output_type": "stream",
     "text": [
      "INFO:tensorflow:Assets written to: Weddell_model\\assets\n"
     ]
    },
    {
     "name": "stderr",
     "output_type": "stream",
     "text": [
      "INFO:tensorflow:Assets written to: Weddell_model\\assets\n"
     ]
    },
    {
     "name": "stdout",
     "output_type": "stream",
     "text": [
      "53/53 [==============================] - 5s 91ms/step - loss: 0.0706 - root_mean_squared_error: 0.2657 - val_loss: 0.0787 - val_root_mean_squared_error: 0.2806\n",
      "Epoch 8/50\n",
      "46/53 [=========================>....] - ETA: 0s - loss: 0.0546 - root_mean_squared_error: 0.2337"
     ]
    },
    {
     "name": "stderr",
     "output_type": "stream",
     "text": [
      "WARNING:absl:Found untraced functions such as _jit_compiled_convolution_op while saving (showing 1 of 1). These functions will not be directly callable after loading.\n"
     ]
    },
    {
     "name": "stdout",
     "output_type": "stream",
     "text": [
      "INFO:tensorflow:Assets written to: Weddell_model\\assets\n"
     ]
    },
    {
     "name": "stderr",
     "output_type": "stream",
     "text": [
      "INFO:tensorflow:Assets written to: Weddell_model\\assets\n"
     ]
    },
    {
     "name": "stdout",
     "output_type": "stream",
     "text": [
      "53/53 [==============================] - 4s 84ms/step - loss: 0.0521 - root_mean_squared_error: 0.2282 - val_loss: 0.0595 - val_root_mean_squared_error: 0.2438\n",
      "Epoch 9/50\n",
      "48/53 [==========================>...] - ETA: 0s - loss: 0.0423 - root_mean_squared_error: 0.2056"
     ]
    },
    {
     "name": "stderr",
     "output_type": "stream",
     "text": [
      "WARNING:absl:Found untraced functions such as _jit_compiled_convolution_op while saving (showing 1 of 1). These functions will not be directly callable after loading.\n"
     ]
    },
    {
     "name": "stdout",
     "output_type": "stream",
     "text": [
      "INFO:tensorflow:Assets written to: Weddell_model\\assets\n"
     ]
    },
    {
     "name": "stderr",
     "output_type": "stream",
     "text": [
      "INFO:tensorflow:Assets written to: Weddell_model\\assets\n"
     ]
    },
    {
     "name": "stdout",
     "output_type": "stream",
     "text": [
      "53/53 [==============================] - 4s 86ms/step - loss: 0.0420 - root_mean_squared_error: 0.2050 - val_loss: 0.0444 - val_root_mean_squared_error: 0.2106\n",
      "Epoch 10/50\n",
      "47/53 [=========================>....] - ETA: 0s - loss: 0.0314 - root_mean_squared_error: 0.1772"
     ]
    },
    {
     "name": "stderr",
     "output_type": "stream",
     "text": [
      "WARNING:absl:Found untraced functions such as _jit_compiled_convolution_op while saving (showing 1 of 1). These functions will not be directly callable after loading.\n"
     ]
    },
    {
     "name": "stdout",
     "output_type": "stream",
     "text": [
      "INFO:tensorflow:Assets written to: Weddell_model\\assets\n"
     ]
    },
    {
     "name": "stderr",
     "output_type": "stream",
     "text": [
      "INFO:tensorflow:Assets written to: Weddell_model\\assets\n"
     ]
    },
    {
     "name": "stdout",
     "output_type": "stream",
     "text": [
      "53/53 [==============================] - 5s 91ms/step - loss: 0.0332 - root_mean_squared_error: 0.1823 - val_loss: 0.0302 - val_root_mean_squared_error: 0.1738\n",
      "Epoch 11/50\n",
      "52/53 [============================>.] - ETA: 0s - loss: 0.0250 - root_mean_squared_error: 0.1580"
     ]
    },
    {
     "name": "stderr",
     "output_type": "stream",
     "text": [
      "WARNING:absl:Found untraced functions such as _jit_compiled_convolution_op while saving (showing 1 of 1). These functions will not be directly callable after loading.\n"
     ]
    },
    {
     "name": "stdout",
     "output_type": "stream",
     "text": [
      "INFO:tensorflow:Assets written to: Weddell_model\\assets\n"
     ]
    },
    {
     "name": "stderr",
     "output_type": "stream",
     "text": [
      "INFO:tensorflow:Assets written to: Weddell_model\\assets\n"
     ]
    },
    {
     "name": "stdout",
     "output_type": "stream",
     "text": [
      "53/53 [==============================] - 4s 85ms/step - loss: 0.0249 - root_mean_squared_error: 0.1578 - val_loss: 0.0234 - val_root_mean_squared_error: 0.1529\n",
      "Epoch 12/50\n",
      "51/53 [===========================>..] - ETA: 0s - loss: 0.0225 - root_mean_squared_error: 0.1499"
     ]
    },
    {
     "name": "stderr",
     "output_type": "stream",
     "text": [
      "WARNING:absl:Found untraced functions such as _jit_compiled_convolution_op while saving (showing 1 of 1). These functions will not be directly callable after loading.\n"
     ]
    },
    {
     "name": "stdout",
     "output_type": "stream",
     "text": [
      "INFO:tensorflow:Assets written to: Weddell_model\\assets\n"
     ]
    },
    {
     "name": "stderr",
     "output_type": "stream",
     "text": [
      "INFO:tensorflow:Assets written to: Weddell_model\\assets\n"
     ]
    },
    {
     "name": "stdout",
     "output_type": "stream",
     "text": [
      "53/53 [==============================] - 5s 90ms/step - loss: 0.0230 - root_mean_squared_error: 0.1516 - val_loss: 0.0139 - val_root_mean_squared_error: 0.1180\n",
      "Epoch 13/50\n",
      "53/53 [==============================] - 0s 8ms/step - loss: 0.0148 - root_mean_squared_error: 0.1215 - val_loss: 0.0153 - val_root_mean_squared_error: 0.1238\n",
      "Epoch 14/50\n",
      "51/53 [===========================>..] - ETA: 0s - loss: 0.0171 - root_mean_squared_error: 0.1307"
     ]
    },
    {
     "name": "stderr",
     "output_type": "stream",
     "text": [
      "WARNING:absl:Found untraced functions such as _jit_compiled_convolution_op while saving (showing 1 of 1). These functions will not be directly callable after loading.\n"
     ]
    },
    {
     "name": "stdout",
     "output_type": "stream",
     "text": [
      "INFO:tensorflow:Assets written to: Weddell_model\\assets\n"
     ]
    },
    {
     "name": "stderr",
     "output_type": "stream",
     "text": [
      "INFO:tensorflow:Assets written to: Weddell_model\\assets\n"
     ]
    },
    {
     "name": "stdout",
     "output_type": "stream",
     "text": [
      "53/53 [==============================] - 4s 83ms/step - loss: 0.0171 - root_mean_squared_error: 0.1308 - val_loss: 0.0059 - val_root_mean_squared_error: 0.0766\n",
      "Epoch 15/50\n",
      "48/53 [==========================>...] - ETA: 0s - loss: 0.0125 - root_mean_squared_error: 0.1119"
     ]
    },
    {
     "name": "stderr",
     "output_type": "stream",
     "text": [
      "WARNING:absl:Found untraced functions such as _jit_compiled_convolution_op while saving (showing 1 of 1). These functions will not be directly callable after loading.\n"
     ]
    },
    {
     "name": "stdout",
     "output_type": "stream",
     "text": [
      "INFO:tensorflow:Assets written to: Weddell_model\\assets\n"
     ]
    },
    {
     "name": "stderr",
     "output_type": "stream",
     "text": [
      "INFO:tensorflow:Assets written to: Weddell_model\\assets\n"
     ]
    },
    {
     "name": "stdout",
     "output_type": "stream",
     "text": [
      "53/53 [==============================] - 4s 85ms/step - loss: 0.0131 - root_mean_squared_error: 0.1146 - val_loss: 0.0046 - val_root_mean_squared_error: 0.0678\n",
      "Epoch 16/50\n",
      "44/53 [=======================>......] - ETA: 0s - loss: 0.0133 - root_mean_squared_error: 0.1152"
     ]
    },
    {
     "name": "stderr",
     "output_type": "stream",
     "text": [
      "WARNING:absl:Found untraced functions such as _jit_compiled_convolution_op while saving (showing 1 of 1). These functions will not be directly callable after loading.\n"
     ]
    },
    {
     "name": "stdout",
     "output_type": "stream",
     "text": [
      "INFO:tensorflow:Assets written to: Weddell_model\\assets\n"
     ]
    },
    {
     "name": "stderr",
     "output_type": "stream",
     "text": [
      "INFO:tensorflow:Assets written to: Weddell_model\\assets\n"
     ]
    },
    {
     "name": "stdout",
     "output_type": "stream",
     "text": [
      "53/53 [==============================] - 5s 89ms/step - loss: 0.0120 - root_mean_squared_error: 0.1094 - val_loss: 0.0037 - val_root_mean_squared_error: 0.0605\n",
      "Epoch 17/50\n",
      "53/53 [==============================] - 0s 8ms/step - loss: 0.0103 - root_mean_squared_error: 0.1014 - val_loss: 0.0038 - val_root_mean_squared_error: 0.0620\n",
      "Epoch 18/50\n",
      "52/53 [============================>.] - ETA: 0s - loss: 0.0141 - root_mean_squared_error: 0.1189"
     ]
    },
    {
     "name": "stderr",
     "output_type": "stream",
     "text": [
      "WARNING:absl:Found untraced functions such as _jit_compiled_convolution_op while saving (showing 1 of 1). These functions will not be directly callable after loading.\n"
     ]
    },
    {
     "name": "stdout",
     "output_type": "stream",
     "text": [
      "INFO:tensorflow:Assets written to: Weddell_model\\assets\n"
     ]
    },
    {
     "name": "stderr",
     "output_type": "stream",
     "text": [
      "INFO:tensorflow:Assets written to: Weddell_model\\assets\n"
     ]
    },
    {
     "name": "stdout",
     "output_type": "stream",
     "text": [
      "53/53 [==============================] - 4s 83ms/step - loss: 0.0140 - root_mean_squared_error: 0.1184 - val_loss: 0.0030 - val_root_mean_squared_error: 0.0549\n",
      "Epoch 19/50\n",
      "52/53 [============================>.] - ETA: 0s - loss: 0.0111 - root_mean_squared_error: 0.1052"
     ]
    },
    {
     "name": "stderr",
     "output_type": "stream",
     "text": [
      "WARNING:absl:Found untraced functions such as _jit_compiled_convolution_op while saving (showing 1 of 1). These functions will not be directly callable after loading.\n"
     ]
    },
    {
     "name": "stdout",
     "output_type": "stream",
     "text": [
      "INFO:tensorflow:Assets written to: Weddell_model\\assets\n"
     ]
    },
    {
     "name": "stderr",
     "output_type": "stream",
     "text": [
      "INFO:tensorflow:Assets written to: Weddell_model\\assets\n"
     ]
    },
    {
     "name": "stdout",
     "output_type": "stream",
     "text": [
      "53/53 [==============================] - 4s 85ms/step - loss: 0.0117 - root_mean_squared_error: 0.1081 - val_loss: 0.0027 - val_root_mean_squared_error: 0.0516\n",
      "Epoch 20/50\n",
      "53/53 [==============================] - 0s 8ms/step - loss: 0.0125 - root_mean_squared_error: 0.1117 - val_loss: 0.0034 - val_root_mean_squared_error: 0.0581\n",
      "Epoch 21/50\n",
      "53/53 [==============================] - 0s 7ms/step - loss: 0.0091 - root_mean_squared_error: 0.0952 - val_loss: 0.0043 - val_root_mean_squared_error: 0.0658\n",
      "Epoch 22/50\n",
      "53/53 [==============================] - 0s 7ms/step - loss: 0.0119 - root_mean_squared_error: 0.1091 - val_loss: 0.0050 - val_root_mean_squared_error: 0.0709\n",
      "Epoch 23/50\n",
      "53/53 [==============================] - 0s 7ms/step - loss: 0.0160 - root_mean_squared_error: 0.1266 - val_loss: 0.0031 - val_root_mean_squared_error: 0.0560\n",
      "Epoch 24/50\n",
      "46/53 [=========================>....] - ETA: 0s - loss: 0.0128 - root_mean_squared_error: 0.1130"
     ]
    },
    {
     "name": "stderr",
     "output_type": "stream",
     "text": [
      "WARNING:absl:Found untraced functions such as _jit_compiled_convolution_op while saving (showing 1 of 1). These functions will not be directly callable after loading.\n"
     ]
    },
    {
     "name": "stdout",
     "output_type": "stream",
     "text": [
      "INFO:tensorflow:Assets written to: Weddell_model\\assets\n"
     ]
    },
    {
     "name": "stderr",
     "output_type": "stream",
     "text": [
      "INFO:tensorflow:Assets written to: Weddell_model\\assets\n"
     ]
    },
    {
     "name": "stdout",
     "output_type": "stream",
     "text": [
      "53/53 [==============================] - 5s 93ms/step - loss: 0.0127 - root_mean_squared_error: 0.1128 - val_loss: 0.0023 - val_root_mean_squared_error: 0.0482\n",
      "Epoch 25/50\n",
      "49/53 [==========================>...] - ETA: 0s - loss: 0.0123 - root_mean_squared_error: 0.1107"
     ]
    },
    {
     "name": "stderr",
     "output_type": "stream",
     "text": [
      "WARNING:absl:Found untraced functions such as _jit_compiled_convolution_op while saving (showing 1 of 1). These functions will not be directly callable after loading.\n"
     ]
    },
    {
     "name": "stdout",
     "output_type": "stream",
     "text": [
      "INFO:tensorflow:Assets written to: Weddell_model\\assets\n"
     ]
    },
    {
     "name": "stderr",
     "output_type": "stream",
     "text": [
      "INFO:tensorflow:Assets written to: Weddell_model\\assets\n"
     ]
    },
    {
     "name": "stdout",
     "output_type": "stream",
     "text": [
      "53/53 [==============================] - 4s 82ms/step - loss: 0.0120 - root_mean_squared_error: 0.1097 - val_loss: 0.0022 - val_root_mean_squared_error: 0.0472\n",
      "Epoch 26/50\n",
      "53/53 [==============================] - 0s 7ms/step - loss: 0.0088 - root_mean_squared_error: 0.0936 - val_loss: 0.0034 - val_root_mean_squared_error: 0.0584\n",
      "Epoch 27/50\n",
      "53/53 [==============================] - 0s 7ms/step - loss: 0.0127 - root_mean_squared_error: 0.1126 - val_loss: 0.0025 - val_root_mean_squared_error: 0.0499\n",
      "Epoch 28/50\n",
      "53/53 [==============================] - 0s 8ms/step - loss: 0.0096 - root_mean_squared_error: 0.0978 - val_loss: 0.0051 - val_root_mean_squared_error: 0.0715\n",
      "Epoch 29/50\n",
      "53/53 [==============================] - 0s 8ms/step - loss: 0.0149 - root_mean_squared_error: 0.1222 - val_loss: 0.0047 - val_root_mean_squared_error: 0.0687\n",
      "Epoch 30/50\n",
      "53/53 [==============================] - 0s 8ms/step - loss: 0.0124 - root_mean_squared_error: 0.1111 - val_loss: 0.0023 - val_root_mean_squared_error: 0.0477\n",
      "Epoch 31/50\n",
      "53/53 [==============================] - 0s 7ms/step - loss: 0.0125 - root_mean_squared_error: 0.1117 - val_loss: 0.0027 - val_root_mean_squared_error: 0.0524\n",
      "Epoch 32/50\n",
      "53/53 [==============================] - 0s 7ms/step - loss: 0.0119 - root_mean_squared_error: 0.1090 - val_loss: 0.0023 - val_root_mean_squared_error: 0.0484\n",
      "Epoch 33/50\n",
      "53/53 [==============================] - 0s 7ms/step - loss: 0.0091 - root_mean_squared_error: 0.0952 - val_loss: 0.0026 - val_root_mean_squared_error: 0.0510\n",
      "Epoch 34/50\n",
      "53/53 [==============================] - ETA: 0s - loss: 0.0129 - root_mean_squared_error: 0.1137"
     ]
    },
    {
     "name": "stderr",
     "output_type": "stream",
     "text": [
      "WARNING:absl:Found untraced functions such as _jit_compiled_convolution_op while saving (showing 1 of 1). These functions will not be directly callable after loading.\n"
     ]
    },
    {
     "name": "stdout",
     "output_type": "stream",
     "text": [
      "INFO:tensorflow:Assets written to: Weddell_model\\assets\n"
     ]
    },
    {
     "name": "stderr",
     "output_type": "stream",
     "text": [
      "INFO:tensorflow:Assets written to: Weddell_model\\assets\n"
     ]
    },
    {
     "name": "stdout",
     "output_type": "stream",
     "text": [
      "53/53 [==============================] - 5s 87ms/step - loss: 0.0129 - root_mean_squared_error: 0.1137 - val_loss: 0.0022 - val_root_mean_squared_error: 0.0467\n",
      "Epoch 35/50\n",
      "53/53 [==============================] - 0s 7ms/step - loss: 0.0092 - root_mean_squared_error: 0.0962 - val_loss: 0.0040 - val_root_mean_squared_error: 0.0629\n",
      "Epoch 36/50\n",
      "53/53 [==============================] - 0s 8ms/step - loss: 0.0109 - root_mean_squared_error: 0.1044 - val_loss: 0.0029 - val_root_mean_squared_error: 0.0536\n",
      "Epoch 37/50\n",
      "46/53 [=========================>....] - ETA: 0s - loss: 0.0178 - root_mean_squared_error: 0.1335"
     ]
    },
    {
     "name": "stderr",
     "output_type": "stream",
     "text": [
      "WARNING:absl:Found untraced functions such as _jit_compiled_convolution_op while saving (showing 1 of 1). These functions will not be directly callable after loading.\n"
     ]
    },
    {
     "name": "stdout",
     "output_type": "stream",
     "text": [
      "INFO:tensorflow:Assets written to: Weddell_model\\assets\n"
     ]
    },
    {
     "name": "stderr",
     "output_type": "stream",
     "text": [
      "INFO:tensorflow:Assets written to: Weddell_model\\assets\n"
     ]
    },
    {
     "name": "stdout",
     "output_type": "stream",
     "text": [
      "53/53 [==============================] - 5s 98ms/step - loss: 0.0179 - root_mean_squared_error: 0.1338 - val_loss: 0.0021 - val_root_mean_squared_error: 0.0453\n",
      "Epoch 38/50\n",
      "53/53 [==============================] - 0s 8ms/step - loss: 0.0108 - root_mean_squared_error: 0.1039 - val_loss: 0.0051 - val_root_mean_squared_error: 0.0712\n",
      "Epoch 39/50\n",
      "53/53 [==============================] - 0s 8ms/step - loss: 0.0113 - root_mean_squared_error: 0.1062 - val_loss: 0.0044 - val_root_mean_squared_error: 0.0664\n",
      "Epoch 40/50\n",
      "53/53 [==============================] - 0s 8ms/step - loss: 0.0118 - root_mean_squared_error: 0.1088 - val_loss: 0.0024 - val_root_mean_squared_error: 0.0494\n",
      "Epoch 41/50\n",
      "47/53 [=========================>....] - ETA: 0s - loss: 0.0125 - root_mean_squared_error: 0.1117"
     ]
    },
    {
     "name": "stderr",
     "output_type": "stream",
     "text": [
      "WARNING:absl:Found untraced functions such as _jit_compiled_convolution_op while saving (showing 1 of 1). These functions will not be directly callable after loading.\n"
     ]
    },
    {
     "name": "stdout",
     "output_type": "stream",
     "text": [
      "INFO:tensorflow:Assets written to: Weddell_model\\assets\n"
     ]
    },
    {
     "name": "stderr",
     "output_type": "stream",
     "text": [
      "INFO:tensorflow:Assets written to: Weddell_model\\assets\n"
     ]
    },
    {
     "name": "stdout",
     "output_type": "stream",
     "text": [
      "53/53 [==============================] - 4s 82ms/step - loss: 0.0133 - root_mean_squared_error: 0.1152 - val_loss: 0.0019 - val_root_mean_squared_error: 0.0435\n",
      "Epoch 42/50\n",
      "53/53 [==============================] - 0s 8ms/step - loss: 0.0107 - root_mean_squared_error: 0.1035 - val_loss: 0.0048 - val_root_mean_squared_error: 0.0695\n",
      "Epoch 43/50\n",
      "53/53 [==============================] - 0s 8ms/step - loss: 0.0146 - root_mean_squared_error: 0.1210 - val_loss: 0.0057 - val_root_mean_squared_error: 0.0756\n",
      "Epoch 44/50\n",
      "53/53 [==============================] - 0s 8ms/step - loss: 0.0105 - root_mean_squared_error: 0.1023 - val_loss: 0.0045 - val_root_mean_squared_error: 0.0674\n",
      "Epoch 45/50\n",
      "53/53 [==============================] - 0s 8ms/step - loss: 0.0110 - root_mean_squared_error: 0.1050 - val_loss: 0.0024 - val_root_mean_squared_error: 0.0488\n",
      "Epoch 46/50\n",
      "47/53 [=========================>....] - ETA: 0s - loss: 0.0119 - root_mean_squared_error: 0.1091"
     ]
    },
    {
     "name": "stderr",
     "output_type": "stream",
     "text": [
      "WARNING:absl:Found untraced functions such as _jit_compiled_convolution_op while saving (showing 1 of 1). These functions will not be directly callable after loading.\n"
     ]
    },
    {
     "name": "stdout",
     "output_type": "stream",
     "text": [
      "INFO:tensorflow:Assets written to: Weddell_model\\assets\n"
     ]
    },
    {
     "name": "stderr",
     "output_type": "stream",
     "text": [
      "INFO:tensorflow:Assets written to: Weddell_model\\assets\n"
     ]
    },
    {
     "name": "stdout",
     "output_type": "stream",
     "text": [
      "53/53 [==============================] - 5s 90ms/step - loss: 0.0113 - root_mean_squared_error: 0.1064 - val_loss: 0.0019 - val_root_mean_squared_error: 0.0432\n",
      "Epoch 47/50\n",
      "53/53 [==============================] - 0s 7ms/step - loss: 0.0108 - root_mean_squared_error: 0.1040 - val_loss: 0.0026 - val_root_mean_squared_error: 0.0510\n",
      "Epoch 48/50\n",
      "49/53 [==========================>...] - ETA: 0s - loss: 0.0099 - root_mean_squared_error: 0.0997"
     ]
    },
    {
     "name": "stderr",
     "output_type": "stream",
     "text": [
      "WARNING:absl:Found untraced functions such as _jit_compiled_convolution_op while saving (showing 1 of 1). These functions will not be directly callable after loading.\n"
     ]
    },
    {
     "name": "stdout",
     "output_type": "stream",
     "text": [
      "INFO:tensorflow:Assets written to: Weddell_model\\assets\n"
     ]
    },
    {
     "name": "stderr",
     "output_type": "stream",
     "text": [
      "INFO:tensorflow:Assets written to: Weddell_model\\assets\n"
     ]
    },
    {
     "name": "stdout",
     "output_type": "stream",
     "text": [
      "53/53 [==============================] - 5s 89ms/step - loss: 0.0105 - root_mean_squared_error: 0.1026 - val_loss: 0.0018 - val_root_mean_squared_error: 0.0430\n",
      "Epoch 49/50\n",
      "53/53 [==============================] - 0s 7ms/step - loss: 0.0111 - root_mean_squared_error: 0.1055 - val_loss: 0.0019 - val_root_mean_squared_error: 0.0434\n",
      "Epoch 50/50\n",
      "53/53 [==============================] - 0s 8ms/step - loss: 0.0127 - root_mean_squared_error: 0.1125 - val_loss: 0.0044 - val_root_mean_squared_error: 0.0667\n"
     ]
    }
   ],
   "source": [
    "stime = time.time()\n",
    "history = model.fit(X_train, y_train, validation_data=(X_val, y_val), epochs=50, batch_size=8, callbacks=[cp])\n",
    "etime = time.time()"
   ]
  },
  {
   "cell_type": "code",
   "execution_count": 11,
   "id": "3d825d86",
   "metadata": {},
   "outputs": [
    {
     "name": "stdout",
     "output_type": "stream",
     "text": [
      "2.0657208879788715 minutes\n"
     ]
    }
   ],
   "source": [
    "time = (etime - stime)/60\n",
    "print(f'{time} minutes')"
   ]
  },
  {
   "cell_type": "code",
   "execution_count": 12,
   "id": "eb86b79f",
   "metadata": {},
   "outputs": [],
   "source": [
    "loss = history.history['loss']\n",
    "epochs = list(range(1, len(loss) + 1))"
   ]
  },
  {
   "cell_type": "code",
   "execution_count": 13,
   "id": "d0e3cf6c",
   "metadata": {},
   "outputs": [
    {
     "data": {
      "image/png": "[encoded data removed]",
      "text/plain": [
       "<Figure size 720x432 with 1 Axes>"
      ]
     },
     "metadata": {
      "needs_background": "light"
     },
     "output_type": "display_data"
    }
   ],
   "source": [
    "plt.figure(figsize=(10, 6))\n",
    "plt.plot(epochs, loss, label='Training Loss', marker='o', linestyle='-')\n",
    "\n",
    "plt.xlabel('Epochs')\n",
    "plt.ylabel('Loss')\n",
    "plt.title('Training Loss over Epochs')\n",
    "plt.legend()\n",
    "plt.show()"
   ]
  },
  {
   "cell_type": "code",
   "execution_count": 14,
   "id": "99d6358c",
   "metadata": {},
   "outputs": [
    {
     "data": {
      "image/png": "[encoded data removed]",
      "text/plain": [
       "<Figure size 1080x432 with 1 Axes>"
      ]
     },
     "metadata": {
      "needs_background": "light"
     },
     "output_type": "display_data"
    }
   ],
   "source": [
    "training_loss = history.history['loss']\n",
    "validation_loss = history.history['val_loss']\n",
    "epochs = range(1, len(training_loss) + 1)\n",
    "\n",
    "plt.figure(figsize=(15,6))\n",
    "plt.plot(epochs, training_loss, label='Training Loss', marker='o', linestyle='-')\n",
    "plt.plot(epochs, validation_loss, label='Validation Loss', marker='s', linestyle='--')\n",
    "\n",
    "plt.xlabel('Epochs')\n",
    "plt.ylabel('Loss')\n",
    "plt.title('Training and Validation Loss over Epochs')\n",
    "plt.legend()\n",
    "plt.show()"
   ]
  },
  {
   "cell_type": "code",
   "execution_count": 9,
   "id": "e8d334f9",
   "metadata": {},
   "outputs": [],
   "source": [
    "from tensorflow.keras.models import load_model\n",
    "model1 = load_model('Weddell_model/')"
   ]
  },
  {
   "cell_type": "code",
   "execution_count": 10,
   "id": "1e45de98",
   "metadata": {},
   "outputs": [
    {
     "name": "stdout",
     "output_type": "stream",
     "text": [
      "2/2 [==============================] - 0s 6ms/step\n"
     ]
    }
   ],
   "source": [
    "test_predictions = model1.predict(X_test)"
   ]
  },
  {
   "cell_type": "code",
   "execution_count": 11,
   "id": "e06bbc51",
   "metadata": {},
   "outputs": [
    {
     "name": "stdout",
     "output_type": "stream",
     "text": [
      "RMSE : 0.03081997947738891\n",
      "MAE : 0.024267150585478528\n"
     ]
    }
   ],
   "source": [
    "mse = mean_squared_error(y_test, test_predictions)\n",
    "print('RMSE :', np.sqrt(mse))\n",
    "\n",
    "mae = mean_absolute_error(y_test, test_predictions)\n",
    "print('MAE :', mae)"
   ]
  },
  {
   "cell_type": "code",
   "execution_count": 12,
   "id": "1c0803c6",
   "metadata": {},
   "outputs": [],
   "source": [
    "test_predictions = scaler.inverse_transform(test_predictions)\n",
    "test_original = scaler.inverse_transform(y_test.reshape(-1,1))"
   ]
  },
  {
   "cell_type": "code",
   "execution_count": 13,
   "id": "4feca078",
   "metadata": {
    "scrolled": true
   },
   "outputs": [
    {
     "data": {
      "text/html": [
       "<div>\n",
       "<style scoped>\n",
       "    .dataframe tbody tr th:only-of-type {\n",
       "        vertical-align: middle;\n",
       "    }\n",
       "\n",
       "    .dataframe tbody tr th {\n",
       "        vertical-align: top;\n",
       "    }\n",
       "\n",
       "    .dataframe thead th {\n",
       "        text-align: right;\n",
       "    }\n",
       "</style>\n",
       "<table border=\"1\" class=\"dataframe\">\n",
       "  <thead>\n",
       "    <tr style=\"text-align: right;\">\n",
       "      <th></th>\n",
       "      <th>Train Predictions</th>\n",
       "      <th>Actual Extent</th>\n",
       "    </tr>\n",
       "  </thead>\n",
       "  <tbody>\n",
       "    <tr>\n",
       "      <th>0</th>\n",
       "      <td>2.977057e+06</td>\n",
       "      <td>2787848.748</td>\n",
       "    </tr>\n",
       "    <tr>\n",
       "      <th>1</th>\n",
       "      <td>4.171460e+06</td>\n",
       "      <td>4544849.638</td>\n",
       "    </tr>\n",
       "    <tr>\n",
       "      <th>2</th>\n",
       "      <td>5.755292e+06</td>\n",
       "      <td>5882741.038</td>\n",
       "    </tr>\n",
       "    <tr>\n",
       "      <th>3</th>\n",
       "      <td>6.692865e+06</td>\n",
       "      <td>6574288.749</td>\n",
       "    </tr>\n",
       "    <tr>\n",
       "      <th>4</th>\n",
       "      <td>6.914758e+06</td>\n",
       "      <td>6669726.076</td>\n",
       "    </tr>\n",
       "    <tr>\n",
       "      <th>5</th>\n",
       "      <td>6.627302e+06</td>\n",
       "      <td>6516136.854</td>\n",
       "    </tr>\n",
       "    <tr>\n",
       "      <th>6</th>\n",
       "      <td>5.789308e+06</td>\n",
       "      <td>5902163.675</td>\n",
       "    </tr>\n",
       "    <tr>\n",
       "      <th>7</th>\n",
       "      <td>4.142900e+06</td>\n",
       "      <td>3498103.449</td>\n",
       "    </tr>\n",
       "    <tr>\n",
       "      <th>8</th>\n",
       "      <td>1.424482e+06</td>\n",
       "      <td>1633675.726</td>\n",
       "    </tr>\n",
       "    <tr>\n",
       "      <th>9</th>\n",
       "      <td>1.237162e+06</td>\n",
       "      <td>1292668.399</td>\n",
       "    </tr>\n",
       "    <tr>\n",
       "      <th>10</th>\n",
       "      <td>1.541978e+06</td>\n",
       "      <td>1527666.815</td>\n",
       "    </tr>\n",
       "    <tr>\n",
       "      <th>11</th>\n",
       "      <td>2.354862e+06</td>\n",
       "      <td>2121949.701</td>\n",
       "    </tr>\n",
       "    <tr>\n",
       "      <th>12</th>\n",
       "      <td>3.339828e+06</td>\n",
       "      <td>3562381.775</td>\n",
       "    </tr>\n",
       "    <tr>\n",
       "      <th>13</th>\n",
       "      <td>4.958433e+06</td>\n",
       "      <td>5004305.983</td>\n",
       "    </tr>\n",
       "    <tr>\n",
       "      <th>14</th>\n",
       "      <td>6.005438e+06</td>\n",
       "      <td>6176613.878</td>\n",
       "    </tr>\n",
       "    <tr>\n",
       "      <th>15</th>\n",
       "      <td>6.834772e+06</td>\n",
       "      <td>6794233.093</td>\n",
       "    </tr>\n",
       "    <tr>\n",
       "      <th>16</th>\n",
       "      <td>6.935828e+06</td>\n",
       "      <td>7024136.637</td>\n",
       "    </tr>\n",
       "    <tr>\n",
       "      <th>17</th>\n",
       "      <td>6.785962e+06</td>\n",
       "      <td>6554271.388</td>\n",
       "    </tr>\n",
       "    <tr>\n",
       "      <th>18</th>\n",
       "      <td>5.696393e+06</td>\n",
       "      <td>6172281.701</td>\n",
       "    </tr>\n",
       "    <tr>\n",
       "      <th>19</th>\n",
       "      <td>4.206022e+06</td>\n",
       "      <td>4175225.799</td>\n",
       "    </tr>\n",
       "    <tr>\n",
       "      <th>20</th>\n",
       "      <td>1.715744e+06</td>\n",
       "      <td>1748380.899</td>\n",
       "    </tr>\n",
       "    <tr>\n",
       "      <th>21</th>\n",
       "      <td>9.877881e+05</td>\n",
       "      <td>1256191.080</td>\n",
       "    </tr>\n",
       "    <tr>\n",
       "      <th>22</th>\n",
       "      <td>1.201823e+06</td>\n",
       "      <td>1347295.364</td>\n",
       "    </tr>\n",
       "    <tr>\n",
       "      <th>23</th>\n",
       "      <td>2.056056e+06</td>\n",
       "      <td>2180184.677</td>\n",
       "    </tr>\n",
       "    <tr>\n",
       "      <th>24</th>\n",
       "      <td>3.308556e+06</td>\n",
       "      <td>3419295.982</td>\n",
       "    </tr>\n",
       "    <tr>\n",
       "      <th>25</th>\n",
       "      <td>4.642917e+06</td>\n",
       "      <td>4786146.771</td>\n",
       "    </tr>\n",
       "    <tr>\n",
       "      <th>26</th>\n",
       "      <td>5.812118e+06</td>\n",
       "      <td>5968132.718</td>\n",
       "    </tr>\n",
       "    <tr>\n",
       "      <th>27</th>\n",
       "      <td>6.538792e+06</td>\n",
       "      <td>6556934.174</td>\n",
       "    </tr>\n",
       "    <tr>\n",
       "      <th>28</th>\n",
       "      <td>6.785331e+06</td>\n",
       "      <td>6614949.980</td>\n",
       "    </tr>\n",
       "    <tr>\n",
       "      <th>29</th>\n",
       "      <td>6.470752e+06</td>\n",
       "      <td>6035207.368</td>\n",
       "    </tr>\n",
       "    <tr>\n",
       "      <th>30</th>\n",
       "      <td>5.361409e+06</td>\n",
       "      <td>5274244.730</td>\n",
       "    </tr>\n",
       "    <tr>\n",
       "      <th>31</th>\n",
       "      <td>3.701453e+06</td>\n",
       "      <td>3505146.372</td>\n",
       "    </tr>\n",
       "    <tr>\n",
       "      <th>32</th>\n",
       "      <td>1.598996e+06</td>\n",
       "      <td>1478130.228</td>\n",
       "    </tr>\n",
       "    <tr>\n",
       "      <th>33</th>\n",
       "      <td>9.729570e+05</td>\n",
       "      <td>1096780.503</td>\n",
       "    </tr>\n",
       "    <tr>\n",
       "      <th>34</th>\n",
       "      <td>1.301492e+06</td>\n",
       "      <td>1387234.069</td>\n",
       "    </tr>\n",
       "    <tr>\n",
       "      <th>35</th>\n",
       "      <td>2.086772e+06</td>\n",
       "      <td>2128693.591</td>\n",
       "    </tr>\n",
       "    <tr>\n",
       "      <th>36</th>\n",
       "      <td>3.263622e+06</td>\n",
       "      <td>3313318.704</td>\n",
       "    </tr>\n",
       "    <tr>\n",
       "      <th>37</th>\n",
       "      <td>4.450963e+06</td>\n",
       "      <td>4218076.656</td>\n",
       "    </tr>\n",
       "    <tr>\n",
       "      <th>38</th>\n",
       "      <td>5.211565e+06</td>\n",
       "      <td>5257641.941</td>\n",
       "    </tr>\n",
       "    <tr>\n",
       "      <th>39</th>\n",
       "      <td>5.890662e+06</td>\n",
       "      <td>5956603.340</td>\n",
       "    </tr>\n",
       "    <tr>\n",
       "      <th>40</th>\n",
       "      <td>6.151524e+06</td>\n",
       "      <td>6256062.049</td>\n",
       "    </tr>\n",
       "    <tr>\n",
       "      <th>41</th>\n",
       "      <td>6.076569e+06</td>\n",
       "      <td>5974548.305</td>\n",
       "    </tr>\n",
       "    <tr>\n",
       "      <th>42</th>\n",
       "      <td>5.276884e+06</td>\n",
       "      <td>5569396.731</td>\n",
       "    </tr>\n",
       "    <tr>\n",
       "      <th>43</th>\n",
       "      <td>4.035799e+06</td>\n",
       "      <td>3684108.410</td>\n",
       "    </tr>\n",
       "    <tr>\n",
       "      <th>44</th>\n",
       "      <td>1.634675e+06</td>\n",
       "      <td>1451614.707</td>\n",
       "    </tr>\n",
       "    <tr>\n",
       "      <th>45</th>\n",
       "      <td>9.792564e+05</td>\n",
       "      <td>1089888.684</td>\n",
       "    </tr>\n",
       "    <tr>\n",
       "      <th>46</th>\n",
       "      <td>1.225790e+06</td>\n",
       "      <td>1255222.909</td>\n",
       "    </tr>\n",
       "    <tr>\n",
       "      <th>47</th>\n",
       "      <td>1.976079e+06</td>\n",
       "      <td>1704492.279</td>\n",
       "    </tr>\n",
       "    <tr>\n",
       "      <th>48</th>\n",
       "      <td>2.847270e+06</td>\n",
       "      <td>2563551.804</td>\n",
       "    </tr>\n",
       "    <tr>\n",
       "      <th>49</th>\n",
       "      <td>3.813827e+06</td>\n",
       "      <td>3668127.143</td>\n",
       "    </tr>\n",
       "    <tr>\n",
       "      <th>50</th>\n",
       "      <td>4.870368e+06</td>\n",
       "      <td>4805519.784</td>\n",
       "    </tr>\n",
       "    <tr>\n",
       "      <th>51</th>\n",
       "      <td>5.627426e+06</td>\n",
       "      <td>5524445.234</td>\n",
       "    </tr>\n",
       "    <tr>\n",
       "      <th>52</th>\n",
       "      <td>5.950098e+06</td>\n",
       "      <td>6006669.861</td>\n",
       "    </tr>\n",
       "    <tr>\n",
       "      <th>53</th>\n",
       "      <td>5.967861e+06</td>\n",
       "      <td>5507961.583</td>\n",
       "    </tr>\n",
       "  </tbody>\n",
       "</table>\n",
       "</div>"
      ],
      "text/plain": [
       "    Train Predictions  Actual Extent\n",
       "0        2.977057e+06    2787848.748\n",
       "1        4.171460e+06    4544849.638\n",
       "2        5.755292e+06    5882741.038\n",
       "3        6.692865e+06    6574288.749\n",
       "4        6.914758e+06    6669726.076\n",
       "5        6.627302e+06    6516136.854\n",
       "6        5.789308e+06    5902163.675\n",
       "7        4.142900e+06    3498103.449\n",
       "8        1.424482e+06    1633675.726\n",
       "9        1.237162e+06    1292668.399\n",
       "10       1.541978e+06    1527666.815\n",
       "11       2.354862e+06    2121949.701\n",
       "12       3.339828e+06    3562381.775\n",
       "13       4.958433e+06    5004305.983\n",
       "14       6.005438e+06    6176613.878\n",
       "15       6.834772e+06    6794233.093\n",
       "16       6.935828e+06    7024136.637\n",
       "17       6.785962e+06    6554271.388\n",
       "18       5.696393e+06    6172281.701\n",
       "19       4.206022e+06    4175225.799\n",
       "20       1.715744e+06    1748380.899\n",
       "21       9.877881e+05    1256191.080\n",
       "22       1.201823e+06    1347295.364\n",
       "23       2.056056e+06    2180184.677\n",
       "24       3.308556e+06    3419295.982\n",
       "25       4.642917e+06    4786146.771\n",
       "26       5.812118e+06    5968132.718\n",
       "27       6.538792e+06    6556934.174\n",
       "28       6.785331e+06    6614949.980\n",
       "29       6.470752e+06    6035207.368\n",
       "30       5.361409e+06    5274244.730\n",
       "31       3.701453e+06    3505146.372\n",
       "32       1.598996e+06    1478130.228\n",
       "33       9.729570e+05    1096780.503\n",
       "34       1.301492e+06    1387234.069\n",
       "35       2.086772e+06    2128693.591\n",
       "36       3.263622e+06    3313318.704\n",
       "37       4.450963e+06    4218076.656\n",
       "38       5.211565e+06    5257641.941\n",
       "39       5.890662e+06    5956603.340\n",
       "40       6.151524e+06    6256062.049\n",
       "41       6.076569e+06    5974548.305\n",
       "42       5.276884e+06    5569396.731\n",
       "43       4.035799e+06    3684108.410\n",
       "44       1.634675e+06    1451614.707\n",
       "45       9.792564e+05    1089888.684\n",
       "46       1.225790e+06    1255222.909\n",
       "47       1.976079e+06    1704492.279\n",
       "48       2.847270e+06    2563551.804\n",
       "49       3.813827e+06    3668127.143\n",
       "50       4.870368e+06    4805519.784\n",
       "51       5.627426e+06    5524445.234\n",
       "52       5.950098e+06    6006669.861\n",
       "53       5.967861e+06    5507961.583"
      ]
     },
     "execution_count": 13,
     "metadata": {},
     "output_type": "execute_result"
    }
   ],
   "source": [
    "train_results = pd.DataFrame(data={'Train Predictions': test_predictions.flatten(), 'Actual Extent': test_original.flatten()})\n",
    "train_results"
   ]
  },
  {
   "cell_type": "code",
   "execution_count": 14,
   "id": "cb690c48",
   "metadata": {},
   "outputs": [
    {
     "data": {
      "image/png": "[encoded data removed]",
      "text/plain": [
       "<Figure size 1080x432 with 1 Axes>"
      ]
     },
     "metadata": {
      "needs_background": "light"
     },
     "output_type": "display_data"
    }
   ],
   "source": [
    "plt.figure(figsize=(15,6))\n",
    "plt.plot(test_original, label='True Values')\n",
    "plt.plot(test_predictions, label='Predicted Values')\n",
    "plt.title('Test Predictions vs Original Test Data')\n",
    "plt.legend()\n",
    "plt.show()"
   ]
  },
  {
   "cell_type": "code",
   "execution_count": 15,
   "id": "e8619cc6",
   "metadata": {},
   "outputs": [
    {
     "name": "stdout",
     "output_type": "stream",
     "text": [
      "17/17 [==============================] - 0s 3ms/step\n"
     ]
    }
   ],
   "source": [
    "predictions = model1.predict(X)"
   ]
  },
  {
   "cell_type": "code",
   "execution_count": 18,
   "id": "6e155c07",
   "metadata": {},
   "outputs": [],
   "source": [
    "predictions = scaler.inverse_transform(predictions)\n",
    "Original = scaler.inverse_transform(y.reshape(-1,1))"
   ]
  },
  {
   "cell_type": "code",
   "execution_count": 19,
   "id": "eb328bbc",
   "metadata": {},
   "outputs": [
    {
     "data": {
      "image/png": "[encoded data removed]",
      "text/plain": [
       "<Figure size 1080x432 with 1 Axes>"
      ]
     },
     "metadata": {
      "needs_background": "light"
     },
     "output_type": "display_data"
    }
   ],
   "source": [
    "plt.figure(figsize=(15,6))\n",
    "plt.plot(Original, label='True Values')\n",
    "plt.plot(predictions, label='Predicted Values')\n",
    "plt.title('Test Predictions vs Original Test Data')\n",
    "plt.legend()\n",
    "plt.show()"
   ]
  },
  {
   "cell_type": "code",
   "execution_count": null,
   "id": "e2384a8a",
   "metadata": {},
   "outputs": [],
   "source": []
  }
 ],
 "metadata": {
  "kernelspec": {
   "display_name": "Python 3 (ipykernel)",
   "language": "python",
   "name": "python3"
  },
  "language_info": {
   "codemirror_mode": {
    "name": "ipython",
    "version": 3
   },
   "file_extension": ".py",
   "mimetype": "text/x-python",
   "name": "python",
   "nbconvert_exporter": "python",
   "pygments_lexer": "ipython3",
   "version": "3.10.5"
  }
 },
 "nbformat": 4,
 "nbformat_minor": 5
}
