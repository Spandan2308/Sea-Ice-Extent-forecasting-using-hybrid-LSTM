{
 "cells": [
  {
   "cell_type": "code",
   "execution_count": 1,
   "id": "d78040fd",
   "metadata": {},
   "outputs": [],
   "source": [
    "import numpy as np\n",
    "import pandas as pd\n",
    "from statsmodels.tsa.stattools import adfuller"
   ]
  },
  {
   "cell_type": "code",
   "execution_count": 2,
   "id": "eded651c",
   "metadata": {},
   "outputs": [],
   "source": [
    "filepath = 'C:/Users/ss230/Documents/Study/NSIDC/Edited Data/N_Sea_Ice_Index_Regional_Monthly_Data_G02135_v3.0.xlsx'\n",
    "Baffin = pd.read_excel(filepath, sheet_name='Baffin-Extent-km^2')\n",
    "Barents = pd.read_excel(filepath, sheet_name='Barents-Extent-km^2')\n",
    "Bering = pd.read_excel(filepath, sheet_name='Bering-Extent-km^2')\n",
    "Greenland = pd.read_excel(filepath, sheet_name='Greenland-Extent-km^2')\n",
    "Kara = pd.read_excel(filepath, sheet_name='Kara-Extent-km^2')"
   ]
  },
  {
   "cell_type": "code",
   "execution_count": 3,
   "id": "a058347c",
   "metadata": {},
   "outputs": [],
   "source": [
    "import sys\n",
    "sys.path.append('C:/Users/ss230/Documents/Study/NSIDC/SH/Bi_LSTM_Extent/')\n",
    "import Function as fp"
   ]
  },
  {
   "cell_type": "code",
   "execution_count": 4,
   "id": "f6d551ae",
   "metadata": {},
   "outputs": [
    {
     "data": {
      "text/html": [
       "<div>\n",
       "<style scoped>\n",
       "    .dataframe tbody tr th:only-of-type {\n",
       "        vertical-align: middle;\n",
       "    }\n",
       "\n",
       "    .dataframe tbody tr th {\n",
       "        vertical-align: top;\n",
       "    }\n",
       "\n",
       "    .dataframe thead th {\n",
       "        text-align: right;\n",
       "    }\n",
       "</style>\n",
       "<table border=\"1\" class=\"dataframe\">\n",
       "  <thead>\n",
       "    <tr style=\"text-align: right;\">\n",
       "      <th></th>\n",
       "      <th>Extent</th>\n",
       "      <th>Date</th>\n",
       "    </tr>\n",
       "  </thead>\n",
       "  <tbody>\n",
       "    <tr>\n",
       "      <th>0</th>\n",
       "      <td>917992.880</td>\n",
       "      <td>1979-01-01</td>\n",
       "    </tr>\n",
       "    <tr>\n",
       "      <th>1</th>\n",
       "      <td>917992.880</td>\n",
       "      <td>1979-02-01</td>\n",
       "    </tr>\n",
       "    <tr>\n",
       "      <th>2</th>\n",
       "      <td>917992.880</td>\n",
       "      <td>1979-03-01</td>\n",
       "    </tr>\n",
       "    <tr>\n",
       "      <th>3</th>\n",
       "      <td>917992.880</td>\n",
       "      <td>1979-04-01</td>\n",
       "    </tr>\n",
       "    <tr>\n",
       "      <th>4</th>\n",
       "      <td>917992.880</td>\n",
       "      <td>1979-05-01</td>\n",
       "    </tr>\n",
       "    <tr>\n",
       "      <th>...</th>\n",
       "      <td>...</td>\n",
       "      <td>...</td>\n",
       "    </tr>\n",
       "    <tr>\n",
       "      <th>533</th>\n",
       "      <td>728642.743</td>\n",
       "      <td>2023-06-01</td>\n",
       "    </tr>\n",
       "    <tr>\n",
       "      <th>534</th>\n",
       "      <td>437024.646</td>\n",
       "      <td>2023-07-01</td>\n",
       "    </tr>\n",
       "    <tr>\n",
       "      <th>535</th>\n",
       "      <td>202260.789</td>\n",
       "      <td>2023-08-01</td>\n",
       "    </tr>\n",
       "    <tr>\n",
       "      <th>536</th>\n",
       "      <td>98103.856</td>\n",
       "      <td>2023-09-01</td>\n",
       "    </tr>\n",
       "    <tr>\n",
       "      <th>537</th>\n",
       "      <td>260413.272</td>\n",
       "      <td>2023-10-01</td>\n",
       "    </tr>\n",
       "  </tbody>\n",
       "</table>\n",
       "<p>538 rows × 2 columns</p>\n",
       "</div>"
      ],
      "text/plain": [
       "         Extent       Date\n",
       "0    917992.880 1979-01-01\n",
       "1    917992.880 1979-02-01\n",
       "2    917992.880 1979-03-01\n",
       "3    917992.880 1979-04-01\n",
       "4    917992.880 1979-05-01\n",
       "..          ...        ...\n",
       "533  728642.743 2023-06-01\n",
       "534  437024.646 2023-07-01\n",
       "535  202260.789 2023-08-01\n",
       "536   98103.856 2023-09-01\n",
       "537  260413.272 2023-10-01\n",
       "\n",
       "[538 rows x 2 columns]"
      ]
     },
     "execution_count": 4,
     "metadata": {},
     "output_type": "execute_result"
    }
   ],
   "source": [
    "fp.month_mapping(Baffin)\n",
    "fp.date_time(Baffin)\n",
    "\n",
    "fp.month_mapping(Barents)\n",
    "fp.date_time(Barents)\n",
    "\n",
    "fp.month_mapping(Bering)\n",
    "fp.date_time(Bering)\n",
    "\n",
    "fp.month_mapping(Greenland)\n",
    "fp.date_time(Greenland)\n",
    "\n",
    "fp.month_mapping(Kara)\n",
    "fp.date_time(Kara)"
   ]
  },
  {
   "cell_type": "code",
   "execution_count": 5,
   "id": "ae9198d6",
   "metadata": {},
   "outputs": [],
   "source": [
    "def check_stationarity(df):\n",
    "    # Perform the ADF test\n",
    "    result = adfuller(df)\n",
    "    \n",
    "    # Extract and print out the results\n",
    "    print('ADF Statistic:', result[0])\n",
    "    print('p-value:', result[1])\n",
    "    print('Critical Values:')\n",
    "    for key, value in result[4].items():\n",
    "        print('\\t%s: %.3f' % (key, value))\n",
    "    \n",
    "    # Interpret the results\n",
    "    if result[1] <= 0.05:\n",
    "        print(\"Reject the null hypothesis (H0), the data is stationary.\")\n",
    "    else:\n",
    "        print(\"Fail to reject the null hypothesis (H0), the data is non-stationary.\")"
   ]
  },
  {
   "cell_type": "code",
   "execution_count": 6,
   "id": "e7a7c5b7",
   "metadata": {},
   "outputs": [
    {
     "name": "stdout",
     "output_type": "stream",
     "text": [
      "ADF Statistic: -2.7135781436225144\n",
      "p-value: 0.07171798488238346\n",
      "Critical Values:\n",
      "\t1%: -3.443\n",
      "\t5%: -2.867\n",
      "\t10%: -2.570\n",
      "Fail to reject the null hypothesis (H0), the data is non-stationary.\n"
     ]
    }
   ],
   "source": [
    "check_stationarity(Baffin['Extent'])"
   ]
  },
  {
   "cell_type": "code",
   "execution_count": 7,
   "id": "c24ff6fc",
   "metadata": {},
   "outputs": [
    {
     "name": "stdout",
     "output_type": "stream",
     "text": [
      "ADF Statistic: -2.2705840425153214\n",
      "p-value: 0.18163075102756404\n",
      "Critical Values:\n",
      "\t1%: -3.443\n",
      "\t5%: -2.867\n",
      "\t10%: -2.570\n",
      "Fail to reject the null hypothesis (H0), the data is non-stationary.\n"
     ]
    }
   ],
   "source": [
    "check_stationarity(Barents['Extent'])"
   ]
  },
  {
   "cell_type": "code",
   "execution_count": 8,
   "id": "17f9576c",
   "metadata": {},
   "outputs": [
    {
     "name": "stdout",
     "output_type": "stream",
     "text": [
      "ADF Statistic: -3.500276635513944\n",
      "p-value: 0.007979992317186513\n",
      "Critical Values:\n",
      "\t1%: -3.444\n",
      "\t5%: -2.868\n",
      "\t10%: -2.570\n",
      "Reject the null hypothesis (H0), the data is stationary.\n"
     ]
    }
   ],
   "source": [
    "check_stationarity(Bering['Extent'])"
   ]
  },
  {
   "cell_type": "code",
   "execution_count": 9,
   "id": "018caf9f",
   "metadata": {},
   "outputs": [
    {
     "name": "stdout",
     "output_type": "stream",
     "text": [
      "ADF Statistic: -2.608538619086938\n",
      "p-value: 0.09124531895959104\n",
      "Critical Values:\n",
      "\t1%: -3.443\n",
      "\t5%: -2.867\n",
      "\t10%: -2.570\n",
      "Fail to reject the null hypothesis (H0), the data is non-stationary.\n"
     ]
    }
   ],
   "source": [
    "check_stationarity(Greenland['Extent'])"
   ]
  },
  {
   "cell_type": "code",
   "execution_count": 10,
   "id": "4a6b7301",
   "metadata": {},
   "outputs": [
    {
     "name": "stdout",
     "output_type": "stream",
     "text": [
      "ADF Statistic: -2.4661499464692005\n",
      "p-value: 0.12392910684839054\n",
      "Critical Values:\n",
      "\t1%: -3.443\n",
      "\t5%: -2.867\n",
      "\t10%: -2.570\n",
      "Fail to reject the null hypothesis (H0), the data is non-stationary.\n"
     ]
    }
   ],
   "source": [
    "check_stationarity(Kara['Extent'])"
   ]
  },
  {
   "cell_type": "code",
   "execution_count": 16,
   "id": "049b6ee1",
   "metadata": {},
   "outputs": [
    {
     "name": "stdout",
     "output_type": "stream",
     "text": [
      "212899.4241444093\n"
     ]
    }
   ],
   "source": [
    "Green_STD = np.std(Greenland['Extent'])\n",
    "print(Green_STD)"
   ]
  },
  {
   "cell_type": "code",
   "execution_count": null,
   "id": "85d046ae",
   "metadata": {},
   "outputs": [],
   "source": []
  }
 ],
 "metadata": {
  "kernelspec": {
   "display_name": "Python 3 (ipykernel)",
   "language": "python",
   "name": "python3"
  },
  "language_info": {
   "codemirror_mode": {
    "name": "ipython",
    "version": 3
   },
   "file_extension": ".py",
   "mimetype": "text/x-python",
   "name": "python",
   "nbconvert_exporter": "python",
   "pygments_lexer": "ipython3",
   "version": "3.10.5"
  }
 },
 "nbformat": 4,
 "nbformat_minor": 5
}
